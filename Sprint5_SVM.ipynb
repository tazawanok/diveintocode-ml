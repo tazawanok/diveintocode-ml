{
 "cells": [
  {
   "cell_type": "markdown",
   "metadata": {},
   "source": [
    " # 【問題1】SVM分類器のクラスを作成する\n",
    "SVM分類器のクラスを作成し、「機械学習スクラッチ入門」で作成した分類のパイプラインに組み込んでください。"
   ]
  },
  {
   "cell_type": "code",
   "execution_count": 1,
   "metadata": {},
   "outputs": [],
   "source": [
    "import numpy as np\n",
    "import pandas as pd"
   ]
  },
  {
   "cell_type": "code",
   "execution_count": 2,
   "metadata": {},
   "outputs": [],
   "source": [
    "from sklearn.datasets import load_iris\n",
    "iris = load_iris()"
   ]
  },
  {
   "cell_type": "code",
   "execution_count": 3,
   "metadata": {},
   "outputs": [],
   "source": [
    "X = iris.data[50:,:]\n",
    "y = iris.target[50:]"
   ]
  },
  {
   "cell_type": "code",
   "execution_count": 4,
   "metadata": {},
   "outputs": [],
   "source": [
    "X = X[:,[2,3]]"
   ]
  },
  {
   "cell_type": "code",
   "execution_count": 5,
   "metadata": {},
   "outputs": [],
   "source": [
    "y[y==2] = -1"
   ]
  },
  {
   "cell_type": "code",
   "execution_count": 6,
   "metadata": {},
   "outputs": [
    {
     "data": {
      "text/plain": [
       "array([1, 1, 1, 1, 1, 1, 1, 1, 1, 1])"
      ]
     },
     "execution_count": 6,
     "metadata": {},
     "output_type": "execute_result"
    }
   ],
   "source": [
    "y[:10]"
   ]
  },
  {
   "cell_type": "code",
   "execution_count": 7,
   "metadata": {},
   "outputs": [],
   "source": [
    "from sklearn.model_selection import train_test_split\n",
    "(X_train, X_test,\n",
    " y_train, y_test) = train_test_split(\n",
    "    X, y, test_size=0.3, random_state=0,\n",
    ")"
   ]
  },
  {
   "cell_type": "code",
   "execution_count": 8,
   "metadata": {},
   "outputs": [],
   "source": [
    "class ScratchSVMClassifier():\n",
    "\n",
    "    def __init__(self, num_iter, lr, bias, Threshold): ##, verbose  verbose\n",
    "        # ハイパーパラメータを属性として記録\n",
    "        self.iter = num_iter\n",
    "        self.lr = lr\n",
    "        self.bias = bias\n",
    "        self.Threshold = Threshold\n",
    "        \n",
    "#         self.verbose = verbose\n",
    "        # 損失を記録する配列を用意\n",
    "#         self.loss = np.zeros(self.iter)\n",
    "#         self.val_loss = np.zeros(self.iter)\n",
    "\n",
    "        \n",
    "#     def _kernel_fnk(self,X1, X2):\n",
    "#         return X1 @ X2.T\n",
    "    \n",
    "    \n",
    "    def _SVC_hypothesis(self, X, y):\n",
    "        y = y.reshape(-1,1)\n",
    "#         y_d = np.dot(y, y.T)\n",
    "#         y_d = np.dot(y, y.T)\n",
    "#         y_d = y * y\n",
    "#         X_d = np.dot(X, X.T)\n",
    "#         y_d = np.zeros(y.shape)\n",
    "#         X_d = np.zeros(X.shape)\n",
    "#         for i in range(X.shape[0]):\n",
    "#             for j in range(X.shape[1]):\n",
    "#                 X_d[i,j] = X[i] * X[j]\n",
    "        for i in range(y.shape[0]):\n",
    "            temp = 0\n",
    "            for j in range(y.shape[1]):\n",
    "                temp += self.lambda_[j] * y[i] * y[j] * np.dot(X[i].T, X[j])\n",
    "            self.lambda_[i] += self.lr * (1 - temp)\n",
    "            self.lambda_[self.lambda_ <= 0] = 0\n",
    "        \n",
    "#         X_y_d = X_d * y_d.T\n",
    "#         X_y_lam_d = np.dot(X_y_d, self.lambda_)\n",
    "#         X_y_lam_d = np.dot(X_y_d, self.lambda_)\n",
    "#         self.lambda_ += self.lr * (1 - X_y_lam_d.sum())\n",
    "        return self.lambda_\n",
    "    \n",
    "\n",
    "    def fit(self, X, y, X_val=None, y_val=None):\n",
    "        np.random.seed(0)\n",
    "        self.lambda_ = np.random.rand(X.shape[0], 1) * 0.03\n",
    "        \n",
    "        for i in range(self.iter):\n",
    "            self._SVC_hypothesis(X, y)\n",
    "        \n",
    "        self.index_l = []\n",
    "        for j, i in enumerate(self.lambda_):\n",
    "            if i > self.Threshold:\n",
    "                self.index_l .append(j)\n",
    "        self.lambda_sv = self.lambda_[self.index_l]\n",
    "        self.X_sv = X[self.index_l]\n",
    "        self.y_sv = y[self.index_l]\n",
    "        \n",
    "#     def predict(self, X):\n",
    "#         self.y_pred = np.zeros(X.shape[0])\n",
    "#         for i in range(self.lambda_sv.shape[0]):\n",
    "#              self.y_pred += self.lambda_sv[i] * self.y_sv[i] * np.dot(X, self.X_sv[i].T)]\n",
    "    \n",
    "    def predict(self, X):\n",
    "        self.y_pred = 0\n",
    "        for i in range(self.lambda_sv.shape[0]):\n",
    "             self.y_pred += self.lambda_sv[i] * self.y_sv[i] * np.dot(X, self.X_sv[i].T)\n",
    "        \n",
    "        self.y_pred = np.where(self.y_pred > 0, 1, -1)\n",
    "            \n",
    "\n",
    "        return self.y_pred\n",
    "\n",
    "#121, 162, 326"
   ]
  },
  {
   "cell_type": "code",
   "execution_count": 9,
   "metadata": {},
   "outputs": [],
   "source": [
    "SV = ScratchSVMClassifier(num_iter=1000, lr = 0.00000001, bias=True, Threshold=0.002)"
   ]
  },
  {
   "cell_type": "code",
   "execution_count": 10,
   "metadata": {},
   "outputs": [],
   "source": [
    "SV.fit(X,y)\n",
    "# SV.fit(X_train, y_train)"
   ]
  },
  {
   "cell_type": "code",
   "execution_count": 11,
   "metadata": {
    "scrolled": true
   },
   "outputs": [
    {
     "data": {
      "text/plain": [
       "array([[0.01647044],\n",
       "       [0.02146185],\n",
       "       [0.01808876],\n",
       "       [0.0163531 ],\n",
       "       [0.01271574],\n",
       "       [0.01938304],\n",
       "       [0.01313361],\n",
       "       [0.02676041],\n",
       "       [0.02891602],\n",
       "       [0.0115099 ],\n",
       "       [0.02375881],\n",
       "       [0.01587325],\n",
       "       [0.01704801],\n",
       "       [0.02777394],\n",
       "       [0.002138  ],\n",
       "       [0.00262015],\n",
       "       [0.00061272],\n",
       "       [0.02498519],\n",
       "       [0.02335087],\n",
       "       [0.02610709],\n",
       "       [0.02936442],\n",
       "       [0.02398136],\n",
       "       [0.01385024],\n",
       "       [0.02342196],\n",
       "       [0.00355461],\n",
       "       [0.0192039 ],\n",
       "       [0.00430656],\n",
       "       [0.02834581],\n",
       "       [0.01566162],\n",
       "       [0.01244692],\n",
       "       [0.00794347],\n",
       "       [0.02323392],\n",
       "       [0.01369121],\n",
       "       [0.0170587 ],\n",
       "       [0.00056987],\n",
       "       [0.01853521],\n",
       "       [0.01836889],\n",
       "       [0.01851431],\n",
       "       [0.02831897],\n",
       "       [0.02046121],\n",
       "       [0.01079155],\n",
       "       [0.01311708],\n",
       "       [0.02093556],\n",
       "       [0.00181398],\n",
       "       [0.02000945],\n",
       "       [0.02012561],\n",
       "       [0.00631793],\n",
       "       [0.00387416],\n",
       "       [0.00947028],\n",
       "       [0.01091785],\n",
       "       [0.01712112],\n",
       "       [0.01317243],\n",
       "       [0.02966627],\n",
       "       [0.00307609],\n",
       "       [0.0062813 ],\n",
       "       [0.00485488],\n",
       "       [0.01960712],\n",
       "       [0.00761404],\n",
       "       [0.01400423],\n",
       "       [0.00734807],\n",
       "       [0.0047835 ],\n",
       "       [0.00332579],\n",
       "       [0.01970463],\n",
       "       [0.00415982],\n",
       "       [0.00591197],\n",
       "       [0.01107639],\n",
       "       [0.02464447],\n",
       "       [0.00292873],\n",
       "       [0.02515422],\n",
       "       [0.00289717],\n",
       "       [0.02930873],\n",
       "       [0.01407379],\n",
       "       [0.02931848],\n",
       "       [0.01815957],\n",
       "       [0.0221928 ],\n",
       "       [0.00119069],\n",
       "       [0.00849834],\n",
       "       [0.0036201 ],\n",
       "       [0.00889902],\n",
       "       [0.00357669],\n",
       "       [0.00955465],\n",
       "       [0.0124433 ],\n",
       "       [0.00193927],\n",
       "       [0.02078846],\n",
       "       [0.0170127 ],\n",
       "       [0.00797694],\n",
       "       [0.01571233],\n",
       "       [0.00283289],\n",
       "       [0.01729252],\n",
       "       [0.02789355],\n",
       "       [0.00957196],\n",
       "       [0.02003679],\n",
       "       [0.00396832],\n",
       "       [0.02150491],\n",
       "       [0.00869717],\n",
       "       [0.0055103 ],\n",
       "       [0.0176097 ],\n",
       "       [0.00061771],\n",
       "       [0.02488291],\n",
       "       [0.00015523]])"
      ]
     },
     "execution_count": 11,
     "metadata": {},
     "output_type": "execute_result"
    }
   ],
   "source": [
    "SV.lambda_"
   ]
  },
  {
   "cell_type": "code",
   "execution_count": 12,
   "metadata": {},
   "outputs": [
    {
     "data": {
      "text/plain": [
       "(93, 1)"
      ]
     },
     "execution_count": 12,
     "metadata": {},
     "output_type": "execute_result"
    }
   ],
   "source": [
    "SV.lambda_sv.shape"
   ]
  },
  {
   "cell_type": "code",
   "execution_count": 13,
   "metadata": {
    "scrolled": true
   },
   "outputs": [
    {
     "data": {
      "text/plain": [
       "[0,\n",
       " 1,\n",
       " 2,\n",
       " 3,\n",
       " 4,\n",
       " 5,\n",
       " 6,\n",
       " 7,\n",
       " 8,\n",
       " 9,\n",
       " 10,\n",
       " 11,\n",
       " 12,\n",
       " 13,\n",
       " 14,\n",
       " 15,\n",
       " 17,\n",
       " 18,\n",
       " 19,\n",
       " 20,\n",
       " 21,\n",
       " 22,\n",
       " 23,\n",
       " 24,\n",
       " 25,\n",
       " 26,\n",
       " 27,\n",
       " 28,\n",
       " 29,\n",
       " 30,\n",
       " 31,\n",
       " 32,\n",
       " 33,\n",
       " 35,\n",
       " 36,\n",
       " 37,\n",
       " 38,\n",
       " 39,\n",
       " 40,\n",
       " 41,\n",
       " 42,\n",
       " 44,\n",
       " 45,\n",
       " 46,\n",
       " 47,\n",
       " 48,\n",
       " 49,\n",
       " 50,\n",
       " 51,\n",
       " 52,\n",
       " 53,\n",
       " 54,\n",
       " 55,\n",
       " 56,\n",
       " 57,\n",
       " 58,\n",
       " 59,\n",
       " 60,\n",
       " 61,\n",
       " 62,\n",
       " 63,\n",
       " 64,\n",
       " 65,\n",
       " 66,\n",
       " 67,\n",
       " 68,\n",
       " 69,\n",
       " 70,\n",
       " 71,\n",
       " 72,\n",
       " 73,\n",
       " 74,\n",
       " 76,\n",
       " 77,\n",
       " 78,\n",
       " 79,\n",
       " 80,\n",
       " 81,\n",
       " 83,\n",
       " 84,\n",
       " 85,\n",
       " 86,\n",
       " 87,\n",
       " 88,\n",
       " 89,\n",
       " 90,\n",
       " 91,\n",
       " 92,\n",
       " 93,\n",
       " 94,\n",
       " 95,\n",
       " 96,\n",
       " 98]"
      ]
     },
     "execution_count": 13,
     "metadata": {},
     "output_type": "execute_result"
    }
   ],
   "source": [
    "SV.index_l"
   ]
  },
  {
   "cell_type": "code",
   "execution_count": 14,
   "metadata": {},
   "outputs": [],
   "source": [
    "y_pred = SV.predict(X)"
   ]
  },
  {
   "cell_type": "code",
   "execution_count": 15,
   "metadata": {},
   "outputs": [
    {
     "data": {
      "text/plain": [
       "array([-1, -1, -1, -1, -1, -1, -1, -1, -1, -1, -1, -1,  1, -1, -1, -1, -1,\n",
       "        1, -1, -1, -1, -1, -1,  1, -1, -1, -1, -1, -1, -1, -1,  1, -1, -1,\n",
       "       -1, -1, -1, -1, -1, -1,  1, -1, -1, -1, -1, -1, -1, -1, -1, -1, -1,\n",
       "       -1, -1, -1, -1, -1, -1, -1, -1, -1, -1, -1, -1, -1, -1, -1, -1, -1,\n",
       "       -1, -1, -1, -1, -1, -1, -1, -1, -1, -1, -1,  1, -1, -1, -1, -1,  1,\n",
       "       -1, -1, -1, -1, -1, -1, -1, -1, -1, -1, -1, -1, -1, -1, -1])"
      ]
     },
     "execution_count": 15,
     "metadata": {},
     "output_type": "execute_result"
    }
   ],
   "source": [
    "y_pred"
   ]
  },
  {
   "cell_type": "markdown",
   "metadata": {},
   "source": [
    " # 【問題3】指標値の算出\n",
    "分類に関する指標値で精度を確認してください。"
   ]
  },
  {
   "cell_type": "code",
   "execution_count": 16,
   "metadata": {},
   "outputs": [],
   "source": [
    "from sklearn.neighbors import KNeighborsClassifier\n",
    "from sklearn.metrics import confusion_matrix\n",
    "from sklearn.metrics import precision_score\n",
    "from sklearn.metrics import recall_score\n",
    "from sklearn.metrics import f1_score"
   ]
  },
  {
   "cell_type": "code",
   "execution_count": 17,
   "metadata": {},
   "outputs": [],
   "source": [
    "from sklearn.model_selection import train_test_split\n",
    "(X_train, X_test,\n",
    " y_train, y_test) = train_test_split(\n",
    "    X, y, test_size=0.3, random_state=0,\n",
    ")"
   ]
  },
  {
   "cell_type": "code",
   "execution_count": 18,
   "metadata": {},
   "outputs": [],
   "source": [
    "SV = ScratchSVMClassifier(num_iter=5000, lr = 0.00001, bias=True, Threshold=0.002)\n",
    "SV.fit(X_train,y_train)"
   ]
  },
  {
   "cell_type": "code",
   "execution_count": 19,
   "metadata": {},
   "outputs": [],
   "source": [
    "y_pred = SV.predict(X_test)"
   ]
  },
  {
   "cell_type": "code",
   "execution_count": 20,
   "metadata": {},
   "outputs": [
    {
     "name": "stdout",
     "output_type": "stream",
     "text": [
      "適合率:0.5\n",
      "再現率:1.0\n",
      "F値 :0.6666666666666666\n",
      "[[ 0 15]\n",
      " [ 0 15]]\n"
     ]
    }
   ],
   "source": [
    "print(\"適合率:{}\".format(precision_score(y_test,y_pred)))\n",
    "print(\"再現率:{}\".format(recall_score(y_test,y_pred)))\n",
    "print(\"F値 :{}\".format(f1_score(y_test,y_pred)))\n",
    "print(confusion_matrix(y_test, y_pred))"
   ]
  },
  {
   "cell_type": "markdown",
   "metadata": {},
   "source": [
    " # 【問題4】決定領域の可視化\n",
    "2値分類のデータセットに対して決定領域を可視化してください。\n",
    "\n",
    "これまで使用してきた関数に、サポートベクターを色を変えて表示する機能を加えてください。\n",
    "\n",
    "特にSprint0で作成したシンプルデータセット1に対して以下のように分類ができるかを検証してください"
   ]
  },
  {
   "cell_type": "markdown",
   "metadata": {},
   "source": [
    " ## irisデータ"
   ]
  },
  {
   "cell_type": "code",
   "execution_count": 21,
   "metadata": {},
   "outputs": [],
   "source": [
    "import matplotlib.pyplot as plt\n",
    "from matplotlib.colors import ListedColormap\n",
    "import matplotlib.patches as mpatches\n",
    "\n",
    "def decision_region(X, y, model, step=0.01, title='decision region', xlabel='xlabel', ylabel='ylabel', target_names=['setosa','versicolor']):\n",
    "    \"\"\"\n",
    "    2値分類を2次元の特徴量で学習したモデルの決定領域を描く。\n",
    "    背景の色が学習したモデルによる推定値から描画される。\n",
    "    散布図の点は訓練データまたは検証データである。\n",
    "\n",
    "    Parameters\n",
    "    ----------------\n",
    "    X : ndarray, shape(n_samples, 2)\n",
    "        特徴量\n",
    "    y : ndarray, shape(n_samples,)\n",
    "        ラベル\n",
    "    model : object\n",
    "        学習したモデルのインスンタスを入れる\n",
    "    step : float, (default : 0.1)\n",
    "        推定値を計算する間隔を設定する\n",
    "    title : str\n",
    "        グラフのタイトルの文章を与える\n",
    "    xlabel, ylabel : str\n",
    "        軸ラベルの文章を与える\n",
    "    target_names= : list of str\n",
    "        凡例の一覧を与える\n",
    "    \"\"\"\n",
    "    # setting\n",
    "    scatter_color = ['red', 'blue']\n",
    "    contourf_color = ['pink', 'skyblue']\n",
    "    n_class = 2\n",
    "    marker = [\"o\", \"^\"]\n",
    "\n",
    "    # pred\n",
    "    mesh_f0, mesh_f1  = np.meshgrid(np.arange(np.min(X[:,0])-0.5, np.max(X[:,0])+0.5, step), np.arange(np.min(X[:,1])-0.5, np.max(X[:,1])+0.5, step))\n",
    "    mesh = np.c_[np.ravel(mesh_f0),np.ravel(mesh_f1)]\n",
    "    y_pred = model.predict(mesh).reshape(mesh_f0.shape)\n",
    "    print(y_pred)\n",
    "    # plot\n",
    "    plt.title(title)\n",
    "    plt.xlabel(xlabel)\n",
    "    plt.ylabel(ylabel)\n",
    "    plt.contourf(mesh_f0, mesh_f1, y_pred, n_class-1, cmap=ListedColormap(contourf_color))\n",
    "    plt.contour(mesh_f0, mesh_f1, y_pred, n_class-1, colors='y', linewidths=3, alpha=0.5)\n",
    "    for i, target in enumerate(set(y)):\n",
    "        plt.scatter(X[y==target][:, 0], X[y==target][:, 1], s=80, color=scatter_color[i], label=target_names[i], marker=marker[i])\n",
    "    patches = [mpatches.Patch(color=scatter_color[i], label=target_names[i]) for i in range(n_class)]\n",
    "    plt.scatter(model.X_sv[: , 0], model.X_sv[:,1] , color = \"green\")\n",
    "    plt.legend(handles=patches)\n",
    "    plt.legend()\n",
    "    plt.show()"
   ]
  },
  {
   "cell_type": "code",
   "execution_count": 22,
   "metadata": {},
   "outputs": [
    {
     "name": "stdout",
     "output_type": "stream",
     "text": [
      "[[1 1 1 ... 1 1 1]\n",
      " [1 1 1 ... 1 1 1]\n",
      " [1 1 1 ... 1 1 1]\n",
      " ...\n",
      " [1 1 1 ... 1 1 1]\n",
      " [1 1 1 ... 1 1 1]\n",
      " [1 1 1 ... 1 1 1]]\n"
     ]
    },
    {
     "name": "stderr",
     "output_type": "stream",
     "text": [
      "/Users/naoki/opt/anaconda3/lib/python3.7/site-packages/ipykernel_launcher.py:44: UserWarning: No contour levels were found within the data range.\n"
     ]
    },
    {
     "data": {
      "image/png": "[encoded data removed]",
      "text/plain": [
       "<Figure size 432x288 with 1 Axes>"
      ]
     },
     "metadata": {
      "needs_background": "light"
     },
     "output_type": "display_data"
    }
   ],
   "source": [
    "decision_region(X, y, SV, \n",
    "                 step=0.01, title='ScratchLogisticRegression',\n",
    "                 xlabel='xlabel', ylabel='ylabel', \n",
    "                 target_names=[\"Virginica\" ,'versicolor'])"
   ]
  },
  {
   "cell_type": "markdown",
   "metadata": {},
   "source": [
    " ## データ２"
   ]
  },
  {
   "cell_type": "code",
   "execution_count": 23,
   "metadata": {},
   "outputs": [],
   "source": [
    "import numpy as np\n",
    "\n",
    "np.random.seed(seed=0)\n",
    "n_samples = 500\n",
    "f0= [-1, 2]\n",
    "f1 = [2, -1]\n",
    "cov = [[1.0,0.8], [0.8, 1.0]]\n",
    "\n",
    "f0 = np.random.multivariate_normal(f0, cov, int(n_samples/2))\n",
    "f1 = np.random.multivariate_normal(f1, cov, int(n_samples/2))\n",
    "\n",
    "X = np.concatenate((f0, f1))\n",
    "y = np.concatenate((np.ones((int(n_samples/2))), np.ones((int(n_samples/2))) *(-1))).astype(np.int)\n",
    "\n",
    "random_index = np.random.permutation(np.arange(n_samples))\n",
    "X = X[random_index]\n",
    "y = y[random_index]"
   ]
  },
  {
   "cell_type": "code",
   "execution_count": 24,
   "metadata": {},
   "outputs": [],
   "source": [
    "from matplotlib.colors import ListedColormap\n",
    "\n",
    "# 可視化関数\n",
    "def plot_decision_regions(X, model):\n",
    "    plt.scatter(X[:,0], X[:,1], s=80, c=y, marker='o')\n",
    "    #print(model.sv_lt)\n",
    "    for sv in model.X_sv:\n",
    "        plt.scatter(sv[0], sv[1], s=80, c='c', marker='o')\n",
    "    \n",
    "    #サポートベクターも同様にプロット\n",
    "    step = 0.1\n",
    "    mesh_f0, mesh_f1  = np.meshgrid(np.arange(np.min(X[:,0])-0.5, np.max(X[:,0])+0.5, step), np.arange(np.min(X[:,1])-0.5, np.max(X[:,1])+0.5, step))\n",
    "    mesh = np.c_[np.ravel(mesh_f0),np.ravel(mesh_f1)]\n",
    "    pred = model.predict(mesh).reshape(mesh_f0.shape)\n",
    "    plt.contour(mesh_f0, mesh_f1, pred, 1)\n",
    "    plt.show()"
   ]
  },
  {
   "cell_type": "code",
   "execution_count": 25,
   "metadata": {},
   "outputs": [],
   "source": [
    "SV = ScratchSVMClassifier(num_iter=10000, lr = 0.000001, bias=True, Threshold=0.038)"
   ]
  },
  {
   "cell_type": "code",
   "execution_count": 26,
   "metadata": {},
   "outputs": [],
   "source": [
    "SV.fit(X,y)"
   ]
  },
  {
   "cell_type": "code",
   "execution_count": 27,
   "metadata": {},
   "outputs": [
    {
     "data": {
      "text/plain": [
       "array([[0.02524235],\n",
       "       [0.03056119],\n",
       "       [0.02751431],\n",
       "       [0.02462961],\n",
       "       [0.02227951],\n",
       "       [0.02850404],\n",
       "       [0.02308177],\n",
       "       [0.03622044],\n",
       "       [0.03797475],\n",
       "       [0.02035634],\n",
       "       [0.03296669],\n",
       "       [0.0249605 ],\n",
       "       [0.0263031 ],\n",
       "       [0.03719178],\n",
       "       [0.01129747],\n",
       "       [0.01122357],\n",
       "       [0.00959207],\n",
       "       [0.03438535],\n",
       "       [0.03295564],\n",
       "       [0.03532179],\n",
       "       [0.03820948],\n",
       "       [0.03275323],\n",
       "       [0.02252654],\n",
       "       [0.03280232],\n",
       "       [0.01249668],\n",
       "       [0.02783967],\n",
       "       [0.0135127 ],\n",
       "       [0.03763095],\n",
       "       [0.02429309],\n",
       "       [0.02157627],\n",
       "       [0.01682903],\n",
       "       [0.03207081],\n",
       "       [0.02243033],\n",
       "       [0.02633016],\n",
       "       [0.00883989],\n",
       "       [0.02722211],\n",
       "       [0.02724383],\n",
       "       [0.02733341],\n",
       "       [0.03747399],\n",
       "       [0.02940017],\n",
       "       [0.01978606],\n",
       "       [0.02226262],\n",
       "       [0.03001079],\n",
       "       [0.01057337],\n",
       "       [0.02914471],\n",
       "       [0.02939613],\n",
       "       [0.0155822 ],\n",
       "       [0.01212722],\n",
       "       [0.01891966],\n",
       "       [0.02047981],\n",
       "       [0.02678229],\n",
       "       [0.02150077],\n",
       "       [0.03808904],\n",
       "       [0.01144409],\n",
       "       [0.01506876],\n",
       "       [0.014248  ],\n",
       "       [0.02841587],\n",
       "       [0.01662734],\n",
       "       [0.02256302],\n",
       "       [0.01693687],\n",
       "       [0.01386228],\n",
       "       [0.01160223],\n",
       "       [0.02850592],\n",
       "       [0.01305309],\n",
       "       [0.01563182],\n",
       "       [0.02002557],\n",
       "       [0.03406251],\n",
       "       [0.01241417],\n",
       "       [0.0345981 ],\n",
       "       [0.01224763],\n",
       "       [0.03895127],\n",
       "       [0.02328745],\n",
       "       [0.03883601],\n",
       "       [0.02677075],\n",
       "       [0.03111068],\n",
       "       [0.01000064],\n",
       "       [0.01787262],\n",
       "       [0.01293681],\n",
       "       [0.01716469],\n",
       "       [0.01225122],\n",
       "       [0.01788433],\n",
       "       [0.02106098],\n",
       "       [0.01087097],\n",
       "       [0.0290067 ],\n",
       "       [0.02609483],\n",
       "       [0.01674037],\n",
       "       [0.02538449],\n",
       "       [0.01194032],\n",
       "       [0.02607063],\n",
       "       [0.03650804],\n",
       "       [0.0193663 ],\n",
       "       [0.02868978],\n",
       "       [0.0119335 ],\n",
       "       [0.03064149],\n",
       "       [0.01777484],\n",
       "       [0.01535467],\n",
       "       [0.02649875],\n",
       "       [0.00964623],\n",
       "       [0.03385867],\n",
       "       [0.00960807],\n",
       "       [0.02967195],\n",
       "       [0.01725841],\n",
       "       [0.03176369],\n",
       "       [0.03835496],\n",
       "       [0.01645122],\n",
       "       [0.02611343],\n",
       "       [0.02708126],\n",
       "       [0.02639106],\n",
       "       [0.01584051],\n",
       "       [0.03761217],\n",
       "       [0.02236812],\n",
       "       [0.0345168 ],\n",
       "       [0.02958143],\n",
       "       [0.01817121],\n",
       "       [0.03420331],\n",
       "       [0.02101486],\n",
       "       [0.03552451],\n",
       "       [0.02659842],\n",
       "       [0.03506282],\n",
       "       [0.02988206],\n",
       "       [0.03078057],\n",
       "       [0.02475932],\n",
       "       [0.03780465],\n",
       "       [0.02899804],\n",
       "       [0.02097633],\n",
       "       [0.02693658],\n",
       "       [0.00972154],\n",
       "       [0.0191342 ],\n",
       "       [0.0283348 ],\n",
       "       [0.01706365],\n",
       "       [0.02711842],\n",
       "       [0.02163869],\n",
       "       [0.01315466],\n",
       "       [0.01813381],\n",
       "       [0.0265297 ],\n",
       "       [0.02646628],\n",
       "       [0.02642459],\n",
       "       [0.02847509],\n",
       "       [0.02877461],\n",
       "       [0.02180283],\n",
       "       [0.03618735],\n",
       "       [0.01981346],\n",
       "       [0.02279685],\n",
       "       [0.03615873],\n",
       "       [0.03302935],\n",
       "       [0.02988015],\n",
       "       [0.01177516],\n",
       "       [0.03662738],\n",
       "       [0.02996488],\n",
       "       [0.0391628 ],\n",
       "       [0.0138412 ],\n",
       "       [0.0353188 ],\n",
       "       [0.01359451],\n",
       "       [0.02706227],\n",
       "       [0.01281628],\n",
       "       [0.03422587],\n",
       "       [0.03338801],\n",
       "       [0.02646655],\n",
       "       [0.02197914],\n",
       "       [0.01121225],\n",
       "       [0.02940046],\n",
       "       [0.02290074],\n",
       "       [0.03122407],\n",
       "       [0.03442884],\n",
       "       [0.03850282],\n",
       "       [0.03513973],\n",
       "       [0.00917384],\n",
       "       [0.01957818],\n",
       "       [0.03140216],\n",
       "       [0.01392418],\n",
       "       [0.02445178],\n",
       "       [0.01061123],\n",
       "       [0.0155022 ],\n",
       "       [0.00964639],\n",
       "       [0.03195154],\n",
       "       [0.01565026],\n",
       "       [0.019832  ],\n",
       "       [0.035834  ],\n",
       "       [0.02981184],\n",
       "       [0.00918977],\n",
       "       [0.01412609],\n",
       "       [0.02736625],\n",
       "       [0.02700799],\n",
       "       [0.01648603],\n",
       "       [0.03685028],\n",
       "       [0.02776163],\n",
       "       [0.02548542],\n",
       "       [0.02607372],\n",
       "       [0.03054464],\n",
       "       [0.01870925],\n",
       "       [0.02133924],\n",
       "       [0.01568319],\n",
       "       [0.01481864],\n",
       "       [0.03746936],\n",
       "       [0.03072628],\n",
       "       [0.02391776],\n",
       "       [0.01621048],\n",
       "       [0.01683166],\n",
       "       [0.01107346],\n",
       "       [0.02227272],\n",
       "       [0.01765578],\n",
       "       [0.03024324],\n",
       "       [0.02029631],\n",
       "       [0.01422892],\n",
       "       [0.01000067],\n",
       "       [0.01151584],\n",
       "       [0.02851575],\n",
       "       [0.02238019],\n",
       "       [0.02514236],\n",
       "       [0.03635936],\n",
       "       [0.03885433],\n",
       "       [0.01555996],\n",
       "       [0.02877635],\n",
       "       [0.01768612],\n",
       "       [0.00984613],\n",
       "       [0.03139166],\n",
       "       [0.01866163],\n",
       "       [0.02042788],\n",
       "       [0.0263208 ],\n",
       "       [0.03381347],\n",
       "       [0.0279583 ],\n",
       "       [0.03555189],\n",
       "       [0.01704393],\n",
       "       [0.03352002],\n",
       "       [0.01455336],\n",
       "       [0.03748849],\n",
       "       [0.02988452],\n",
       "       [0.01558077],\n",
       "       [0.03801377],\n",
       "       [0.03088344],\n",
       "       [0.01668128],\n",
       "       [0.01575774],\n",
       "       [0.02504942],\n",
       "       [0.00997202],\n",
       "       [0.01534767],\n",
       "       [0.021115  ],\n",
       "       [0.01986659],\n",
       "       [0.0233189 ],\n",
       "       [0.01685126],\n",
       "       [0.0270094 ],\n",
       "       [0.03491222],\n",
       "       [0.01212383],\n",
       "       [0.02459569],\n",
       "       [0.01344989],\n",
       "       [0.03020552],\n",
       "       [0.02103172],\n",
       "       [0.02629194],\n",
       "       [0.01534043],\n",
       "       [0.01355935],\n",
       "       [0.02413055],\n",
       "       [0.01904812],\n",
       "       [0.03717899],\n",
       "       [0.0326603 ],\n",
       "       [0.03144493],\n",
       "       [0.03533651],\n",
       "       [0.01114639],\n",
       "       [0.02538545],\n",
       "       [0.0259428 ],\n",
       "       [0.0380223 ],\n",
       "       [0.01755433],\n",
       "       [0.0166064 ],\n",
       "       [0.01221064],\n",
       "       [0.00920744],\n",
       "       [0.03689519],\n",
       "       [0.02824909],\n",
       "       [0.03246277],\n",
       "       [0.01679941],\n",
       "       [0.02601481],\n",
       "       [0.01122108],\n",
       "       [0.02351824],\n",
       "       [0.03885079],\n",
       "       [0.03498831],\n",
       "       [0.01897977],\n",
       "       [0.03792028],\n",
       "       [0.01546442],\n",
       "       [0.03788694],\n",
       "       [0.03722958],\n",
       "       [0.03315107],\n",
       "       [0.02762528],\n",
       "       [0.03550183],\n",
       "       [0.01765967],\n",
       "       [0.03398019],\n",
       "       [0.02769066],\n",
       "       [0.00931659],\n",
       "       [0.01943263],\n",
       "       [0.01332984],\n",
       "       [0.03863972],\n",
       "       [0.02337183],\n",
       "       [0.02442193],\n",
       "       [0.02822097],\n",
       "       [0.02032751],\n",
       "       [0.01315962],\n",
       "       [0.03328741],\n",
       "       [0.01480966],\n",
       "       [0.02357427],\n",
       "       [0.01638795],\n",
       "       [0.0120222 ],\n",
       "       [0.03486271],\n",
       "       [0.03839567],\n",
       "       [0.0381165 ],\n",
       "       [0.03560062],\n",
       "       [0.03241906],\n",
       "       [0.01911286],\n",
       "       [0.01103653],\n",
       "       [0.02096305],\n",
       "       [0.01578513],\n",
       "       [0.01379853],\n",
       "       [0.01083183],\n",
       "       [0.03071495],\n",
       "       [0.00998402],\n",
       "       [0.03212535],\n",
       "       [0.01335951],\n",
       "       [0.01131213],\n",
       "       [0.01145557],\n",
       "       [0.02909383],\n",
       "       [0.0164415 ],\n",
       "       [0.02146129],\n",
       "       [0.02576601],\n",
       "       [0.0349946 ],\n",
       "       [0.03115531],\n",
       "       [0.01705164],\n",
       "       [0.01269359],\n",
       "       [0.01080766],\n",
       "       [0.01779235],\n",
       "       [0.01688555],\n",
       "       [0.02233893],\n",
       "       [0.03011055],\n",
       "       [0.03013288],\n",
       "       [0.01724133],\n",
       "       [0.02018687],\n",
       "       [0.01451389],\n",
       "       [0.0328243 ],\n",
       "       [0.01008078],\n",
       "       [0.03043269],\n",
       "       [0.03217072],\n",
       "       [0.03250758],\n",
       "       [0.01691985],\n",
       "       [0.01995678],\n",
       "       [0.02629423],\n",
       "       [0.01701108],\n",
       "       [0.01967739],\n",
       "       [0.01485314],\n",
       "       [0.02260048],\n",
       "       [0.01108815],\n",
       "       [0.03293627],\n",
       "       [0.01177423],\n",
       "       [0.02431615],\n",
       "       [0.01800324],\n",
       "       [0.02598926],\n",
       "       [0.0379438 ],\n",
       "       [0.02851617],\n",
       "       [0.01093914],\n",
       "       [0.0223509 ],\n",
       "       [0.02435179],\n",
       "       [0.0258279 ],\n",
       "       [0.02907154],\n",
       "       [0.01806785],\n",
       "       [0.01316818],\n",
       "       [0.02137979],\n",
       "       [0.03829165],\n",
       "       [0.01496777],\n",
       "       [0.03562538],\n",
       "       [0.02553055],\n",
       "       [0.02373846],\n",
       "       [0.03567335],\n",
       "       [0.02284286],\n",
       "       [0.03019846],\n",
       "       [0.02065636],\n",
       "       [0.03629616],\n",
       "       [0.02954038],\n",
       "       [0.03010899],\n",
       "       [0.01967945],\n",
       "       [0.03160447],\n",
       "       [0.02787758],\n",
       "       [0.01590271],\n",
       "       [0.01390266],\n",
       "       [0.03310856],\n",
       "       [0.03798207],\n",
       "       [0.02306631],\n",
       "       [0.02724369],\n",
       "       [0.03481709],\n",
       "       [0.02313761],\n",
       "       [0.03824975],\n",
       "       [0.02570386],\n",
       "       [0.03366262],\n",
       "       [0.03656071],\n",
       "       [0.03337488],\n",
       "       [0.01307857],\n",
       "       [0.02682411],\n",
       "       [0.02072583],\n",
       "       [0.01110569],\n",
       "       [0.02158108],\n",
       "       [0.016935  ],\n",
       "       [0.03481776],\n",
       "       [0.0099461 ],\n",
       "       [0.03729409],\n",
       "       [0.01973352],\n",
       "       [0.01984511],\n",
       "       [0.00963053],\n",
       "       [0.01414695],\n",
       "       [0.02113947],\n",
       "       [0.03742021],\n",
       "       [0.01170032],\n",
       "       [0.03772815],\n",
       "       [0.03482392],\n",
       "       [0.02215766],\n",
       "       [0.01865095],\n",
       "       [0.0167324 ],\n",
       "       [0.02735117],\n",
       "       [0.00974389],\n",
       "       [0.01001779],\n",
       "       [0.02180908],\n",
       "       [0.01123974],\n",
       "       [0.01677965],\n",
       "       [0.01556105],\n",
       "       [0.01544694],\n",
       "       [0.01269489],\n",
       "       [0.00906302],\n",
       "       [0.01230706],\n",
       "       [0.02689519],\n",
       "       [0.03874005],\n",
       "       [0.03873944],\n",
       "       [0.02133239],\n",
       "       [0.01441332],\n",
       "       [0.0285538 ],\n",
       "       [0.02306456],\n",
       "       [0.0385044 ],\n",
       "       [0.01054265],\n",
       "       [0.03235857],\n",
       "       [0.01818291],\n",
       "       [0.01633923],\n",
       "       [0.02954045],\n",
       "       [0.01729639],\n",
       "       [0.02866083],\n",
       "       [0.02473378],\n",
       "       [0.02237523],\n",
       "       [0.02498672],\n",
       "       [0.01829556],\n",
       "       [0.03022436],\n",
       "       [0.0217919 ],\n",
       "       [0.01943872],\n",
       "       [0.03413201],\n",
       "       [0.03667216],\n",
       "       [0.01072121],\n",
       "       [0.01531896],\n",
       "       [0.01933817],\n",
       "       [0.03333831],\n",
       "       [0.0384369 ],\n",
       "       [0.03792169],\n",
       "       [0.03602223],\n",
       "       [0.01833899],\n",
       "       [0.03874585],\n",
       "       [0.01668726],\n",
       "       [0.01238897],\n",
       "       [0.03799378],\n",
       "       [0.01575474],\n",
       "       [0.0296385 ],\n",
       "       [0.01120838],\n",
       "       [0.03104742],\n",
       "       [0.03546611],\n",
       "       [0.01686427],\n",
       "       [0.02031868],\n",
       "       [0.01978125],\n",
       "       [0.03127926],\n",
       "       [0.01598951],\n",
       "       [0.01448672],\n",
       "       [0.02329572],\n",
       "       [0.01843005],\n",
       "       [0.03352134],\n",
       "       [0.01546735],\n",
       "       [0.02454571],\n",
       "       [0.0365983 ],\n",
       "       [0.02791527],\n",
       "       [0.03500163],\n",
       "       [0.03740951],\n",
       "       [0.03185508],\n",
       "       [0.02993889],\n",
       "       [0.03816608],\n",
       "       [0.03928212],\n",
       "       [0.02275229],\n",
       "       [0.01036702],\n",
       "       [0.01815643],\n",
       "       [0.01355361],\n",
       "       [0.0216007 ],\n",
       "       [0.01227748],\n",
       "       [0.02767184],\n",
       "       [0.02121524],\n",
       "       [0.03550438],\n",
       "       [0.03820299],\n",
       "       [0.02582319],\n",
       "       [0.01664182],\n",
       "       [0.02573886],\n",
       "       [0.03638425],\n",
       "       [0.02178161],\n",
       "       [0.0253205 ],\n",
       "       [0.01690992],\n",
       "       [0.02288796],\n",
       "       [0.02103686],\n",
       "       [0.01680584],\n",
       "       [0.02473529]])"
      ]
     },
     "execution_count": 27,
     "metadata": {},
     "output_type": "execute_result"
    }
   ],
   "source": [
    "SV.lambda_"
   ]
  },
  {
   "cell_type": "code",
   "execution_count": 28,
   "metadata": {},
   "outputs": [
    {
     "data": {
      "text/plain": [
       "(24, 1)"
      ]
     },
     "execution_count": 28,
     "metadata": {},
     "output_type": "execute_result"
    }
   ],
   "source": [
    "SV.lambda_sv.shape"
   ]
  },
  {
   "cell_type": "code",
   "execution_count": 29,
   "metadata": {},
   "outputs": [
    {
     "data": {
      "text/plain": [
       "array([-1,  1,  1,  1,  1,  1, -1, -1, -1, -1, -1,  1,  1, -1,  1,  1,  1,\n",
       "       -1, -1,  1,  1,  1, -1, -1,  1, -1,  1, -1,  1, -1,  1,  1,  1, -1,\n",
       "        1,  1,  1,  1, -1, -1,  1, -1, -1,  1, -1, -1,  1,  1,  1, -1, -1,\n",
       "        1,  1,  1,  1, -1,  1,  1,  1, -1, -1,  1,  1,  1, -1,  1, -1, -1,\n",
       "       -1, -1, -1,  1, -1,  1,  1,  1, -1, -1,  1,  1,  1,  1,  1, -1,  1,\n",
       "       -1, -1,  1,  1, -1, -1,  1,  1, -1,  1,  1,  1, -1,  1, -1, -1, -1,\n",
       "        1, -1,  1,  1, -1, -1,  1, -1, -1, -1,  1, -1,  1, -1, -1,  1,  1,\n",
       "        1,  1,  1, -1,  1,  1, -1, -1, -1, -1,  1,  1,  1,  1, -1, -1,  1,\n",
       "       -1,  1, -1, -1, -1,  1,  1,  1,  1,  1, -1,  1,  1, -1, -1, -1, -1,\n",
       "        1,  1,  1, -1,  1, -1, -1,  1,  1,  1,  1, -1, -1,  1, -1, -1, -1,\n",
       "       -1, -1, -1,  1,  1,  1, -1, -1,  1, -1, -1,  1, -1, -1,  1, -1, -1,\n",
       "        1,  1, -1,  1, -1, -1, -1,  1, -1, -1, -1, -1, -1,  1, -1,  1, -1,\n",
       "       -1, -1,  1,  1,  1, -1, -1,  1,  1, -1, -1,  1, -1, -1,  1,  1, -1,\n",
       "        1,  1, -1,  1,  1,  1, -1, -1, -1, -1, -1, -1, -1, -1,  1,  1, -1,\n",
       "        1, -1,  1, -1,  1, -1, -1,  1, -1, -1,  1, -1,  1,  1, -1,  1,  1,\n",
       "        1, -1,  1, -1,  1, -1, -1, -1,  1,  1,  1,  1,  1, -1,  1, -1, -1,\n",
       "        1,  1,  1,  1,  1, -1,  1, -1, -1,  1,  1,  1,  1, -1,  1,  1, -1,\n",
       "       -1, -1,  1,  1,  1,  1, -1, -1, -1, -1,  1,  1,  1, -1, -1,  1,  1,\n",
       "       -1, -1,  1,  1,  1,  1,  1,  1, -1, -1,  1, -1, -1,  1,  1,  1, -1,\n",
       "        1, -1,  1, -1,  1,  1,  1,  1,  1,  1, -1, -1,  1,  1, -1, -1, -1,\n",
       "        1,  1,  1, -1,  1, -1,  1,  1,  1, -1,  1, -1,  1, -1, -1,  1, -1,\n",
       "       -1, -1, -1, -1, -1, -1, -1, -1, -1, -1,  1,  1,  1,  1, -1,  1,  1,\n",
       "        1,  1,  1, -1, -1, -1,  1, -1, -1,  1,  1, -1, -1,  1,  1, -1, -1,\n",
       "       -1,  1,  1,  1,  1, -1,  1,  1,  1, -1, -1,  1, -1,  1,  1, -1,  1,\n",
       "       -1,  1, -1,  1,  1, -1,  1,  1,  1,  1, -1,  1, -1, -1, -1, -1,  1,\n",
       "       -1, -1, -1, -1, -1,  1, -1, -1, -1, -1, -1,  1, -1,  1, -1,  1,  1,\n",
       "        1, -1,  1, -1, -1,  1,  1, -1, -1, -1, -1, -1, -1,  1, -1, -1, -1,\n",
       "        1, -1, -1,  1,  1, -1,  1, -1, -1,  1, -1,  1,  1, -1, -1,  1,  1,\n",
       "       -1,  1, -1, -1,  1, -1,  1, -1,  1, -1, -1, -1, -1, -1,  1,  1, -1,\n",
       "       -1, -1, -1,  1,  1,  1, -1])"
      ]
     },
     "execution_count": 29,
     "metadata": {},
     "output_type": "execute_result"
    }
   ],
   "source": [
    "y_pred = SV.predict(X)\n",
    "y_pred"
   ]
  },
  {
   "cell_type": "code",
   "execution_count": 30,
   "metadata": {},
   "outputs": [
    {
     "data": {
      "image/png": "[encoded data removed]",
      "text/plain": [
       "<Figure size 432x288 with 1 Axes>"
      ]
     },
     "metadata": {
      "needs_background": "light"
     },
     "output_type": "display_data"
    }
   ],
   "source": [
    "plot_decision_regions(X,SV)"
   ]
  },
  {
   "cell_type": "code",
   "execution_count": 31,
   "metadata": {},
   "outputs": [
    {
     "name": "stdout",
     "output_type": "stream",
     "text": [
      "[[ 1  1  1 ... -1 -1 -1]\n",
      " [ 1  1  1 ... -1 -1 -1]\n",
      " [ 1  1  1 ... -1 -1 -1]\n",
      " ...\n",
      " [ 1  1  1 ... -1 -1 -1]\n",
      " [ 1  1  1 ... -1 -1 -1]\n",
      " [ 1  1  1 ... -1 -1 -1]]\n"
     ]
    },
    {
     "data": {
      "image/png": "[encoded data removed]",
      "text/plain": [
       "<Figure size 432x288 with 1 Axes>"
      ]
     },
     "metadata": {
      "needs_background": "light"
     },
     "output_type": "display_data"
    }
   ],
   "source": [
    "decision_region(X, y, SV, \n",
    "                 step=0.01, title='ScratchLogisticRegression',\n",
    "                 xlabel='xlabel', ylabel='ylabel', \n",
    "                 target_names=[\"A\" ,'B'])"
   ]
  },
  {
   "cell_type": "markdown",
   "metadata": {},
   "source": [
    " ## データ3"
   ]
  },
  {
   "cell_type": "code",
   "execution_count": 32,
   "metadata": {},
   "outputs": [],
   "source": [
    "X = np.array([[-0.44699 , -2.8073  ],[-1.4621  , -2.4586  ],\n",
    "       [ 0.10645 ,  1.9242  ],[-3.5944  , -4.0112  ],\n",
    "       [-0.9888  ,  4.5718  ],[-3.1625  , -3.9606  ],\n",
    "       [ 0.56421 ,  0.72888 ],[-0.60216 ,  8.4636  ],\n",
    "       [-0.61251 , -0.75345 ],[-0.73535 , -2.2718  ],\n",
    "       [-0.80647 , -2.2135  ],[ 0.86291 ,  2.3946  ],\n",
    "       [-3.1108  ,  0.15394 ],[-2.9362  ,  2.5462  ],\n",
    "       [-0.57242 , -2.9915  ],[ 1.4771  ,  3.4896  ],\n",
    "       [ 0.58619 ,  0.37158 ],[ 0.6017  ,  4.3439  ],\n",
    "       [-2.1086  ,  8.3428  ],[-4.1013  , -4.353   ],\n",
    "       [-1.9948  , -1.3927  ],[ 0.35084 , -0.031994],\n",
    "       [ 0.96765 ,  7.8929  ],[-1.281   , 15.6824  ],\n",
    "       [ 0.96765 , 10.083   ],[ 1.3763  ,  1.3347  ],\n",
    "       [-2.234   , -2.5323  ],[-2.9452  , -1.8219  ],\n",
    "       [ 0.14654 , -0.28733 ],[ 0.5461  ,  5.8245  ],\n",
    "       [-0.65259 ,  9.3444  ],[ 0.59912 ,  5.3524  ],\n",
    "       [ 0.50214 , -0.31818 ],[-3.0603  , -3.6461  ],\n",
    "       [-6.6797  ,  0.67661 ],[-2.353   , -0.72261 ],\n",
    "       [ 1.1319  ,  2.4023  ],[-0.12243 ,  9.0162  ],\n",
    "       [-2.5677  , 13.1779  ],[ 0.057313,  5.4681  ]])\n",
    "y = np.array([0, 0, 0, 0, 0, 0, 0, 0, 0, 0, 0, 0, 0, 0, 0, 0, 0, 0, 0, 0, 1, 1,\n",
    "       1, 1, 1, 1, 1, 1, 1, 1, 1, 1, 1, 1, 1, 1, 1, 1, 1, 1])"
   ]
  },
  {
   "cell_type": "code",
   "execution_count": 33,
   "metadata": {},
   "outputs": [],
   "source": [
    "SV = ScratchSVMClassifier(num_iter=10000, lr = 0.000001, bias=True, Threshold=0.035)"
   ]
  },
  {
   "cell_type": "code",
   "execution_count": 34,
   "metadata": {},
   "outputs": [],
   "source": [
    "SV.fit(X,y)"
   ]
  },
  {
   "cell_type": "code",
   "execution_count": 35,
   "metadata": {},
   "outputs": [
    {
     "data": {
      "text/plain": [
       "array([[0.02646441],\n",
       "       [0.03145568],\n",
       "       [0.0280829 ],\n",
       "       [0.0263465 ],\n",
       "       [0.02270964],\n",
       "       [0.02937682],\n",
       "       [0.02312762],\n",
       "       [0.03675319],\n",
       "       [0.03890988],\n",
       "       [0.02150325],\n",
       "       [0.03375175],\n",
       "       [0.02586685],\n",
       "       [0.02704134],\n",
       "       [0.0377679 ],\n",
       "       [0.01213108],\n",
       "       [0.01261388],\n",
       "       [0.01060655],\n",
       "       [0.0349786 ],\n",
       "       [0.0333447 ],\n",
       "       [0.03610036],\n",
       "       [0.03935855],\n",
       "       [0.03397476],\n",
       "       [0.02384438],\n",
       "       [0.03341588],\n",
       "       [0.01354823],\n",
       "       [0.02919763],\n",
       "       [0.0143006 ],\n",
       "       [0.03834007],\n",
       "       [0.02565545],\n",
       "       [0.02243986],\n",
       "       [0.01793667],\n",
       "       [0.03322701],\n",
       "       [0.02368451],\n",
       "       [0.02705302],\n",
       "       [0.01056369],\n",
       "       [0.02852906],\n",
       "       [0.02836287],\n",
       "       [0.02850802],\n",
       "       [0.03831244],\n",
       "       [0.03045461]])"
      ]
     },
     "execution_count": 35,
     "metadata": {},
     "output_type": "execute_result"
    }
   ],
   "source": [
    "SV.lambda_"
   ]
  },
  {
   "cell_type": "code",
   "execution_count": 36,
   "metadata": {},
   "outputs": [
    {
     "data": {
      "text/plain": [
       "(7, 1)"
      ]
     },
     "execution_count": 36,
     "metadata": {},
     "output_type": "execute_result"
    }
   ],
   "source": [
    "SV.lambda_sv.shape"
   ]
  },
  {
   "cell_type": "code",
   "execution_count": 37,
   "metadata": {},
   "outputs": [
    {
     "data": {
      "text/plain": [
       "array([-1, -1,  1, -1,  1, -1,  1,  1, -1, -1, -1,  1,  1,  1, -1,  1, -1,\n",
       "        1,  1, -1,  1, -1,  1,  1,  1,  1, -1,  1, -1,  1,  1,  1, -1, -1,\n",
       "        1,  1,  1,  1,  1,  1])"
      ]
     },
     "execution_count": 37,
     "metadata": {},
     "output_type": "execute_result"
    }
   ],
   "source": [
    "y_pred = SV.predict(X)\n",
    "y_pred"
   ]
  },
  {
   "cell_type": "code",
   "execution_count": 38,
   "metadata": {},
   "outputs": [
    {
     "data": {
      "image/png": "[encoded data removed]",
      "text/plain": [
       "<Figure size 432x288 with 1 Axes>"
      ]
     },
     "metadata": {
      "needs_background": "light"
     },
     "output_type": "display_data"
    }
   ],
   "source": [
    "plot_decision_regions(X,SV)"
   ]
  },
  {
   "cell_type": "code",
   "execution_count": 39,
   "metadata": {},
   "outputs": [
    {
     "name": "stdout",
     "output_type": "stream",
     "text": [
      "[[ 1  1  1 ... -1 -1 -1]\n",
      " [ 1  1  1 ... -1 -1 -1]\n",
      " [ 1  1  1 ... -1 -1 -1]\n",
      " ...\n",
      " [ 1  1  1 ...  1  1  1]\n",
      " [ 1  1  1 ...  1  1  1]\n",
      " [ 1  1  1 ...  1  1  1]]\n"
     ]
    },
    {
     "data": {
      "image/png": "[encoded data removed]",
      "text/plain": [
       "<Figure size 432x288 with 1 Axes>"
      ]
     },
     "metadata": {
      "needs_background": "light"
     },
     "output_type": "display_data"
    }
   ],
   "source": [
    "decision_region(X, y, SV, \n",
    "                 step=0.01, title='ScratchLogisticRegression',\n",
    "                 xlabel='xlabel', ylabel='ylabel', \n",
    "                 target_names=[\"A\" ,'B'])"
   ]
  },
  {
   "cell_type": "markdown",
   "metadata": {},
   "source": [
    " # 【問題5】時間の計測\n",
    "SVMの学習には時間がかかるため、効率的な実装が望まれます。事前学習期間に行なったように、時間を計測して改善していきましょう。特に \n",
    "λ\n",
    " の更新部分は繰り返し処理が多いため、効率的なコードを目指してください。"
   ]
  },
  {
   "cell_type": "code",
   "execution_count": 40,
   "metadata": {},
   "outputs": [
    {
     "name": "stdout",
     "output_type": "stream",
     "text": [
      "time : 8.26259708404541s\n"
     ]
    }
   ],
   "source": [
    "import time\n",
    "t0 = time.time()\n",
    "SV.fit(X_train , y_train)\n",
    "t1 = time.time()\n",
    "print('time : {}s'.format(t1-t0))"
   ]
  },
  {
   "cell_type": "markdown",
   "metadata": {},
   "source": [
    " # 【問題6】ロジスティック回帰とSVM\n",
    "<br>　\n",
    " - ロジスティック回帰 : \n",
    "<br>\n",
    "シグモイド関数により片方になる確率を０〜１の値で求める\n",
    "<br>　\n",
    " - SVM : \n",
    "<br>\n",
    "データを分類するための境界線を決定する際に、境界線から近いサンプルデータまでのマージンの和が最大になる境界線を求め分類する手法。処理が複雑なため、学習に時間がかかる。"
   ]
  },
  {
   "cell_type": "code",
   "execution_count": null,
   "metadata": {},
   "outputs": [],
   "source": []
  }
 ],
 "metadata": {
  "kernelspec": {
   "display_name": "Python 3",
   "language": "python",
   "name": "python3"
  },
  "language_info": {
   "codemirror_mode": {
    "name": "ipython",
    "version": 3
   },
   "file_extension": ".py",
   "mimetype": "text/x-python",
   "name": "python",
   "nbconvert_exporter": "python",
   "pygments_lexer": "ipython3",
   "version": "3.7.4"
  },
  "toc": {
   "base_numbering": 1,
   "nav_menu": {},
   "number_sections": true,
   "sideBar": true,
   "skip_h1_title": false,
   "title_cell": "Table of Contents",
   "title_sidebar": "Contents",
   "toc_cell": false,
   "toc_position": {},
   "toc_section_display": true,
   "toc_window_display": false
  },
  "varInspector": {
   "cols": {
    "lenName": 16,
    "lenType": 16,
    "lenVar": 40
   },
   "kernels_config": {
    "python": {
     "delete_cmd_postfix": "",
     "delete_cmd_prefix": "del ",
     "library": "var_list.py",
     "varRefreshCmd": "print(var_dic_list())"
    },
    "r": {
     "delete_cmd_postfix": ") ",
     "delete_cmd_prefix": "rm(",
     "library": "var_list.r",
     "varRefreshCmd": "cat(var_dic_list()) "
    }
   },
   "types_to_exclude": [
    "module",
    "function",
    "builtin_function_or_method",
    "instance",
    "_Feature"
   ],
   "window_display": true
  }
 },
 "nbformat": 4,
 "nbformat_minor": 2
}
