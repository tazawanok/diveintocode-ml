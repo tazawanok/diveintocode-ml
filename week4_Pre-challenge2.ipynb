{
 "cells": [
  {
   "cell_type": "code",
   "execution_count": 1,
   "metadata": {},
   "outputs": [],
   "source": [
    "import pandas as pd\n",
    "import numpy as np"
   ]
  },
  {
   "cell_type": "code",
   "execution_count": 2,
   "metadata": {},
   "outputs": [],
   "source": [
    "housing = pd.read_csv(\"/Users/naoki/train.csv\")"
   ]
  },
  {
   "cell_type": "markdown",
   "metadata": {},
   "source": [
    " # 【問題1】練習のために特徴量の選択\n",
    "データセットを読み込んだ後、GrLivAreaとYearBuiltを抜き出してください。"
   ]
  },
  {
   "cell_type": "code",
   "execution_count": 3,
   "metadata": {},
   "outputs": [
    {
     "data": {
      "text/html": [
       "<div>\n",
       "<style scoped>\n",
       "    .dataframe tbody tr th:only-of-type {\n",
       "        vertical-align: middle;\n",
       "    }\n",
       "\n",
       "    .dataframe tbody tr th {\n",
       "        vertical-align: top;\n",
       "    }\n",
       "\n",
       "    .dataframe thead th {\n",
       "        text-align: right;\n",
       "    }\n",
       "</style>\n",
       "<table border=\"1\" class=\"dataframe\">\n",
       "  <thead>\n",
       "    <tr style=\"text-align: right;\">\n",
       "      <th></th>\n",
       "      <th>GrLivArea</th>\n",
       "      <th>YearBuilt</th>\n",
       "    </tr>\n",
       "  </thead>\n",
       "  <tbody>\n",
       "    <tr>\n",
       "      <td>0</td>\n",
       "      <td>1710</td>\n",
       "      <td>2003</td>\n",
       "    </tr>\n",
       "    <tr>\n",
       "      <td>1</td>\n",
       "      <td>1262</td>\n",
       "      <td>1976</td>\n",
       "    </tr>\n",
       "    <tr>\n",
       "      <td>2</td>\n",
       "      <td>1786</td>\n",
       "      <td>2001</td>\n",
       "    </tr>\n",
       "    <tr>\n",
       "      <td>3</td>\n",
       "      <td>1717</td>\n",
       "      <td>1915</td>\n",
       "    </tr>\n",
       "    <tr>\n",
       "      <td>4</td>\n",
       "      <td>2198</td>\n",
       "      <td>2000</td>\n",
       "    </tr>\n",
       "  </tbody>\n",
       "</table>\n",
       "</div>"
      ],
      "text/plain": [
       "   GrLivArea  YearBuilt\n",
       "0       1710       2003\n",
       "1       1262       1976\n",
       "2       1786       2001\n",
       "3       1717       1915\n",
       "4       2198       2000"
      ]
     },
     "execution_count": 3,
     "metadata": {},
     "output_type": "execute_result"
    }
   ],
   "source": [
    "X = housing[[\"GrLivArea\", \"YearBuilt\"]]\n",
    "X.head()"
   ]
  },
  {
   "cell_type": "code",
   "execution_count": 4,
   "metadata": {},
   "outputs": [
    {
     "data": {
      "text/plain": [
       "0    208500\n",
       "1    181500\n",
       "2    223500\n",
       "3    140000\n",
       "4    250000\n",
       "Name: SalePrice, dtype: int64"
      ]
     },
     "execution_count": 4,
     "metadata": {},
     "output_type": "execute_result"
    }
   ],
   "source": [
    "y = housing[\"SalePrice\"]\n",
    "y.head()"
   ]
  },
  {
   "cell_type": "markdown",
   "metadata": {},
   "source": [
    " # 【問題2】線形回帰による推定と評価\n",
    "データを簡単に分析、前処理し、 線形回帰 による学習、推定、評価、可視化までの一連の流れを作成・実行してください。"
   ]
  },
  {
   "cell_type": "code",
   "execution_count": 5,
   "metadata": {},
   "outputs": [],
   "source": [
    "from sklearn.model_selection import train_test_split\n",
    "from sklearn.preprocessing import StandardScaler\n",
    "\n",
    "(X_train, X_test,\n",
    " y_train, y_test) = train_test_split(\n",
    "    X, y, test_size=0.25, random_state=0,\n",
    ")\n",
    "\n",
    "sc = StandardScaler()\n",
    "X_train = sc.fit_transform(X_train)\n",
    "X_test = sc.transform(X_test)"
   ]
  },
  {
   "cell_type": "code",
   "execution_count": 6,
   "metadata": {},
   "outputs": [
    {
     "name": "stdout",
     "output_type": "stream",
     "text": [
      "0.5871035359601553\n",
      "切片：180733.1497716894\n",
      "回帰係数：[50915.49019418 31435.11963558]\n"
     ]
    }
   ],
   "source": [
    "from sklearn.linear_model import LinearRegression\n",
    "from sklearn.metrics import mean_squared_error\n",
    "\n",
    "reg = LinearRegression().fit(X_train, y_train)\n",
    "y_pred =reg.predict(X_test)\n",
    "print(reg.score(X_test, y_test))\n",
    "print(\"切片：{}\".format(reg.intercept_))\n",
    "print(\"回帰係数：{}\".format(reg.coef_))"
   ]
  },
  {
   "cell_type": "code",
   "execution_count": 7,
   "metadata": {},
   "outputs": [
    {
     "name": "stdout",
     "output_type": "stream",
     "text": [
      "平均絶対誤差 (MAE):31844.32869713221\n",
      "平均二乗誤差 (MSE):2725908099.0636377\n",
      "二乗平均平方根誤差 (RMSE):52210.229831553486\n",
      "決定係数 (R**2) :0.5871035359601553\n"
     ]
    }
   ],
   "source": [
    "from sklearn.metrics import mean_absolute_error\n",
    "from sklearn.metrics import mean_squared_error\n",
    "from sklearn.metrics import r2_score\n",
    "\n",
    "print(\"平均絶対誤差 (MAE):{}\".format(mean_absolute_error(y_test, y_pred)))\n",
    "print(\"平均二乗誤差 (MSE):{}\".format(mean_squared_error(y_test, y_pred)))\n",
    "print(\"二乗平均平方根誤差 (RMSE):{}\".format(np.sqrt(mean_squared_error(y_test, y_pred))))\n",
    "print(\"決定係数 (R**2) :{}\".format(r2_score(y_test, y_pred)))"
   ]
  },
  {
   "cell_type": "code",
   "execution_count": 8,
   "metadata": {},
   "outputs": [],
   "source": [
    "import IPython"
   ]
  },
  {
   "cell_type": "code",
   "execution_count": 9,
   "metadata": {},
   "outputs": [],
   "source": [
    "from mpl_toolkits.mplot3d import Axes3D  #3Dplot\n",
    "import matplotlib.pyplot as plt\n",
    "import seaborn as sns\n",
    "# %matplotlib notebook\n",
    "\n",
    "# fig=plt.figure()\n",
    "# ax=Axes3D(fig)\n",
    "\n",
    "# x1 = X_train[:,0]\n",
    "# x2 = X_train[:,1]\n",
    "# y = y_train\n",
    "\n",
    "# ax.scatter3D(x1, x2, y)\n",
    "# ax.set_xlabel(\"GrLivArea\")\n",
    "# ax.set_ylabel(\"YearBuilt\")\n",
    "# ax.set_zlabel(\"SalePrice\")\n",
    "\n",
    "# mesh_x1 = np.arange(x1.min(), x1.max(), (x1.max()-x1.min())/20)\n",
    "# mesh_x2 = np.arange(x2.min(), x2.max(), (x2.max()-x2.min())/20)\n",
    "# mesh_x1, mesh_x2 = np.meshgrid(mesh_x1, mesh_x2)\n",
    "# mesh_y = reg.coef_[0] * mesh_x1 + reg.coef_[1] * mesh_x2 + reg.intercept_\n",
    "# ax.plot_wireframe(mesh_x1, mesh_x2, mesh_y, color=\"red\")\n",
    "# plt.show()\n"
   ]
  },
  {
   "cell_type": "code",
   "execution_count": 10,
   "metadata": {},
   "outputs": [
    {
     "data": {
      "text/plain": [
       "(365,)"
      ]
     },
     "execution_count": 10,
     "metadata": {},
     "output_type": "execute_result"
    }
   ],
   "source": [
    "y_pred.shape"
   ]
  },
  {
   "cell_type": "code",
   "execution_count": 11,
   "metadata": {},
   "outputs": [
    {
     "data": {
      "text/plain": [
       "array([[ 1.92437550e+00, -4.63916261e-01],\n",
       "       [ 1.10039797e-01, -9.93864289e-01],\n",
       "       [-6.16081750e-01, -6.95768523e-01],\n",
       "       [ 9.69767708e-01,  1.98518773e-01],\n",
       "       [-8.31013728e-01, -2.11737226e-04],\n",
       "       [-9.66556417e-01, -2.02063859e+00],\n",
       "       [-1.10701153e-01,  1.19217132e+00],\n",
       "       [-2.83034000e-01, -1.12635130e+00],\n",
       "       [ 5.72150711e+00,  8.27832056e-01],\n",
       "       [-8.11650487e-01,  1.09280607e+00],\n",
       "       [-3.27569455e-01,  1.15904957e+00],\n",
       "       [ 3.07544858e-01,  1.65397021e-01],\n",
       "       [ 8.94251068e-01,  9.27197311e-01],\n",
       "       [-1.20278796e+00, -1.32698744e-01],\n",
       "       [-8.50376969e-01, -7.62012027e-01],\n",
       "       [-4.01149772e-01, -4.63916261e-01],\n",
       "       [ 7.78071620e-01,  6.95345049e-01],\n",
       "       [-1.02851879e+00,  7.61588552e-01],\n",
       "       [-5.67673647e-01, -1.65820496e-01],\n",
       "       [ 5.90248180e-01, -1.85502983e+00],\n",
       "       [-2.63670759e-01, -6.29525020e-01],\n",
       "       [-1.30347681e+00,  1.09280607e+00],\n",
       "       [-1.36543919e+00, -2.65185751e-01],\n",
       "       [-7.77836432e-02,  7.61588552e-01],\n",
       "       [ 6.87064386e-01,  9.91535179e-02],\n",
       "       [ 4.27596953e-01, -2.94804764e+00],\n",
       "       [ 1.00358176e-01,  9.60319062e-01],\n",
       "       [-1.72559547e+00, -3.33334889e-02],\n",
       "       [ 3.42398692e-01,  1.19217132e+00],\n",
       "       [-5.90909536e-01, -7.95133778e-01],\n",
       "       [ 4.93431974e-01, -4.30794509e-01],\n",
       "       [ 4.91495650e-01,  7.28466800e-01],\n",
       "       [-1.17955207e+00,  2.31640525e-01],\n",
       "       [ 1.31056075e+00,  9.60319062e-01],\n",
       "       [ 1.01623949e+00,  1.22529308e+00],\n",
       "       [-1.45554988e-01,  8.27832056e-01],\n",
       "       [ 7.71222868e-02,  1.12592782e+00],\n",
       "       [-1.23764179e+00,  3.29100145e-02],\n",
       "       [ 1.10918305e+00,  1.05968432e+00],\n",
       "       [ 2.13156218e+00,  7.61588552e-01],\n",
       "       [ 1.23310779e+00, -6.95768523e-01],\n",
       "       [-3.12078862e-01, -5.30159765e-01],\n",
       "       [-4.08895069e-01,  1.12592782e+00],\n",
       "       [ 6.09611421e-01,  1.09280607e+00],\n",
       "       [ 2.46460993e+00,  7.94710304e-01],\n",
       "       [ 4.00488416e-01, -2.32063999e-01],\n",
       "       [-1.34801227e+00, -5.30159765e-01],\n",
       "       [-1.21440590e+00,  1.65397021e-01],\n",
       "       [ 3.13353830e-01,  2.31640525e-01],\n",
       "       [-1.14469824e+00, -8.28255530e-01],\n",
       "       [ 2.22063309e+00,  1.05968432e+00],\n",
       "       [-8.67803886e-01, -1.98942247e-01],\n",
       "       [-3.62423290e-01,  1.98518773e-01],\n",
       "       [-1.41965626e+00, -9.93864289e-01],\n",
       "       [ 2.37837189e-01,  5.95979794e-01],\n",
       "       [-1.25700504e+00, -2.11737226e-04],\n",
       "       [-1.72663525e-01, -2.02063859e+00],\n",
       "       [ 5.41840077e-01,  1.12592782e+00],\n",
       "       [-7.74860328e-01, -2.65185751e-01],\n",
       "       [-1.41771994e+00, -7.62012027e-01],\n",
       "       [-9.04594045e-01, -2.65185751e-01],\n",
       "       [-9.16211989e-01, -4.97038013e-01],\n",
       "       [-5.52183054e-01, -4.63916261e-01],\n",
       "       [-7.14834280e-01, -2.32063999e-01],\n",
       "       [ 3.05608534e-01,  7.61588552e-01],\n",
       "       [-8.35926156e-02, -4.63916261e-01],\n",
       "       [-1.14857088e+00, -4.97038013e-01],\n",
       "       [ 3.30780747e-01,  1.25841483e+00],\n",
       "       [-5.25074516e-01, -2.02063859e+00],\n",
       "       [ 4.10170036e-01,  1.05968432e+00],\n",
       "       [-1.72663525e-01,  1.09280607e+00],\n",
       "       [-8.60058590e-01, -1.06010779e+00],\n",
       "       [-1.11758970e+00, -6.29525020e-01],\n",
       "       [-1.97835739e-01,  1.19217132e+00],\n",
       "       [-1.08660851e+00, -4.97038013e-01],\n",
       "       [ 2.41709837e-01,  1.15904957e+00],\n",
       "       [-1.01109187e+00, -2.98307503e-01],\n",
       "       [-1.13501662e+00, -1.35820356e+00],\n",
       "       [ 1.82175032e+00,  1.12592782e+00],\n",
       "       [-4.24385662e-01, -2.32063999e-01],\n",
       "       [-1.13308029e+00,  2.97884028e-01],\n",
       "       [-1.27249563e+00,  2.31640525e-01],\n",
       "       [-3.37251076e-01, -2.02063859e+00],\n",
       "       [-1.02851879e+00,  7.61588552e-01],\n",
       "       [ 3.03001658e+00, -8.28255530e-01],\n",
       "       [-3.56614317e-01,  1.05968432e+00],\n",
       "       [-5.94782185e-01, -1.85502983e+00],\n",
       "       [-2.96588269e-01,  1.12592782e+00],\n",
       "       [-5.98654833e-01,  1.25841483e+00],\n",
       "       [-8.54249617e-01, -4.30794509e-01],\n",
       "       [ 3.11417506e-01,  8.94075559e-01],\n",
       "       [ 1.02294500e-01,  1.65397021e-01],\n",
       "       [-4.48661331e-02,  7.94710304e-01],\n",
       "       [ 6.58019524e-01,  1.02656257e+00],\n",
       "       [-5.09583923e-01,  1.15904957e+00],\n",
       "       [-5.19265544e-01, -3.64551006e-01],\n",
       "       [-7.19746708e-02,  1.09280607e+00],\n",
       "       [ 2.95926913e-01, -1.75566458e+00],\n",
       "       [-1.27249563e+00, -3.33334889e-02],\n",
       "       [ 1.00358176e-01, -1.35820356e+00],\n",
       "       [ 4.12106360e-01,  1.12592782e+00],\n",
       "       [ 7.76135296e-01,  1.05968432e+00],\n",
       "       [-3.50805345e-01, -4.63916261e-01],\n",
       "       [-1.84281470e-01,  1.98518773e-01],\n",
       "       [-1.55132630e+00, -1.42444706e+00],\n",
       "       [ 1.73461574e+00,  6.62223297e-01],\n",
       "       [-3.08206214e-01,  7.28466800e-01],\n",
       "       [-1.10403543e+00, -1.15947305e+00],\n",
       "       [-7.19746708e-02,  1.12592782e+00],\n",
       "       [-3.21760483e-01, -1.88815158e+00],\n",
       "       [-1.60167073e+00, -1.92127334e+00],\n",
       "       [-9.53002148e-01, -3.31429254e-01],\n",
       "       [ 9.13614309e-01, -2.11737226e-04],\n",
       "       [-7.80669301e-01, -1.06010779e+00],\n",
       "       [-1.33937043e-01,  9.27197311e-01],\n",
       "       [ 5.19500732e-02,  1.65397021e-01],\n",
       "       [ 1.68620763e+00,  1.05968432e+00],\n",
       "       [-9.31702582e-01, -2.65185751e-01],\n",
       "       [ 1.20212660e+00, -9.95769924e-02],\n",
       "       [ 8.47779289e-01,  1.15904957e+00],\n",
       "       [-8.54249617e-01,  1.09280607e+00],\n",
       "       [-2.50116490e-01,  1.19217132e+00],\n",
       "       [-1.03239144e+00, -3.31429254e-01],\n",
       "       [ 8.84569447e-01, -9.95769924e-02],\n",
       "       [ 1.29403038e-01,  9.27197311e-01],\n",
       "       [-8.35926156e-02,  1.25841483e+00],\n",
       "       [ 1.16146380e+00,  1.15904957e+00],\n",
       "       [-4.26321986e-01,  1.15904957e+00],\n",
       "       [-5.42501433e-01,  1.15904957e+00],\n",
       "       [ 3.54197007e-03,  1.65397021e-01],\n",
       "       [-3.43060048e-01,  8.60953807e-01],\n",
       "       [-5.44437757e-01,  1.15904957e+00],\n",
       "       [ 1.39188637e+00,  2.64762276e-01],\n",
       "       [-1.57172932e-01,  3.31005780e-01],\n",
       "       [-1.27249563e+00, -3.33334889e-02],\n",
       "       [ 3.07544858e-01,  8.94075559e-01],\n",
       "       [-6.22930502e-02, -1.02698604e+00],\n",
       "       [-3.33378428e-01,  9.60319062e-01],\n",
       "       [-1.20085164e+00, -5.63281516e-01],\n",
       "       [ 1.58447900e-01,  6.95345049e-01],\n",
       "       [-7.14834280e-01, -6.95768523e-01],\n",
       "       [-8.69740210e-01,  1.12592782e+00],\n",
       "       [ 1.42867653e+00, -5.96403268e-01],\n",
       "       [-9.31702582e-01,  1.98518773e-01],\n",
       "       [-5.09583923e-01, -6.64552406e-02],\n",
       "       [-3.90571607e-02,  7.28466800e-01],\n",
       "       [-1.06828505e-01,  1.19217132e+00],\n",
       "       [-9.06530369e-01, -3.97672758e-01],\n",
       "       [ 4.46960195e-01,  1.12592782e+00],\n",
       "       [-5.26114296e-02,  8.94075559e-01],\n",
       "       [-1.86217794e-01, -2.32063999e-01],\n",
       "       [ 3.50143988e-01,  1.22529308e+00],\n",
       "       [ 5.39903753e-01,  1.19217132e+00],\n",
       "       [ 1.31443340e+00, -2.35185611e+00],\n",
       "       [ 2.80436320e-01, -1.52381232e+00],\n",
       "       [ 2.44524669e+00,  2.31640525e-01],\n",
       "       [-7.55497087e-01, -1.12635130e+00],\n",
       "       [-8.07597468e-03, -1.39132531e+00],\n",
       "       [-7.76796652e-01,  1.19217132e+00],\n",
       "       [-7.58473191e-02,  6.95345049e-01],\n",
       "       [-1.27249563e+00, -2.11737226e-04],\n",
       "       [-6.45126612e-01, -3.97672758e-01],\n",
       "       [ 1.06167149e-01,  1.15904957e+00],\n",
       "       [-1.08660851e+00, -3.33334889e-02],\n",
       "       [ 1.02294500e-01,  1.15904957e+00],\n",
       "       [-8.07597468e-03, -1.72254283e+00],\n",
       "       [-1.10701153e-01, -2.65185751e-01],\n",
       "       [ 1.59326408e+00,  8.27832056e-01],\n",
       "       [-3.15951511e-01,  1.09280607e+00],\n",
       "       [ 3.26908099e-01,  9.60319062e-01],\n",
       "       [-2.69479732e-01, -2.98307503e-01],\n",
       "       [ 8.29312592e-02,  2.97884028e-01],\n",
       "       [-4.16640365e-01,  1.12592782e+00],\n",
       "       [-7.43879142e-01,  5.29736290e-01],\n",
       "       [-1.03239144e+00, -5.63281516e-01],\n",
       "       [-7.98096218e-01, -2.11737226e-04],\n",
       "       [-7.49688115e-01, -3.64551006e-01],\n",
       "       [ 2.11607159e+00,  9.91535179e-02],\n",
       "       [-4.08895069e-01, -1.55693407e+00],\n",
       "       [-8.54249617e-01,  3.97249283e-01],\n",
       "       [ 1.18276336e+00,  3.97249283e-01],\n",
       "       [ 7.72262648e-01, -9.95769924e-02],\n",
       "       [-7.80669301e-01, -1.68942107e+00],\n",
       "       [ 3.54016637e-01,  1.19217132e+00],\n",
       "       [-1.27830460e+00, -1.02698604e+00],\n",
       "       [ 4.29533278e-01, -9.95769924e-02],\n",
       "       [-1.03432776e+00, -3.33334889e-02],\n",
       "       [-5.83164240e-01,  1.15904957e+00],\n",
       "       [-2.30753249e-01,  1.15904957e+00],\n",
       "       [-1.30347681e+00,  1.09280607e+00],\n",
       "       [-1.02851879e+00,  7.61588552e-01],\n",
       "       [-3.17887835e-01, -3.97672758e-01],\n",
       "       [ 2.67778596e-02,  1.09280607e+00],\n",
       "       [-1.17567942e+00,  8.27832056e-01],\n",
       "       [-5.21201868e-01, -2.08688209e+00],\n",
       "       [-1.00334657e+00,  4.30371035e-01],\n",
       "       [-1.72559547e+00, -3.33334889e-02],\n",
       "       [-7.41942818e-01, -4.30794509e-01],\n",
       "       [ 3.77252526e-01, -2.98307503e-01],\n",
       "       [-3.02397242e-01, -2.11737226e-04],\n",
       "       [-3.52741669e-01, -4.30794509e-01],\n",
       "       [-5.67673647e-01,  5.62858042e-01],\n",
       "       [-1.43901950e+00, -1.02698604e+00],\n",
       "       [-9.31702582e-01,  2.31640525e-01],\n",
       "       [ 7.87753241e-01, -1.82190808e+00],\n",
       "       [ 2.15479807e+00, -6.64552406e-02],\n",
       "       [-5.23138192e-01, -2.32063999e-01],\n",
       "       [ 1.22342617e+00,  9.60319062e-01],\n",
       "       [ 5.14731539e-01,  9.93440814e-01],\n",
       "       [-1.27249563e+00, -1.88815158e+00],\n",
       "       [-7.88414597e-01,  1.09280607e+00],\n",
       "       [ 2.53327782e-01,  9.60319062e-01],\n",
       "       [-9.31702582e-01, -6.95768523e-01],\n",
       "       [-1.42740156e+00, -1.55693407e+00],\n",
       "       [ 6.21229366e-01,  3.31005780e-01],\n",
       "       [ 1.66297175e+00, -1.98942247e-01],\n",
       "       [-2.13326332e-01,  1.98518773e-01],\n",
       "       [ 2.34068519e+00,  4.96614538e-01],\n",
       "       [ 2.61073079e-01,  1.15904957e+00],\n",
       "       [-1.72559547e+00,  3.29100145e-02],\n",
       "       [-9.52105603e-02,  2.97884028e-01],\n",
       "       [-2.50116490e-01, -9.95769924e-02],\n",
       "       [ 2.20410272e-01, -2.02063859e+00],\n",
       "       [-1.27249563e+00,  3.29100145e-02],\n",
       "       [-2.93755401e-02,  1.12592782e+00],\n",
       "       [ 1.01623949e+00,  1.05968432e+00],\n",
       "       [ 8.03243834e-01,  9.60319062e-01],\n",
       "       [ 7.10300276e-01, -1.65820496e-01],\n",
       "       [-5.52183054e-01, -3.31429254e-01],\n",
       "       [-2.92715621e-01,  1.65397021e-01],\n",
       "       [-9.31702582e-01, -7.28890275e-01],\n",
       "       [-7.47751790e-01, -1.15947305e+00],\n",
       "       [-1.27249563e+00, -2.11737226e-04],\n",
       "       [-8.17459459e-01,  7.94710304e-01],\n",
       "       [ 6.36719959e-01,  7.61588552e-01],\n",
       "       [-2.11390008e-01, -1.06010779e+00],\n",
       "       [ 5.24413160e-01,  9.91535179e-02],\n",
       "       [-1.33252168e+00, -5.63281516e-01],\n",
       "       [-7.14834280e-01, -5.30159765e-01],\n",
       "       [-8.35926156e-02, -3.64551006e-01],\n",
       "       [-4.59239496e-01, -7.95133778e-01],\n",
       "       [ 2.97863237e-01,  9.27197311e-01],\n",
       "       [ 4.93431974e-01,  1.02656257e+00],\n",
       "       [ 5.12795215e-01,  9.93440814e-01],\n",
       "       [-5.01838627e-01,  1.65397021e-01],\n",
       "       [-8.38759024e-01,  4.96614538e-01],\n",
       "       [-3.12078862e-01,  4.30371035e-01],\n",
       "       [ 1.17785093e-01,  1.09280607e+00],\n",
       "       [-4.12767717e-01, -1.02698604e+00],\n",
       "       [-1.74599849e-01,  9.27197311e-01],\n",
       "       [-1.78472498e-01, -3.64551006e-01],\n",
       "       [ 8.09052806e-01,  1.15904957e+00],\n",
       "       [-1.27249563e+00, -1.62317757e+00],\n",
       "       [ 2.75699488e+00,  1.15904957e+00],\n",
       "       [-4.01149772e-01,  1.25841483e+00],\n",
       "       [ 6.09611421e-01,  1.09280607e+00],\n",
       "       [-1.26862298e+00, -8.61377282e-01],\n",
       "       [ 9.26128798e-02,  1.19217132e+00],\n",
       "       [ 3.40372713e+00,  1.05968432e+00],\n",
       "       [ 7.97926104e+00,  1.22529308e+00],\n",
       "       [ 4.21787981e-01,  9.27197311e-01],\n",
       "       [-2.16302436e-02, -1.02698604e+00],\n",
       "       [ 5.30222132e-01, -5.63281516e-01],\n",
       "       [-4.39876255e-01, -2.35185611e+00],\n",
       "       [ 1.08981980e+00,  1.19217132e+00],\n",
       "       [ 4.74068732e-01,  1.25841483e+00],\n",
       "       [ 2.29034076e+00,  3.29100145e-02],\n",
       "       [-1.93859113e+00, -1.45756881e+00],\n",
       "       [ 1.03753905e+00, -1.15947305e+00],\n",
       "       [ 3.34653395e-01,  1.22529308e+00],\n",
       "       [-9.52105603e-02, -1.52381232e+00],\n",
       "       [ 1.08207451e+00, -1.49069056e+00],\n",
       "       [-3.13118642e-02, -1.02698604e+00],\n",
       "       [ 1.25530390e-01,  2.64762276e-01],\n",
       "       [ 1.37058680e+00, -1.95439509e+00],\n",
       "       [ 1.08981980e+00,  1.09280607e+00],\n",
       "       [ 4.46960195e-01,  5.62858042e-01],\n",
       "       [ 4.23724305e-01, -1.02698604e+00],\n",
       "       [ 8.26479723e-01,  1.09280607e+00],\n",
       "       [-3.58550641e-01, -1.68942107e+00],\n",
       "       [-1.21440590e+00,  3.29100145e-02],\n",
       "       [ 8.88442095e-01,  1.09280607e+00],\n",
       "       [-5.26114296e-02, -9.60742537e-01],\n",
       "       [ 7.13133144e-02, -8.61377282e-01],\n",
       "       [-4.39876255e-01,  1.15904957e+00],\n",
       "       [ 1.19050866e+00, -6.62646771e-01],\n",
       "       [-5.87036888e-01,  3.29100145e-02],\n",
       "       [ 3.83061499e-01,  7.28466800e-01],\n",
       "       [ 1.70557088e+00,  1.22529308e+00],\n",
       "       [ 1.94567507e+00, -1.82190808e+00],\n",
       "       [-1.57456219e+00, -1.02698604e+00],\n",
       "       [-7.94223569e-01, -1.68942107e+00],\n",
       "       [ 5.94120828e-01,  1.19217132e+00],\n",
       "       [-1.21440590e+00, -2.98307503e-01],\n",
       "       [-1.07886322e+00, -1.65629932e+00],\n",
       "       [ 3.24971775e-01,  1.02656257e+00],\n",
       "       [ 3.83958043e-02,  9.93440814e-01],\n",
       "       [-5.81227916e-01,  1.09280607e+00],\n",
       "       [-3.81786531e-01, -1.98942247e-01],\n",
       "       [-2.03644711e-01,  9.27197311e-01],\n",
       "       [-1.03239144e+00,  6.60317662e-02],\n",
       "       [-5.87036888e-01, -9.93864289e-01],\n",
       "       [ 2.61073079e-01,  1.05968432e+00],\n",
       "       [-3.08206214e-01,  1.12592782e+00],\n",
       "       [ 6.15420394e-01, -1.65820496e-01],\n",
       "       [-2.83034000e-01, -5.63281516e-01],\n",
       "       [-7.72924004e-01, -7.62012027e-01],\n",
       "       [-1.72663525e-01,  2.31640525e-01],\n",
       "       [-1.26191746e-01,  1.19217132e+00],\n",
       "       [-5.88973212e-01,  6.29101545e-01],\n",
       "       [-9.31702582e-01, -6.95768523e-01],\n",
       "       [-5.75418943e-01,  1.25841483e+00],\n",
       "       [ 4.89559325e-01, -1.32508181e+00],\n",
       "       [-2.98524593e-01, -2.35185611e+00],\n",
       "       [-3.12078862e-01, -1.09322954e+00],\n",
       "       [-1.30347681e+00,  1.09280607e+00],\n",
       "       [ 1.43448550e+00,  1.05968432e+00],\n",
       "       [-5.83164240e-01, -6.62646771e-01],\n",
       "       [-2.07517360e-01,  1.09280607e+00],\n",
       "       [ 1.03947538e+00, -1.78878633e+00],\n",
       "       [-6.25763371e-01, -1.68942107e+00],\n",
       "       [ 2.66882051e-01,  9.60319062e-01],\n",
       "       [-9.85919658e-01, -1.68942107e+00],\n",
       "       [ 3.02227128e+00, -1.68942107e+00],\n",
       "       [ 5.63139642e-01, -2.35185611e+00],\n",
       "       [ 7.89689565e-01,  9.93440814e-01],\n",
       "       [-1.09822646e+00,  1.65397021e-01],\n",
       "       [ 6.13484069e-01,  1.15904957e+00],\n",
       "       [ 2.30091893e-01, -5.63281516e-01],\n",
       "       [-7.22579577e-01, -3.97672758e-01],\n",
       "       [-1.10597175e+00, -2.11737226e-04],\n",
       "       [ 7.54835731e-01,  7.28466800e-01],\n",
       "       [ 2.20410272e-01, -1.59005582e+00],\n",
       "       [-3.97277124e-01,  1.19217132e+00],\n",
       "       [-1.53300284e-01, -3.33334889e-02],\n",
       "       [-8.58122266e-01, -2.11737226e-04],\n",
       "       [-7.76796652e-01, -3.31429254e-01],\n",
       "       [-1.97835739e-01,  1.02656257e+00],\n",
       "       [-2.55925463e-01, -8.28255530e-01],\n",
       "       [-8.87167127e-01, -5.63281516e-01],\n",
       "       [ 5.24413160e-01,  1.05968432e+00],\n",
       "       [-5.90909536e-01,  8.94075559e-01],\n",
       "       [ 4.66323436e-01, -1.68942107e+00],\n",
       "       [ 8.47779289e-01,  1.09280607e+00],\n",
       "       [-6.06400129e-01,  1.98518773e-01],\n",
       "       [ 5.47829419e-03, -4.30794509e-01],\n",
       "       [-7.10961632e-01, -1.62317757e+00],\n",
       "       [-9.16211989e-01, -6.95768523e-01],\n",
       "       [-1.22989650e+00, -1.09322954e+00],\n",
       "       [-1.11952602e+00,  2.64762276e-01],\n",
       "       [ 4.77941381e-01,  1.12592782e+00],\n",
       "       [ 2.08702673e+00,  9.27197311e-01],\n",
       "       [-1.17955207e+00, -4.30794509e-01],\n",
       "       [-1.23764179e+00, -4.97038013e-01],\n",
       "       [-3.56614317e-01,  8.94075559e-01],\n",
       "       [ 1.07432921e+00,  1.15904957e+00],\n",
       "       [ 1.95535669e+00,  7.94710304e-01],\n",
       "       [ 4.77941381e-01, -1.12635130e+00],\n",
       "       [ 2.01047031e-01,  1.15904957e+00],\n",
       "       [ 1.20599925e+00, -4.30794509e-01],\n",
       "       [ 2.42781977e+00, -2.58370837e+00],\n",
       "       [ 6.71573793e-01,  4.30371035e-01],\n",
       "       [ 7.41461832e-03,  9.60319062e-01],\n",
       "       [ 9.64855281e-02,  1.19217132e+00],\n",
       "       [-1.40416567e+00, -2.02063859e+00]])"
      ]
     },
     "execution_count": 11,
     "metadata": {},
     "output_type": "execute_result"
    }
   ],
   "source": [
    "X_test"
   ]
  },
  {
   "cell_type": "code",
   "execution_count": 12,
   "metadata": {},
   "outputs": [
    {
     "name": "stdout",
     "output_type": "stream",
     "text": [
      "MSE : 2725908099.0636377\n"
     ]
    },
    {
     "data": {
      "image/png": "[encoded data removed]",
      "text/plain": [
       "<Figure size 432x288 with 1 Axes>"
      ]
     },
     "metadata": {
      "needs_background": "light"
     },
     "output_type": "display_data"
    }
   ],
   "source": [
    "mse_list = []\n",
    "model = LinearRegression()\n",
    "model.fit(X_train, y_train)\n",
    "y_pred = model.predict(X_test)\n",
    "mse_list.append(mean_squared_error(y_test, y_pred))\n",
    "print(\"MSE : {}\".format(mse_list[-1]))\n",
    "\n",
    "# plt.title(\"predicted SalePrice, GrLivArea, {}\".format(model_name))\n",
    "plt.xlabel(\"GrLivArea [square feet]\")\n",
    "plt.ylabel(\"SalePrice [$]\")\n",
    "plt.scatter(X_test[:,0], y_pred)\n",
    "plt.show()"
   ]
  },
  {
   "cell_type": "code",
   "execution_count": 13,
   "metadata": {},
   "outputs": [
    {
     "data": {
      "image/png": "[encoded data removed]",
      "text/plain": [
       "<Figure size 432x288 with 1 Axes>"
      ]
     },
     "metadata": {
      "needs_background": "light"
     },
     "output_type": "display_data"
    }
   ],
   "source": [
    "# plt.title(\"predicted SalePrice, GrLivArea, {}\".format(model_name))\n",
    "plt.xlabel(\"YearBuilt [square feet]\")\n",
    "plt.ylabel(\"SalePrice [$]\")\n",
    "plt.scatter(X_test[:,1], y_pred)\n",
    "plt.show()"
   ]
  },
  {
   "cell_type": "markdown",
   "metadata": {},
   "source": [
    "# 【問題3】手法の比較\n",
    "以下の全ての手法について学習・推定・評価・可視化を行ってください。そして、指標値を１つの表にまとめてください。その表と可視化した図を利用して結果を簡単に考察してください。どの手法がどの指標値が良かったかや、どういった図になっていたかを述べてください。\n",
    "\n",
    " - 線形回帰\n",
    " - SVM\n",
    " - 決定木\n",
    " - ランダムフォレスト"
   ]
  },
  {
   "cell_type": "code",
   "execution_count": 14,
   "metadata": {},
   "outputs": [],
   "source": [
    "from sklearn.svm import SVR\n",
    "from sklearn.model_selection import cross_val_score\n",
    "from sklearn.tree import DecisionTreeRegressor\n",
    "from sklearn.ensemble import RandomForestRegressor"
   ]
  },
  {
   "cell_type": "code",
   "execution_count": 15,
   "metadata": {},
   "outputs": [],
   "source": [
    "X = housing[[\"GrLivArea\", \"YearBuilt\"]]\n",
    "y = housing[\"SalePrice\"]\n",
    "(X_train, X_test,\n",
    " y_train, y_test) = train_test_split(\n",
    "    X, y, test_size=0.25, random_state=0,\n",
    ")"
   ]
  },
  {
   "cell_type": "code",
   "execution_count": 16,
   "metadata": {},
   "outputs": [
    {
     "name": "stderr",
     "output_type": "stream",
     "text": [
      "/Users/naoki/opt/anaconda3/lib/python3.7/site-packages/sklearn/svm/base.py:193: FutureWarning: The default value of gamma will change from 'auto' to 'scale' in version 0.22 to account better for unscaled features. Set gamma explicitly to 'auto' or 'scale' to avoid this warning.\n",
      "  \"avoid this warning.\", FutureWarning)\n",
      "/Users/naoki/opt/anaconda3/lib/python3.7/site-packages/sklearn/svm/base.py:193: FutureWarning: The default value of gamma will change from 'auto' to 'scale' in version 0.22 to account better for unscaled features. Set gamma explicitly to 'auto' or 'scale' to avoid this warning.\n",
      "  \"avoid this warning.\", FutureWarning)\n",
      "/Users/naoki/opt/anaconda3/lib/python3.7/site-packages/sklearn/svm/base.py:193: FutureWarning: The default value of gamma will change from 'auto' to 'scale' in version 0.22 to account better for unscaled features. Set gamma explicitly to 'auto' or 'scale' to avoid this warning.\n",
      "  \"avoid this warning.\", FutureWarning)\n",
      "/Users/naoki/opt/anaconda3/lib/python3.7/site-packages/sklearn/svm/base.py:193: FutureWarning: The default value of gamma will change from 'auto' to 'scale' in version 0.22 to account better for unscaled features. Set gamma explicitly to 'auto' or 'scale' to avoid this warning.\n",
      "  \"avoid this warning.\", FutureWarning)\n",
      "/Users/naoki/opt/anaconda3/lib/python3.7/site-packages/sklearn/svm/base.py:193: FutureWarning: The default value of gamma will change from 'auto' to 'scale' in version 0.22 to account better for unscaled features. Set gamma explicitly to 'auto' or 'scale' to avoid this warning.\n",
      "  \"avoid this warning.\", FutureWarning)\n",
      "/Users/naoki/opt/anaconda3/lib/python3.7/site-packages/sklearn/svm/base.py:193: FutureWarning: The default value of gamma will change from 'auto' to 'scale' in version 0.22 to account better for unscaled features. Set gamma explicitly to 'auto' or 'scale' to avoid this warning.\n",
      "  \"avoid this warning.\", FutureWarning)\n",
      "/Users/naoki/opt/anaconda3/lib/python3.7/site-packages/sklearn/ensemble/forest.py:245: FutureWarning: The default value of n_estimators will change from 10 in version 0.20 to 100 in 0.22.\n",
      "  \"10 in version 0.20 to 100 in 0.22.\", FutureWarning)\n"
     ]
    },
    {
     "data": {
      "text/html": [
       "<div>\n",
       "<style scoped>\n",
       "    .dataframe tbody tr th:only-of-type {\n",
       "        vertical-align: middle;\n",
       "    }\n",
       "\n",
       "    .dataframe tbody tr th {\n",
       "        vertical-align: top;\n",
       "    }\n",
       "\n",
       "    .dataframe thead th {\n",
       "        text-align: right;\n",
       "    }\n",
       "</style>\n",
       "<table border=\"1\" class=\"dataframe\">\n",
       "  <thead>\n",
       "    <tr style=\"text-align: right;\">\n",
       "      <th></th>\n",
       "      <th>交差検証法(平均)</th>\n",
       "      <th>平均絶対誤差 (MAE)</th>\n",
       "      <th>平均二乗誤差 (MSE)</th>\n",
       "      <th>二乗平均平方根誤差 (RMSE)</th>\n",
       "      <th>決定係数 (R**2)</th>\n",
       "    </tr>\n",
       "  </thead>\n",
       "  <tbody>\n",
       "    <tr>\n",
       "      <td>LinearRegression</td>\n",
       "      <td>0.647501</td>\n",
       "      <td>31844.328697</td>\n",
       "      <td>2.725908e+09</td>\n",
       "      <td>52210.229832</td>\n",
       "      <td>0.587104</td>\n",
       "    </tr>\n",
       "    <tr>\n",
       "      <td>SVR</td>\n",
       "      <td>-0.049108</td>\n",
       "      <td>55234.412738</td>\n",
       "      <td>6.962338e+09</td>\n",
       "      <td>83440.623619</td>\n",
       "      <td>-0.054593</td>\n",
       "    </tr>\n",
       "    <tr>\n",
       "      <td>DecisionTreeRegressor</td>\n",
       "      <td>0.546002</td>\n",
       "      <td>36107.252968</td>\n",
       "      <td>3.192208e+09</td>\n",
       "      <td>56499.627048</td>\n",
       "      <td>0.516473</td>\n",
       "    </tr>\n",
       "    <tr>\n",
       "      <td>RandomForestRegressor</td>\n",
       "      <td>0.709397</td>\n",
       "      <td>29217.850254</td>\n",
       "      <td>1.866138e+09</td>\n",
       "      <td>43198.823318</td>\n",
       "      <td>0.717334</td>\n",
       "    </tr>\n",
       "  </tbody>\n",
       "</table>\n",
       "</div>"
      ],
      "text/plain": [
       "                       交差検証法(平均)  平均絶対誤差 (MAE)  平均二乗誤差 (MSE)  \\\n",
       "LinearRegression        0.647501  31844.328697  2.725908e+09   \n",
       "SVR                    -0.049108  55234.412738  6.962338e+09   \n",
       "DecisionTreeRegressor   0.546002  36107.252968  3.192208e+09   \n",
       "RandomForestRegressor   0.709397  29217.850254  1.866138e+09   \n",
       "\n",
       "                       二乗平均平方根誤差 (RMSE)  決定係数 (R**2)  \n",
       "LinearRegression           52210.229832     0.587104  \n",
       "SVR                        83440.623619    -0.054593  \n",
       "DecisionTreeRegressor      56499.627048     0.516473  \n",
       "RandomForestRegressor      43198.823318     0.717334  "
      ]
     },
     "execution_count": 16,
     "metadata": {},
     "output_type": "execute_result"
    }
   ],
   "source": [
    "sc = StandardScaler()\n",
    "X = sc.fit_transform(X)\n",
    "\n",
    "models = {\"LinearRegression\": LinearRegression(),\n",
    "              \"SVR\": SVR(), \n",
    "              \"DecisionTreeRegressor\": DecisionTreeRegressor(), \n",
    "              \"RandomForestRegressor\": RandomForestRegressor()}\n",
    "\n",
    "\n",
    "cross_val_score_list = []\n",
    "mean_absolute_error_list = []\n",
    "mean_squared_erro_listr = []\n",
    "sqrt_mean_squared_error_list = []\n",
    "r2_score_list = []\n",
    "\n",
    "for i in models.values():\n",
    "    reg = i.fit(X_train, y_train)\n",
    "    y_pred =reg.predict(X_test)\n",
    "    cross_val_score_list.append(cross_val_score(reg, X, y,  cv=5).mean())\n",
    "    mean_absolute_error_list.append(mean_absolute_error(y_test, y_pred))\n",
    "    mean_squared_erro_listr.append(mean_squared_error(y_test, y_pred))\n",
    "    sqrt_mean_squared_error_list.append(np.sqrt(mean_squared_error(y_test, y_pred)))\n",
    "    r2_score_list.append(r2_score(y_test, y_pred))\n",
    "    \n",
    "pd.DataFrame({\n",
    "                   \"交差検証法(平均)\":cross_val_score_list, \n",
    "                   \"平均絶対誤差 (MAE)\":mean_absolute_error_list, \n",
    "                   \"平均二乗誤差 (MSE)\":mean_squared_erro_listr, \n",
    "                   \"二乗平均平方根誤差 (RMSE)\":sqrt_mean_squared_error_list, \n",
    "                   \"決定係数 (R**2)\":r2_score_list },\n",
    "                  index=models.keys())\n",
    "    "
   ]
  },
  {
   "cell_type": "code",
   "execution_count": 17,
   "metadata": {},
   "outputs": [
    {
     "data": {
      "text/plain": [
       "(1460, 2)"
      ]
     },
     "execution_count": 17,
     "metadata": {},
     "output_type": "execute_result"
    }
   ],
   "source": [
    "X.shape"
   ]
  },
  {
   "cell_type": "code",
   "execution_count": 18,
   "metadata": {
    "scrolled": false
   },
   "outputs": [
    {
     "name": "stdout",
     "output_type": "stream",
     "text": [
      "Linear Regression\n",
      "MSE : 2725908099.0636377\n"
     ]
    },
    {
     "data": {
      "image/png": "[encoded data removed]",
      "text/plain": [
       "<Figure size 432x288 with 1 Axes>"
      ]
     },
     "metadata": {
      "needs_background": "light"
     },
     "output_type": "display_data"
    },
    {
     "data": {
      "image/png": "[encoded data removed]",
      "text/plain": [
       "<Figure size 432x288 with 1 Axes>"
      ]
     },
     "metadata": {
      "needs_background": "light"
     },
     "output_type": "display_data"
    },
    {
     "name": "stdout",
     "output_type": "stream",
     "text": [
      "SVM\n",
      "MSE : 6962337669.872041\n"
     ]
    },
    {
     "name": "stderr",
     "output_type": "stream",
     "text": [
      "/Users/naoki/opt/anaconda3/lib/python3.7/site-packages/sklearn/svm/base.py:193: FutureWarning: The default value of gamma will change from 'auto' to 'scale' in version 0.22 to account better for unscaled features. Set gamma explicitly to 'auto' or 'scale' to avoid this warning.\n",
      "  \"avoid this warning.\", FutureWarning)\n"
     ]
    },
    {
     "data": {
      "image/png": "[encoded data removed]",
      "text/plain": [
       "<Figure size 432x288 with 1 Axes>"
      ]
     },
     "metadata": {
      "needs_background": "light"
     },
     "output_type": "display_data"
    },
    {
     "data": {
      "image/png": "[encoded data removed]",
      "text/plain": [
       "<Figure size 432x288 with 1 Axes>"
      ]
     },
     "metadata": {
      "needs_background": "light"
     },
     "output_type": "display_data"
    },
    {
     "name": "stdout",
     "output_type": "stream",
     "text": [
      "Decision Tree\n",
      "MSE : 3194745118.303501\n"
     ]
    },
    {
     "data": {
      "image/png": "[encoded data removed]",
      "text/plain": [
       "<Figure size 432x288 with 1 Axes>"
      ]
     },
     "metadata": {
      "needs_background": "light"
     },
     "output_type": "display_data"
    },
    {
     "data": {
      "image/png": "[encoded data removed]",
      "text/plain": [
       "<Figure size 432x288 with 1 Axes>"
      ]
     },
     "metadata": {
      "needs_background": "light"
     },
     "output_type": "display_data"
    },
    {
     "name": "stdout",
     "output_type": "stream",
     "text": [
      "Random Forest\n",
      "MSE : 2155349731.766162\n"
     ]
    },
    {
     "name": "stderr",
     "output_type": "stream",
     "text": [
      "/Users/naoki/opt/anaconda3/lib/python3.7/site-packages/sklearn/ensemble/forest.py:245: FutureWarning: The default value of n_estimators will change from 10 in version 0.20 to 100 in 0.22.\n",
      "  \"10 in version 0.20 to 100 in 0.22.\", FutureWarning)\n"
     ]
    },
    {
     "data": {
      "image/png": "[encoded data removed]",
      "text/plain": [
       "<Figure size 432x288 with 1 Axes>"
      ]
     },
     "metadata": {
      "needs_background": "light"
     },
     "output_type": "display_data"
    },
    {
     "data": {
      "image/png": "[encoded data removed]",
      "text/plain": [
       "<Figure size 432x288 with 1 Axes>"
      ]
     },
     "metadata": {
      "needs_background": "light"
     },
     "output_type": "display_data"
    }
   ],
   "source": [
    "\n",
    "linear_reg = LinearRegression()\n",
    "svr = SVR()\n",
    "tree = DecisionTreeRegressor()\n",
    "random_forest = RandomForestRegressor()\n",
    "\n",
    "models = [linear_reg, svr, tree, random_forest]\n",
    "model_names = [\"Linear Regression\", \"SVM\", \"Decision Tree\", \"Random Forest\"]\n",
    "mse_list = []\n",
    "\n",
    "for model, model_name in zip(models, model_names):\n",
    "    print(model_name)\n",
    "    model.fit(X_train, y_train)\n",
    "    y_pred = model.predict(X_test)\n",
    "    mse_list.append(mean_squared_error(y_test, y_pred))\n",
    "    print(\"MSE : {}\".format(mse_list[-1]))\n",
    "\n",
    "    plt.title(\"predicted SalePrice, GrLivArea, {}\".format(model_name))\n",
    "    plt.xlabel(\"GrLivArea [square feet]\")\n",
    "    plt.ylabel(\"pred_SalePrice [$]\")\n",
    "    plt.scatter(X_test[\"GrLivArea\"], y_pred)\n",
    "    plt.show()\n",
    "\n",
    "    plt.title(\"predicted SalePrice, YearBuilt, {}\".format(model_name))\n",
    "    plt.xlabel(\"YearBuilt\")\n",
    "    plt.ylabel(\"pred_SalePrice [$]\")\n",
    "    plt.scatter(X_test[\"YearBuilt\"], y_pred)\n",
    "    plt.show()"
   ]
  },
  {
   "cell_type": "markdown",
   "metadata": {},
   "source": [
    "- SVR以外は「GrLivArea(説明変数)」とy_predの相関が見られる。一方、いずれのモデルも「YearBuilt(説明変数)」とy_predの相関は見られない。\n",
    "- 「交差検証法による平均値」「平均絶対誤差」「平均二乗誤差」「二乗平均平方根誤差」「決定係数」のいずれの指標をみても、ランダムフォレストの精度が最も良い"
   ]
  },
  {
   "cell_type": "markdown",
   "metadata": {},
   "source": [
    " ## 【問題4】（アドバンス課題）他の特徴量も使用しての学習\n",
    "ここまでは練習のために2つの特徴量だけを使いましたが、他の特徴量を加えるとどのようになるか検証してください。どう選択・加工するかにはデータ分析が重要になってきます。\n",
    "\n",
    "Kaggleのカーネルも参考にできます。"
   ]
  },
  {
   "cell_type": "code",
   "execution_count": 19,
   "metadata": {},
   "outputs": [],
   "source": [
    "housing = pd.read_csv(\"/Users/naoki/train.csv\")"
   ]
  },
  {
   "cell_type": "code",
   "execution_count": 20,
   "metadata": {},
   "outputs": [
    {
     "data": {
      "text/plain": [
       "<matplotlib.axes._subplots.AxesSubplot at 0x7ffbc9084b50>"
      ]
     },
     "execution_count": 20,
     "metadata": {},
     "output_type": "execute_result"
    },
    {
     "data": {
      "image/png": "[encoded data removed]",
      "text/plain": [
       "<Figure size 1800x720 with 2 Axes>"
      ]
     },
     "metadata": {
      "needs_background": "light"
     },
     "output_type": "display_data"
    }
   ],
   "source": [
    "import missingno as msno\n",
    "%matplotlib inline\n",
    "msno.matrix(housing)"
   ]
  },
  {
   "cell_type": "code",
   "execution_count": 21,
   "metadata": {
    "scrolled": true
   },
   "outputs": [
    {
     "name": "stdout",
     "output_type": "stream",
     "text": [
      "<class 'pandas.core.frame.DataFrame'>\n",
      "RangeIndex: 1460 entries, 0 to 1459\n",
      "Data columns (total 81 columns):\n",
      "Id               1460 non-null int64\n",
      "MSSubClass       1460 non-null int64\n",
      "MSZoning         1460 non-null object\n",
      "LotFrontage      1201 non-null float64\n",
      "LotArea          1460 non-null int64\n",
      "Street           1460 non-null object\n",
      "Alley            91 non-null object\n",
      "LotShape         1460 non-null object\n",
      "LandContour      1460 non-null object\n",
      "Utilities        1460 non-null object\n",
      "LotConfig        1460 non-null object\n",
      "LandSlope        1460 non-null object\n",
      "Neighborhood     1460 non-null object\n",
      "Condition1       1460 non-null object\n",
      "Condition2       1460 non-null object\n",
      "BldgType         1460 non-null object\n",
      "HouseStyle       1460 non-null object\n",
      "OverallQual      1460 non-null int64\n",
      "OverallCond      1460 non-null int64\n",
      "YearBuilt        1460 non-null int64\n",
      "YearRemodAdd     1460 non-null int64\n",
      "RoofStyle        1460 non-null object\n",
      "RoofMatl         1460 non-null object\n",
      "Exterior1st      1460 non-null object\n",
      "Exterior2nd      1460 non-null object\n",
      "MasVnrType       1452 non-null object\n",
      "MasVnrArea       1452 non-null float64\n",
      "ExterQual        1460 non-null object\n",
      "ExterCond        1460 non-null object\n",
      "Foundation       1460 non-null object\n",
      "BsmtQual         1423 non-null object\n",
      "BsmtCond         1423 non-null object\n",
      "BsmtExposure     1422 non-null object\n",
      "BsmtFinType1     1423 non-null object\n",
      "BsmtFinSF1       1460 non-null int64\n",
      "BsmtFinType2     1422 non-null object\n",
      "BsmtFinSF2       1460 non-null int64\n",
      "BsmtUnfSF        1460 non-null int64\n",
      "TotalBsmtSF      1460 non-null int64\n",
      "Heating          1460 non-null object\n",
      "HeatingQC        1460 non-null object\n",
      "CentralAir       1460 non-null object\n",
      "Electrical       1459 non-null object\n",
      "1stFlrSF         1460 non-null int64\n",
      "2ndFlrSF         1460 non-null int64\n",
      "LowQualFinSF     1460 non-null int64\n",
      "GrLivArea        1460 non-null int64\n",
      "BsmtFullBath     1460 non-null int64\n",
      "BsmtHalfBath     1460 non-null int64\n",
      "FullBath         1460 non-null int64\n",
      "HalfBath         1460 non-null int64\n",
      "BedroomAbvGr     1460 non-null int64\n",
      "KitchenAbvGr     1460 non-null int64\n",
      "KitchenQual      1460 non-null object\n",
      "TotRmsAbvGrd     1460 non-null int64\n",
      "Functional       1460 non-null object\n",
      "Fireplaces       1460 non-null int64\n",
      "FireplaceQu      770 non-null object\n",
      "GarageType       1379 non-null object\n",
      "GarageYrBlt      1379 non-null float64\n",
      "GarageFinish     1379 non-null object\n",
      "GarageCars       1460 non-null int64\n",
      "GarageArea       1460 non-null int64\n",
      "GarageQual       1379 non-null object\n",
      "GarageCond       1379 non-null object\n",
      "PavedDrive       1460 non-null object\n",
      "WoodDeckSF       1460 non-null int64\n",
      "OpenPorchSF      1460 non-null int64\n",
      "EnclosedPorch    1460 non-null int64\n",
      "3SsnPorch        1460 non-null int64\n",
      "ScreenPorch      1460 non-null int64\n",
      "PoolArea         1460 non-null int64\n",
      "PoolQC           7 non-null object\n",
      "Fence            281 non-null object\n",
      "MiscFeature      54 non-null object\n",
      "MiscVal          1460 non-null int64\n",
      "MoSold           1460 non-null int64\n",
      "YrSold           1460 non-null int64\n",
      "SaleType         1460 non-null object\n",
      "SaleCondition    1460 non-null object\n",
      "SalePrice        1460 non-null int64\n",
      "dtypes: float64(3), int64(35), object(43)\n",
      "memory usage: 924.0+ KB\n"
     ]
    }
   ],
   "source": [
    "housing.info()"
   ]
  },
  {
   "cell_type": "code",
   "execution_count": 22,
   "metadata": {},
   "outputs": [],
   "source": [
    "list_i = []\n",
    "\n",
    "for i in housing.columns:\n",
    "    if housing[i].dtypes =='int64':\n",
    "        list_i.append(i)"
   ]
  },
  {
   "cell_type": "code",
   "execution_count": 23,
   "metadata": {},
   "outputs": [],
   "source": [
    "housing_int = housing[list_i]\n",
    "# msno.matrix(housing_int)"
   ]
  },
  {
   "cell_type": "code",
   "execution_count": 24,
   "metadata": {},
   "outputs": [],
   "source": [
    "list_o = []\n",
    "\n",
    "for i in housing.columns:\n",
    "    if housing[i].dtypes == \"O\":\n",
    "        list_o.append(i)\n"
   ]
  },
  {
   "cell_type": "code",
   "execution_count": 25,
   "metadata": {},
   "outputs": [],
   "source": [
    "housing_object = housing[list_o]\n",
    "# msno.matrix(housing_object)"
   ]
  },
  {
   "cell_type": "code",
   "execution_count": 26,
   "metadata": {},
   "outputs": [],
   "source": [
    "housing_o_dummy = pd.get_dummies(housing_object)"
   ]
  },
  {
   "cell_type": "code",
   "execution_count": 27,
   "metadata": {},
   "outputs": [
    {
     "data": {
      "text/plain": [
       "(1460, 252)"
      ]
     },
     "execution_count": 27,
     "metadata": {},
     "output_type": "execute_result"
    }
   ],
   "source": [
    "housing_o_dummy.shape"
   ]
  },
  {
   "cell_type": "code",
   "execution_count": 28,
   "metadata": {},
   "outputs": [
    {
     "data": {
      "text/plain": [
       "<matplotlib.axes._subplots.AxesSubplot at 0x7ffbb8d98910>"
      ]
     },
     "execution_count": 28,
     "metadata": {},
     "output_type": "execute_result"
    },
    {
     "data": {
      "image/png": "[encoded data removed]",
      "text/plain": [
       "<Figure size 1800x720 with 2 Axes>"
      ]
     },
     "metadata": {
      "needs_background": "light"
     },
     "output_type": "display_data"
    }
   ],
   "source": [
    "msno.matrix(housing_o_dummy)"
   ]
  },
  {
   "cell_type": "code",
   "execution_count": 29,
   "metadata": {},
   "outputs": [],
   "source": [
    "housing_mix = pd.concat([housing_int, housing_o_dummy], axis=1)"
   ]
  },
  {
   "cell_type": "code",
   "execution_count": 30,
   "metadata": {},
   "outputs": [
    {
     "data": {
      "text/plain": [
       "Id                       0\n",
       "MSSubClass               0\n",
       "LotArea                  0\n",
       "OverallQual              0\n",
       "OverallCond              0\n",
       "                        ..\n",
       "SaleCondition_AdjLand    0\n",
       "SaleCondition_Alloca     0\n",
       "SaleCondition_Family     0\n",
       "SaleCondition_Normal     0\n",
       "SaleCondition_Partial    0\n",
       "Length: 287, dtype: int64"
      ]
     },
     "execution_count": 30,
     "metadata": {},
     "output_type": "execute_result"
    }
   ],
   "source": [
    "housing_mix.isna().sum()"
   ]
  },
  {
   "cell_type": "code",
   "execution_count": 31,
   "metadata": {},
   "outputs": [],
   "source": [
    "from sklearn.model_selection import KFold\n",
    "kfold = KFold(n_splits=10)"
   ]
  },
  {
   "cell_type": "code",
   "execution_count": 32,
   "metadata": {},
   "outputs": [
    {
     "data": {
      "text/plain": [
       "1460"
      ]
     },
     "execution_count": 32,
     "metadata": {},
     "output_type": "execute_result"
    }
   ],
   "source": [
    "len(housing_mix)"
   ]
  },
  {
   "cell_type": "code",
   "execution_count": 33,
   "metadata": {},
   "outputs": [],
   "source": [
    "X = housing_mix.drop([\"SalePrice\"],axis=1)\n",
    "y = housing_mix[\"SalePrice\"]"
   ]
  },
  {
   "cell_type": "code",
   "execution_count": 34,
   "metadata": {},
   "outputs": [],
   "source": [
    "(X_train, X_test,\n",
    " y_train, y_test) = train_test_split(\n",
    "    X, y, test_size=0.25, random_state=0,\n",
    ")\n"
   ]
  },
  {
   "cell_type": "code",
   "execution_count": 35,
   "metadata": {},
   "outputs": [
    {
     "name": "stderr",
     "output_type": "stream",
     "text": [
      "/Users/naoki/opt/anaconda3/lib/python3.7/site-packages/sklearn/svm/base.py:193: FutureWarning: The default value of gamma will change from 'auto' to 'scale' in version 0.22 to account better for unscaled features. Set gamma explicitly to 'auto' or 'scale' to avoid this warning.\n",
      "  \"avoid this warning.\", FutureWarning)\n",
      "/Users/naoki/opt/anaconda3/lib/python3.7/site-packages/sklearn/svm/base.py:193: FutureWarning: The default value of gamma will change from 'auto' to 'scale' in version 0.22 to account better for unscaled features. Set gamma explicitly to 'auto' or 'scale' to avoid this warning.\n",
      "  \"avoid this warning.\", FutureWarning)\n",
      "/Users/naoki/opt/anaconda3/lib/python3.7/site-packages/sklearn/svm/base.py:193: FutureWarning: The default value of gamma will change from 'auto' to 'scale' in version 0.22 to account better for unscaled features. Set gamma explicitly to 'auto' or 'scale' to avoid this warning.\n",
      "  \"avoid this warning.\", FutureWarning)\n",
      "/Users/naoki/opt/anaconda3/lib/python3.7/site-packages/sklearn/svm/base.py:193: FutureWarning: The default value of gamma will change from 'auto' to 'scale' in version 0.22 to account better for unscaled features. Set gamma explicitly to 'auto' or 'scale' to avoid this warning.\n",
      "  \"avoid this warning.\", FutureWarning)\n",
      "/Users/naoki/opt/anaconda3/lib/python3.7/site-packages/sklearn/svm/base.py:193: FutureWarning: The default value of gamma will change from 'auto' to 'scale' in version 0.22 to account better for unscaled features. Set gamma explicitly to 'auto' or 'scale' to avoid this warning.\n",
      "  \"avoid this warning.\", FutureWarning)\n",
      "/Users/naoki/opt/anaconda3/lib/python3.7/site-packages/sklearn/svm/base.py:193: FutureWarning: The default value of gamma will change from 'auto' to 'scale' in version 0.22 to account better for unscaled features. Set gamma explicitly to 'auto' or 'scale' to avoid this warning.\n",
      "  \"avoid this warning.\", FutureWarning)\n",
      "/Users/naoki/opt/anaconda3/lib/python3.7/site-packages/sklearn/ensemble/forest.py:245: FutureWarning: The default value of n_estimators will change from 10 in version 0.20 to 100 in 0.22.\n",
      "  \"10 in version 0.20 to 100 in 0.22.\", FutureWarning)\n"
     ]
    },
    {
     "data": {
      "text/html": [
       "<div>\n",
       "<style scoped>\n",
       "    .dataframe tbody tr th:only-of-type {\n",
       "        vertical-align: middle;\n",
       "    }\n",
       "\n",
       "    .dataframe tbody tr th {\n",
       "        vertical-align: top;\n",
       "    }\n",
       "\n",
       "    .dataframe thead th {\n",
       "        text-align: right;\n",
       "    }\n",
       "</style>\n",
       "<table border=\"1\" class=\"dataframe\">\n",
       "  <thead>\n",
       "    <tr style=\"text-align: right;\">\n",
       "      <th></th>\n",
       "      <th>交差検証法(平均)</th>\n",
       "      <th>平均絶対誤差 (MAE)</th>\n",
       "      <th>平均二乗誤差 (MSE)</th>\n",
       "      <th>二乗平均平方根誤差 (RMSE)</th>\n",
       "      <th>決定係数 (R**2)</th>\n",
       "    </tr>\n",
       "  </thead>\n",
       "  <tbody>\n",
       "    <tr>\n",
       "      <td>LinearRegression</td>\n",
       "      <td>-5.894162e+25</td>\n",
       "      <td>22056.081242</td>\n",
       "      <td>2.915816e+09</td>\n",
       "      <td>53998.292666</td>\n",
       "      <td>0.558338</td>\n",
       "    </tr>\n",
       "    <tr>\n",
       "      <td>SVR</td>\n",
       "      <td>-5.142836e-02</td>\n",
       "      <td>55234.660081</td>\n",
       "      <td>6.962360e+09</td>\n",
       "      <td>83440.755645</td>\n",
       "      <td>-0.054597</td>\n",
       "    </tr>\n",
       "    <tr>\n",
       "      <td>DecisionTreeRegressor</td>\n",
       "      <td>7.287434e-01</td>\n",
       "      <td>24869.369863</td>\n",
       "      <td>1.798868e+09</td>\n",
       "      <td>42413.063953</td>\n",
       "      <td>0.727523</td>\n",
       "    </tr>\n",
       "    <tr>\n",
       "      <td>RandomForestRegressor</td>\n",
       "      <td>8.436961e-01</td>\n",
       "      <td>18860.562466</td>\n",
       "      <td>1.227184e+09</td>\n",
       "      <td>35031.185517</td>\n",
       "      <td>0.814117</td>\n",
       "    </tr>\n",
       "  </tbody>\n",
       "</table>\n",
       "</div>"
      ],
      "text/plain": [
       "                          交差検証法(平均)  平均絶対誤差 (MAE)  平均二乗誤差 (MSE)  \\\n",
       "LinearRegression      -5.894162e+25  22056.081242  2.915816e+09   \n",
       "SVR                   -5.142836e-02  55234.660081  6.962360e+09   \n",
       "DecisionTreeRegressor  7.287434e-01  24869.369863  1.798868e+09   \n",
       "RandomForestRegressor  8.436961e-01  18860.562466  1.227184e+09   \n",
       "\n",
       "                       二乗平均平方根誤差 (RMSE)  決定係数 (R**2)  \n",
       "LinearRegression           53998.292666     0.558338  \n",
       "SVR                        83440.755645    -0.054597  \n",
       "DecisionTreeRegressor      42413.063953     0.727523  \n",
       "RandomForestRegressor      35031.185517     0.814117  "
      ]
     },
     "execution_count": 35,
     "metadata": {},
     "output_type": "execute_result"
    }
   ],
   "source": [
    "sc = StandardScaler()\n",
    "X = sc.fit_transform(X)\n",
    "\n",
    "models = {\"LinearRegression\": LinearRegression(),\n",
    "              \"SVR\": SVR(), \n",
    "              \"DecisionTreeRegressor\": DecisionTreeRegressor(), \n",
    "              \"RandomForestRegressor\": RandomForestRegressor()}\n",
    "\n",
    "\n",
    "cross_val_score_list = []\n",
    "mean_absolute_error_list = []\n",
    "mean_squared_erro_listr = []\n",
    "sqrt_mean_squared_error_list = []\n",
    "r2_score_list = []\n",
    "\n",
    "for i in models.values():\n",
    "    reg = i.fit(X_train, y_train)\n",
    "    y_pred =reg.predict(X_test)\n",
    "    cross_val_score_list.append(cross_val_score(reg, X, y,  cv=5).mean())\n",
    "    mean_absolute_error_list.append(mean_absolute_error(y_test, y_pred))\n",
    "    mean_squared_erro_listr.append(mean_squared_error(y_test, y_pred))\n",
    "    sqrt_mean_squared_error_list.append(np.sqrt(mean_squared_error(y_test, y_pred)))\n",
    "    r2_score_list.append(r2_score(y_test, y_pred))\n",
    "    \n",
    "pd.DataFrame({\n",
    "                   \"交差検証法(平均)\":cross_val_score_list, \n",
    "                   \"平均絶対誤差 (MAE)\":mean_absolute_error_list, \n",
    "                   \"平均二乗誤差 (MSE)\":mean_squared_erro_listr, \n",
    "                   \"二乗平均平方根誤差 (RMSE)\":sqrt_mean_squared_error_list, \n",
    "                   \"決定係数 (R**2)\":r2_score_list },\n",
    "                  index=models.keys())"
   ]
  },
  {
   "cell_type": "markdown",
   "metadata": {},
   "source": [
    " - 全ての特徴量を使用した結果、ランダムフォレスト以外のモデルではMSEが向上した。\n",
    " - 決定係数をみると、SVR以外のモデルで向上が見られる。"
   ]
  },
  {
   "cell_type": "markdown",
   "metadata": {},
   "source": [
    " # 他のモデルも試してみる"
   ]
  },
  {
   "cell_type": "code",
   "execution_count": 42,
   "metadata": {},
   "outputs": [],
   "source": [
    "X = housing_mix.drop([\"SalePrice\"],axis=1)\n",
    "y = housing_mix[\"SalePrice\"]"
   ]
  },
  {
   "cell_type": "code",
   "execution_count": 36,
   "metadata": {},
   "outputs": [],
   "source": [
    "sc = StandardScaler()\n",
    "X_train = sc.fit_transform(X_train)\n",
    "X_test = sc.transform(X_test)"
   ]
  },
  {
   "cell_type": "code",
   "execution_count": 37,
   "metadata": {},
   "outputs": [
    {
     "name": "stdout",
     "output_type": "stream",
     "text": [
      "交差検証法：[0.85611106 0.89498895 0.92311566 0.78864022 0.88797559 0.8844429\n",
      " 0.88759526 0.88133517 0.79257791 0.85436539]\n",
      "交差検証法(平均)：0.8661414473189698\n",
      "平均絶対誤差 (MAE):16929.078684931505\n",
      "平均二乗誤差 (MSE):968735015.1715878\n",
      "二乗平均平方根誤差 (RMSE):31124.50827196452\n",
      "決定係数 (R**2) :0.8532645827299419\n"
     ]
    }
   ],
   "source": [
    "reg = RandomForestRegressor(n_estimators=100).fit(X_train, y_train)\n",
    "y_pred =reg.predict(X_test)\n",
    "# print(reg.score(X_test, y_test))\n",
    "# print(\"切片：{}\".format(reg.intercept_))\n",
    "# print(\"回帰係数：{}\".format(reg.coef_))\n",
    "print(\"交差検証法：{}\".format(cross_val_score(reg, X, y, cv=kfold)))\n",
    "print(\"交差検証法(平均)：{}\".format(cross_val_score(reg, X, y, cv=kfold).mean()))\n",
    "print(\"平均絶対誤差 (MAE):{}\".format(mean_absolute_error(y_test, y_pred)))\n",
    "print(\"平均二乗誤差 (MSE):{}\".format(mean_squared_error(y_test, y_pred)))\n",
    "print(\"二乗平均平方根誤差 (RMSE):{}\".format(np.sqrt(mean_squared_error(y_test, y_pred))))\n",
    "print(\"決定係数 (R**2) :{}\".format(r2_score(y_test, y_pred)))"
   ]
  },
  {
   "cell_type": "code",
   "execution_count": 38,
   "metadata": {},
   "outputs": [
    {
     "data": {
      "text/plain": [
       "286"
      ]
     },
     "execution_count": 38,
     "metadata": {},
     "output_type": "execute_result"
    }
   ],
   "source": [
    "len(reg.feature_importances_)"
   ]
  },
  {
   "cell_type": "code",
   "execution_count": 43,
   "metadata": {},
   "outputs": [],
   "source": [
    "importance = reg.feature_importances_.reshape(286,1)"
   ]
  },
  {
   "cell_type": "code",
   "execution_count": 44,
   "metadata": {},
   "outputs": [],
   "source": [
    "column = np.array(X.columns).reshape(286,1)"
   ]
  },
  {
   "cell_type": "code",
   "execution_count": 45,
   "metadata": {},
   "outputs": [],
   "source": [
    "feature = pd.DataFrame(np.hstack([column,importance]), columns=[\"columns\", \"inportance\"])"
   ]
  },
  {
   "cell_type": "code",
   "execution_count": 46,
   "metadata": {},
   "outputs": [
    {
     "data": {
      "text/html": [
       "<div>\n",
       "<style scoped>\n",
       "    .dataframe tbody tr th:only-of-type {\n",
       "        vertical-align: middle;\n",
       "    }\n",
       "\n",
       "    .dataframe tbody tr th {\n",
       "        vertical-align: top;\n",
       "    }\n",
       "\n",
       "    .dataframe thead th {\n",
       "        text-align: right;\n",
       "    }\n",
       "</style>\n",
       "<table border=\"1\" class=\"dataframe\">\n",
       "  <thead>\n",
       "    <tr style=\"text-align: right;\">\n",
       "      <th></th>\n",
       "      <th>columns</th>\n",
       "      <th>inportance</th>\n",
       "    </tr>\n",
       "  </thead>\n",
       "  <tbody>\n",
       "    <tr>\n",
       "      <td>0</td>\n",
       "      <td>OverallQual</td>\n",
       "      <td>0.570428</td>\n",
       "    </tr>\n",
       "    <tr>\n",
       "      <td>1</td>\n",
       "      <td>GrLivArea</td>\n",
       "      <td>0.113006</td>\n",
       "    </tr>\n",
       "    <tr>\n",
       "      <td>2</td>\n",
       "      <td>TotalBsmtSF</td>\n",
       "      <td>0.0393865</td>\n",
       "    </tr>\n",
       "    <tr>\n",
       "      <td>3</td>\n",
       "      <td>BsmtFinSF1</td>\n",
       "      <td>0.0374381</td>\n",
       "    </tr>\n",
       "    <tr>\n",
       "      <td>4</td>\n",
       "      <td>GarageArea</td>\n",
       "      <td>0.0273864</td>\n",
       "    </tr>\n",
       "  </tbody>\n",
       "</table>\n",
       "</div>"
      ],
      "text/plain": [
       "       columns inportance\n",
       "0  OverallQual   0.570428\n",
       "1    GrLivArea   0.113006\n",
       "2  TotalBsmtSF  0.0393865\n",
       "3   BsmtFinSF1  0.0374381\n",
       "4   GarageArea  0.0273864"
      ]
     },
     "execution_count": 46,
     "metadata": {},
     "output_type": "execute_result"
    }
   ],
   "source": [
    "feature_sorted = feature.sort_values('inportance', ascending=False).reset_index()\n",
    "feature_sorted = feature_sorted.drop(\"index\", axis=1)\n",
    "feature_sorted.head()"
   ]
  },
  {
   "cell_type": "code",
   "execution_count": 47,
   "metadata": {},
   "outputs": [],
   "source": [
    "feature_sorted[\"inportance\"] =feature_sorted[\"inportance\"].astype('float64')"
   ]
  },
  {
   "cell_type": "code",
   "execution_count": 48,
   "metadata": {},
   "outputs": [],
   "source": [
    "list_col = []\n",
    "\n",
    "for i in range(len(feature_sorted)):\n",
    "    a = feature_sorted.iloc[i,0]\n",
    "    b = feature_sorted.iloc[i,1]\n",
    "    if b >= 0.008:\n",
    "        list_col.append(a)"
   ]
  },
  {
   "cell_type": "code",
   "execution_count": 49,
   "metadata": {},
   "outputs": [
    {
     "data": {
      "text/plain": [
       "['OverallQual',\n",
       " 'GrLivArea',\n",
       " 'TotalBsmtSF',\n",
       " 'BsmtFinSF1',\n",
       " 'GarageArea',\n",
       " 'GarageCars',\n",
       " '1stFlrSF',\n",
       " '2ndFlrSF',\n",
       " 'LotArea',\n",
       " 'YearBuilt',\n",
       " 'YearRemodAdd']"
      ]
     },
     "execution_count": 49,
     "metadata": {},
     "output_type": "execute_result"
    }
   ],
   "source": [
    "list_col"
   ]
  },
  {
   "cell_type": "code",
   "execution_count": 50,
   "metadata": {},
   "outputs": [],
   "source": [
    "X = X[list_col]"
   ]
  },
  {
   "cell_type": "code",
   "execution_count": 51,
   "metadata": {},
   "outputs": [],
   "source": [
    "(X_train, X_test,\n",
    " y_train, y_test) = train_test_split(\n",
    "    X, y, test_size=0.25, random_state=0,\n",
    ")\n"
   ]
  },
  {
   "cell_type": "code",
   "execution_count": 52,
   "metadata": {},
   "outputs": [],
   "source": [
    "sc = StandardScaler()\n",
    "X_train = sc.fit_transform(X_train)\n",
    "X_test = sc.transform(X_test)"
   ]
  },
  {
   "cell_type": "code",
   "execution_count": 53,
   "metadata": {},
   "outputs": [
    {
     "name": "stdout",
     "output_type": "stream",
     "text": [
      "RandomForestRegressor(bootstrap=True, criterion='mse', max_depth=None,\n",
      "                      max_features='auto', max_leaf_nodes=None,\n",
      "                      min_impurity_decrease=0.0, min_impurity_split=None,\n",
      "                      min_samples_leaf=1, min_samples_split=2,\n",
      "                      min_weight_fraction_leaf=0.0, n_estimators=100,\n",
      "                      n_jobs=None, oob_score=False, random_state=0, verbose=0,\n",
      "                      warm_start=False)\n",
      "交差検証法：[0.85072791 0.87729001 0.91950815 0.7410362  0.89341594 0.87062632\n",
      " 0.87268506 0.88482837 0.84840537 0.85561119]\n",
      "交差検証法(平均)：0.8614134530746294\n",
      "平均絶対誤差 (MAE):17663.933514155247\n",
      "平均二乗誤差 (MSE):900874883.5102926\n",
      "二乗平均平方根誤差 (RMSE):30014.57784994306\n",
      "決定係数 (R**2) :0.8635434356457286\n"
     ]
    }
   ],
   "source": [
    "reg = RandomForestRegressor(n_estimators=100,random_state=0,max_depth=None).fit(X_train, y_train)\n",
    "y_pred =reg.predict(X_test)\n",
    "# print(reg.score(X_test, y_test))\n",
    "# print(\"切片：{}\".format(reg.intercept_))\n",
    "# print(\"回帰係数：{}\".format(reg.coef_))\n",
    "print(reg)\n",
    "print(\"交差検証法：{}\".format(cross_val_score(reg, X, y, cv=kfold)))\n",
    "print(\"交差検証法(平均)：{}\".format(cross_val_score(reg, X, y, cv=kfold).mean()))\n",
    "print(\"平均絶対誤差 (MAE):{}\".format(mean_absolute_error(y_test, y_pred)))\n",
    "print(\"平均二乗誤差 (MSE):{}\".format(mean_squared_error(y_test, y_pred)))\n",
    "print(\"二乗平均平方根誤差 (RMSE):{}\".format(np.sqrt(mean_squared_error(y_test, y_pred))))\n",
    "print(\"決定係数 (R**2) :{}\".format(r2_score(y_test, y_pred)))"
   ]
  },
  {
   "cell_type": "code",
   "execution_count": 54,
   "metadata": {},
   "outputs": [
    {
     "name": "stdout",
     "output_type": "stream",
     "text": [
      "RandomForestRegressor(bootstrap=True, criterion='mse', max_depth=None,\n",
      "                      max_features='auto', max_leaf_nodes=None,\n",
      "                      min_impurity_decrease=0.0, min_impurity_split=None,\n",
      "                      min_samples_leaf=1, min_samples_split=2,\n",
      "                      min_weight_fraction_leaf=0.0, n_estimators=1000,\n",
      "                      n_jobs=None, oob_score=False, random_state=0, verbose=0,\n",
      "                      warm_start=False)\n",
      "交差検証法：[0.85445234 0.87956837 0.92052753 0.74728742 0.89657632 0.87095069\n",
      " 0.87043222 0.88454677 0.84713581 0.85441057]\n",
      "交差検証法(平均)：0.8625888058485529\n",
      "平均絶対誤差 (MAE):17451.05428793216\n",
      "平均二乗誤差 (MSE):836155494.2433413\n",
      "二乗平均平方根誤差 (RMSE):28916.35340500841\n",
      "決定係数 (R**2) :0.8733465566652237\n"
     ]
    }
   ],
   "source": [
    "reg = RandomForestRegressor(n_estimators=1000,random_state=0).fit(X_train, y_train)\n",
    "y_pred =reg.predict(X_test)\n",
    "# print(reg.score(X_test, y_test))\n",
    "# print(\"切片：{}\".format(reg.intercept_))\n",
    "# print(\"回帰係数：{}\".format(reg.coef_))\n",
    "print(reg)\n",
    "print(\"交差検証法：{}\".format(cross_val_score(reg, X, y,  cv=kfold)))\n",
    "print(\"交差検証法(平均)：{}\".format(cross_val_score(reg, X, y, cv=kfold).mean()))\n",
    "print(\"平均絶対誤差 (MAE):{}\".format(mean_absolute_error(y_test, y_pred)))\n",
    "print(\"平均二乗誤差 (MSE):{}\".format(mean_squared_error(y_test, y_pred)))\n",
    "print(\"二乗平均平方根誤差 (RMSE):{}\".format(np.sqrt(mean_squared_error(y_test, y_pred))))\n",
    "print(\"決定係数 (R**2) :{}\".format(r2_score(y_test, y_pred)))"
   ]
  },
  {
   "cell_type": "code",
   "execution_count": 55,
   "metadata": {},
   "outputs": [],
   "source": [
    "from sklearn.ensemble import GradientBoostingRegressor"
   ]
  },
  {
   "cell_type": "code",
   "execution_count": 56,
   "metadata": {},
   "outputs": [],
   "source": [
    "X = housing_mix.drop([\"SalePrice\"],axis=1)\n",
    "y = housing_mix[\"SalePrice\"]\n",
    "(X_train, X_test,\n",
    " y_train, y_test) = train_test_split(\n",
    "    X, y, test_size=0.25, random_state=0,\n",
    ")"
   ]
  },
  {
   "cell_type": "code",
   "execution_count": 57,
   "metadata": {},
   "outputs": [],
   "source": [
    "sc = StandardScaler()\n",
    "X_train = sc.fit_transform(X_train)\n",
    "X_test = sc.transform(X_test)"
   ]
  },
  {
   "cell_type": "code",
   "execution_count": 58,
   "metadata": {},
   "outputs": [
    {
     "name": "stdout",
     "output_type": "stream",
     "text": [
      "GradientBoostingRegressor(alpha=0.9, criterion='friedman_mse', init=None,\n",
      "                          learning_rate=0.1, loss='ls', max_depth=3,\n",
      "                          max_features=None, max_leaf_nodes=None,\n",
      "                          min_impurity_decrease=0.0, min_impurity_split=None,\n",
      "                          min_samples_leaf=1, min_samples_split=2,\n",
      "                          min_weight_fraction_leaf=0.0, n_estimators=100,\n",
      "                          n_iter_no_change=None, presort='auto',\n",
      "                          random_state=None, subsample=1.0, tol=0.0001,\n",
      "                          validation_fraction=0.1, verbose=0, warm_start=False)\n",
      "交差検証法：[0.8984773  0.8926378  0.93628569 0.78015923 0.90719026 0.897702\n",
      " 0.88932315 0.90732582 0.90418951 0.87720778]\n",
      "交差検証法(平均)：0.891206394665474\n",
      "平均絶対誤差 (MAE):16573.088201456947\n",
      "平均二乗誤差 (MSE):699479364.8323135\n",
      "二乗平均平方根誤差 (RMSE):26447.672200636363\n",
      "決定係数 (R**2) :0.8940490486427964\n"
     ]
    }
   ],
   "source": [
    "reg = GradientBoostingRegressor().fit(X_train, y_train)\n",
    "y_pred =reg.predict(X_test)\n",
    "# print(reg.score(X_test, y_test))\n",
    "# print(\"切片：{}\".format(reg.intercept_))\n",
    "# print(\"回帰係数：{}\".format(reg.coef_))\n",
    "print(reg)\n",
    "print(\"交差検証法：{}\".format(cross_val_score(reg, X, y, cv=kfold)))\n",
    "print(\"交差検証法(平均)：{}\".format(cross_val_score(reg, X, y, cv=kfold).mean()))\n",
    "print(\"平均絶対誤差 (MAE):{}\".format(mean_absolute_error(y_test, y_pred)))\n",
    "print(\"平均二乗誤差 (MSE):{}\".format(mean_squared_error(y_test, y_pred)))\n",
    "print(\"二乗平均平方根誤差 (RMSE):{}\".format(np.sqrt(mean_squared_error(y_test, y_pred))))\n",
    "print(\"決定係数 (R**2) :{}\".format(r2_score(y_test, y_pred)))"
   ]
  },
  {
   "cell_type": "code",
   "execution_count": 59,
   "metadata": {},
   "outputs": [
    {
     "data": {
      "text/plain": [
       "286"
      ]
     },
     "execution_count": 59,
     "metadata": {},
     "output_type": "execute_result"
    }
   ],
   "source": [
    "len(reg.feature_importances_)"
   ]
  },
  {
   "cell_type": "code",
   "execution_count": 60,
   "metadata": {},
   "outputs": [
    {
     "data": {
      "text/html": [
       "<div>\n",
       "<style scoped>\n",
       "    .dataframe tbody tr th:only-of-type {\n",
       "        vertical-align: middle;\n",
       "    }\n",
       "\n",
       "    .dataframe tbody tr th {\n",
       "        vertical-align: top;\n",
       "    }\n",
       "\n",
       "    .dataframe thead th {\n",
       "        text-align: right;\n",
       "    }\n",
       "</style>\n",
       "<table border=\"1\" class=\"dataframe\">\n",
       "  <thead>\n",
       "    <tr style=\"text-align: right;\">\n",
       "      <th></th>\n",
       "      <th>columns</th>\n",
       "      <th>inportance</th>\n",
       "    </tr>\n",
       "  </thead>\n",
       "  <tbody>\n",
       "    <tr>\n",
       "      <td>0</td>\n",
       "      <td>OverallQual</td>\n",
       "      <td>0.51896</td>\n",
       "    </tr>\n",
       "    <tr>\n",
       "      <td>1</td>\n",
       "      <td>GrLivArea</td>\n",
       "      <td>0.149026</td>\n",
       "    </tr>\n",
       "    <tr>\n",
       "      <td>2</td>\n",
       "      <td>GarageCars</td>\n",
       "      <td>0.0483947</td>\n",
       "    </tr>\n",
       "    <tr>\n",
       "      <td>3</td>\n",
       "      <td>TotalBsmtSF</td>\n",
       "      <td>0.0445198</td>\n",
       "    </tr>\n",
       "    <tr>\n",
       "      <td>4</td>\n",
       "      <td>BsmtFinSF1</td>\n",
       "      <td>0.0350351</td>\n",
       "    </tr>\n",
       "  </tbody>\n",
       "</table>\n",
       "</div>"
      ],
      "text/plain": [
       "       columns inportance\n",
       "0  OverallQual    0.51896\n",
       "1    GrLivArea   0.149026\n",
       "2   GarageCars  0.0483947\n",
       "3  TotalBsmtSF  0.0445198\n",
       "4   BsmtFinSF1  0.0350351"
      ]
     },
     "execution_count": 60,
     "metadata": {},
     "output_type": "execute_result"
    }
   ],
   "source": [
    "importance = reg.feature_importances_.reshape(len(reg.feature_importances_),1)\n",
    "column = np.array(X.columns).reshape(len(reg.feature_importances_),1)\n",
    "feature = pd.DataFrame(np.hstack([column,importance]), columns=[\"columns\", \"inportance\"])\n",
    "feature_sorted = feature.sort_values('inportance', ascending=False).reset_index()\n",
    "feature_sorted = feature_sorted.drop(\"index\", axis=1)\n",
    "feature_sorted.head()"
   ]
  },
  {
   "cell_type": "code",
   "execution_count": 61,
   "metadata": {},
   "outputs": [],
   "source": [
    "feature_sorted[\"inportance\"] =feature_sorted[\"inportance\"].astype('float64')"
   ]
  },
  {
   "cell_type": "code",
   "execution_count": 62,
   "metadata": {},
   "outputs": [],
   "source": [
    "list_col = []\n",
    "for i in range(len(feature_sorted)):\n",
    "    a = feature_sorted.iloc[i,0]\n",
    "    b = feature_sorted.iloc[i,1]\n",
    "    if b >= 0.008:\n",
    "        list_col.append(a)"
   ]
  },
  {
   "cell_type": "code",
   "execution_count": 63,
   "metadata": {},
   "outputs": [
    {
     "data": {
      "text/plain": [
       "['OverallQual',\n",
       " 'GrLivArea',\n",
       " 'GarageCars',\n",
       " 'TotalBsmtSF',\n",
       " 'BsmtFinSF1',\n",
       " '1stFlrSF',\n",
       " 'LotArea',\n",
       " 'YearRemodAdd',\n",
       " 'YearBuilt',\n",
       " 'Fireplaces',\n",
       " '2ndFlrSF',\n",
       " 'BsmtQual_Ex']"
      ]
     },
     "execution_count": 63,
     "metadata": {},
     "output_type": "execute_result"
    }
   ],
   "source": [
    "list_col"
   ]
  },
  {
   "cell_type": "code",
   "execution_count": 64,
   "metadata": {},
   "outputs": [],
   "source": [
    "X = X[list_col]"
   ]
  },
  {
   "cell_type": "code",
   "execution_count": 65,
   "metadata": {},
   "outputs": [],
   "source": [
    "(X_train, X_test,\n",
    " y_train, y_test) = train_test_split(\n",
    "    X, y, test_size=0.25, random_state=0,\n",
    ")"
   ]
  },
  {
   "cell_type": "code",
   "execution_count": 66,
   "metadata": {},
   "outputs": [
    {
     "data": {
      "text/html": [
       "<div>\n",
       "<style scoped>\n",
       "    .dataframe tbody tr th:only-of-type {\n",
       "        vertical-align: middle;\n",
       "    }\n",
       "\n",
       "    .dataframe tbody tr th {\n",
       "        vertical-align: top;\n",
       "    }\n",
       "\n",
       "    .dataframe thead th {\n",
       "        text-align: right;\n",
       "    }\n",
       "</style>\n",
       "<table border=\"1\" class=\"dataframe\">\n",
       "  <thead>\n",
       "    <tr style=\"text-align: right;\">\n",
       "      <th></th>\n",
       "      <th>OverallQual</th>\n",
       "      <th>GrLivArea</th>\n",
       "      <th>GarageCars</th>\n",
       "      <th>TotalBsmtSF</th>\n",
       "      <th>BsmtFinSF1</th>\n",
       "      <th>1stFlrSF</th>\n",
       "      <th>LotArea</th>\n",
       "      <th>YearRemodAdd</th>\n",
       "      <th>YearBuilt</th>\n",
       "      <th>Fireplaces</th>\n",
       "      <th>2ndFlrSF</th>\n",
       "      <th>BsmtQual_Ex</th>\n",
       "    </tr>\n",
       "  </thead>\n",
       "  <tbody>\n",
       "    <tr>\n",
       "      <td>1292</td>\n",
       "      <td>5</td>\n",
       "      <td>2372</td>\n",
       "      <td>1</td>\n",
       "      <td>994</td>\n",
       "      <td>0</td>\n",
       "      <td>1378</td>\n",
       "      <td>6600</td>\n",
       "      <td>1965</td>\n",
       "      <td>1892</td>\n",
       "      <td>0</td>\n",
       "      <td>994</td>\n",
       "      <td>0</td>\n",
       "    </tr>\n",
       "    <tr>\n",
       "      <td>1018</td>\n",
       "      <td>7</td>\n",
       "      <td>1472</td>\n",
       "      <td>2</td>\n",
       "      <td>384</td>\n",
       "      <td>0</td>\n",
       "      <td>802</td>\n",
       "      <td>10784</td>\n",
       "      <td>1992</td>\n",
       "      <td>1991</td>\n",
       "      <td>1</td>\n",
       "      <td>670</td>\n",
       "      <td>0</td>\n",
       "    </tr>\n",
       "    <tr>\n",
       "      <td>1213</td>\n",
       "      <td>4</td>\n",
       "      <td>960</td>\n",
       "      <td>1</td>\n",
       "      <td>648</td>\n",
       "      <td>648</td>\n",
       "      <td>960</td>\n",
       "      <td>10246</td>\n",
       "      <td>2001</td>\n",
       "      <td>1965</td>\n",
       "      <td>0</td>\n",
       "      <td>0</td>\n",
       "      <td>0</td>\n",
       "    </tr>\n",
       "    <tr>\n",
       "      <td>1430</td>\n",
       "      <td>5</td>\n",
       "      <td>1838</td>\n",
       "      <td>2</td>\n",
       "      <td>732</td>\n",
       "      <td>0</td>\n",
       "      <td>734</td>\n",
       "      <td>21930</td>\n",
       "      <td>2005</td>\n",
       "      <td>2005</td>\n",
       "      <td>1</td>\n",
       "      <td>1104</td>\n",
       "      <td>0</td>\n",
       "    </tr>\n",
       "    <tr>\n",
       "      <td>810</td>\n",
       "      <td>6</td>\n",
       "      <td>1309</td>\n",
       "      <td>2</td>\n",
       "      <td>1040</td>\n",
       "      <td>663</td>\n",
       "      <td>1309</td>\n",
       "      <td>10140</td>\n",
       "      <td>1999</td>\n",
       "      <td>1974</td>\n",
       "      <td>1</td>\n",
       "      <td>0</td>\n",
       "      <td>0</td>\n",
       "    </tr>\n",
       "    <tr>\n",
       "      <td>...</td>\n",
       "      <td>...</td>\n",
       "      <td>...</td>\n",
       "      <td>...</td>\n",
       "      <td>...</td>\n",
       "      <td>...</td>\n",
       "      <td>...</td>\n",
       "      <td>...</td>\n",
       "      <td>...</td>\n",
       "      <td>...</td>\n",
       "      <td>...</td>\n",
       "      <td>...</td>\n",
       "      <td>...</td>\n",
       "    </tr>\n",
       "    <tr>\n",
       "      <td>763</td>\n",
       "      <td>8</td>\n",
       "      <td>2365</td>\n",
       "      <td>3</td>\n",
       "      <td>1252</td>\n",
       "      <td>1163</td>\n",
       "      <td>1268</td>\n",
       "      <td>9430</td>\n",
       "      <td>1999</td>\n",
       "      <td>1999</td>\n",
       "      <td>1</td>\n",
       "      <td>1097</td>\n",
       "      <td>0</td>\n",
       "    </tr>\n",
       "    <tr>\n",
       "      <td>835</td>\n",
       "      <td>4</td>\n",
       "      <td>1067</td>\n",
       "      <td>2</td>\n",
       "      <td>1067</td>\n",
       "      <td>442</td>\n",
       "      <td>1067</td>\n",
       "      <td>9600</td>\n",
       "      <td>1995</td>\n",
       "      <td>1950</td>\n",
       "      <td>0</td>\n",
       "      <td>0</td>\n",
       "      <td>0</td>\n",
       "    </tr>\n",
       "    <tr>\n",
       "      <td>1216</td>\n",
       "      <td>6</td>\n",
       "      <td>1902</td>\n",
       "      <td>2</td>\n",
       "      <td>0</td>\n",
       "      <td>0</td>\n",
       "      <td>1318</td>\n",
       "      <td>8930</td>\n",
       "      <td>1978</td>\n",
       "      <td>1978</td>\n",
       "      <td>0</td>\n",
       "      <td>584</td>\n",
       "      <td>0</td>\n",
       "    </tr>\n",
       "    <tr>\n",
       "      <td>559</td>\n",
       "      <td>7</td>\n",
       "      <td>1557</td>\n",
       "      <td>2</td>\n",
       "      <td>1374</td>\n",
       "      <td>0</td>\n",
       "      <td>1557</td>\n",
       "      <td>3196</td>\n",
       "      <td>2004</td>\n",
       "      <td>2003</td>\n",
       "      <td>1</td>\n",
       "      <td>0</td>\n",
       "      <td>0</td>\n",
       "    </tr>\n",
       "    <tr>\n",
       "      <td>684</td>\n",
       "      <td>7</td>\n",
       "      <td>1839</td>\n",
       "      <td>2</td>\n",
       "      <td>1195</td>\n",
       "      <td>0</td>\n",
       "      <td>1195</td>\n",
       "      <td>16770</td>\n",
       "      <td>1998</td>\n",
       "      <td>1998</td>\n",
       "      <td>0</td>\n",
       "      <td>644</td>\n",
       "      <td>0</td>\n",
       "    </tr>\n",
       "  </tbody>\n",
       "</table>\n",
       "<p>1095 rows × 12 columns</p>\n",
       "</div>"
      ],
      "text/plain": [
       "      OverallQual  GrLivArea  GarageCars  TotalBsmtSF  BsmtFinSF1  1stFlrSF  \\\n",
       "1292            5       2372           1          994           0      1378   \n",
       "1018            7       1472           2          384           0       802   \n",
       "1213            4        960           1          648         648       960   \n",
       "1430            5       1838           2          732           0       734   \n",
       "810             6       1309           2         1040         663      1309   \n",
       "...           ...        ...         ...          ...         ...       ...   \n",
       "763             8       2365           3         1252        1163      1268   \n",
       "835             4       1067           2         1067         442      1067   \n",
       "1216            6       1902           2            0           0      1318   \n",
       "559             7       1557           2         1374           0      1557   \n",
       "684             7       1839           2         1195           0      1195   \n",
       "\n",
       "      LotArea  YearRemodAdd  YearBuilt  Fireplaces  2ndFlrSF  BsmtQual_Ex  \n",
       "1292     6600          1965       1892           0       994            0  \n",
       "1018    10784          1992       1991           1       670            0  \n",
       "1213    10246          2001       1965           0         0            0  \n",
       "1430    21930          2005       2005           1      1104            0  \n",
       "810     10140          1999       1974           1         0            0  \n",
       "...       ...           ...        ...         ...       ...          ...  \n",
       "763      9430          1999       1999           1      1097            0  \n",
       "835      9600          1995       1950           0         0            0  \n",
       "1216     8930          1978       1978           0       584            0  \n",
       "559      3196          2004       2003           1         0            0  \n",
       "684     16770          1998       1998           0       644            0  \n",
       "\n",
       "[1095 rows x 12 columns]"
      ]
     },
     "execution_count": 66,
     "metadata": {},
     "output_type": "execute_result"
    }
   ],
   "source": [
    "X_train"
   ]
  },
  {
   "cell_type": "code",
   "execution_count": 67,
   "metadata": {},
   "outputs": [
    {
     "data": {
      "text/plain": [
       "<bound method DataFrame.info of       SalePrice\n",
       "1292     107500\n",
       "1018     160000\n",
       "1213     145000\n",
       "1430     192140\n",
       "810      181000\n",
       "...         ...\n",
       "763      337000\n",
       "835      128000\n",
       "1216     112000\n",
       "559      234000\n",
       "684      221000\n",
       "\n",
       "[1095 rows x 1 columns]>"
      ]
     },
     "execution_count": 67,
     "metadata": {},
     "output_type": "execute_result"
    }
   ],
   "source": [
    "pd.DataFrame(y_train).info"
   ]
  },
  {
   "cell_type": "code",
   "execution_count": 68,
   "metadata": {},
   "outputs": [],
   "source": [
    "sc = StandardScaler()\n",
    "X_train = sc.fit_transform(X_train)\n",
    "X_test = sc.transform(X_test)"
   ]
  },
  {
   "cell_type": "code",
   "execution_count": 69,
   "metadata": {},
   "outputs": [
    {
     "name": "stdout",
     "output_type": "stream",
     "text": [
      "GradientBoostingRegressor(alpha=0.9, criterion='friedman_mse', init=None,\n",
      "                          learning_rate=0.1, loss='ls', max_depth=3,\n",
      "                          max_features=None, max_leaf_nodes=None,\n",
      "                          min_impurity_decrease=0.0, min_impurity_split=None,\n",
      "                          min_samples_leaf=1, min_samples_split=2,\n",
      "                          min_weight_fraction_leaf=0.0, n_estimators=100,\n",
      "                          n_iter_no_change=None, presort='auto', random_state=0,\n",
      "                          subsample=1.0, tol=0.0001, validation_fraction=0.1,\n",
      "                          verbose=0, warm_start=False)\n",
      "交差検証法：[0.89427182 0.88714951 0.91987706 0.74448479 0.90985123 0.88074851\n",
      " 0.86983266 0.89438136 0.90583415 0.87360333]\n",
      "交差検証法(平均)：0.8780034418149942\n",
      "平均絶対誤差 (MAE):16852.229184221032\n",
      "平均二乗誤差 (MSE):636434234.1706945\n",
      "二乗平均平方根誤差 (RMSE):25227.64820927021\n",
      "決定係数 (R**2) :0.9035985677678375\n"
     ]
    }
   ],
   "source": [
    "reg = GradientBoostingRegressor(n_estimators=100,random_state=0,max_depth=3).fit(X_train, y_train)\n",
    "y_pred =reg.predict(X_test)\n",
    "# print(reg.score(X_test, y_test))\n",
    "# print(\"切片：{}\".format(reg.intercept_))\n",
    "# print(\"回帰係数：{}\".format(reg.coef_))\n",
    "print(reg)\n",
    "print(\"交差検証法：{}\".format(cross_val_score(reg, X, y, cv=kfold)))\n",
    "print(\"交差検証法(平均)：{}\".format(cross_val_score(reg, X, y, cv=kfold).mean()))\n",
    "print(\"平均絶対誤差 (MAE):{}\".format(mean_absolute_error(y_test, y_pred)))\n",
    "print(\"平均二乗誤差 (MSE):{}\".format(mean_squared_error(y_test, y_pred)))\n",
    "print(\"二乗平均平方根誤差 (RMSE):{}\".format(np.sqrt(mean_squared_error(y_test, y_pred))))\n",
    "print(\"決定係数 (R**2) :{}\".format(r2_score(y_test, y_pred)))"
   ]
  },
  {
   "cell_type": "code",
   "execution_count": 70,
   "metadata": {},
   "outputs": [
    {
     "name": "stdout",
     "output_type": "stream",
     "text": [
      "GradientBoostingRegressor(alpha=0.9, criterion='friedman_mse', init=None,\n",
      "                          learning_rate=0.1, loss='ls', max_depth=3,\n",
      "                          max_features=None, max_leaf_nodes=None,\n",
      "                          min_impurity_decrease=0.0, min_impurity_split=None,\n",
      "                          min_samples_leaf=1, min_samples_split=2,\n",
      "                          min_weight_fraction_leaf=0.0, n_estimators=1000,\n",
      "                          n_iter_no_change=None, presort='auto', random_state=0,\n",
      "                          subsample=1.0, tol=0.0001, validation_fraction=0.1,\n",
      "                          verbose=0, warm_start=False)\n",
      "交差検証法：[0.87913594 0.8791446  0.91370224 0.73023101 0.91028582 0.89039133\n",
      " 0.87883506 0.887368   0.89579724 0.8550978 ]\n",
      "交差検証法(平均)：0.8719989028444773\n",
      "平均絶対誤差 (MAE):17572.78383950018\n",
      "平均二乗誤差 (MSE):704725900.1541332\n",
      "二乗平均平方根誤差 (RMSE):26546.673994196208\n",
      "決定係数 (R**2) :0.8932543498473441\n"
     ]
    }
   ],
   "source": [
    "reg = GradientBoostingRegressor(n_estimators=1000,random_state=0,max_depth=3).fit(X_train, y_train)\n",
    "y_pred =reg.predict(X_test)\n",
    "# print(reg.score(X_test, y_test))\n",
    "# print(\"切片：{}\".format(reg.intercept_))\n",
    "# print(\"回帰係数：{}\".format(reg.coef_))\n",
    "print(reg)\n",
    "print(\"交差検証法：{}\".format(cross_val_score(reg, X, y, cv=kfold)))\n",
    "print(\"交差検証法(平均)：{}\".format(cross_val_score(reg, X, y, cv=kfold).mean()))\n",
    "print(\"平均絶対誤差 (MAE):{}\".format(mean_absolute_error(y_test, y_pred)))\n",
    "print(\"平均二乗誤差 (MSE):{}\".format(mean_squared_error(y_test, y_pred)))\n",
    "print(\"二乗平均平方根誤差 (RMSE):{}\".format(np.sqrt(mean_squared_error(y_test, y_pred))))\n",
    "print(\"決定係数 (R**2) :{}\".format(r2_score(y_test, y_pred)))"
   ]
  },
  {
   "cell_type": "code",
   "execution_count": 71,
   "metadata": {},
   "outputs": [],
   "source": [
    "import xgboost as xgb\n",
    "# モデルのインスタンス作成"
   ]
  },
  {
   "cell_type": "code",
   "execution_count": 72,
   "metadata": {},
   "outputs": [],
   "source": [
    "X = housing_mix.drop([\"SalePrice\"],axis=1)\n",
    "y = housing_mix[\"SalePrice\"]\n",
    "(X_train, X_test,\n",
    " y_train, y_test) = train_test_split(\n",
    "    X, y, test_size=0.25, random_state=0,\n",
    ")\n"
   ]
  },
  {
   "cell_type": "code",
   "execution_count": 73,
   "metadata": {},
   "outputs": [],
   "source": [
    "sc = StandardScaler()\n",
    "X_train = sc.fit_transform(X_train)\n",
    "X_test = sc.transform(X_test)"
   ]
  },
  {
   "cell_type": "code",
   "execution_count": 74,
   "metadata": {},
   "outputs": [
    {
     "name": "stdout",
     "output_type": "stream",
     "text": [
      "[13:05:24] WARNING: src/objective/regression_obj.cu:152: reg:linear is now deprecated in favor of reg:squarederror.\n"
     ]
    },
    {
     "name": "stderr",
     "output_type": "stream",
     "text": [
      "/Users/naoki/opt/anaconda3/lib/python3.7/site-packages/xgboost/core.py:587: FutureWarning: Series.base is deprecated and will be removed in a future version\n",
      "  if getattr(data, 'base', None) is not None and \\\n"
     ]
    },
    {
     "name": "stdout",
     "output_type": "stream",
     "text": [
      "XGBRegressor(base_score=0.5, booster='gbtree', colsample_bylevel=1,\n",
      "             colsample_bynode=1, colsample_bytree=1, gamma=0,\n",
      "             importance_type='gain', learning_rate=0.1, max_delta_step=0,\n",
      "             max_depth=3, min_child_weight=1, missing=None, n_estimators=100,\n",
      "             n_jobs=1, nthread=None, objective='reg:linear', random_state=0,\n",
      "             reg_alpha=0, reg_lambda=1, scale_pos_weight=1, seed=None,\n",
      "             silent=None, subsample=1, verbosity=1)\n",
      "[13:05:25] WARNING: src/objective/regression_obj.cu:152: reg:linear is now deprecated in favor of reg:squarederror.\n"
     ]
    },
    {
     "name": "stderr",
     "output_type": "stream",
     "text": [
      "/Users/naoki/opt/anaconda3/lib/python3.7/site-packages/xgboost/core.py:587: FutureWarning: Series.base is deprecated and will be removed in a future version\n",
      "  if getattr(data, 'base', None) is not None and \\\n"
     ]
    },
    {
     "name": "stdout",
     "output_type": "stream",
     "text": [
      "[13:05:26] WARNING: src/objective/regression_obj.cu:152: reg:linear is now deprecated in favor of reg:squarederror.\n"
     ]
    },
    {
     "name": "stderr",
     "output_type": "stream",
     "text": [
      "/Users/naoki/opt/anaconda3/lib/python3.7/site-packages/xgboost/core.py:587: FutureWarning: Series.base is deprecated and will be removed in a future version\n",
      "  if getattr(data, 'base', None) is not None and \\\n"
     ]
    },
    {
     "name": "stdout",
     "output_type": "stream",
     "text": [
      "[13:05:27] WARNING: src/objective/regression_obj.cu:152: reg:linear is now deprecated in favor of reg:squarederror.\n"
     ]
    },
    {
     "name": "stderr",
     "output_type": "stream",
     "text": [
      "/Users/naoki/opt/anaconda3/lib/python3.7/site-packages/xgboost/core.py:587: FutureWarning: Series.base is deprecated and will be removed in a future version\n",
      "  if getattr(data, 'base', None) is not None and \\\n"
     ]
    },
    {
     "name": "stdout",
     "output_type": "stream",
     "text": [
      "[13:05:28] WARNING: src/objective/regression_obj.cu:152: reg:linear is now deprecated in favor of reg:squarederror.\n"
     ]
    },
    {
     "name": "stderr",
     "output_type": "stream",
     "text": [
      "/Users/naoki/opt/anaconda3/lib/python3.7/site-packages/xgboost/core.py:587: FutureWarning: Series.base is deprecated and will be removed in a future version\n",
      "  if getattr(data, 'base', None) is not None and \\\n"
     ]
    },
    {
     "name": "stdout",
     "output_type": "stream",
     "text": [
      "[13:05:29] WARNING: src/objective/regression_obj.cu:152: reg:linear is now deprecated in favor of reg:squarederror.\n"
     ]
    },
    {
     "name": "stderr",
     "output_type": "stream",
     "text": [
      "/Users/naoki/opt/anaconda3/lib/python3.7/site-packages/xgboost/core.py:587: FutureWarning: Series.base is deprecated and will be removed in a future version\n",
      "  if getattr(data, 'base', None) is not None and \\\n"
     ]
    },
    {
     "name": "stdout",
     "output_type": "stream",
     "text": [
      "[13:05:30] WARNING: src/objective/regression_obj.cu:152: reg:linear is now deprecated in favor of reg:squarederror.\n"
     ]
    },
    {
     "name": "stderr",
     "output_type": "stream",
     "text": [
      "/Users/naoki/opt/anaconda3/lib/python3.7/site-packages/xgboost/core.py:587: FutureWarning: Series.base is deprecated and will be removed in a future version\n",
      "  if getattr(data, 'base', None) is not None and \\\n"
     ]
    },
    {
     "name": "stdout",
     "output_type": "stream",
     "text": [
      "[13:05:31] WARNING: src/objective/regression_obj.cu:152: reg:linear is now deprecated in favor of reg:squarederror.\n"
     ]
    },
    {
     "name": "stderr",
     "output_type": "stream",
     "text": [
      "/Users/naoki/opt/anaconda3/lib/python3.7/site-packages/xgboost/core.py:587: FutureWarning: Series.base is deprecated and will be removed in a future version\n",
      "  if getattr(data, 'base', None) is not None and \\\n"
     ]
    },
    {
     "name": "stdout",
     "output_type": "stream",
     "text": [
      "[13:05:32] WARNING: src/objective/regression_obj.cu:152: reg:linear is now deprecated in favor of reg:squarederror.\n"
     ]
    },
    {
     "name": "stderr",
     "output_type": "stream",
     "text": [
      "/Users/naoki/opt/anaconda3/lib/python3.7/site-packages/xgboost/core.py:587: FutureWarning: Series.base is deprecated and will be removed in a future version\n",
      "  if getattr(data, 'base', None) is not None and \\\n"
     ]
    },
    {
     "name": "stdout",
     "output_type": "stream",
     "text": [
      "[13:05:33] WARNING: src/objective/regression_obj.cu:152: reg:linear is now deprecated in favor of reg:squarederror.\n"
     ]
    },
    {
     "name": "stderr",
     "output_type": "stream",
     "text": [
      "/Users/naoki/opt/anaconda3/lib/python3.7/site-packages/xgboost/core.py:587: FutureWarning: Series.base is deprecated and will be removed in a future version\n",
      "  if getattr(data, 'base', None) is not None and \\\n"
     ]
    },
    {
     "name": "stdout",
     "output_type": "stream",
     "text": [
      "[13:05:34] WARNING: src/objective/regression_obj.cu:152: reg:linear is now deprecated in favor of reg:squarederror.\n",
      "交差検証法：[0.89694872 0.9067913  0.92857679 0.78226313 0.89653857 0.8864645\n",
      " 0.84864118 0.91873987 0.88838145 0.86695808]\n",
      "[13:05:35] WARNING: src/objective/regression_obj.cu:152: reg:linear is now deprecated in favor of reg:squarederror.\n"
     ]
    },
    {
     "name": "stderr",
     "output_type": "stream",
     "text": [
      "/Users/naoki/opt/anaconda3/lib/python3.7/site-packages/xgboost/core.py:587: FutureWarning: Series.base is deprecated and will be removed in a future version\n",
      "  if getattr(data, 'base', None) is not None and \\\n",
      "/Users/naoki/opt/anaconda3/lib/python3.7/site-packages/xgboost/core.py:587: FutureWarning: Series.base is deprecated and will be removed in a future version\n",
      "  if getattr(data, 'base', None) is not None and \\\n"
     ]
    },
    {
     "name": "stdout",
     "output_type": "stream",
     "text": [
      "[13:05:36] WARNING: src/objective/regression_obj.cu:152: reg:linear is now deprecated in favor of reg:squarederror.\n"
     ]
    },
    {
     "name": "stderr",
     "output_type": "stream",
     "text": [
      "/Users/naoki/opt/anaconda3/lib/python3.7/site-packages/xgboost/core.py:587: FutureWarning: Series.base is deprecated and will be removed in a future version\n",
      "  if getattr(data, 'base', None) is not None and \\\n"
     ]
    },
    {
     "name": "stdout",
     "output_type": "stream",
     "text": [
      "[13:05:38] WARNING: src/objective/regression_obj.cu:152: reg:linear is now deprecated in favor of reg:squarederror.\n"
     ]
    },
    {
     "name": "stderr",
     "output_type": "stream",
     "text": [
      "/Users/naoki/opt/anaconda3/lib/python3.7/site-packages/xgboost/core.py:587: FutureWarning: Series.base is deprecated and will be removed in a future version\n",
      "  if getattr(data, 'base', None) is not None and \\\n"
     ]
    },
    {
     "name": "stdout",
     "output_type": "stream",
     "text": [
      "[13:05:39] WARNING: src/objective/regression_obj.cu:152: reg:linear is now deprecated in favor of reg:squarederror.\n"
     ]
    },
    {
     "name": "stderr",
     "output_type": "stream",
     "text": [
      "/Users/naoki/opt/anaconda3/lib/python3.7/site-packages/xgboost/core.py:587: FutureWarning: Series.base is deprecated and will be removed in a future version\n",
      "  if getattr(data, 'base', None) is not None and \\\n"
     ]
    },
    {
     "name": "stdout",
     "output_type": "stream",
     "text": [
      "[13:05:40] WARNING: src/objective/regression_obj.cu:152: reg:linear is now deprecated in favor of reg:squarederror.\n"
     ]
    },
    {
     "name": "stderr",
     "output_type": "stream",
     "text": [
      "/Users/naoki/opt/anaconda3/lib/python3.7/site-packages/xgboost/core.py:587: FutureWarning: Series.base is deprecated and will be removed in a future version\n",
      "  if getattr(data, 'base', None) is not None and \\\n"
     ]
    },
    {
     "name": "stdout",
     "output_type": "stream",
     "text": [
      "[13:05:41] WARNING: src/objective/regression_obj.cu:152: reg:linear is now deprecated in favor of reg:squarederror.\n"
     ]
    },
    {
     "name": "stderr",
     "output_type": "stream",
     "text": [
      "/Users/naoki/opt/anaconda3/lib/python3.7/site-packages/xgboost/core.py:587: FutureWarning: Series.base is deprecated and will be removed in a future version\n",
      "  if getattr(data, 'base', None) is not None and \\\n"
     ]
    },
    {
     "name": "stdout",
     "output_type": "stream",
     "text": [
      "[13:05:42] WARNING: src/objective/regression_obj.cu:152: reg:linear is now deprecated in favor of reg:squarederror.\n"
     ]
    },
    {
     "name": "stderr",
     "output_type": "stream",
     "text": [
      "/Users/naoki/opt/anaconda3/lib/python3.7/site-packages/xgboost/core.py:587: FutureWarning: Series.base is deprecated and will be removed in a future version\n",
      "  if getattr(data, 'base', None) is not None and \\\n"
     ]
    },
    {
     "name": "stdout",
     "output_type": "stream",
     "text": [
      "[13:05:43] WARNING: src/objective/regression_obj.cu:152: reg:linear is now deprecated in favor of reg:squarederror.\n"
     ]
    },
    {
     "name": "stderr",
     "output_type": "stream",
     "text": [
      "/Users/naoki/opt/anaconda3/lib/python3.7/site-packages/xgboost/core.py:587: FutureWarning: Series.base is deprecated and will be removed in a future version\n",
      "  if getattr(data, 'base', None) is not None and \\\n"
     ]
    },
    {
     "name": "stdout",
     "output_type": "stream",
     "text": [
      "[13:05:44] WARNING: src/objective/regression_obj.cu:152: reg:linear is now deprecated in favor of reg:squarederror.\n"
     ]
    },
    {
     "name": "stderr",
     "output_type": "stream",
     "text": [
      "/Users/naoki/opt/anaconda3/lib/python3.7/site-packages/xgboost/core.py:587: FutureWarning: Series.base is deprecated and will be removed in a future version\n",
      "  if getattr(data, 'base', None) is not None and \\\n"
     ]
    },
    {
     "name": "stdout",
     "output_type": "stream",
     "text": [
      "[13:05:45] WARNING: src/objective/regression_obj.cu:152: reg:linear is now deprecated in favor of reg:squarederror.\n",
      "交差検証法(平均)：0.8820303578823655\n",
      "平均絶対誤差 (MAE):16069.801391267123\n",
      "平均二乗誤差 (MSE):692241248.4523152\n",
      "二乗平均平方根誤差 (RMSE):26310.477921396927\n",
      "決定係数 (R**2) :0.8951454145329879\n"
     ]
    }
   ],
   "source": [
    "import xgboost as xgb\n",
    "reg = xgb.XGBRegressor().fit(X_train, y_train)\n",
    "y_pred =reg.predict(X_test)\n",
    "# print(reg.score(X_test, y_test))\n",
    "# print(\"切片：{}\".format(reg.intercept_))\n",
    "# print(\"回帰係数：{}\".format(reg.coef_))\n",
    "print(reg)\n",
    "print(\"交差検証法：{}\".format(cross_val_score(reg, X, y, cv=kfold)))\n",
    "print(\"交差検証法(平均)：{}\".format(cross_val_score(reg, X, y, cv=kfold).mean()))\n",
    "print(\"平均絶対誤差 (MAE):{}\".format(mean_absolute_error(y_test, y_pred)))\n",
    "print(\"平均二乗誤差 (MSE):{}\".format(mean_squared_error(y_test, y_pred)))\n",
    "print(\"二乗平均平方根誤差 (RMSE):{}\".format(np.sqrt(mean_squared_error(y_test, y_pred))))\n",
    "print(\"決定係数 (R**2) :{}\".format(r2_score(y_test, y_pred)))"
   ]
  },
  {
   "cell_type": "code",
   "execution_count": 75,
   "metadata": {},
   "outputs": [
    {
     "data": {
      "text/html": [
       "<div>\n",
       "<style scoped>\n",
       "    .dataframe tbody tr th:only-of-type {\n",
       "        vertical-align: middle;\n",
       "    }\n",
       "\n",
       "    .dataframe tbody tr th {\n",
       "        vertical-align: top;\n",
       "    }\n",
       "\n",
       "    .dataframe thead th {\n",
       "        text-align: right;\n",
       "    }\n",
       "</style>\n",
       "<table border=\"1\" class=\"dataframe\">\n",
       "  <thead>\n",
       "    <tr style=\"text-align: right;\">\n",
       "      <th></th>\n",
       "      <th>columns</th>\n",
       "      <th>inportance</th>\n",
       "    </tr>\n",
       "  </thead>\n",
       "  <tbody>\n",
       "    <tr>\n",
       "      <td>0</td>\n",
       "      <td>OverallQual</td>\n",
       "      <td>0.283047</td>\n",
       "    </tr>\n",
       "    <tr>\n",
       "      <td>1</td>\n",
       "      <td>GarageCars</td>\n",
       "      <td>0.107709</td>\n",
       "    </tr>\n",
       "    <tr>\n",
       "      <td>2</td>\n",
       "      <td>BsmtQual_Ex</td>\n",
       "      <td>0.067105</td>\n",
       "    </tr>\n",
       "    <tr>\n",
       "      <td>3</td>\n",
       "      <td>GrLivArea</td>\n",
       "      <td>0.0416543</td>\n",
       "    </tr>\n",
       "    <tr>\n",
       "      <td>4</td>\n",
       "      <td>GarageType_Attchd</td>\n",
       "      <td>0.0387394</td>\n",
       "    </tr>\n",
       "  </tbody>\n",
       "</table>\n",
       "</div>"
      ],
      "text/plain": [
       "             columns inportance\n",
       "0        OverallQual   0.283047\n",
       "1         GarageCars   0.107709\n",
       "2        BsmtQual_Ex   0.067105\n",
       "3          GrLivArea  0.0416543\n",
       "4  GarageType_Attchd  0.0387394"
      ]
     },
     "execution_count": 75,
     "metadata": {},
     "output_type": "execute_result"
    }
   ],
   "source": [
    "importance = reg.feature_importances_.reshape(286,1)\n",
    "column = np.array(X.columns).reshape(286,1)\n",
    "feature = pd.DataFrame(np.hstack([column,importance]), columns=[\"columns\", \"inportance\"])\n",
    "feature_sorted = feature.sort_values('inportance', ascending=False).reset_index()\n",
    "feature_sorted = feature_sorted.drop(\"index\", axis=1)\n",
    "feature_sorted.head()"
   ]
  },
  {
   "cell_type": "code",
   "execution_count": 76,
   "metadata": {},
   "outputs": [],
   "source": [
    "feature_sorted[\"inportance\"] =feature_sorted[\"inportance\"].astype('float64')"
   ]
  },
  {
   "cell_type": "code",
   "execution_count": 77,
   "metadata": {},
   "outputs": [],
   "source": [
    "list_col = []\n",
    "for i in range(len(feature_sorted)):\n",
    "    a = feature_sorted.iloc[i,0]\n",
    "    b = feature_sorted.iloc[i,1]\n",
    "    if b >= 0.008:\n",
    "        list_col.append(a)"
   ]
  },
  {
   "cell_type": "code",
   "execution_count": 78,
   "metadata": {},
   "outputs": [],
   "source": [
    "X = X[list_col]"
   ]
  },
  {
   "cell_type": "code",
   "execution_count": 79,
   "metadata": {},
   "outputs": [],
   "source": [
    "(X_train, X_test,\n",
    " y_train, y_test) = train_test_split(\n",
    "    X, y, test_size=0.25, random_state=0,\n",
    ")"
   ]
  },
  {
   "cell_type": "code",
   "execution_count": 80,
   "metadata": {},
   "outputs": [
    {
     "name": "stdout",
     "output_type": "stream",
     "text": [
      "LocalOutlierFactor(algorithm='auto', contamination='auto', leaf_size=30,\n",
      "                   metric='minkowski', metric_params=None, n_jobs=None,\n",
      "                   n_neighbors=15, novelty=True, p=2)\n",
      "外れ値の数:78\n"
     ]
    },
    {
     "name": "stderr",
     "output_type": "stream",
     "text": [
      "/Users/naoki/opt/anaconda3/lib/python3.7/site-packages/pandas/core/indexes/base.py:4291: FutureWarning: Using a non-tuple sequence for multidimensional indexing is deprecated; use `arr[tuple(seq)]` instead of `arr[seq]`. In the future this will be interpreted as an array index, `arr[np.array(seq)]`, which will result either in an error or a different result.\n",
      "  result = getitem(key)\n"
     ]
    }
   ],
   "source": [
    "from sklearn.neighbors import LocalOutlierFactor ## 外れ値の除外\n",
    "local_outlier_factor = LocalOutlierFactor(contamination='auto', novelty=True, n_neighbors=15)\n",
    "local_outlier_factor.fit(X_train[1:])\n",
    "predicted = local_outlier_factor.predict(X_train[1:])\n",
    "print(local_outlier_factor)\n",
    "Outlier = np.argwhere(predicted == -1) #外れ値のあるインデックス\n",
    "a = [i for i in Outlier.reshape(1,Outlier.shape[0])]\n",
    "print(\"外れ値の数:{}\".format(len(Outlier)))\n",
    "X_train = X_train.drop(index=X_train.index[a])\n",
    "y_train = y_train.drop(index=y_train.index[a])"
   ]
  },
  {
   "cell_type": "code",
   "execution_count": 81,
   "metadata": {},
   "outputs": [],
   "source": [
    "sc = StandardScaler()\n",
    "X_train = sc.fit_transform(X_train)\n",
    "X_test = sc.transform(X_test)"
   ]
  },
  {
   "cell_type": "code",
   "execution_count": 82,
   "metadata": {},
   "outputs": [
    {
     "name": "stdout",
     "output_type": "stream",
     "text": [
      "[13:05:48] WARNING: src/objective/regression_obj.cu:152: reg:linear is now deprecated in favor of reg:squarederror.\n",
      "XGBRegressor(base_score=0.5, booster='gbtree', colsample_bylevel=1,\n",
      "             colsample_bynode=1, colsample_bytree=1, gamma=0,\n",
      "             importance_type='gain', learning_rate=0.1, max_delta_step=0,\n",
      "             max_depth=3, min_child_weight=1, missing=None, n_estimators=100,\n",
      "             n_jobs=1, nthread=None, objective='reg:linear', random_state=0,\n",
      "             reg_alpha=0, reg_lambda=1, scale_pos_weight=1, seed=None,\n",
      "             silent=None, subsample=1, verbosity=1)\n",
      "[13:05:48] WARNING: src/objective/regression_obj.cu:152: reg:linear is now deprecated in favor of reg:squarederror.\n"
     ]
    },
    {
     "name": "stderr",
     "output_type": "stream",
     "text": [
      "/Users/naoki/opt/anaconda3/lib/python3.7/site-packages/xgboost/core.py:587: FutureWarning: Series.base is deprecated and will be removed in a future version\n",
      "  if getattr(data, 'base', None) is not None and \\\n"
     ]
    },
    {
     "name": "stdout",
     "output_type": "stream",
     "text": [
      "[13:05:48] WARNING: src/objective/regression_obj.cu:152: reg:linear is now deprecated in favor of reg:squarederror.\n"
     ]
    },
    {
     "name": "stderr",
     "output_type": "stream",
     "text": [
      "/Users/naoki/opt/anaconda3/lib/python3.7/site-packages/xgboost/core.py:587: FutureWarning: Series.base is deprecated and will be removed in a future version\n",
      "  if getattr(data, 'base', None) is not None and \\\n",
      "/Users/naoki/opt/anaconda3/lib/python3.7/site-packages/xgboost/core.py:587: FutureWarning: Series.base is deprecated and will be removed in a future version\n",
      "  if getattr(data, 'base', None) is not None and \\\n"
     ]
    },
    {
     "name": "stdout",
     "output_type": "stream",
     "text": [
      "[13:05:48] WARNING: src/objective/regression_obj.cu:152: reg:linear is now deprecated in favor of reg:squarederror.\n",
      "[13:05:48] WARNING: src/objective/regression_obj.cu:152: reg:linear is now deprecated in favor of reg:squarederror.\n"
     ]
    },
    {
     "name": "stderr",
     "output_type": "stream",
     "text": [
      "/Users/naoki/opt/anaconda3/lib/python3.7/site-packages/xgboost/core.py:587: FutureWarning: Series.base is deprecated and will be removed in a future version\n",
      "  if getattr(data, 'base', None) is not None and \\\n",
      "/Users/naoki/opt/anaconda3/lib/python3.7/site-packages/xgboost/core.py:587: FutureWarning: Series.base is deprecated and will be removed in a future version\n",
      "  if getattr(data, 'base', None) is not None and \\\n"
     ]
    },
    {
     "name": "stdout",
     "output_type": "stream",
     "text": [
      "[13:05:49] WARNING: src/objective/regression_obj.cu:152: reg:linear is now deprecated in favor of reg:squarederror.\n",
      "[13:05:49] WARNING: src/objective/regression_obj.cu:152: reg:linear is now deprecated in favor of reg:squarederror.\n"
     ]
    },
    {
     "name": "stderr",
     "output_type": "stream",
     "text": [
      "/Users/naoki/opt/anaconda3/lib/python3.7/site-packages/xgboost/core.py:587: FutureWarning: Series.base is deprecated and will be removed in a future version\n",
      "  if getattr(data, 'base', None) is not None and \\\n",
      "/Users/naoki/opt/anaconda3/lib/python3.7/site-packages/xgboost/core.py:587: FutureWarning: Series.base is deprecated and will be removed in a future version\n",
      "  if getattr(data, 'base', None) is not None and \\\n"
     ]
    },
    {
     "name": "stdout",
     "output_type": "stream",
     "text": [
      "[13:05:49] WARNING: src/objective/regression_obj.cu:152: reg:linear is now deprecated in favor of reg:squarederror.\n",
      "[13:05:49] WARNING: src/objective/regression_obj.cu:152: reg:linear is now deprecated in favor of reg:squarederror.\n"
     ]
    },
    {
     "name": "stderr",
     "output_type": "stream",
     "text": [
      "/Users/naoki/opt/anaconda3/lib/python3.7/site-packages/xgboost/core.py:587: FutureWarning: Series.base is deprecated and will be removed in a future version\n",
      "  if getattr(data, 'base', None) is not None and \\\n",
      "/Users/naoki/opt/anaconda3/lib/python3.7/site-packages/xgboost/core.py:587: FutureWarning: Series.base is deprecated and will be removed in a future version\n",
      "  if getattr(data, 'base', None) is not None and \\\n"
     ]
    },
    {
     "name": "stdout",
     "output_type": "stream",
     "text": [
      "[13:05:49] WARNING: src/objective/regression_obj.cu:152: reg:linear is now deprecated in favor of reg:squarederror.\n",
      "[13:05:49] WARNING: src/objective/regression_obj.cu:152: reg:linear is now deprecated in favor of reg:squarederror.\n"
     ]
    },
    {
     "name": "stderr",
     "output_type": "stream",
     "text": [
      "/Users/naoki/opt/anaconda3/lib/python3.7/site-packages/xgboost/core.py:587: FutureWarning: Series.base is deprecated and will be removed in a future version\n",
      "  if getattr(data, 'base', None) is not None and \\\n",
      "/Users/naoki/opt/anaconda3/lib/python3.7/site-packages/xgboost/core.py:587: FutureWarning: Series.base is deprecated and will be removed in a future version\n",
      "  if getattr(data, 'base', None) is not None and \\\n"
     ]
    },
    {
     "name": "stdout",
     "output_type": "stream",
     "text": [
      "交差検証法：[0.86790773 0.86680673 0.90545233 0.72979422 0.91147291 0.88358172\n",
      " 0.91181709 0.89569444 0.92369387 0.87186948]\n",
      "[13:05:49] WARNING: src/objective/regression_obj.cu:152: reg:linear is now deprecated in favor of reg:squarederror.\n",
      "[13:05:49] WARNING: src/objective/regression_obj.cu:152: reg:linear is now deprecated in favor of reg:squarederror.\n"
     ]
    },
    {
     "name": "stderr",
     "output_type": "stream",
     "text": [
      "/Users/naoki/opt/anaconda3/lib/python3.7/site-packages/xgboost/core.py:587: FutureWarning: Series.base is deprecated and will be removed in a future version\n",
      "  if getattr(data, 'base', None) is not None and \\\n",
      "/Users/naoki/opt/anaconda3/lib/python3.7/site-packages/xgboost/core.py:587: FutureWarning: Series.base is deprecated and will be removed in a future version\n",
      "  if getattr(data, 'base', None) is not None and \\\n"
     ]
    },
    {
     "name": "stdout",
     "output_type": "stream",
     "text": [
      "[13:05:50] WARNING: src/objective/regression_obj.cu:152: reg:linear is now deprecated in favor of reg:squarederror.\n",
      "[13:05:50] WARNING: src/objective/regression_obj.cu:152: reg:linear is now deprecated in favor of reg:squarederror.\n"
     ]
    },
    {
     "name": "stderr",
     "output_type": "stream",
     "text": [
      "/Users/naoki/opt/anaconda3/lib/python3.7/site-packages/xgboost/core.py:587: FutureWarning: Series.base is deprecated and will be removed in a future version\n",
      "  if getattr(data, 'base', None) is not None and \\\n",
      "/Users/naoki/opt/anaconda3/lib/python3.7/site-packages/xgboost/core.py:587: FutureWarning: Series.base is deprecated and will be removed in a future version\n",
      "  if getattr(data, 'base', None) is not None and \\\n"
     ]
    },
    {
     "name": "stdout",
     "output_type": "stream",
     "text": [
      "[13:05:50] WARNING: src/objective/regression_obj.cu:152: reg:linear is now deprecated in favor of reg:squarederror.\n",
      "[13:05:50] WARNING: src/objective/regression_obj.cu:152: reg:linear is now deprecated in favor of reg:squarederror.\n"
     ]
    },
    {
     "name": "stderr",
     "output_type": "stream",
     "text": [
      "/Users/naoki/opt/anaconda3/lib/python3.7/site-packages/xgboost/core.py:587: FutureWarning: Series.base is deprecated and will be removed in a future version\n",
      "  if getattr(data, 'base', None) is not None and \\\n",
      "/Users/naoki/opt/anaconda3/lib/python3.7/site-packages/xgboost/core.py:587: FutureWarning: Series.base is deprecated and will be removed in a future version\n",
      "  if getattr(data, 'base', None) is not None and \\\n"
     ]
    },
    {
     "name": "stdout",
     "output_type": "stream",
     "text": [
      "[13:05:50] WARNING: src/objective/regression_obj.cu:152: reg:linear is now deprecated in favor of reg:squarederror.\n",
      "[13:05:50] WARNING: src/objective/regression_obj.cu:152: reg:linear is now deprecated in favor of reg:squarederror.\n"
     ]
    },
    {
     "name": "stderr",
     "output_type": "stream",
     "text": [
      "/Users/naoki/opt/anaconda3/lib/python3.7/site-packages/xgboost/core.py:587: FutureWarning: Series.base is deprecated and will be removed in a future version\n",
      "  if getattr(data, 'base', None) is not None and \\\n",
      "/Users/naoki/opt/anaconda3/lib/python3.7/site-packages/xgboost/core.py:587: FutureWarning: Series.base is deprecated and will be removed in a future version\n",
      "  if getattr(data, 'base', None) is not None and \\\n"
     ]
    },
    {
     "name": "stdout",
     "output_type": "stream",
     "text": [
      "[13:05:50] WARNING: src/objective/regression_obj.cu:152: reg:linear is now deprecated in favor of reg:squarederror.\n",
      "[13:05:51] WARNING: src/objective/regression_obj.cu:152: reg:linear is now deprecated in favor of reg:squarederror.\n",
      "交差検証法(平均)：0.8768090509650645\n",
      "平均絶対誤差 (MAE):17046.36346318493\n",
      "平均二乗誤差 (MSE):635760230.5468267\n",
      "二乗平均平方根誤差 (RMSE):25214.286239091256\n",
      "決定係数 (R**2) :0.9037006598791382\n"
     ]
    },
    {
     "name": "stderr",
     "output_type": "stream",
     "text": [
      "/Users/naoki/opt/anaconda3/lib/python3.7/site-packages/xgboost/core.py:587: FutureWarning: Series.base is deprecated and will be removed in a future version\n",
      "  if getattr(data, 'base', None) is not None and \\\n"
     ]
    }
   ],
   "source": [
    "reg = xgb.XGBRegressor(n_estimators=100, max_depth=3).fit(X_train, y_train)\n",
    "y_pred =reg.predict(X_test)\n",
    "# print(reg.score(X_test, y_test))\n",
    "# print(\"切片：{}\".format(reg.intercept_))\n",
    "# print(\"回帰係数：{}\".format(reg.coef_))\n",
    "print(reg)\n",
    "print(\"交差検証法：{}\".format(cross_val_score(reg, X, y, cv=kfold)))\n",
    "print(\"交差検証法(平均)：{}\".format(cross_val_score(reg, X, y, cv=kfold).mean()))\n",
    "print(\"平均絶対誤差 (MAE):{}\".format(mean_absolute_error(y_test, y_pred)))\n",
    "print(\"平均二乗誤差 (MSE):{}\".format(mean_squared_error(y_test, y_pred)))\n",
    "print(\"二乗平均平方根誤差 (RMSE):{}\".format(np.sqrt(mean_squared_error(y_test, y_pred))))\n",
    "print(\"決定係数 (R**2) :{}\".format(r2_score(y_test, y_pred)))"
   ]
  },
  {
   "cell_type": "code",
   "execution_count": 83,
   "metadata": {},
   "outputs": [
    {
     "name": "stdout",
     "output_type": "stream",
     "text": [
      "[13:05:51] WARNING: src/objective/regression_obj.cu:152: reg:linear is now deprecated in favor of reg:squarederror.\n"
     ]
    },
    {
     "name": "stderr",
     "output_type": "stream",
     "text": [
      "/Users/naoki/opt/anaconda3/lib/python3.7/site-packages/xgboost/core.py:587: FutureWarning: Series.base is deprecated and will be removed in a future version\n",
      "  if getattr(data, 'base', None) is not None and \\\n"
     ]
    },
    {
     "name": "stdout",
     "output_type": "stream",
     "text": [
      "XGBRegressor(base_score=0.5, booster='gbtree', colsample_bylevel=1,\n",
      "             colsample_bynode=1, colsample_bytree=1, gamma=0,\n",
      "             importance_type='gain', learning_rate=0.1, max_delta_step=0,\n",
      "             max_depth=3, min_child_weight=1, missing=None, n_estimators=1000,\n",
      "             n_jobs=1, nthread=None, objective='reg:linear', random_state=0,\n",
      "             reg_alpha=0, reg_lambda=1, scale_pos_weight=1, seed=None,\n",
      "             silent=None, subsample=1, verbosity=1)\n",
      "[13:05:52] WARNING: src/objective/regression_obj.cu:152: reg:linear is now deprecated in favor of reg:squarederror.\n"
     ]
    },
    {
     "name": "stderr",
     "output_type": "stream",
     "text": [
      "/Users/naoki/opt/anaconda3/lib/python3.7/site-packages/xgboost/core.py:587: FutureWarning: Series.base is deprecated and will be removed in a future version\n",
      "  if getattr(data, 'base', None) is not None and \\\n"
     ]
    },
    {
     "name": "stdout",
     "output_type": "stream",
     "text": [
      "[13:05:53] WARNING: src/objective/regression_obj.cu:152: reg:linear is now deprecated in favor of reg:squarederror.\n"
     ]
    },
    {
     "name": "stderr",
     "output_type": "stream",
     "text": [
      "/Users/naoki/opt/anaconda3/lib/python3.7/site-packages/xgboost/core.py:587: FutureWarning: Series.base is deprecated and will be removed in a future version\n",
      "  if getattr(data, 'base', None) is not None and \\\n"
     ]
    },
    {
     "name": "stdout",
     "output_type": "stream",
     "text": [
      "[13:05:54] WARNING: src/objective/regression_obj.cu:152: reg:linear is now deprecated in favor of reg:squarederror.\n"
     ]
    },
    {
     "name": "stderr",
     "output_type": "stream",
     "text": [
      "/Users/naoki/opt/anaconda3/lib/python3.7/site-packages/xgboost/core.py:587: FutureWarning: Series.base is deprecated and will be removed in a future version\n",
      "  if getattr(data, 'base', None) is not None and \\\n"
     ]
    },
    {
     "name": "stdout",
     "output_type": "stream",
     "text": [
      "[13:05:55] WARNING: src/objective/regression_obj.cu:152: reg:linear is now deprecated in favor of reg:squarederror.\n"
     ]
    },
    {
     "name": "stderr",
     "output_type": "stream",
     "text": [
      "/Users/naoki/opt/anaconda3/lib/python3.7/site-packages/xgboost/core.py:587: FutureWarning: Series.base is deprecated and will be removed in a future version\n",
      "  if getattr(data, 'base', None) is not None and \\\n"
     ]
    },
    {
     "name": "stdout",
     "output_type": "stream",
     "text": [
      "[13:05:56] WARNING: src/objective/regression_obj.cu:152: reg:linear is now deprecated in favor of reg:squarederror.\n"
     ]
    },
    {
     "name": "stderr",
     "output_type": "stream",
     "text": [
      "/Users/naoki/opt/anaconda3/lib/python3.7/site-packages/xgboost/core.py:587: FutureWarning: Series.base is deprecated and will be removed in a future version\n",
      "  if getattr(data, 'base', None) is not None and \\\n"
     ]
    },
    {
     "name": "stdout",
     "output_type": "stream",
     "text": [
      "[13:05:58] WARNING: src/objective/regression_obj.cu:152: reg:linear is now deprecated in favor of reg:squarederror.\n"
     ]
    },
    {
     "name": "stderr",
     "output_type": "stream",
     "text": [
      "/Users/naoki/opt/anaconda3/lib/python3.7/site-packages/xgboost/core.py:587: FutureWarning: Series.base is deprecated and will be removed in a future version\n",
      "  if getattr(data, 'base', None) is not None and \\\n"
     ]
    },
    {
     "name": "stdout",
     "output_type": "stream",
     "text": [
      "[13:05:59] WARNING: src/objective/regression_obj.cu:152: reg:linear is now deprecated in favor of reg:squarederror.\n"
     ]
    },
    {
     "name": "stderr",
     "output_type": "stream",
     "text": [
      "/Users/naoki/opt/anaconda3/lib/python3.7/site-packages/xgboost/core.py:587: FutureWarning: Series.base is deprecated and will be removed in a future version\n",
      "  if getattr(data, 'base', None) is not None and \\\n"
     ]
    },
    {
     "name": "stdout",
     "output_type": "stream",
     "text": [
      "[13:06:00] WARNING: src/objective/regression_obj.cu:152: reg:linear is now deprecated in favor of reg:squarederror.\n"
     ]
    },
    {
     "name": "stderr",
     "output_type": "stream",
     "text": [
      "/Users/naoki/opt/anaconda3/lib/python3.7/site-packages/xgboost/core.py:587: FutureWarning: Series.base is deprecated and will be removed in a future version\n",
      "  if getattr(data, 'base', None) is not None and \\\n"
     ]
    },
    {
     "name": "stdout",
     "output_type": "stream",
     "text": [
      "[13:06:01] WARNING: src/objective/regression_obj.cu:152: reg:linear is now deprecated in favor of reg:squarederror.\n"
     ]
    },
    {
     "name": "stderr",
     "output_type": "stream",
     "text": [
      "/Users/naoki/opt/anaconda3/lib/python3.7/site-packages/xgboost/core.py:587: FutureWarning: Series.base is deprecated and will be removed in a future version\n",
      "  if getattr(data, 'base', None) is not None and \\\n"
     ]
    },
    {
     "name": "stdout",
     "output_type": "stream",
     "text": [
      "[13:06:03] WARNING: src/objective/regression_obj.cu:152: reg:linear is now deprecated in favor of reg:squarederror.\n",
      "交差検証法：[0.84624375 0.85728521 0.9036984  0.71128849 0.91103511 0.88940942\n",
      " 0.92310626 0.87748381 0.91459673 0.88333965]\n",
      "[13:06:04] WARNING: src/objective/regression_obj.cu:152: reg:linear is now deprecated in favor of reg:squarederror.\n"
     ]
    },
    {
     "name": "stderr",
     "output_type": "stream",
     "text": [
      "/Users/naoki/opt/anaconda3/lib/python3.7/site-packages/xgboost/core.py:587: FutureWarning: Series.base is deprecated and will be removed in a future version\n",
      "  if getattr(data, 'base', None) is not None and \\\n",
      "/Users/naoki/opt/anaconda3/lib/python3.7/site-packages/xgboost/core.py:587: FutureWarning: Series.base is deprecated and will be removed in a future version\n",
      "  if getattr(data, 'base', None) is not None and \\\n"
     ]
    },
    {
     "name": "stdout",
     "output_type": "stream",
     "text": [
      "[13:06:05] WARNING: src/objective/regression_obj.cu:152: reg:linear is now deprecated in favor of reg:squarederror.\n"
     ]
    },
    {
     "name": "stderr",
     "output_type": "stream",
     "text": [
      "/Users/naoki/opt/anaconda3/lib/python3.7/site-packages/xgboost/core.py:587: FutureWarning: Series.base is deprecated and will be removed in a future version\n",
      "  if getattr(data, 'base', None) is not None and \\\n"
     ]
    },
    {
     "name": "stdout",
     "output_type": "stream",
     "text": [
      "[13:06:06] WARNING: src/objective/regression_obj.cu:152: reg:linear is now deprecated in favor of reg:squarederror.\n"
     ]
    },
    {
     "name": "stderr",
     "output_type": "stream",
     "text": [
      "/Users/naoki/opt/anaconda3/lib/python3.7/site-packages/xgboost/core.py:587: FutureWarning: Series.base is deprecated and will be removed in a future version\n",
      "  if getattr(data, 'base', None) is not None and \\\n"
     ]
    },
    {
     "name": "stdout",
     "output_type": "stream",
     "text": [
      "[13:06:07] WARNING: src/objective/regression_obj.cu:152: reg:linear is now deprecated in favor of reg:squarederror.\n"
     ]
    },
    {
     "name": "stderr",
     "output_type": "stream",
     "text": [
      "/Users/naoki/opt/anaconda3/lib/python3.7/site-packages/xgboost/core.py:587: FutureWarning: Series.base is deprecated and will be removed in a future version\n",
      "  if getattr(data, 'base', None) is not None and \\\n"
     ]
    },
    {
     "name": "stdout",
     "output_type": "stream",
     "text": [
      "[13:06:09] WARNING: src/objective/regression_obj.cu:152: reg:linear is now deprecated in favor of reg:squarederror.\n"
     ]
    },
    {
     "name": "stderr",
     "output_type": "stream",
     "text": [
      "/Users/naoki/opt/anaconda3/lib/python3.7/site-packages/xgboost/core.py:587: FutureWarning: Series.base is deprecated and will be removed in a future version\n",
      "  if getattr(data, 'base', None) is not None and \\\n"
     ]
    },
    {
     "name": "stdout",
     "output_type": "stream",
     "text": [
      "[13:06:10] WARNING: src/objective/regression_obj.cu:152: reg:linear is now deprecated in favor of reg:squarederror.\n"
     ]
    },
    {
     "name": "stderr",
     "output_type": "stream",
     "text": [
      "/Users/naoki/opt/anaconda3/lib/python3.7/site-packages/xgboost/core.py:587: FutureWarning: Series.base is deprecated and will be removed in a future version\n",
      "  if getattr(data, 'base', None) is not None and \\\n"
     ]
    },
    {
     "name": "stdout",
     "output_type": "stream",
     "text": [
      "[13:06:11] WARNING: src/objective/regression_obj.cu:152: reg:linear is now deprecated in favor of reg:squarederror.\n"
     ]
    },
    {
     "name": "stderr",
     "output_type": "stream",
     "text": [
      "/Users/naoki/opt/anaconda3/lib/python3.7/site-packages/xgboost/core.py:587: FutureWarning: Series.base is deprecated and will be removed in a future version\n",
      "  if getattr(data, 'base', None) is not None and \\\n"
     ]
    },
    {
     "name": "stdout",
     "output_type": "stream",
     "text": [
      "[13:06:12] WARNING: src/objective/regression_obj.cu:152: reg:linear is now deprecated in favor of reg:squarederror.\n"
     ]
    },
    {
     "name": "stderr",
     "output_type": "stream",
     "text": [
      "/Users/naoki/opt/anaconda3/lib/python3.7/site-packages/xgboost/core.py:587: FutureWarning: Series.base is deprecated and will be removed in a future version\n",
      "  if getattr(data, 'base', None) is not None and \\\n"
     ]
    },
    {
     "name": "stdout",
     "output_type": "stream",
     "text": [
      "[13:06:13] WARNING: src/objective/regression_obj.cu:152: reg:linear is now deprecated in favor of reg:squarederror.\n"
     ]
    },
    {
     "name": "stderr",
     "output_type": "stream",
     "text": [
      "/Users/naoki/opt/anaconda3/lib/python3.7/site-packages/xgboost/core.py:587: FutureWarning: Series.base is deprecated and will be removed in a future version\n",
      "  if getattr(data, 'base', None) is not None and \\\n"
     ]
    },
    {
     "name": "stdout",
     "output_type": "stream",
     "text": [
      "[13:06:14] WARNING: src/objective/regression_obj.cu:152: reg:linear is now deprecated in favor of reg:squarederror.\n",
      "交差検証法(平均)：0.8717486827272178\n",
      "平均絶対誤差 (MAE):18006.807716181505\n",
      "平均二乗誤差 (MSE):748162883.548481\n",
      "二乗平均平方根誤差 (RMSE):27352.566306445195\n",
      "決定係数 (R**2) :0.8866748995503058\n"
     ]
    }
   ],
   "source": [
    "reg = xgb.XGBRegressor(n_estimators=1000, max_depth=3).fit(X_train, y_train)\n",
    "y_pred =reg.predict(X_test)\n",
    "# print(reg.score(X_test, y_test))\n",
    "# print(\"切片：{}\".format(reg.intercept_))\n",
    "# print(\"回帰係数：{}\".format(reg.coef_))\n",
    "print(reg)\n",
    "print(\"交差検証法：{}\".format(cross_val_score(reg, X, y, cv=kfold)))\n",
    "print(\"交差検証法(平均)：{}\".format(cross_val_score(reg, X, y, cv=kfold).mean()))\n",
    "print(\"平均絶対誤差 (MAE):{}\".format(mean_absolute_error(y_test, y_pred)))\n",
    "print(\"平均二乗誤差 (MSE):{}\".format(mean_squared_error(y_test, y_pred)))\n",
    "print(\"二乗平均平方根誤差 (RMSE):{}\".format(np.sqrt(mean_squared_error(y_test, y_pred))))\n",
    "print(\"決定係数 (R**2) :{}\".format(r2_score(y_test, y_pred)))"
   ]
  },
  {
   "cell_type": "code",
   "execution_count": 84,
   "metadata": {},
   "outputs": [],
   "source": [
    "X = housing_mix.drop([\"SalePrice\"],axis=1)\n",
    "y = housing_mix[\"SalePrice\"]\n",
    "(X_train, X_test,\n",
    " y_train, y_test) = train_test_split(\n",
    "    X, y, test_size=0.25, random_state=0,\n",
    ")\n"
   ]
  },
  {
   "cell_type": "code",
   "execution_count": 85,
   "metadata": {},
   "outputs": [],
   "source": [
    "sc = StandardScaler()\n",
    "X_train = sc.fit_transform(X_train)\n",
    "X_test = sc.transform(X_test)"
   ]
  },
  {
   "cell_type": "code",
   "execution_count": 86,
   "metadata": {},
   "outputs": [],
   "source": [
    "import lightgbm as lgb"
   ]
  },
  {
   "cell_type": "code",
   "execution_count": 87,
   "metadata": {},
   "outputs": [
    {
     "name": "stdout",
     "output_type": "stream",
     "text": [
      "LGBMRegressor(boosting_type='gbdt', class_weight=None, colsample_bytree=1.0,\n",
      "              importance_type='split', learning_rate=0.1, max_depth=-1,\n",
      "              min_child_samples=20, min_child_weight=0.001, min_split_gain=0.0,\n",
      "              n_estimators=100, n_jobs=-1, num_leaves=31, objective=None,\n",
      "              random_state=None, reg_alpha=0.0, reg_lambda=0.0, silent=True,\n",
      "              subsample=1.0, subsample_for_bin=200000, subsample_freq=0)\n",
      "交差検証法：[0.87685204 0.90674741 0.91392947 0.75974244 0.88330951 0.88745955\n",
      " 0.87987021 0.91480107 0.79724775 0.87256091]\n",
      "交差検証法(平均)：0.869252035983197\n",
      "平均絶対誤差 (MAE):16418.702083062777\n",
      "平均二乗誤差 (MSE):973268660.7087163\n",
      "二乗平均平方根誤差 (RMSE):31197.25405718773\n",
      "決定係数 (R**2) :0.8525778661777098\n"
     ]
    }
   ],
   "source": [
    "reg = lgb.LGBMRegressor().fit(X_train, y_train)\n",
    "y_pred =reg.predict(X_test)\n",
    "# print(reg.score(X_test, y_test))\n",
    "# print(\"切片：{}\".format(reg.intercept_))\n",
    "# print(\"回帰係数：{}\".format(reg.coef_))\n",
    "print(reg)\n",
    "print(\"交差検証法：{}\".format(cross_val_score(reg, X, y, cv=kfold)))\n",
    "print(\"交差検証法(平均)：{}\".format(cross_val_score(reg, X, y, cv=kfold).mean()))\n",
    "print(\"平均絶対誤差 (MAE):{}\".format(mean_absolute_error(y_test, y_pred)))\n",
    "print(\"平均二乗誤差 (MSE):{}\".format(mean_squared_error(y_test, y_pred)))\n",
    "print(\"二乗平均平方根誤差 (RMSE):{}\".format(np.sqrt(mean_squared_error(y_test, y_pred))))\n",
    "print(\"決定係数 (R**2) :{}\".format(r2_score(y_test, y_pred)))"
   ]
  },
  {
   "cell_type": "code",
   "execution_count": 88,
   "metadata": {},
   "outputs": [
    {
     "data": {
      "text/html": [
       "<div>\n",
       "<style scoped>\n",
       "    .dataframe tbody tr th:only-of-type {\n",
       "        vertical-align: middle;\n",
       "    }\n",
       "\n",
       "    .dataframe tbody tr th {\n",
       "        vertical-align: top;\n",
       "    }\n",
       "\n",
       "    .dataframe thead th {\n",
       "        text-align: right;\n",
       "    }\n",
       "</style>\n",
       "<table border=\"1\" class=\"dataframe\">\n",
       "  <thead>\n",
       "    <tr style=\"text-align: right;\">\n",
       "      <th></th>\n",
       "      <th>columns</th>\n",
       "      <th>inportance</th>\n",
       "    </tr>\n",
       "  </thead>\n",
       "  <tbody>\n",
       "    <tr>\n",
       "      <td>0</td>\n",
       "      <td>GrLivArea</td>\n",
       "      <td>282</td>\n",
       "    </tr>\n",
       "    <tr>\n",
       "      <td>1</td>\n",
       "      <td>LotArea</td>\n",
       "      <td>216</td>\n",
       "    </tr>\n",
       "    <tr>\n",
       "      <td>2</td>\n",
       "      <td>TotalBsmtSF</td>\n",
       "      <td>175</td>\n",
       "    </tr>\n",
       "    <tr>\n",
       "      <td>3</td>\n",
       "      <td>1stFlrSF</td>\n",
       "      <td>169</td>\n",
       "    </tr>\n",
       "    <tr>\n",
       "      <td>4</td>\n",
       "      <td>GarageArea</td>\n",
       "      <td>169</td>\n",
       "    </tr>\n",
       "  </tbody>\n",
       "</table>\n",
       "</div>"
      ],
      "text/plain": [
       "       columns inportance\n",
       "0    GrLivArea        282\n",
       "1      LotArea        216\n",
       "2  TotalBsmtSF        175\n",
       "3     1stFlrSF        169\n",
       "4   GarageArea        169"
      ]
     },
     "execution_count": 88,
     "metadata": {},
     "output_type": "execute_result"
    }
   ],
   "source": [
    "importance = reg.feature_importances_.reshape(len(reg.feature_importances_),1)\n",
    "column = np.array(X.columns).reshape(len(reg.feature_importances_),1)\n",
    "feature = pd.DataFrame(np.hstack([column,importance]), columns=[\"columns\", \"inportance\"])\n",
    "feature_sorted = feature.sort_values('inportance', ascending=False).reset_index()\n",
    "feature_sorted = feature_sorted.drop(\"index\", axis=1)\n",
    "feature_sorted.head()"
   ]
  },
  {
   "cell_type": "code",
   "execution_count": 89,
   "metadata": {},
   "outputs": [],
   "source": [
    "feature_sorted[\"inportance\"] =feature_sorted[\"inportance\"].astype('float64')"
   ]
  },
  {
   "cell_type": "code",
   "execution_count": 90,
   "metadata": {},
   "outputs": [],
   "source": [
    "list_col = []\n",
    "for i in range(len(feature_sorted)):\n",
    "    a = feature_sorted.iloc[i,0]\n",
    "    b = feature_sorted.iloc[i,1]\n",
    "    if b >= 0.008:\n",
    "        list_col.append(a)"
   ]
  },
  {
   "cell_type": "code",
   "execution_count": 91,
   "metadata": {},
   "outputs": [],
   "source": [
    "X = X[list_col]"
   ]
  },
  {
   "cell_type": "code",
   "execution_count": 92,
   "metadata": {},
   "outputs": [],
   "source": [
    "(X_train, X_test,\n",
    " y_train, y_test) = train_test_split(\n",
    "    X, y, test_size=0.25, random_state=0,\n",
    ")"
   ]
  },
  {
   "cell_type": "code",
   "execution_count": 93,
   "metadata": {},
   "outputs": [],
   "source": [
    "sc = StandardScaler()\n",
    "X_train = sc.fit_transform(X_train)\n",
    "X_test = sc.transform(X_test)"
   ]
  },
  {
   "cell_type": "code",
   "execution_count": 94,
   "metadata": {},
   "outputs": [
    {
     "name": "stdout",
     "output_type": "stream",
     "text": [
      "LGBMRegressor(boosting_type='gbdt', class_weight=None, colsample_bytree=1.0,\n",
      "              importance_type='split', learning_rate=0.1, max_depth=5,\n",
      "              min_child_samples=20, min_child_weight=0.001, min_split_gain=0.0,\n",
      "              n_estimators=100, n_jobs=-1, num_leaves=31, objective=None,\n",
      "              random_state=None, reg_alpha=0.0, reg_lambda=0.0, silent=True,\n",
      "              subsample=1.0, subsample_for_bin=200000, subsample_freq=0)\n",
      "交差検証法：[0.88287545 0.90736657 0.91385404 0.7832131  0.88313314 0.90364462\n",
      " 0.89447983 0.91750519 0.80998895 0.87539765]\n",
      "交差検証法(平均)：0.877145854554889\n",
      "平均絶対誤差 (MAE):15874.945650804946\n",
      "平均二乗誤差 (MSE):846097161.0797946\n",
      "二乗平均平方根誤差 (RMSE):29087.749329911978\n",
      "決定係数 (R**2) :0.8718406808490713\n"
     ]
    }
   ],
   "source": [
    "reg = lgb.LGBMRegressor(n_estimators=100, max_depth=5).fit(X_train, y_train)\n",
    "y_pred =reg.predict(X_test)\n",
    "# print(reg.score(X_test, y_test))\n",
    "# print(\"切片：{}\".format(reg.intercept_))\n",
    "# print(\"回帰係数：{}\".format(reg.coef_))\n",
    "print(reg)\n",
    "print(\"交差検証法：{}\".format(cross_val_score(reg, X, y, cv=kfold)))\n",
    "print(\"交差検証法(平均)：{}\".format(cross_val_score(reg, X, y, cv=kfold).mean()))\n",
    "print(\"平均絶対誤差 (MAE):{}\".format(mean_absolute_error(y_test, y_pred)))\n",
    "print(\"平均二乗誤差 (MSE):{}\".format(mean_squared_error(y_test, y_pred)))\n",
    "print(\"二乗平均平方根誤差 (RMSE):{}\".format(np.sqrt(mean_squared_error(y_test, y_pred))))\n",
    "print(\"決定係数 (R**2) :{}\".format(r2_score(y_test, y_pred)))"
   ]
  },
  {
   "cell_type": "code",
   "execution_count": 95,
   "metadata": {},
   "outputs": [
    {
     "name": "stdout",
     "output_type": "stream",
     "text": [
      "LGBMRegressor(boosting_type='gbdt', class_weight=None, colsample_bytree=1.0,\n",
      "              importance_type='split', learning_rate=0.1, max_depth=3,\n",
      "              min_child_samples=20, min_child_weight=0.001, min_split_gain=0.0,\n",
      "              n_estimators=1000, n_jobs=-1, num_leaves=31, objective=None,\n",
      "              random_state=None, reg_alpha=0.0, reg_lambda=0.0, silent=True,\n",
      "              subsample=1.0, subsample_for_bin=200000, subsample_freq=0)\n",
      "交差検証法：[0.88398462 0.91690231 0.90067082 0.80096426 0.86284268 0.89326126\n",
      " 0.8980622  0.90083521 0.84150491 0.87287281]\n",
      "交差検証法(平均)：0.8771901082936182\n",
      "平均絶対誤差 (MAE):16729.865148241235\n",
      "平均二乗誤差 (MSE):774073527.7958095\n",
      "二乗平均平方根誤差 (RMSE):27822.176906126693\n",
      "決定係数 (R**2) :0.8827501841887015\n"
     ]
    }
   ],
   "source": [
    "reg = lgb.LGBMRegressor(n_estimators=1000, max_depth=3).fit(X_train, y_train)\n",
    "y_pred =reg.predict(X_test)\n",
    "# print(reg.score(X_test, y_test))\n",
    "# print(\"切片：{}\".format(reg.intercept_))\n",
    "# print(\"回帰係数：{}\".format(reg.coef_))\n",
    "print(reg)\n",
    "print(\"交差検証法：{}\".format(cross_val_score(reg, X, y, cv=kfold)))\n",
    "print(\"交差検証法(平均)：{}\".format(cross_val_score(reg, X, y, cv=kfold).mean()))\n",
    "print(\"平均絶対誤差 (MAE):{}\".format(mean_absolute_error(y_test, y_pred)))\n",
    "print(\"平均二乗誤差 (MSE):{}\".format(mean_squared_error(y_test, y_pred)))\n",
    "print(\"二乗平均平方根誤差 (RMSE):{}\".format(np.sqrt(mean_squared_error(y_test, y_pred))))\n",
    "print(\"決定係数 (R**2) :{}\".format(r2_score(y_test, y_pred)))"
   ]
  },
  {
   "cell_type": "code",
   "execution_count": null,
   "metadata": {},
   "outputs": [],
   "source": []
  }
 ],
 "metadata": {
  "kernelspec": {
   "display_name": "Python 3",
   "language": "python",
   "name": "python3"
  },
  "language_info": {
   "codemirror_mode": {
    "name": "ipython",
    "version": 3
   },
   "file_extension": ".py",
   "mimetype": "text/x-python",
   "name": "python",
   "nbconvert_exporter": "python",
   "pygments_lexer": "ipython3",
   "version": "3.7.4"
  },
  "toc": {
   "base_numbering": 1,
   "nav_menu": {},
   "number_sections": true,
   "sideBar": true,
   "skip_h1_title": false,
   "title_cell": "Table of Contents",
   "title_sidebar": "Contents",
   "toc_cell": false,
   "toc_position": {},
   "toc_section_display": true,
   "toc_window_display": false
  },
  "varInspector": {
   "cols": {
    "lenName": 16,
    "lenType": 16,
    "lenVar": 40
   },
   "kernels_config": {
    "python": {
     "delete_cmd_postfix": "",
     "delete_cmd_prefix": "del ",
     "library": "var_list.py",
     "varRefreshCmd": "print(var_dic_list())"
    },
    "r": {
     "delete_cmd_postfix": ") ",
     "delete_cmd_prefix": "rm(",
     "library": "var_list.r",
     "varRefreshCmd": "cat(var_dic_list()) "
    }
   },
   "position": {
    "height": "866.215px",
    "left": "624.444px",
    "right": "20px",
    "top": "120px",
    "width": "277.778px"
   },
   "types_to_exclude": [
    "module",
    "function",
    "builtin_function_or_method",
    "instance",
    "_Feature"
   ],
   "window_display": false
  }
 },
 "nbformat": 4,
 "nbformat_minor": 4
}
