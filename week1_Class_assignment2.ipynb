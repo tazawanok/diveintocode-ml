{
 "cells": [
  {
   "cell_type": "markdown",
   "metadata": {},
   "source": [
    " ## 【問題1】富士山を超える最小の折る回数\n",
    "厚さが「富士山(3776m)」を超えるのは何回紙を折った時か計算するプログラムを作成してください。"
   ]
  },
  {
   "cell_type": "code",
   "execution_count": 1,
   "metadata": {
    "scrolled": true
   },
   "outputs": [
    {
     "name": "stdout",
     "output_type": "stream",
     "text": [
      "0 8e-05\n",
      "1 0.00016\n",
      "2 0.00032\n",
      "3 0.00064\n",
      "4 0.00128\n",
      "5 0.00256\n",
      "6 0.00512\n",
      "7 0.01024\n",
      "8 0.02048\n",
      "9 0.04096\n",
      "10 0.08192\n",
      "11 0.16384\n",
      "12 0.32768\n",
      "13 0.65536\n",
      "14 1.31072\n",
      "15 2.62144\n",
      "16 5.24288\n",
      "17 10.48576\n",
      "18 20.97152\n",
      "19 41.94304\n",
      "20 83.88608\n",
      "21 167.77216\n",
      "22 335.54432\n",
      "23 671.08864\n",
      "24 1342.17728\n",
      "25 2684.35456\n",
      "26回で富士山に届く\n"
     ]
    }
   ],
   "source": [
    "thickness = 0.00008\n",
    "x=0\n",
    "while thickness  < 3776:\n",
    "    print(x,thickness)\n",
    "    thickness *= 2\n",
    "    x +=1\n",
    "print(\"{}回で富士山に届く\".format(x))"
   ]
  },
  {
   "cell_type": "markdown",
   "metadata": {},
   "source": [
    " ## 【問題2】任意の厚さに対応した関数を作成\n",
    "距離を入力すると、何回折った時に超えるかを出力する関数を作成してください。引数として、折る前の厚さ \n",
    "t\n",
    "0\n",
    " も設定できるようにしましょう。\n",
    "\n",
    "この関数を利用して、「最も近い太陽以外の恒星」に到達するには紙を何回折る必要があるか計算してください。「最も近い太陽以外の恒星」の距離は調査してください。"
   ]
  },
  {
   "cell_type": "markdown",
   "metadata": {},
   "source": [
    " - 最も近い太陽以外の恒星はプロキシマ・ケンタウリ　https://ja.wikipedia.org/wiki/%E6%9C%80%E3%82%82%E8%BF%91%E3%81%84%E3%83%BB%E9%81%A0%E3%81%84%E5%A4%A9%E4%BD%93%E3%81%AE%E4%B8%80%E8%A6%A7"
   ]
  },
  {
   "cell_type": "code",
   "execution_count": 2,
   "metadata": {},
   "outputs": [],
   "source": [
    "def THICKNESS(thickness=0.00008, dis=3776):\n",
    "    y = 0\n",
    "    while thickness  <= dis:\n",
    "#         print(y,thickness)\n",
    "        thickness *= 2\n",
    "        y +=1\n",
    "    print(\"{}回\".format(y))"
   ]
  },
  {
   "cell_type": "code",
   "execution_count": 3,
   "metadata": {},
   "outputs": [
    {
     "name": "stdout",
     "output_type": "stream",
     "text": [
      "富士山まで届くために必要な紙を折る回数\n",
      "26回\n"
     ]
    }
   ],
   "source": [
    "print(\"富士山まで届くために必要な紙を折る回数\")\n",
    "THICKNESS()"
   ]
  },
  {
   "cell_type": "code",
   "execution_count": 4,
   "metadata": {},
   "outputs": [
    {
     "name": "stdout",
     "output_type": "stream",
     "text": [
      "プロキシマ・ケンタウリ:40兆1418億7939万5157km\n",
      "69回\n"
     ]
    }
   ],
   "source": [
    "print(\"プロキシマ・ケンタウリ:40兆1418億7939万5157km\")\n",
    "d = 40141879395157 * 1000\n",
    "\n",
    "THICKNESS(dis = d)"
   ]
  },
  {
   "cell_type": "markdown",
   "metadata": {},
   "source": [
    " ## 【問題3】必要な紙の長さ\n",
    "実際のところ身近にある紙は43回はおろか10回も折れません。しかし、大きな紙ほどたくさん折ることができ、トイレットペーパーのような長い紙を一方向に折ることを考えた時の折れる回数を求める公式が存在します。\n",
    "\n",
    "そしてこれを使って「月」「富士山」「最も近い太陽以外の恒星」に届くために必要な紙の長さを求めてください。"
   ]
  },
  {
   "cell_type": "code",
   "execution_count": 5,
   "metadata": {},
   "outputs": [],
   "source": [
    "import math\n",
    "def paper_fold(t=0.00008, fold=26):\n",
    "    L = (math.pi * t / 6) * (2**fold + 4) * (2 **fold -1)\n",
    "    print(\"厚さ{}メートルの紙を{}回折るのに必要な長さは{}メートル\".format(t,fold,L))"
   ]
  },
  {
   "cell_type": "code",
   "execution_count": 6,
   "metadata": {},
   "outputs": [
    {
     "name": "stdout",
     "output_type": "stream",
     "text": [
      "富士山まで届くために必要な紙を折る回数\n",
      "26回\n"
     ]
    }
   ],
   "source": [
    "print(\"富士山まで届くために必要な紙を折る回数\")\n",
    "THICKNESS()"
   ]
  },
  {
   "cell_type": "code",
   "execution_count": 7,
   "metadata": {},
   "outputs": [
    {
     "name": "stdout",
     "output_type": "stream",
     "text": [
      "富士山に届くために必要な紙の長さ\n",
      "厚さ8e-05メートルの紙を26回折るのに必要な長さは188646348487.24017メートル\n"
     ]
    }
   ],
   "source": [
    "print(\"富士山に届くために必要な紙の長さ\")\n",
    "paper_fold( fold=26)"
   ]
  },
  {
   "cell_type": "markdown",
   "metadata": {},
   "source": [
    " - 地球から月までの距離384,403.9km　https://pc.watch.impress.co.jp/docs/news/1102484.html"
   ]
  },
  {
   "cell_type": "code",
   "execution_count": 8,
   "metadata": {},
   "outputs": [
    {
     "name": "stdout",
     "output_type": "stream",
     "text": [
      "月まで届くために必要な紙を折る回数\n",
      "43回\n"
     ]
    }
   ],
   "source": [
    "print(\"月まで届くために必要な紙を折る回数\")\n",
    "THICKNESS(dis=384403.9*1000)"
   ]
  },
  {
   "cell_type": "code",
   "execution_count": 9,
   "metadata": {},
   "outputs": [
    {
     "name": "stdout",
     "output_type": "stream",
     "text": [
      "月に届くために必要な紙の長さ\n",
      "厚さ8e-05メートルの紙を43回折るのに必要な長さは3.240919444170781e+21メートル\n"
     ]
    }
   ],
   "source": [
    "print(\"月に届くために必要な紙の長さ\")\n",
    "paper_fold( fold=43)"
   ]
  },
  {
   "cell_type": "code",
   "execution_count": 10,
   "metadata": {},
   "outputs": [
    {
     "name": "stdout",
     "output_type": "stream",
     "text": [
      "プロキシマ・ケンタウリまで届くために必要な紙を折る回数\n",
      "69回\n"
     ]
    }
   ],
   "source": [
    "print(\"プロキシマ・ケンタウリまで届くために必要な紙を折る回数\")\n",
    "THICKNESS(dis=40141879395157 * 1000)"
   ]
  },
  {
   "cell_type": "code",
   "execution_count": 11,
   "metadata": {},
   "outputs": [
    {
     "name": "stdout",
     "output_type": "stream",
     "text": [
      "プロキシマ・ケンタウリに届くために必要な紙の長さ\n",
      "厚さ8e-05メートルの紙を69回折るのに必要な長さは1.4595803601100348e+37メートル\n"
     ]
    }
   ],
   "source": [
    "print(\"プロキシマ・ケンタウリに届くために必要な紙の長さ\")\n",
    "paper_fold( fold=69)"
   ]
  },
  {
   "cell_type": "code",
   "execution_count": null,
   "metadata": {},
   "outputs": [],
   "source": []
  }
 ],
 "metadata": {
  "kernelspec": {
   "display_name": "Python 3",
   "language": "python",
   "name": "python3"
  },
  "language_info": {
   "codemirror_mode": {
    "name": "ipython",
    "version": 3
   },
   "file_extension": ".py",
   "mimetype": "text/x-python",
   "name": "python",
   "nbconvert_exporter": "python",
   "pygments_lexer": "ipython3",
   "version": "3.7.3"
  }
 },
 "nbformat": 4,
 "nbformat_minor": 2
}
