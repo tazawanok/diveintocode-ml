{
 "cells": [
  {
   "cell_type": "code",
   "execution_count": 1,
   "metadata": {},
   "outputs": [],
   "source": [
    "import numpy as np\n",
    "import pandas as pd"
   ]
  },
  {
   "cell_type": "code",
   "execution_count": 2,
   "metadata": {},
   "outputs": [],
   "source": [
    "housing = pd.read_csv(\"/Users/naoki/train.csv\")"
   ]
  },
  {
   "cell_type": "code",
   "execution_count": 3,
   "metadata": {},
   "outputs": [
    {
     "data": {
      "text/html": [
       "<div>\n",
       "<style scoped>\n",
       "    .dataframe tbody tr th:only-of-type {\n",
       "        vertical-align: middle;\n",
       "    }\n",
       "\n",
       "    .dataframe tbody tr th {\n",
       "        vertical-align: top;\n",
       "    }\n",
       "\n",
       "    .dataframe thead th {\n",
       "        text-align: right;\n",
       "    }\n",
       "</style>\n",
       "<table border=\"1\" class=\"dataframe\">\n",
       "  <thead>\n",
       "    <tr style=\"text-align: right;\">\n",
       "      <th></th>\n",
       "      <th>Id</th>\n",
       "      <th>MSSubClass</th>\n",
       "      <th>MSZoning</th>\n",
       "      <th>LotFrontage</th>\n",
       "      <th>LotArea</th>\n",
       "      <th>Street</th>\n",
       "      <th>Alley</th>\n",
       "      <th>LotShape</th>\n",
       "      <th>LandContour</th>\n",
       "      <th>Utilities</th>\n",
       "      <th>...</th>\n",
       "      <th>PoolArea</th>\n",
       "      <th>PoolQC</th>\n",
       "      <th>Fence</th>\n",
       "      <th>MiscFeature</th>\n",
       "      <th>MiscVal</th>\n",
       "      <th>MoSold</th>\n",
       "      <th>YrSold</th>\n",
       "      <th>SaleType</th>\n",
       "      <th>SaleCondition</th>\n",
       "      <th>SalePrice</th>\n",
       "    </tr>\n",
       "  </thead>\n",
       "  <tbody>\n",
       "    <tr>\n",
       "      <td>0</td>\n",
       "      <td>1</td>\n",
       "      <td>60</td>\n",
       "      <td>RL</td>\n",
       "      <td>65.0</td>\n",
       "      <td>8450</td>\n",
       "      <td>Pave</td>\n",
       "      <td>NaN</td>\n",
       "      <td>Reg</td>\n",
       "      <td>Lvl</td>\n",
       "      <td>AllPub</td>\n",
       "      <td>...</td>\n",
       "      <td>0</td>\n",
       "      <td>NaN</td>\n",
       "      <td>NaN</td>\n",
       "      <td>NaN</td>\n",
       "      <td>0</td>\n",
       "      <td>2</td>\n",
       "      <td>2008</td>\n",
       "      <td>WD</td>\n",
       "      <td>Normal</td>\n",
       "      <td>208500</td>\n",
       "    </tr>\n",
       "    <tr>\n",
       "      <td>1</td>\n",
       "      <td>2</td>\n",
       "      <td>20</td>\n",
       "      <td>RL</td>\n",
       "      <td>80.0</td>\n",
       "      <td>9600</td>\n",
       "      <td>Pave</td>\n",
       "      <td>NaN</td>\n",
       "      <td>Reg</td>\n",
       "      <td>Lvl</td>\n",
       "      <td>AllPub</td>\n",
       "      <td>...</td>\n",
       "      <td>0</td>\n",
       "      <td>NaN</td>\n",
       "      <td>NaN</td>\n",
       "      <td>NaN</td>\n",
       "      <td>0</td>\n",
       "      <td>5</td>\n",
       "      <td>2007</td>\n",
       "      <td>WD</td>\n",
       "      <td>Normal</td>\n",
       "      <td>181500</td>\n",
       "    </tr>\n",
       "    <tr>\n",
       "      <td>2</td>\n",
       "      <td>3</td>\n",
       "      <td>60</td>\n",
       "      <td>RL</td>\n",
       "      <td>68.0</td>\n",
       "      <td>11250</td>\n",
       "      <td>Pave</td>\n",
       "      <td>NaN</td>\n",
       "      <td>IR1</td>\n",
       "      <td>Lvl</td>\n",
       "      <td>AllPub</td>\n",
       "      <td>...</td>\n",
       "      <td>0</td>\n",
       "      <td>NaN</td>\n",
       "      <td>NaN</td>\n",
       "      <td>NaN</td>\n",
       "      <td>0</td>\n",
       "      <td>9</td>\n",
       "      <td>2008</td>\n",
       "      <td>WD</td>\n",
       "      <td>Normal</td>\n",
       "      <td>223500</td>\n",
       "    </tr>\n",
       "    <tr>\n",
       "      <td>3</td>\n",
       "      <td>4</td>\n",
       "      <td>70</td>\n",
       "      <td>RL</td>\n",
       "      <td>60.0</td>\n",
       "      <td>9550</td>\n",
       "      <td>Pave</td>\n",
       "      <td>NaN</td>\n",
       "      <td>IR1</td>\n",
       "      <td>Lvl</td>\n",
       "      <td>AllPub</td>\n",
       "      <td>...</td>\n",
       "      <td>0</td>\n",
       "      <td>NaN</td>\n",
       "      <td>NaN</td>\n",
       "      <td>NaN</td>\n",
       "      <td>0</td>\n",
       "      <td>2</td>\n",
       "      <td>2006</td>\n",
       "      <td>WD</td>\n",
       "      <td>Abnorml</td>\n",
       "      <td>140000</td>\n",
       "    </tr>\n",
       "    <tr>\n",
       "      <td>4</td>\n",
       "      <td>5</td>\n",
       "      <td>60</td>\n",
       "      <td>RL</td>\n",
       "      <td>84.0</td>\n",
       "      <td>14260</td>\n",
       "      <td>Pave</td>\n",
       "      <td>NaN</td>\n",
       "      <td>IR1</td>\n",
       "      <td>Lvl</td>\n",
       "      <td>AllPub</td>\n",
       "      <td>...</td>\n",
       "      <td>0</td>\n",
       "      <td>NaN</td>\n",
       "      <td>NaN</td>\n",
       "      <td>NaN</td>\n",
       "      <td>0</td>\n",
       "      <td>12</td>\n",
       "      <td>2008</td>\n",
       "      <td>WD</td>\n",
       "      <td>Normal</td>\n",
       "      <td>250000</td>\n",
       "    </tr>\n",
       "  </tbody>\n",
       "</table>\n",
       "<p>5 rows × 81 columns</p>\n",
       "</div>"
      ],
      "text/plain": [
       "   Id  MSSubClass MSZoning  LotFrontage  LotArea Street Alley LotShape  \\\n",
       "0   1          60       RL         65.0     8450   Pave   NaN      Reg   \n",
       "1   2          20       RL         80.0     9600   Pave   NaN      Reg   \n",
       "2   3          60       RL         68.0    11250   Pave   NaN      IR1   \n",
       "3   4          70       RL         60.0     9550   Pave   NaN      IR1   \n",
       "4   5          60       RL         84.0    14260   Pave   NaN      IR1   \n",
       "\n",
       "  LandContour Utilities  ... PoolArea PoolQC Fence MiscFeature MiscVal MoSold  \\\n",
       "0         Lvl    AllPub  ...        0    NaN   NaN         NaN       0      2   \n",
       "1         Lvl    AllPub  ...        0    NaN   NaN         NaN       0      5   \n",
       "2         Lvl    AllPub  ...        0    NaN   NaN         NaN       0      9   \n",
       "3         Lvl    AllPub  ...        0    NaN   NaN         NaN       0      2   \n",
       "4         Lvl    AllPub  ...        0    NaN   NaN         NaN       0     12   \n",
       "\n",
       "  YrSold  SaleType  SaleCondition  SalePrice  \n",
       "0   2008        WD         Normal     208500  \n",
       "1   2007        WD         Normal     181500  \n",
       "2   2008        WD         Normal     223500  \n",
       "3   2006        WD        Abnorml     140000  \n",
       "4   2008        WD         Normal     250000  \n",
       "\n",
       "[5 rows x 81 columns]"
      ]
     },
     "execution_count": 3,
     "metadata": {},
     "output_type": "execute_result"
    }
   ],
   "source": [
    "housing.head()"
   ]
  },
  {
   "cell_type": "code",
   "execution_count": 4,
   "metadata": {},
   "outputs": [
    {
     "data": {
      "text/html": [
       "<div>\n",
       "<style scoped>\n",
       "    .dataframe tbody tr th:only-of-type {\n",
       "        vertical-align: middle;\n",
       "    }\n",
       "\n",
       "    .dataframe tbody tr th {\n",
       "        vertical-align: top;\n",
       "    }\n",
       "\n",
       "    .dataframe thead th {\n",
       "        text-align: right;\n",
       "    }\n",
       "</style>\n",
       "<table border=\"1\" class=\"dataframe\">\n",
       "  <thead>\n",
       "    <tr style=\"text-align: right;\">\n",
       "      <th></th>\n",
       "      <th>GrLivArea</th>\n",
       "      <th>YearBuilt</th>\n",
       "    </tr>\n",
       "  </thead>\n",
       "  <tbody>\n",
       "    <tr>\n",
       "      <td>0</td>\n",
       "      <td>1710</td>\n",
       "      <td>2003</td>\n",
       "    </tr>\n",
       "    <tr>\n",
       "      <td>1</td>\n",
       "      <td>1262</td>\n",
       "      <td>1976</td>\n",
       "    </tr>\n",
       "    <tr>\n",
       "      <td>2</td>\n",
       "      <td>1786</td>\n",
       "      <td>2001</td>\n",
       "    </tr>\n",
       "    <tr>\n",
       "      <td>3</td>\n",
       "      <td>1717</td>\n",
       "      <td>1915</td>\n",
       "    </tr>\n",
       "    <tr>\n",
       "      <td>4</td>\n",
       "      <td>2198</td>\n",
       "      <td>2000</td>\n",
       "    </tr>\n",
       "  </tbody>\n",
       "</table>\n",
       "</div>"
      ],
      "text/plain": [
       "   GrLivArea  YearBuilt\n",
       "0       1710       2003\n",
       "1       1262       1976\n",
       "2       1786       2001\n",
       "3       1717       1915\n",
       "4       2198       2000"
      ]
     },
     "execution_count": 4,
     "metadata": {},
     "output_type": "execute_result"
    }
   ],
   "source": [
    "X = housing[[\"GrLivArea\", \"YearBuilt\"]]\n",
    "X.head()"
   ]
  },
  {
   "cell_type": "code",
   "execution_count": 5,
   "metadata": {},
   "outputs": [
    {
     "data": {
      "text/plain": [
       "0    208500\n",
       "1    181500\n",
       "2    223500\n",
       "3    140000\n",
       "4    250000\n",
       "Name: SalePrice, dtype: int64"
      ]
     },
     "execution_count": 5,
     "metadata": {},
     "output_type": "execute_result"
    }
   ],
   "source": [
    "y = housing[\"SalePrice\"]\n",
    "y.head()"
   ]
  },
  {
   "cell_type": "code",
   "execution_count": 6,
   "metadata": {},
   "outputs": [],
   "source": [
    "from sklearn.model_selection import train_test_split\n",
    "(X_train, X_test,\n",
    " y_train, y_test) = train_test_split(\n",
    "    X, y, test_size=0.3, random_state=0, shuffle=True\n",
    ")"
   ]
  },
  {
   "cell_type": "code",
   "execution_count": 7,
   "metadata": {},
   "outputs": [
    {
     "data": {
      "text/html": [
       "<div>\n",
       "<style scoped>\n",
       "    .dataframe tbody tr th:only-of-type {\n",
       "        vertical-align: middle;\n",
       "    }\n",
       "\n",
       "    .dataframe tbody tr th {\n",
       "        vertical-align: top;\n",
       "    }\n",
       "\n",
       "    .dataframe thead th {\n",
       "        text-align: right;\n",
       "    }\n",
       "</style>\n",
       "<table border=\"1\" class=\"dataframe\">\n",
       "  <thead>\n",
       "    <tr style=\"text-align: right;\">\n",
       "      <th></th>\n",
       "      <th>GrLivArea</th>\n",
       "      <th>YearBuilt</th>\n",
       "    </tr>\n",
       "  </thead>\n",
       "  <tbody>\n",
       "    <tr>\n",
       "      <td>64</td>\n",
       "      <td>2034</td>\n",
       "      <td>1997</td>\n",
       "    </tr>\n",
       "    <tr>\n",
       "      <td>682</td>\n",
       "      <td>1291</td>\n",
       "      <td>1996</td>\n",
       "    </tr>\n",
       "    <tr>\n",
       "      <td>960</td>\n",
       "      <td>858</td>\n",
       "      <td>1958</td>\n",
       "    </tr>\n",
       "    <tr>\n",
       "      <td>1384</td>\n",
       "      <td>1258</td>\n",
       "      <td>1939</td>\n",
       "    </tr>\n",
       "    <tr>\n",
       "      <td>1100</td>\n",
       "      <td>438</td>\n",
       "      <td>1920</td>\n",
       "    </tr>\n",
       "  </tbody>\n",
       "</table>\n",
       "</div>"
      ],
      "text/plain": [
       "      GrLivArea  YearBuilt\n",
       "64         2034       1997\n",
       "682        1291       1996\n",
       "960         858       1958\n",
       "1384       1258       1939\n",
       "1100        438       1920"
      ]
     },
     "execution_count": 7,
     "metadata": {},
     "output_type": "execute_result"
    }
   ],
   "source": [
    "X_train.head()"
   ]
  },
  {
   "cell_type": "code",
   "execution_count": 8,
   "metadata": {},
   "outputs": [
    {
     "data": {
      "text/html": [
       "<div>\n",
       "<style scoped>\n",
       "    .dataframe tbody tr th:only-of-type {\n",
       "        vertical-align: middle;\n",
       "    }\n",
       "\n",
       "    .dataframe tbody tr th {\n",
       "        vertical-align: top;\n",
       "    }\n",
       "\n",
       "    .dataframe thead th {\n",
       "        text-align: right;\n",
       "    }\n",
       "</style>\n",
       "<table border=\"1\" class=\"dataframe\">\n",
       "  <thead>\n",
       "    <tr style=\"text-align: right;\">\n",
       "      <th></th>\n",
       "      <th>GrLivArea</th>\n",
       "      <th>YearBuilt</th>\n",
       "    </tr>\n",
       "  </thead>\n",
       "  <tbody>\n",
       "    <tr>\n",
       "      <td>64</td>\n",
       "      <td>2034</td>\n",
       "      <td>1997</td>\n",
       "    </tr>\n",
       "    <tr>\n",
       "      <td>682</td>\n",
       "      <td>1291</td>\n",
       "      <td>1996</td>\n",
       "    </tr>\n",
       "    <tr>\n",
       "      <td>960</td>\n",
       "      <td>858</td>\n",
       "      <td>1958</td>\n",
       "    </tr>\n",
       "    <tr>\n",
       "      <td>1384</td>\n",
       "      <td>1258</td>\n",
       "      <td>1939</td>\n",
       "    </tr>\n",
       "    <tr>\n",
       "      <td>1100</td>\n",
       "      <td>438</td>\n",
       "      <td>1920</td>\n",
       "    </tr>\n",
       "  </tbody>\n",
       "</table>\n",
       "</div>"
      ],
      "text/plain": [
       "      GrLivArea  YearBuilt\n",
       "64         2034       1997\n",
       "682        1291       1996\n",
       "960         858       1958\n",
       "1384       1258       1939\n",
       "1100        438       1920"
      ]
     },
     "execution_count": 8,
     "metadata": {},
     "output_type": "execute_result"
    }
   ],
   "source": [
    "X_train.head()"
   ]
  },
  {
   "cell_type": "markdown",
   "metadata": {},
   "source": [
    " ## 【問題1】ブレンディングのスクラッチ実装\n",
    "ブレンディング をスクラッチ実装し、単一モデルより精度があがる例を 最低3つ 示してください。精度があがるとは、検証用データに対する平均二乗誤差（MSE）が小さくなることを指します。"
   ]
  },
  {
   "cell_type": "code",
   "execution_count": 9,
   "metadata": {},
   "outputs": [],
   "source": [
    "from sklearn.model_selection import cross_val_predict\n",
    "from sklearn.metrics import mean_squared_error\n",
    "from sklearn.preprocessing import StandardScaler\n",
    "from sklearn.ensemble import RandomForestRegressor"
   ]
  },
  {
   "cell_type": "code",
   "execution_count": 10,
   "metadata": {},
   "outputs": [],
   "source": [
    "from sklearn import linear_model\n",
    "from sklearn.svm import SVR\n",
    "from sklearn.tree import DecisionTreeRegressor\n",
    "from sklearn.linear_model import LinearRegression"
   ]
  },
  {
   "cell_type": "code",
   "execution_count": 11,
   "metadata": {},
   "outputs": [
    {
     "name": "stdout",
     "output_type": "stream",
     "text": [
      "LinearRegression(copy_X=True, fit_intercept=True, n_jobs=None, normalize=True)\n",
      "MSE(linear_model) 2690647926.377604\n",
      "MSE(SVR) 7119069689.683064\n",
      "MSE(DecisionTreeRegressor) 2553443455.30812\n",
      "MSE(mean) 2470929971.5410123\n"
     ]
    }
   ],
   "source": [
    "LM= linear_model.LinearRegression(normalize=True)\n",
    "print(LM)\n",
    "LM.fit(X_train, y_train)\n",
    "LM_pred = LM.predict(X_test)\n",
    "print(\"MSE(linear_model)\",mean_squared_error(y_test, LM_pred))\n",
    "\n",
    "\n",
    "sc = StandardScaler()\n",
    "X_test_std = sc.fit_transform(X_test)\n",
    "X_train_std = sc.fit_transform(X_train)\n",
    "SV= SVR(kernel='rbf')\n",
    "SV.fit(X_train_std, y_train)\n",
    "SV_pred = SV.predict(X_test_std)\n",
    "print(\"MSE(SVR)\",mean_squared_error(y_test, SV_pred))\n",
    "\n",
    "\n",
    "DR = DecisionTreeRegressor(max_depth=3)\n",
    "DR.fit(X_train, y_train)\n",
    "DR_pred = DR.predict(X_test)\n",
    "print(\"MSE(DecisionTreeRegressor)\",mean_squared_error(y_test, DR_pred))\n",
    "\n",
    "mix_pred = np.vstack((LM_pred, SV_pred, DR_pred))\n",
    "mix_pred.shape\n",
    "\n",
    "mean_pred = LM_pred*0.5+SV_pred*0.1+DR_pred*0.4\n",
    "print(\"MSE(mean)\",mean_squared_error(y_test, mean_pred))"
   ]
  },
  {
   "cell_type": "code",
   "execution_count": 12,
   "metadata": {},
   "outputs": [
    {
     "name": "stdout",
     "output_type": "stream",
     "text": [
      "MSE(Lasso) 2690647942.4335794\n",
      "MSE(SVR) 7128920068.0851145\n",
      "MSE(DecisionTreeRegressor) 2553443455.30812\n",
      "MSE(mean) 2413207951.9277983\n"
     ]
    }
   ],
   "source": [
    "from sklearn.linear_model import Lasso\n",
    "\n",
    "Las= Lasso(alpha=0.1)\n",
    "# print(Las)\n",
    "Las.fit(X_train, y_train)\n",
    "Las_pred = Las.predict(X_test)\n",
    "print(\"MSE(Lasso)\",mean_squared_error(y_test, Las_pred))\n",
    "\n",
    "\n",
    "sc = StandardScaler()\n",
    "X_test_std = sc.fit_transform(X_test)\n",
    "X_train_std = sc.fit_transform(X_train)\n",
    "SV= SVR(kernel='rbf',C=0.5)\n",
    "# print(SV)\n",
    "SV.fit(X_train_std, y_train)\n",
    "SV_pred = SV.predict(X_test_std)\n",
    "print(\"MSE(SVR)\",mean_squared_error(y_test, SV_pred))\n",
    "\n",
    "\n",
    "DR = DecisionTreeRegressor(max_depth=3)\n",
    "DR.fit(X_train, y_train)\n",
    "DR_pred = DR.predict(X_test)\n",
    "print(\"MSE(DecisionTreeRegressor)\",mean_squared_error(y_test, DR_pred))\n",
    "\n",
    "mix_pred = np.vstack((LM_pred, SV_pred, DR_pred))\n",
    "mix_pred.shape\n",
    "\n",
    "mean_pred = Las_pred*0.5+SV_pred*0.05+DR_pred*0.45\n",
    "print(\"MSE(mean)\",mean_squared_error(y_test, mean_pred))"
   ]
  },
  {
   "cell_type": "code",
   "execution_count": 13,
   "metadata": {},
   "outputs": [
    {
     "name": "stdout",
     "output_type": "stream",
     "text": [
      "MSE(Ridge) 2690647942.0877905\n",
      "MSE(SVR) 3389628361.3601527\n",
      "MSE(DecisionTreeRegressor) 1799261318.0862226\n",
      "MSE(mean) 1753122620.1441343\n"
     ]
    }
   ],
   "source": [
    "from sklearn.linear_model import Ridge\n",
    "\n",
    "Rid= Ridge(alpha=0.1)\n",
    "# print(Las)\n",
    "Rid.fit(X_train, y_train)\n",
    "Rid_pred = Rid.predict(X_test)\n",
    "print(\"MSE(Ridge)\",mean_squared_error(y_test, Rid_pred))\n",
    "\n",
    "\n",
    "sc = StandardScaler()\n",
    "X_test_std = sc.fit_transform(X_test)\n",
    "X_train_std = sc.fit_transform(X_train)\n",
    "SV= SVR(kernel='linear', C=100)\n",
    "# print(SV)\n",
    "SV.fit(X_train_std, y_train)\n",
    "SV_pred = SV.predict(X_test_std)\n",
    "print(\"MSE(SVR)\",mean_squared_error(y_test, SV_pred))\n",
    "\n",
    "\n",
    "DR = DecisionTreeRegressor(max_depth=9)\n",
    "DR.fit(X_train, y_train)\n",
    "DR_pred = DR.predict(X_test)\n",
    "print(\"MSE(DecisionTreeRegressor)\",mean_squared_error(y_test, DR_pred))\n",
    "\n",
    "mix_pred = np.vstack((LM_pred, SV_pred, DR_pred))\n",
    "mix_pred.shape\n",
    "\n",
    "mean_pred = Rid_pred*0.2+SV_pred*0.1+DR_pred*0.7\n",
    "print(\"MSE(mean)\",mean_squared_error(y_test, mean_pred))"
   ]
  },
  {
   "cell_type": "markdown",
   "metadata": {},
   "source": [
    " ## 【問題2】バギングのスクラッチ実装\n",
    "バギング をスクラッチ実装し、単一モデルより精度があがる例を 最低1つ 示してください。"
   ]
  },
  {
   "cell_type": "code",
   "execution_count": 14,
   "metadata": {},
   "outputs": [],
   "source": [
    "from sklearn.ensemble import GradientBoostingRegressor\n",
    "import lightgbm as lgb\n",
    "import xgboost as xgb"
   ]
  },
  {
   "cell_type": "code",
   "execution_count": 15,
   "metadata": {},
   "outputs": [
    {
     "data": {
      "text/plain": [
       "(649,)"
      ]
     },
     "execution_count": 15,
     "metadata": {},
     "output_type": "execute_result"
    }
   ],
   "source": [
    "np.random.seed(1)\n",
    "rand_index = np.random.choice(X_train.index,1022, replace=True)\n",
    "np.unique(rand_index).shape\n"
   ]
  },
  {
   "cell_type": "code",
   "execution_count": 16,
   "metadata": {},
   "outputs": [],
   "source": [
    "np.random.seed(1)\n",
    "rand_index = np.random.choice(X_train.index,X_train.shape[0], replace=True)\n",
    "X_train1 = X_train.loc[rand_index]\n",
    "y_train1 = y_train.loc[rand_index]\n",
    "\n",
    "np.random.seed(2)\n",
    "rand_index = np.random.choice(X_train.index,X_train.shape[0], replace=True)\n",
    "X_train2 = X_train.loc[rand_index]\n",
    "y_train2 = y_train.loc[rand_index]\n",
    "\n",
    "np.random.seed(3)\n",
    "rand_index = np.random.choice(X_train.index,X_train.shape[0], replace=True).tolist()\n",
    "X_train3 = X_train.loc[rand_index]\n",
    "y_train3 = y_train.loc[rand_index]"
   ]
  },
  {
   "cell_type": "code",
   "execution_count": 17,
   "metadata": {},
   "outputs": [
    {
     "name": "stdout",
     "output_type": "stream",
     "text": [
      "MSE(reg1) 1955856381.8803396\n",
      "MSE(reg2) 2246120995.481195\n",
      "MSE(reg2) 1725817235.2522635\n",
      "==================\n",
      "MSE(mean) 1659935727.6287725\n"
     ]
    }
   ],
   "source": [
    "reg1 = GradientBoostingRegressor(n_estimators=100,max_depth=5).fit(X_train1, y_train1)\n",
    "y_pred1 =reg1.predict(X_test)\n",
    "print(\"MSE(reg1)\",mean_squared_error(y_test, y_pred1))\n",
    "\n",
    "reg2 = GradientBoostingRegressor(n_estimators=500,max_depth=3).fit(X_train2, y_train2)\n",
    "y_pred2 =reg2.predict(X_test)\n",
    "print(\"MSE(reg2)\",mean_squared_error(y_test, y_pred2))\n",
    "\n",
    "reg3 = GradientBoostingRegressor(n_estimators=250,max_depth=5).fit(X_train3, y_train3)\n",
    "y_pred3 =reg3.predict(X_test)\n",
    "print(\"MSE(reg2)\",mean_squared_error(y_test, y_pred3))\n",
    "print(\"==================\")\n",
    "y_pred_mean = (y_pred1 + y_pred2 + y_pred3)/3\n",
    "print(\"MSE(mean)\",mean_squared_error(y_test, y_pred_mean))"
   ]
  },
  {
   "cell_type": "code",
   "execution_count": 18,
   "metadata": {},
   "outputs": [
    {
     "name": "stderr",
     "output_type": "stream",
     "text": [
      "/Users/naoki/opt/anaconda3/lib/python3.7/site-packages/xgboost/core.py:587: FutureWarning: Series.base is deprecated and will be removed in a future version\n",
      "  if getattr(data, 'base', None) is not None and \\\n",
      "/Users/naoki/opt/anaconda3/lib/python3.7/site-packages/xgboost/core.py:587: FutureWarning: Series.base is deprecated and will be removed in a future version\n",
      "  if getattr(data, 'base', None) is not None and \\\n",
      "/Users/naoki/opt/anaconda3/lib/python3.7/site-packages/xgboost/core.py:587: FutureWarning: Series.base is deprecated and will be removed in a future version\n",
      "  if getattr(data, 'base', None) is not None and \\\n"
     ]
    },
    {
     "name": "stdout",
     "output_type": "stream",
     "text": [
      "[18:50:25] WARNING: src/objective/regression_obj.cu:152: reg:linear is now deprecated in favor of reg:squarederror.\n",
      "MSE(reg1) 2213829666.0405197\n",
      "[18:50:26] WARNING: src/objective/regression_obj.cu:152: reg:linear is now deprecated in favor of reg:squarederror.\n",
      "MSE(reg2) 2247233980.532478\n",
      "[18:50:26] WARNING: src/objective/regression_obj.cu:152: reg:linear is now deprecated in favor of reg:squarederror.\n",
      "MSE(reg2) 1705477084.5991666\n",
      "==================\n",
      "MSE(mean) 1687972552.6029377\n"
     ]
    }
   ],
   "source": [
    "reg1 = xgb.XGBRegressor(n_estimators=100,max_depth=5).fit(X_train1, y_train1)\n",
    "y_pred1 =reg1.predict(X_test)\n",
    "print(\"MSE(reg1)\",mean_squared_error(y_test, y_pred1))\n",
    "\n",
    "reg2 = xgb.XGBRegressor(n_estimators=500,max_depth=3).fit(X_train2, y_train2)\n",
    "y_pred2 =reg2.predict(X_test)\n",
    "print(\"MSE(reg2)\",mean_squared_error(y_test, y_pred2))\n",
    "\n",
    "reg3 = xgb.XGBRegressor(n_estimators=250,max_depth=5).fit(X_train3, y_train3)\n",
    "y_pred3 =reg3.predict(X_test)\n",
    "print(\"MSE(reg2)\",mean_squared_error(y_test, y_pred3))\n",
    "\n",
    "print(\"==================\")\n",
    "y_pred_mean = (y_pred1 + y_pred2 + y_pred3)/3\n",
    "print(\"MSE(mean)\",mean_squared_error(y_test, y_pred_mean))"
   ]
  },
  {
   "cell_type": "code",
   "execution_count": 19,
   "metadata": {},
   "outputs": [
    {
     "name": "stdout",
     "output_type": "stream",
     "text": [
      "MSE(reg1) 1996989149.286145\n",
      "MSE(reg2) 2217785612.142733\n",
      "MSE(reg2) 2337926346.668943\n",
      "==================\n",
      "MSE(mean) 2010251814.6958816\n"
     ]
    },
    {
     "data": {
      "text/plain": [
       "149261.18481853406"
      ]
     },
     "execution_count": 19,
     "metadata": {},
     "output_type": "execute_result"
    }
   ],
   "source": [
    "reg1 = lgb.LGBMRegressor(n_estimators=100,max_depth=5).fit(X_train1, y_train1)\n",
    "y_pred1 =reg1.predict(X_test)\n",
    "print(\"MSE(reg1)\",mean_squared_error(y_test, y_pred1))\n",
    "\n",
    "reg2 = lgb.LGBMRegressor(n_estimators=500,max_depth=3).fit(X_train2, y_train2)\n",
    "y_pred2 =reg2.predict(X_test)\n",
    "print(\"MSE(reg2)\",mean_squared_error(y_test, y_pred2))\n",
    "\n",
    "reg3 = lgb.LGBMRegressor(n_estimators=250,max_depth=5).fit(X_train3, y_train3)\n",
    "y_pred3 =reg3.predict(X_test)\n",
    "print(\"MSE(reg2)\",mean_squared_error(y_test, y_pred3))\n",
    "print(\"==================\")\n",
    "y_pred_mean = (y_pred1 + y_pred2 + y_pred3)/3\n",
    "print(\"MSE(mean)\",mean_squared_error(y_test, y_pred_mean))\n",
    "y_pred3[1]"
   ]
  },
  {
   "cell_type": "code",
   "execution_count": 20,
   "metadata": {},
   "outputs": [],
   "source": [
    "class Bagging():\n",
    "\n",
    "#     def __init__(self, n_clusters, max_iter, verbose=False, tol=5, seed=0):\n",
    "#         # ハイパーパラメータを属性として記録\n",
    "#         self.n_clusters = n_clusters\n",
    "#         self.seed = seed\n",
    "#         self.n_init = n_init\n",
    "#         self.max_iter = max_iter\n",
    "#         self.tol= tol\n",
    "#         self.verbose = verbose\n",
    "        \n",
    "    def fit(self, models, X, y):\n",
    "        self.model_list = []\n",
    "        for j, model in enumerate(models):\n",
    "            np.random.seed(j)\n",
    "            self.rand_index = np.random.choice(X.index,X.shape[0], replace=True)\n",
    "            self.X_rand = X.loc[self.rand_index]\n",
    "            self.y_rand = y.loc[self.rand_index]\n",
    "            self.model_list.append(model.fit(self.X_rand, self.y_rand))\n",
    "            \n",
    "    def predict(self, X, y):\n",
    "        print(X.shape[0])\n",
    "        print(len(self.model_list))\n",
    "        self.pred_data = np.zeros((X.shape[0],len(self.model_list)))\n",
    "        for i, model in enumerate(self.model_list):\n",
    "            self.pred = model.predict(X)\n",
    "            self.pred_data[:,i] = self.pred\n",
    "        self.final_pred = np.mean(self.pred_data, axis=1)\n",
    "        print(\"MSE(mean)\",mean_squared_error(y, self.final_pred))\n",
    "        return self.final_pred\n",
    "        "
   ]
  },
  {
   "cell_type": "code",
   "execution_count": 21,
   "metadata": {},
   "outputs": [
    {
     "name": "stdout",
     "output_type": "stream",
     "text": [
      "[18:50:34] WARNING: src/objective/regression_obj.cu:152: reg:linear is now deprecated in favor of reg:squarederror.\n"
     ]
    },
    {
     "name": "stderr",
     "output_type": "stream",
     "text": [
      "/Users/naoki/opt/anaconda3/lib/python3.7/site-packages/xgboost/core.py:587: FutureWarning: Series.base is deprecated and will be removed in a future version\n",
      "  if getattr(data, 'base', None) is not None and \\\n"
     ]
    }
   ],
   "source": [
    "models = [xgb.XGBRegressor(n_estimators=100,max_depth=5), GradientBoostingRegressor(n_estimators=100,max_depth=5), lgb.LGBMRegressor(n_estimators=100,max_depth=5)]\n",
    "bg = Bagging()\n",
    "bg.fit(models=models, X = X_train, y = y_train)"
   ]
  },
  {
   "cell_type": "code",
   "execution_count": 22,
   "metadata": {},
   "outputs": [
    {
     "name": "stdout",
     "output_type": "stream",
     "text": [
      "438\n",
      "3\n",
      "MSE(mean) 1836970587.4318545\n"
     ]
    },
    {
     "data": {
      "text/plain": [
       "array([206735.96384136, 152325.14244614, 128424.80811652, 171632.29484512,\n",
       "       125163.23555442,  95525.13495285, 200498.04594153, 123503.19352971,\n",
       "       562100.2163109 , 147588.21288913])"
      ]
     },
     "execution_count": 22,
     "metadata": {},
     "output_type": "execute_result"
    }
   ],
   "source": [
    "bg.predict(X_test, y_test)[:10]"
   ]
  },
  {
   "cell_type": "code",
   "execution_count": 23,
   "metadata": {},
   "outputs": [
    {
     "data": {
      "text/plain": [
       "lightgbm.sklearn.LGBMRegressor"
      ]
     },
     "execution_count": 23,
     "metadata": {},
     "output_type": "execute_result"
    }
   ],
   "source": [
    "lgb.LGBMRegressor"
   ]
  },
  {
   "cell_type": "code",
   "execution_count": 24,
   "metadata": {},
   "outputs": [],
   "source": [
    "models = [lgb.LGBMRegressor(n_estimators=100,max_depth=5), lgb.LGBMRegressor(n_estimators=100,max_depth=5), lgb.LGBMRegressor(n_estimators=100,max_depth=5)]\n",
    "bg = Bagging()\n",
    "bg.fit(models=models, X = X_train, y = y_train)"
   ]
  },
  {
   "cell_type": "code",
   "execution_count": 25,
   "metadata": {},
   "outputs": [
    {
     "name": "stdout",
     "output_type": "stream",
     "text": [
      "438\n",
      "3\n",
      "MSE(mean) 1905905323.963103\n"
     ]
    },
    {
     "data": {
      "text/plain": [
       "array([186616.01381421, 154654.02881744, 128076.41901312, 184057.70727728,\n",
       "       128618.50371924,  91991.24366953, 202164.25872405, 126932.11921891,\n",
       "       441678.27135167, 146946.96392326])"
      ]
     },
     "execution_count": 25,
     "metadata": {},
     "output_type": "execute_result"
    }
   ],
   "source": [
    "bg.predict(X_test, y_test)[:10]"
   ]
  },
  {
   "cell_type": "code",
   "execution_count": 26,
   "metadata": {},
   "outputs": [
    {
     "name": "stdout",
     "output_type": "stream",
     "text": [
      "[18:50:38] WARNING: src/objective/regression_obj.cu:152: reg:linear is now deprecated in favor of reg:squarederror.\n",
      "[18:50:38] WARNING: src/objective/regression_obj.cu:152: reg:linear is now deprecated in favor of reg:squarederror.\n",
      "[18:50:38] WARNING: src/objective/regression_obj.cu:152: reg:linear is now deprecated in favor of reg:squarederror.\n"
     ]
    },
    {
     "name": "stderr",
     "output_type": "stream",
     "text": [
      "/Users/naoki/opt/anaconda3/lib/python3.7/site-packages/xgboost/core.py:587: FutureWarning: Series.base is deprecated and will be removed in a future version\n",
      "  if getattr(data, 'base', None) is not None and \\\n"
     ]
    }
   ],
   "source": [
    "models = [xgb.XGBRegressor(n_estimators=100,max_depth=5), xgb.XGBRegressor(n_estimators=100,max_depth=5), xgb.XGBRegressor(n_estimators=100,max_depth=5)]\n",
    "bg = Bagging()\n",
    "bg.fit(models=models, X = X_train, y = y_train)"
   ]
  },
  {
   "cell_type": "code",
   "execution_count": 27,
   "metadata": {},
   "outputs": [
    {
     "name": "stdout",
     "output_type": "stream",
     "text": [
      "438\n",
      "3\n",
      "MSE(mean) 1792487618.8477426\n"
     ]
    },
    {
     "data": {
      "text/plain": [
       "array([218511.16145833, 154213.35416667, 128110.38020833, 177497.30729167,\n",
       "       128028.48958333,  94287.4296875 , 205607.26041667, 123691.86458333,\n",
       "       574186.22916667, 149404.109375  ])"
      ]
     },
     "execution_count": 27,
     "metadata": {},
     "output_type": "execute_result"
    }
   ],
   "source": [
    "bg.predict(X_test, y_test)[:10]"
   ]
  },
  {
   "cell_type": "code",
   "execution_count": 28,
   "metadata": {},
   "outputs": [
    {
     "name": "stdout",
     "output_type": "stream",
     "text": [
      "[18:50:41] WARNING: src/objective/regression_obj.cu:152: reg:linear is now deprecated in favor of reg:squarederror.\n"
     ]
    },
    {
     "name": "stderr",
     "output_type": "stream",
     "text": [
      "/Users/naoki/opt/anaconda3/lib/python3.7/site-packages/xgboost/core.py:587: FutureWarning: Series.base is deprecated and will be removed in a future version\n",
      "  if getattr(data, 'base', None) is not None and \\\n"
     ]
    }
   ],
   "source": [
    "models = [xgb.XGBRegressor(n_estimators=100,max_depth=5), lgb.LGBMRegressor(n_estimators=100,max_depth=5), GradientBoostingRegressor(n_estimators=100,max_depth=5)]\n",
    "bg = Bagging()\n",
    "bg.fit(models=models, X = X_train, y = y_train)"
   ]
  },
  {
   "cell_type": "code",
   "execution_count": 29,
   "metadata": {},
   "outputs": [
    {
     "name": "stdout",
     "output_type": "stream",
     "text": [
      "438\n",
      "3\n",
      "MSE(mean) 1818920351.7739475\n"
     ]
    },
    {
     "data": {
      "text/plain": [
       "array([216351.44617371, 155349.8072607 , 127352.45661918, 173557.16653544,\n",
       "       127557.65941865,  94811.82851673, 206640.40675438, 120714.07235049,\n",
       "       478249.05276656, 151819.7788324 ])"
      ]
     },
     "execution_count": 29,
     "metadata": {},
     "output_type": "execute_result"
    }
   ],
   "source": [
    "bg.predict(X_test, y_test)[:10]"
   ]
  },
  {
   "cell_type": "markdown",
   "metadata": {},
   "source": [
    " ## 【問題3】スタッキングのスクラッチ実装\n",
    "スタッキング をスクラッチ実装し、単一モデルより精度があがる例を 最低1つ 示してください。"
   ]
  },
  {
   "cell_type": "code",
   "execution_count": 30,
   "metadata": {},
   "outputs": [],
   "source": [
    "X1_train, X2_train, X3_train  = np.split(X_train, [340, 681])\n",
    "y1_train, y2_train, y3_train  = np.split(y_train, [340, 681])"
   ]
  },
  {
   "cell_type": "code",
   "execution_count": 31,
   "metadata": {},
   "outputs": [
    {
     "name": "stdout",
     "output_type": "stream",
     "text": [
      "X1_train (340, 2)\n",
      "X2_train (341, 2)\n",
      "X3_train (341, 2)\n"
     ]
    }
   ],
   "source": [
    "print(\"X1_train\",X1_train.shape)\n",
    "print(\"X2_train\",X2_train.shape)\n",
    "print(\"X3_train\",X3_train.shape)"
   ]
  },
  {
   "cell_type": "code",
   "execution_count": 32,
   "metadata": {},
   "outputs": [
    {
     "name": "stdout",
     "output_type": "stream",
     "text": [
      "y1_train (340,)\n",
      "y2_train (341,)\n",
      "y3_train (341,)\n"
     ]
    }
   ],
   "source": [
    "print(\"y1_train\",y1_train.shape)\n",
    "print(\"y2_train\",y2_train.shape)\n",
    "print(\"y3_train\",y3_train.shape)"
   ]
  },
  {
   "cell_type": "code",
   "execution_count": 33,
   "metadata": {},
   "outputs": [
    {
     "name": "stdout",
     "output_type": "stream",
     "text": [
      "MSE(reg1) 2071666887.9999838\n",
      "MSE(reg2) 2375194881.2290134\n",
      "MSE(reg2) 1451548775.9864154\n"
     ]
    }
   ],
   "source": [
    "X_train1 = np.vstack((X2_train, X3_train))\n",
    "y_train1 = np.hstack((y2_train, y3_train))\n",
    "\n",
    "reg1_Gr = GradientBoostingRegressor(n_estimators=100,max_depth=5).fit(X_train1, y_train1)\n",
    "y_pred1_reg1_Gr =reg1_Gr.predict(X1_train)\n",
    "print(\"MSE(reg1)\",mean_squared_error(y1_train, y_pred1_reg1_Gr))\n",
    "\n",
    "\n",
    "X_train2 = np.vstack((X1_train, X3_train))\n",
    "y_train2 = np.hstack((y1_train, y3_train))\n",
    "\n",
    "reg2_Gr = GradientBoostingRegressor(n_estimators=500,max_depth=3).fit(X_train2, y_train2)\n",
    "y_pred2_reg2_Gr =reg2_Gr.predict(X2_train)\n",
    "print(\"MSE(reg2)\",mean_squared_error(y2_train, y_pred2_reg2_Gr))\n",
    "\n",
    "\n",
    "X_train3 = np.vstack((X1_train, X2_train))\n",
    "y_train3 = np.hstack((y1_train, y2_train))\n",
    "\n",
    "\n",
    "reg3_Gr = GradientBoostingRegressor(n_estimators=250,max_depth=5).fit(X_train3, y_train3)\n",
    "y_pred3_reg3_Gr =reg3_Gr.predict(X3_train)\n",
    "print(\"MSE(reg2)\",mean_squared_error(y3_train, y_pred3_reg3_Gr))\n",
    "\n",
    "y_train_Gr = np.hstack((y_pred1_reg1_Gr, y_pred2_reg2_Gr, y_pred2_reg2_Gr))"
   ]
  },
  {
   "cell_type": "code",
   "execution_count": 34,
   "metadata": {},
   "outputs": [
    {
     "name": "stdout",
     "output_type": "stream",
     "text": [
      "MSE(reg1) 1789291655.0779407\n",
      "MSE(reg2) 2088962682.1700788\n",
      "MSE(reg2) 1383718320.4924493\n"
     ]
    }
   ],
   "source": [
    "X_train1 = np.vstack((X2_train, X3_train))\n",
    "y_train1 = np.hstack((y2_train, y3_train))\n",
    "\n",
    "reg1_LG = lgb.LGBMRegressor(n_estimators=100,max_depth=5).fit(X_train1, y_train1)\n",
    "y_pred1_reg1_LG =reg1_LG.predict(X1_train)\n",
    "print(\"MSE(reg1)\",mean_squared_error(y1_train, y_pred1_reg1_LG))\n",
    "\n",
    "\n",
    "X_train2 = np.vstack((X1_train, X3_train))\n",
    "y_train2 = np.hstack((y1_train, y3_train))\n",
    "\n",
    "reg2_LG = lgb.LGBMRegressor(n_estimators=500,max_depth=3).fit(X_train2, y_train2)\n",
    "y_pred2_reg2_LG =reg2_LG.predict(X2_train)\n",
    "print(\"MSE(reg2)\",mean_squared_error(y2_train, y_pred2_reg2_LG))\n",
    "\n",
    "\n",
    "X_train3 = np.vstack((X1_train, X2_train))\n",
    "y_train3 = np.hstack((y1_train, y2_train))\n",
    "\n",
    "\n",
    "reg3_LG = lgb.LGBMRegressor(n_estimators=250,max_depth=5).fit(X_train3, y_train3)\n",
    "y_pred3_reg3_LG =reg3_LG.predict(X3_train)\n",
    "print(\"MSE(reg2)\",mean_squared_error(y3_train, y_pred3_reg3_LG))\n",
    "\n",
    "y_train_LG = np.hstack((y_pred1_reg1_LG, y_pred2_reg2_LG, y_pred2_reg2_LG))"
   ]
  },
  {
   "cell_type": "code",
   "execution_count": 35,
   "metadata": {},
   "outputs": [
    {
     "name": "stdout",
     "output_type": "stream",
     "text": [
      "MSE(reg1) 2000503394.4372175\n",
      "MSE(reg2) 2426725876.5467005\n",
      "MSE(reg2) 1180293786.2972999\n"
     ]
    }
   ],
   "source": [
    "X_train1 = np.vstack((X2_train, X3_train))\n",
    "y_train1 = np.hstack((y2_train, y3_train))\n",
    "\n",
    "reg1_RF = RandomForestRegressor(n_estimators=100,max_depth=5).fit(X_train1, y_train1)\n",
    "y_pred1_reg1_RF =reg1_RF.predict(X1_train)\n",
    "print(\"MSE(reg1)\",mean_squared_error(y1_train, y_pred1_reg1_RF))\n",
    "\n",
    "\n",
    "X_train2 = np.vstack((X1_train, X3_train))\n",
    "y_train2 = np.hstack((y1_train, y3_train))\n",
    "\n",
    "reg2_RF = RandomForestRegressor(n_estimators=500,max_depth=3).fit(X_train2, y_train2)\n",
    "y_pred2_reg2_RF =reg2_RF.predict(X2_train)\n",
    "print(\"MSE(reg2)\",mean_squared_error(y2_train, y_pred2_reg2_RF))\n",
    "\n",
    "\n",
    "X_train3 = np.vstack((X1_train, X2_train))\n",
    "y_train3 = np.hstack((y1_train, y2_train))\n",
    "\n",
    "\n",
    "reg3_RF = RandomForestRegressor(n_estimators=250,max_depth=5).fit(X_train3, y_train3)\n",
    "y_pred3_reg3_RF =reg3_RF.predict(X3_train)\n",
    "print(\"MSE(reg2)\",mean_squared_error(y3_train, y_pred3_reg3_RF))\n",
    "\n",
    "y_train_RF = np.hstack((y_pred1_reg1_RF, y_pred2_reg2_RF, y_pred2_reg2_RF))"
   ]
  },
  {
   "cell_type": "code",
   "execution_count": 36,
   "metadata": {},
   "outputs": [
    {
     "data": {
      "text/plain": [
       "(1022, 3)"
      ]
     },
     "execution_count": 36,
     "metadata": {},
     "output_type": "execute_result"
    }
   ],
   "source": [
    "train_mix = np.vstack((y_train_Gr, y_train_LG, y_train_RF)).T\n",
    "train_mix.shape"
   ]
  },
  {
   "cell_type": "code",
   "execution_count": 37,
   "metadata": {},
   "outputs": [
    {
     "name": "stdout",
     "output_type": "stream",
     "text": [
      "[18:50:51] WARNING: src/objective/regression_obj.cu:152: reg:linear is now deprecated in favor of reg:squarederror.\n"
     ]
    },
    {
     "name": "stderr",
     "output_type": "stream",
     "text": [
      "/Users/naoki/opt/anaconda3/lib/python3.7/site-packages/xgboost/core.py:587: FutureWarning: Series.base is deprecated and will be removed in a future version\n",
      "  if getattr(data, 'base', None) is not None and \\\n"
     ]
    }
   ],
   "source": [
    "xgb.XGBRegressor\n",
    "reg_end = xgb.XGBRegressor(n_estimators=250,max_depth=5).fit(train_mix, y_train)\n"
   ]
  },
  {
   "cell_type": "code",
   "execution_count": 38,
   "metadata": {},
   "outputs": [],
   "source": [
    "X_test1_Gr =reg1_Gr.predict(X_test)\n",
    "X_test2_Gr =reg2_Gr.predict(X_test)\n",
    "X_test3_Gr = reg3_Gr.predict(X_test)\n",
    "\n",
    "y_test_Gr = (X_test1_Gr + X_test2_Gr + X_test3_Gr) /3"
   ]
  },
  {
   "cell_type": "code",
   "execution_count": 39,
   "metadata": {},
   "outputs": [
    {
     "data": {
      "text/plain": [
       "(438,)"
      ]
     },
     "execution_count": 39,
     "metadata": {},
     "output_type": "execute_result"
    }
   ],
   "source": [
    "y_test_Gr.shape"
   ]
  },
  {
   "cell_type": "code",
   "execution_count": 40,
   "metadata": {},
   "outputs": [],
   "source": [
    "X_test1_LG =reg1_LG.predict(X_test)\n",
    "X_test2_LG =reg2_LG.predict(X_test)\n",
    "X_test3_LG = reg3_LG.predict(X_test)\n",
    "\n",
    "y_test_LG = (X_test1_LG + X_test2_LG + X_test3_LG) /3\n"
   ]
  },
  {
   "cell_type": "code",
   "execution_count": 41,
   "metadata": {},
   "outputs": [
    {
     "data": {
      "text/plain": [
       "(438,)"
      ]
     },
     "execution_count": 41,
     "metadata": {},
     "output_type": "execute_result"
    }
   ],
   "source": [
    "y_test_LG.shape"
   ]
  },
  {
   "cell_type": "code",
   "execution_count": 42,
   "metadata": {},
   "outputs": [],
   "source": [
    "X_test1_RF =reg1_RF.predict(X_test)\n",
    "X_test2_RF =reg2_RF.predict(X_test)\n",
    "X_test3_RF = reg3_RF.predict(X_test)\n",
    "\n",
    "y_test_RF = (X_test1_RF + X_test2_RF + X_test3_RF) /3"
   ]
  },
  {
   "cell_type": "code",
   "execution_count": 43,
   "metadata": {},
   "outputs": [
    {
     "data": {
      "text/plain": [
       "(438,)"
      ]
     },
     "execution_count": 43,
     "metadata": {},
     "output_type": "execute_result"
    }
   ],
   "source": [
    "y_test_RF.shape"
   ]
  },
  {
   "cell_type": "code",
   "execution_count": 44,
   "metadata": {},
   "outputs": [
    {
     "data": {
      "text/plain": [
       "(438, 3)"
      ]
     },
     "execution_count": 44,
     "metadata": {},
     "output_type": "execute_result"
    }
   ],
   "source": [
    "X_test_end = np.vstack((y_test_Gr,y_test_LG,y_test_RF)).T\n",
    "X_test_end.shape"
   ]
  },
  {
   "cell_type": "code",
   "execution_count": 45,
   "metadata": {},
   "outputs": [
    {
     "data": {
      "text/plain": [
       "(438,)"
      ]
     },
     "execution_count": 45,
     "metadata": {},
     "output_type": "execute_result"
    }
   ],
   "source": [
    "y_pred_end = reg_end.predict(X_test_end)\n",
    "y_pred_end.shape"
   ]
  },
  {
   "cell_type": "code",
   "execution_count": 46,
   "metadata": {},
   "outputs": [
    {
     "name": "stdout",
     "output_type": "stream",
     "text": [
      "MSE(Stacking) 3447336826.849463\n"
     ]
    }
   ],
   "source": [
    "print(\"MSE(Stacking)\",mean_squared_error(y_test, y_pred_end))\n"
   ]
  },
  {
   "cell_type": "code",
   "execution_count": 47,
   "metadata": {},
   "outputs": [],
   "source": [
    "from sklearn.model_selection import KFold"
   ]
  },
  {
   "cell_type": "code",
   "execution_count": 48,
   "metadata": {},
   "outputs": [],
   "source": [
    "# class Stacking():\n",
    "#     def __init__(self,models):\n",
    "#         self.models = models\n",
    "\n",
    "# #     def __init__(self, n_clusters, max_iter, verbose=False, tol=5, seed=0):\n",
    "# #         # ハイパーパラメータを属性として記録\n",
    "# #         self.n_clusters = n_clusters\n",
    "# #         self.seed = seed\n",
    "# #         self.n_init = n_init\n",
    "# #         self.max_iter = max_iter\n",
    "# #         self.tol= tol\n",
    "# #         self.verbose = verbose\n",
    "\n",
    "# #     def fit(self,X,y,k):\n",
    "# #         self.X_y = pd.concat((X,y), axis=1)\n",
    "# #         Split = 0\n",
    "# #         self.Sp_list = []\n",
    "# #         for i in range(k-1):\n",
    "# #             Split += (X_y.shape[0] / k)\n",
    "# #             self.Sp_list.append(Split)\n",
    "\n",
    "#     def fit(self,X,y,K,seed):\n",
    "#         KF = KFold(n_splits=K, random_state=seed, shuffle=True)\n",
    "#         self.pred_data = np.array([])\n",
    "# #         self.prad_data = pd.DataFrame()\n",
    "#         X = np.array(X)\n",
    "#         y = np.array(y)\n",
    "#         self.preds = np.array([])\n",
    "#         for i, model in enumerate(self.models):\n",
    "#             for train_index, test_index in KF.split(X):\n",
    "# #                 print(train_index.shape)\n",
    "# #                 print(X.shape)\n",
    "# #                 print(test_index.shape)\n",
    "                \n",
    "#                 model.fit(X[train_index],y[train_index])\n",
    "#                 y_pred = model.predict(X[test_index])\n",
    "# #                 print(len(y_pred))\n",
    "#                 self.preds = np.append(self.preds, y_pred)\n",
    "#             print(self.preds.shape)\n",
    "# #             self.pred_data = np.append(self.pred_data,self.preds)\n",
    "# #         print(self.pred_data.shape,\"/////\")\n",
    "#         self.pres.reshape(len(self.models, len(X))\n",
    "# #         self.pred_data.reshape(len(self.models), len(X))            "
   ]
  },
  {
   "cell_type": "code",
   "execution_count": 49,
   "metadata": {},
   "outputs": [],
   "source": [
    "class Stacking():\n",
    "    def __init__(self,models,end_model):\n",
    "        self.models = models\n",
    "        self.end_model = end_model\n",
    "\n",
    "\n",
    "    def fit(self,X,y,K,seed):\n",
    "        self.K = K\n",
    "        KF = KFold(n_splits=K, random_state=seed, shuffle=True)\n",
    "        self.pred_data = np.array([])\n",
    "#         self.prad_data = pd.DataFrame()\n",
    "        X = np.array(X)\n",
    "        y = np.array(y)\n",
    "        self.preds = np.array([])\n",
    "        self.model_list = []\n",
    "        for i, model in enumerate(self.models):\n",
    "            for train_index, test_index in KF.split(X):\n",
    "                \n",
    "                self.model_list.append(model.fit(X[train_index],y[train_index]))\n",
    "                y_pred = model.predict(X[test_index])\n",
    "\n",
    "                self.preds = np.append(self.preds, y_pred)\n",
    "#             print(self.preds.shape)\n",
    "        self.preds = self.preds.reshape(len(self.models),X.shape[0]).T\n",
    "#         print(self.preds.shape,\"//////\")\n",
    "        self.end_model.fit(self.preds, y)\n",
    "#         print(self.end_model)\n",
    "        \n",
    "        \n",
    "    def predict(self,X, y):\n",
    "        X = np.array(X)\n",
    "        y = np.array(y)\n",
    "        self.test_array = np.array([])\n",
    "        self.final_test = np.zeros((X.shape[0],self.K))\n",
    "        for model in self.model_list:\n",
    "            y_pred_test = model.predict(X)\n",
    "            self.test_array = np.append(self.test_array, y_pred_test)\n",
    "#             print(self.test_array.shape,\"test_array\")\n",
    "        self.test_array=self.test_array.reshape(len(self.models)*self.K, X.shape[0]).T\n",
    "        print(self.test_array.shape,\"test_array\")\n",
    "        for j, i in enumerate(range(0,len(self.models)*self.K-self.K, self.K)):\n",
    "            self.mean_pred = np.mean(self.test_array[:,i:i+self.K], axis=1)\n",
    "            self.final_test[:,j] = self.mean_pred\n",
    "        self.final_pred = self.end_model.predict(self.final_test)\n",
    "        print(self.final_test.shape,\"final_test\")\n",
    "        return self.final_pred\n"
   ]
  },
  {
   "cell_type": "code",
   "execution_count": 50,
   "metadata": {},
   "outputs": [],
   "source": [
    "models = [xgb.XGBRegressor(n_estimators=100,max_depth=5), GradientBoostingRegressor(n_estimators=100,max_depth=5), lgb.LGBMRegressor(n_estimators=100,max_depth=5)]"
   ]
  },
  {
   "cell_type": "code",
   "execution_count": 51,
   "metadata": {},
   "outputs": [
    {
     "name": "stdout",
     "output_type": "stream",
     "text": [
      "[18:51:03] WARNING: src/objective/regression_obj.cu:152: reg:linear is now deprecated in favor of reg:squarederror.\n",
      "[18:51:03] WARNING: src/objective/regression_obj.cu:152: reg:linear is now deprecated in favor of reg:squarederror.\n",
      "[18:51:03] WARNING: src/objective/regression_obj.cu:152: reg:linear is now deprecated in favor of reg:squarederror.\n"
     ]
    },
    {
     "data": {
      "text/plain": [
       "(0,)"
      ]
     },
     "execution_count": 51,
     "metadata": {},
     "output_type": "execute_result"
    }
   ],
   "source": [
    "St = Stacking(models,end_model=GradientBoostingRegressor(n_estimators=100,max_depth=5))\n",
    "St.fit(X=X_train, y=y_train,K=3,seed=0)\n",
    "St.pred_data.shape\n",
    "\n"
   ]
  },
  {
   "cell_type": "code",
   "execution_count": 52,
   "metadata": {},
   "outputs": [
    {
     "name": "stdout",
     "output_type": "stream",
     "text": [
      "(438, 9) test_array\n",
      "(438, 3) final_test\n",
      "MSE(Stacking) 20217299221.598576\n"
     ]
    }
   ],
   "source": [
    "y_pred_end = St.predict(X_test, y_test)\n",
    "print(\"MSE(Stacking)\",mean_squared_error(y_test, y_pred_end))"
   ]
  }
 ],
 "metadata": {
  "kernelspec": {
   "display_name": "Python 3",
   "language": "python",
   "name": "python3"
  },
  "language_info": {
   "codemirror_mode": {
    "name": "ipython",
    "version": 3
   },
   "file_extension": ".py",
   "mimetype": "text/x-python",
   "name": "python",
   "nbconvert_exporter": "python",
   "pygments_lexer": "ipython3",
   "version": "3.7.4"
  },
  "toc": {
   "base_numbering": 1,
   "nav_menu": {},
   "number_sections": true,
   "sideBar": true,
   "skip_h1_title": false,
   "title_cell": "Table of Contents",
   "title_sidebar": "Contents",
   "toc_cell": false,
   "toc_position": {},
   "toc_section_display": true,
   "toc_window_display": false
  },
  "varInspector": {
   "cols": {
    "lenName": 16,
    "lenType": 16,
    "lenVar": 40
   },
   "kernels_config": {
    "python": {
     "delete_cmd_postfix": "",
     "delete_cmd_prefix": "del ",
     "library": "var_list.py",
     "varRefreshCmd": "print(var_dic_list())"
    },
    "r": {
     "delete_cmd_postfix": ") ",
     "delete_cmd_prefix": "rm(",
     "library": "var_list.r",
     "varRefreshCmd": "cat(var_dic_list()) "
    }
   },
   "types_to_exclude": [
    "module",
    "function",
    "builtin_function_or_method",
    "instance",
    "_Feature"
   ],
   "window_display": true
  }
 },
 "nbformat": 4,
 "nbformat_minor": 4
}
