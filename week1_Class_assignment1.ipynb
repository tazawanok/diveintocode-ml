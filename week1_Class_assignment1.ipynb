{
 "cells": [
  {
   "cell_type": "markdown",
   "metadata": {},
   "source": [
    " ## 【問題1】100日目の米粒の数\n",
    "100日目には合計で米粒をいくつもらっているのかを計算するコードを作成し、答えを出力してください。また、1日目から100日目までの「その日にもらう米の数」と「その日までに累計で貰う米の数」の推移を折れ線グラフで表現してください。（縦軸が米の数、横軸が日数）"
   ]
  },
  {
   "cell_type": "code",
   "execution_count": 1,
   "metadata": {},
   "outputs": [
    {
     "name": "stdout",
     "output_type": "stream",
     "text": [
      "1日目にもらう米の数:1\n",
      "2日目にもらう米の数:2\n",
      "3日目にもらう米の数:4\n",
      "4日目にもらう米の数:8\n",
      "5日目にもらう米の数:16\n",
      "6日目にもらう米の数:32\n",
      "7日目にもらう米の数:64\n",
      "8日目にもらう米の数:128\n",
      "9日目にもらう米の数:256\n",
      "10日目にもらう米の数:512\n",
      "11日目にもらう米の数:1024\n",
      "12日目にもらう米の数:2048\n",
      "13日目にもらう米の数:4096\n",
      "14日目にもらう米の数:8192\n",
      "15日目にもらう米の数:16384\n",
      "16日目にもらう米の数:32768\n",
      "17日目にもらう米の数:65536\n",
      "18日目にもらう米の数:131072\n",
      "19日目にもらう米の数:262144\n",
      "20日目にもらう米の数:524288\n",
      "21日目にもらう米の数:1048576\n",
      "22日目にもらう米の数:2097152\n",
      "23日目にもらう米の数:4194304\n",
      "24日目にもらう米の数:8388608\n",
      "25日目にもらう米の数:16777216\n",
      "26日目にもらう米の数:33554432\n",
      "27日目にもらう米の数:67108864\n",
      "28日目にもらう米の数:134217728\n",
      "29日目にもらう米の数:268435456\n",
      "30日目にもらう米の数:536870912\n",
      "31日目にもらう米の数:1073741824\n",
      "32日目にもらう米の数:2147483648\n",
      "33日目にもらう米の数:4294967296\n",
      "34日目にもらう米の数:8589934592\n",
      "35日目にもらう米の数:17179869184\n",
      "36日目にもらう米の数:34359738368\n",
      "37日目にもらう米の数:68719476736\n",
      "38日目にもらう米の数:137438953472\n",
      "39日目にもらう米の数:274877906944\n",
      "40日目にもらう米の数:549755813888\n",
      "41日目にもらう米の数:1099511627776\n",
      "42日目にもらう米の数:2199023255552\n",
      "43日目にもらう米の数:4398046511104\n",
      "44日目にもらう米の数:8796093022208\n",
      "45日目にもらう米の数:17592186044416\n",
      "46日目にもらう米の数:35184372088832\n",
      "47日目にもらう米の数:70368744177664\n",
      "48日目にもらう米の数:140737488355328\n",
      "49日目にもらう米の数:281474976710656\n",
      "50日目にもらう米の数:562949953421312\n",
      "51日目にもらう米の数:1125899906842624\n",
      "52日目にもらう米の数:2251799813685248\n",
      "53日目にもらう米の数:4503599627370496\n",
      "54日目にもらう米の数:9007199254740992\n",
      "55日目にもらう米の数:18014398509481984\n",
      "56日目にもらう米の数:36028797018963968\n",
      "57日目にもらう米の数:72057594037927936\n",
      "58日目にもらう米の数:144115188075855872\n",
      "59日目にもらう米の数:288230376151711744\n",
      "60日目にもらう米の数:576460752303423488\n",
      "61日目にもらう米の数:1152921504606846976\n",
      "62日目にもらう米の数:2305843009213693952\n",
      "63日目にもらう米の数:4611686018427387904\n",
      "64日目にもらう米の数:9223372036854775808\n",
      "65日目にもらう米の数:18446744073709551616\n",
      "66日目にもらう米の数:36893488147419103232\n",
      "67日目にもらう米の数:73786976294838206464\n",
      "68日目にもらう米の数:147573952589676412928\n",
      "69日目にもらう米の数:295147905179352825856\n",
      "70日目にもらう米の数:590295810358705651712\n",
      "71日目にもらう米の数:1180591620717411303424\n",
      "72日目にもらう米の数:2361183241434822606848\n",
      "73日目にもらう米の数:4722366482869645213696\n",
      "74日目にもらう米の数:9444732965739290427392\n",
      "75日目にもらう米の数:18889465931478580854784\n",
      "76日目にもらう米の数:37778931862957161709568\n",
      "77日目にもらう米の数:75557863725914323419136\n",
      "78日目にもらう米の数:151115727451828646838272\n",
      "79日目にもらう米の数:302231454903657293676544\n",
      "80日目にもらう米の数:604462909807314587353088\n",
      "81日目にもらう米の数:1208925819614629174706176\n",
      "82日目にもらう米の数:2417851639229258349412352\n",
      "83日目にもらう米の数:4835703278458516698824704\n",
      "84日目にもらう米の数:9671406556917033397649408\n",
      "85日目にもらう米の数:19342813113834066795298816\n",
      "86日目にもらう米の数:38685626227668133590597632\n",
      "87日目にもらう米の数:77371252455336267181195264\n",
      "88日目にもらう米の数:154742504910672534362390528\n",
      "89日目にもらう米の数:309485009821345068724781056\n",
      "90日目にもらう米の数:618970019642690137449562112\n",
      "91日目にもらう米の数:1237940039285380274899124224\n",
      "92日目にもらう米の数:2475880078570760549798248448\n",
      "93日目にもらう米の数:4951760157141521099596496896\n",
      "94日目にもらう米の数:9903520314283042199192993792\n",
      "95日目にもらう米の数:19807040628566084398385987584\n",
      "96日目にもらう米の数:39614081257132168796771975168\n",
      "97日目にもらう米の数:79228162514264337593543950336\n",
      "98日目にもらう米の数:158456325028528675187087900672\n",
      "99日目にもらう米の数:316912650057057350374175801344\n",
      "100日目にもらう米の数:633825300114114700748351602688\n"
     ]
    }
   ],
   "source": [
    "rice = 1\n",
    "\n",
    "days = 100\n",
    "\n",
    "rice_num=[]\n",
    "date = [] \n",
    "\n",
    "#rice_num.append(rice)\n",
    "\n",
    "for day in range(days):\n",
    "    if day == 100:\n",
    "        break\n",
    "    rice_num.append(rice)\n",
    "    print(\"{}日目にもらう米の数:{}\".format(day+1, rice))\n",
    "    rice *= 2"
   ]
  },
  {
   "cell_type": "code",
   "execution_count": 2,
   "metadata": {},
   "outputs": [
    {
     "data": {
      "text/plain": [
       "100"
      ]
     },
     "execution_count": 2,
     "metadata": {},
     "output_type": "execute_result"
    }
   ],
   "source": [
    "len(rice_num)"
   ]
  },
  {
   "cell_type": "code",
   "execution_count": 3,
   "metadata": {},
   "outputs": [
    {
     "name": "stdout",
     "output_type": "stream",
     "text": [
      "その日までに累計で貰う米の数:1267650600228229401496703205375\n"
     ]
    }
   ],
   "source": [
    "print(\"その日までに累計で貰う米の数:{}\".format(sum(rice_num)))"
   ]
  },
  {
   "cell_type": "code",
   "execution_count": 4,
   "metadata": {},
   "outputs": [
    {
     "name": "stdout",
     "output_type": "stream",
     "text": [
      "その日にもらう米の数の推移\n"
     ]
    },
    {
     "data": {
      "image/png": "[encoded data removed]",
      "text/plain": [
       "<Figure size 432x288 with 1 Axes>"
      ]
     },
     "metadata": {
      "needs_background": "light"
     },
     "output_type": "display_data"
    }
   ],
   "source": [
    "import matplotlib.pyplot as plt\n",
    "%matplotlib inline\n",
    "\n",
    "print(\"その日にもらう米の数の推移\")\n",
    "plt.title(\"rice_num\",size = 14)\n",
    "plt.xlabel(\"days\", size = 14)\n",
    "plt.ylabel(\"rice_num\", size = 14)\n",
    "plt.plot(rice_num, linestyle = \"--\",color='blue')\n",
    "plt.grid(True)\n",
    "plt.show()"
   ]
  },
  {
   "cell_type": "code",
   "execution_count": 5,
   "metadata": {},
   "outputs": [
    {
     "name": "stdout",
     "output_type": "stream",
     "text": [
      "その日までに累計で貰う米の数の推移\n"
     ]
    },
    {
     "data": {
      "image/png": "[encoded data removed]",
      "text/plain": [
       "<Figure size 432x288 with 1 Axes>"
      ]
     },
     "metadata": {
      "needs_background": "light"
     },
     "output_type": "display_data"
    },
    {
     "name": "stdout",
     "output_type": "stream",
     "text": [
      "[1, 3, 7, 15, 31, 63, 127, 255, 511, 1023, 2047, 4095, 8191, 16383, 32767, 65535, 131071, 262143, 524287, 1048575, 2097151, 4194303, 8388607, 16777215, 33554431, 67108863, 134217727, 268435455, 536870911, 1073741823, 2147483647, 4294967295, 8589934591, 17179869183, 34359738367, 68719476735, 137438953471, 274877906943, 549755813887, 1099511627775, 2199023255551, 4398046511103, 8796093022207, 17592186044415, 35184372088831, 70368744177663, 140737488355327, 281474976710655, 562949953421311, 1125899906842623, 2251799813685247, 4503599627370495, 9007199254740991, 18014398509481983, 36028797018963967, 72057594037927935, 144115188075855871, 288230376151711743, 576460752303423487, 1152921504606846975, 2305843009213693951, 4611686018427387903, 9223372036854775807, 18446744073709551615, 36893488147419103231, 73786976294838206463, 147573952589676412927, 295147905179352825855, 590295810358705651711, 1180591620717411303423, 2361183241434822606847, 4722366482869645213695, 9444732965739290427391, 18889465931478580854783, 37778931862957161709567, 75557863725914323419135, 151115727451828646838271, 302231454903657293676543, 604462909807314587353087, 1208925819614629174706175, 2417851639229258349412351, 4835703278458516698824703, 9671406556917033397649407, 19342813113834066795298815, 38685626227668133590597631, 77371252455336267181195263, 154742504910672534362390527, 309485009821345068724781055, 618970019642690137449562111, 1237940039285380274899124223, 2475880078570760549798248447, 4951760157141521099596496895, 9903520314283042199192993791, 19807040628566084398385987583, 39614081257132168796771975167, 79228162514264337593543950335, 158456325028528675187087900671, 316912650057057350374175801343, 633825300114114700748351602687, 1267650600228229401496703205375]\n"
     ]
    }
   ],
   "source": [
    "rice_sum = []\n",
    "rices = []\n",
    "\n",
    "for i in rice_num:\n",
    "    rices.append(i)\n",
    "    rice_sum.append(sum(rices))\n",
    "# print(rice_sum)\n",
    "\n",
    "print(\"その日までに累計で貰う米の数の推移\")\n",
    "plt.title(\"rice_num\",size = 14)\n",
    "plt.xlabel(\"days\", size = 14)\n",
    "plt.ylabel(\"rice_sum\", size = 14)\n",
    "plt.plot(rice_sum, linestyle = \"--\",color='blue')\n",
    "plt.grid(True)\n",
    "plt.show()\n",
    "print(rice_sum)"
   ]
  },
  {
   "cell_type": "markdown",
   "metadata": {},
   "source": [
    " ## 【問題2】100日目以外の米粒の数\n",
    "この逸話は30日だったり81日だったりと日数が曖昧です。どの話にも対応できるように日数を引数とした 関数 を作成しましょう。関数を作成した上で、コースを受講する日数の間でいくつ米粒をもらえるかを答えてください。前の問題同様に折れ線グラフも出力してください。\n",
    "\n",
    "以下の雛形には関数としての枠組みだけではなく、引数や返り値についてのコメントも記載してあります。参考にして、自分なりにも分かりやすくコメントを書き換えてください。"
   ]
  },
  {
   "cell_type": "code",
   "execution_count": 6,
   "metadata": {},
   "outputs": [],
   "source": [
    "def compute_sorori_shinzaemon(days=100):\n",
    "    rice = 0\n",
    "    for day in range(days):\n",
    "        rice += 2 ** day\n",
    "    print(\"{}日目までにもらう米の数:{}\".format(day+1, rice))"
   ]
  },
  {
   "cell_type": "code",
   "execution_count": 7,
   "metadata": {},
   "outputs": [
    {
     "name": "stdout",
     "output_type": "stream",
     "text": [
      "100日目までにもらう米の数:1267650600228229401496703205375\n"
     ]
    }
   ],
   "source": [
    "compute_sorori_shinzaemon(100)"
   ]
  },
  {
   "cell_type": "code",
   "execution_count": 8,
   "metadata": {},
   "outputs": [
    {
     "name": "stdout",
     "output_type": "stream",
     "text": [
      "コースを受講する日数:121日\n",
      "121日目までにもらう米の数:2658455991569831745807614120560689151\n"
     ]
    }
   ],
   "source": [
    "import datetime\n",
    "a = datetime.date(2019, 10, 2)\n",
    "b = datetime.date(2020, 1, 31)\n",
    "d = (b-a).days\n",
    "print(\"コースを受講する日数:121日\")\n",
    "compute_sorori_shinzaemon(d)"
   ]
  },
  {
   "cell_type": "markdown",
   "metadata": {},
   "source": [
    "## 【問題3】何人が何日生活できる米か\n",
    "この米があれば何人が何日生活できるか計算する関数を作成してください。コースを受講する期間に貰える米粒で、このクラスにいる人数であれば、何日間生活できるかを出力してみましょう。\n",
    "\n",
    "関数の最低限の入力は 米粒の数(int) と 人数(int) 、出力は 生活できる日数(int) です。関数名やコメントなどは分かりやすく考えて作成してください。\n",
    "\n",
    "ここでは1日に必要な米粒の数は提示しません。自分なりに調べて、計算式に落とし込んでください。どう調べ、何を根拠にしたかもコメントを残しておいてください。"
   ]
  },
  {
   "cell_type": "markdown",
   "metadata": {},
   "source": [
    " - 茶碗一杯のご飯の粒：3250粒    http://www.komenet.jp/_qa/chawanippai/chawan_ippai02.html\n",
    " - 茶碗一杯のカロリー：252カロリー    https://miyakyo0001.com/gohankaroriguramu\n",
    " - 人間に1日に必要なカロリー：2700カロリー    http://www.maff.go.jp/j/syokuiku/zissen_navi/balance/required.html\n",
    " - 人間が1日に必要なご飯の量：11杯（2700カロリー/252カロリー）  "
   ]
  },
  {
   "cell_type": "code",
   "execution_count": 9,
   "metadata": {},
   "outputs": [],
   "source": [
    "def life_rice(rice_count=2658455991569831745807614120560689151, human=12):\n",
    "    x = rice_count / (3250 * 11 * human)\n",
    "    print(\"{}人では{}日生活できる\".format(human, x))"
   ]
  },
  {
   "cell_type": "code",
   "execution_count": 10,
   "metadata": {},
   "outputs": [
    {
     "name": "stdout",
     "output_type": "stream",
     "text": [
      "12人では6.196867113216391e+30日生活できる\n"
     ]
    }
   ],
   "source": [
    "life_rice()"
   ]
  },
  {
   "cell_type": "code",
   "execution_count": 11,
   "metadata": {},
   "outputs": [],
   "source": [
    "def life_rice_day(rice_day=100,human=12):\n",
    "    rices = 0\n",
    "    for i in range(rice_day):\n",
    "        rices += 2** i\n",
    "    x = rices / (3250 * 11 * human)\n",
    "    print(\"{}日分の米をもらった場合、{}人では{}日生活できる\".format(rice_day,human, x))    "
   ]
  },
  {
   "cell_type": "code",
   "execution_count": 12,
   "metadata": {},
   "outputs": [
    {
     "name": "stdout",
     "output_type": "stream",
     "text": [
      "121日分の米をもらった場合、12人では6.196867113216391e+30日生活できる\n"
     ]
    }
   ],
   "source": [
    "life_rice_day(121,12)"
   ]
  },
  {
   "cell_type": "code",
   "execution_count": null,
   "metadata": {},
   "outputs": [],
   "source": []
  }
 ],
 "metadata": {
  "kernelspec": {
   "display_name": "Python 3",
   "language": "python",
   "name": "python3"
  },
  "language_info": {
   "codemirror_mode": {
    "name": "ipython",
    "version": 3
   },
   "file_extension": ".py",
   "mimetype": "text/x-python",
   "name": "python",
   "nbconvert_exporter": "python",
   "pygments_lexer": "ipython3",
   "version": "3.7.3"
  }
 },
 "nbformat": 4,
 "nbformat_minor": 2
}
