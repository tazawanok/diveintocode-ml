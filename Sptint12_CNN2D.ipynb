{
 "cells": [
  {
   "cell_type": "code",
   "execution_count": 1,
   "metadata": {},
   "outputs": [],
   "source": [
    "import numpy as np\n",
    "import pandas as pd"
   ]
  },
  {
   "cell_type": "code",
   "execution_count": 2,
   "metadata": {},
   "outputs": [
    {
     "name": "stderr",
     "output_type": "stream",
     "text": [
      "Using TensorFlow backend.\n",
      "/Users/naoki/opt/anaconda3/lib/python3.7/site-packages/tensorflow/python/framework/dtypes.py:516: FutureWarning: Passing (type, 1) or '1type' as a synonym of type is deprecated; in a future version of numpy, it will be understood as (type, (1,)) / '(1,)type'.\n",
      "  _np_qint8 = np.dtype([(\"qint8\", np.int8, 1)])\n",
      "/Users/naoki/opt/anaconda3/lib/python3.7/site-packages/tensorflow/python/framework/dtypes.py:517: FutureWarning: Passing (type, 1) or '1type' as a synonym of type is deprecated; in a future version of numpy, it will be understood as (type, (1,)) / '(1,)type'.\n",
      "  _np_quint8 = np.dtype([(\"quint8\", np.uint8, 1)])\n",
      "/Users/naoki/opt/anaconda3/lib/python3.7/site-packages/tensorflow/python/framework/dtypes.py:518: FutureWarning: Passing (type, 1) or '1type' as a synonym of type is deprecated; in a future version of numpy, it will be understood as (type, (1,)) / '(1,)type'.\n",
      "  _np_qint16 = np.dtype([(\"qint16\", np.int16, 1)])\n",
      "/Users/naoki/opt/anaconda3/lib/python3.7/site-packages/tensorflow/python/framework/dtypes.py:519: FutureWarning: Passing (type, 1) or '1type' as a synonym of type is deprecated; in a future version of numpy, it will be understood as (type, (1,)) / '(1,)type'.\n",
      "  _np_quint16 = np.dtype([(\"quint16\", np.uint16, 1)])\n",
      "/Users/naoki/opt/anaconda3/lib/python3.7/site-packages/tensorflow/python/framework/dtypes.py:520: FutureWarning: Passing (type, 1) or '1type' as a synonym of type is deprecated; in a future version of numpy, it will be understood as (type, (1,)) / '(1,)type'.\n",
      "  _np_qint32 = np.dtype([(\"qint32\", np.int32, 1)])\n",
      "/Users/naoki/opt/anaconda3/lib/python3.7/site-packages/tensorflow/python/framework/dtypes.py:525: FutureWarning: Passing (type, 1) or '1type' as a synonym of type is deprecated; in a future version of numpy, it will be understood as (type, (1,)) / '(1,)type'.\n",
      "  np_resource = np.dtype([(\"resource\", np.ubyte, 1)])\n",
      "/Users/naoki/opt/anaconda3/lib/python3.7/site-packages/tensorboard/compat/tensorflow_stub/dtypes.py:541: FutureWarning: Passing (type, 1) or '1type' as a synonym of type is deprecated; in a future version of numpy, it will be understood as (type, (1,)) / '(1,)type'.\n",
      "  _np_qint8 = np.dtype([(\"qint8\", np.int8, 1)])\n",
      "/Users/naoki/opt/anaconda3/lib/python3.7/site-packages/tensorboard/compat/tensorflow_stub/dtypes.py:542: FutureWarning: Passing (type, 1) or '1type' as a synonym of type is deprecated; in a future version of numpy, it will be understood as (type, (1,)) / '(1,)type'.\n",
      "  _np_quint8 = np.dtype([(\"quint8\", np.uint8, 1)])\n",
      "/Users/naoki/opt/anaconda3/lib/python3.7/site-packages/tensorboard/compat/tensorflow_stub/dtypes.py:543: FutureWarning: Passing (type, 1) or '1type' as a synonym of type is deprecated; in a future version of numpy, it will be understood as (type, (1,)) / '(1,)type'.\n",
      "  _np_qint16 = np.dtype([(\"qint16\", np.int16, 1)])\n",
      "/Users/naoki/opt/anaconda3/lib/python3.7/site-packages/tensorboard/compat/tensorflow_stub/dtypes.py:544: FutureWarning: Passing (type, 1) or '1type' as a synonym of type is deprecated; in a future version of numpy, it will be understood as (type, (1,)) / '(1,)type'.\n",
      "  _np_quint16 = np.dtype([(\"quint16\", np.uint16, 1)])\n",
      "/Users/naoki/opt/anaconda3/lib/python3.7/site-packages/tensorboard/compat/tensorflow_stub/dtypes.py:545: FutureWarning: Passing (type, 1) or '1type' as a synonym of type is deprecated; in a future version of numpy, it will be understood as (type, (1,)) / '(1,)type'.\n",
      "  _np_qint32 = np.dtype([(\"qint32\", np.int32, 1)])\n",
      "/Users/naoki/opt/anaconda3/lib/python3.7/site-packages/tensorboard/compat/tensorflow_stub/dtypes.py:550: FutureWarning: Passing (type, 1) or '1type' as a synonym of type is deprecated; in a future version of numpy, it will be understood as (type, (1,)) / '(1,)type'.\n",
      "  np_resource = np.dtype([(\"resource\", np.ubyte, 1)])\n"
     ]
    }
   ],
   "source": [
    "from keras.datasets import mnist\n",
    "(X_train, y_train), (X_test, y_test) = mnist.load_data()"
   ]
  },
  {
   "cell_type": "code",
   "execution_count": 3,
   "metadata": {},
   "outputs": [
    {
     "data": {
      "text/plain": [
       "(10000, 28, 28)"
      ]
     },
     "execution_count": 3,
     "metadata": {},
     "output_type": "execute_result"
    }
   ],
   "source": [
    "# X_train = X_train.reshape(-1, 784)\n",
    "# X_test = X_test.reshape(-1, 784)\n",
    "X_train = X_train/255.0\n",
    "X_test = X_test/255.0\n",
    "X_test.shape"
   ]
  },
  {
   "cell_type": "code",
   "execution_count": 4,
   "metadata": {},
   "outputs": [
    {
     "name": "stdout",
     "output_type": "stream",
     "text": [
      "(60000,)\n",
      "(60000, 10)\n",
      "float64\n",
      "(10000, 10)\n"
     ]
    }
   ],
   "source": [
    "from sklearn.preprocessing import OneHotEncoder\n",
    "enc = OneHotEncoder(handle_unknown='ignore', sparse=False)\n",
    "y_train_one_hot = enc.fit_transform(y_train[:, np.newaxis])\n",
    "y_test_one_hot = enc.transform(y_test[:, np.newaxis])\n",
    "print(y_train.shape) # (60000,)\n",
    "print(y_train_one_hot.shape) # (60000, 10)\n",
    "print(y_train_one_hot.dtype) \n",
    "print(y_test_one_hot.shape)"
   ]
  },
  {
   "cell_type": "code",
   "execution_count": 5,
   "metadata": {
    "code_folding": []
   },
   "outputs": [],
   "source": [
    "class GetMiniBatch:\n",
    "    \"\"\"\n",
    "    ミニバッチを取得するイテレータ\n",
    "\n",
    "    Parameters\n",
    "    ----------\n",
    "    X : 次の形のndarray, shape (n_samples, n_features)\n",
    "      訓練用データ\n",
    "    y : 次の形のndarray, shape (n_samples, 1)\n",
    "      正解値\n",
    "    batch_size : int\n",
    "      バッチサイズ\n",
    "    seed : int\n",
    "      NumPyの乱数のシード\n",
    "    \"\"\"\n",
    "    def __init__(self, X, y, batch_size = 20, seed=0):\n",
    "        self.batch_size = batch_size\n",
    "        np.random.seed(seed)\n",
    "        shuffle_index = np.random.permutation(np.arange(X.shape[0]))\n",
    "        self._X = X[shuffle_index]\n",
    "        self._y = y[shuffle_index]\n",
    "        self._stop = np.ceil(X.shape[0]/self.batch_size).astype(np.int)\n",
    "\n",
    "    def __len__(self):\n",
    "        return self._stop\n",
    "\n",
    "    def __getitem__(self,item):\n",
    "        p0 = item*self.batch_size\n",
    "        p1 = item*self.batch_size + self.batch_size\n",
    "        return self._X[p0:p1], self._y[p0:p1]        \n",
    "\n",
    "    def __iter__(self):\n",
    "        self._counter = 0\n",
    "        return self\n",
    "\n",
    "    def __next__(self):\n",
    "        if self._counter >= self._stop:\n",
    "            raise StopIteration()\n",
    "        p0 = self._counter*self.batch_size\n",
    "        p1 = self._counter*self.batch_size + self.batch_size\n",
    "        self._counter += 1\n",
    "        return self._X[p0:p1], self._y[p0:p1]"
   ]
  },
  {
   "cell_type": "code",
   "execution_count": 6,
   "metadata": {},
   "outputs": [],
   "source": [
    "get_mini_batch = GetMiniBatch(X_train, y_train_one_hot, batch_size=20)\n",
    "for mini_X_train, mini_y_train in get_mini_batch:\n",
    "    mini_X_train, mini_y_train"
   ]
  },
  {
   "cell_type": "code",
   "execution_count": 7,
   "metadata": {
    "cell_style": "center"
   },
   "outputs": [],
   "source": [
    "mini_X_train = mini_X_train.reshape(20, 1, 28, 28)\n"
   ]
  },
  {
   "cell_type": "markdown",
   "metadata": {
    "cell_style": "center"
   },
   "source": [
    " # 【問題1】2次元畳み込み層の作成\n",
    "1次元畳み込み層のクラスConv1dを発展させ、2次元畳み込み層のクラスConv2dを作成してください。\n",
    "\n",
    "フォワードプロパゲーションの数式は以下のようになります。"
   ]
  },
  {
   "cell_type": "code",
   "execution_count": 8,
   "metadata": {
    "cell_style": "center"
   },
   "outputs": [],
   "source": [
    "class SimpleInitializer:\n",
    "\n",
    "    \n",
    "    def __init__(self, sigma=0.01):\n",
    "        self.sigma = sigma\n",
    "        \n",
    "        \n",
    "    def W(self,filta_num, Chanel, filta_size_h, filta_size_w):\n",
    "        np.random.seed(0)\n",
    "        self.W = self.sigma * np.random.randn(filta_num, Chanel, filta_size_h, filta_size_w)\n",
    "        return self.W\n",
    "    \n",
    "    \n",
    "    def B(self, filta_num):\n",
    "        np.random.seed(0)\n",
    "        self.B = self.sigma * np.random.randn(filta_num,1)\n",
    "        return self.B"
   ]
  },
  {
   "cell_type": "code",
   "execution_count": 9,
   "metadata": {
    "cell_style": "center"
   },
   "outputs": [],
   "source": [
    "class XavierInitializer:\n",
    "    \n",
    "    def __init__(self, sigma = 0.01):\n",
    "        self.sigma = sigma\n",
    "        \n",
    "    \n",
    "    def W(self,filta_num, Chanel, filta_size_h, filta_size_w):\n",
    "        self.sigma = (1 / np.sqrt(filta_num))\n",
    "        np.random.seed(0)\n",
    "        self.W = self.sigma * np.random.randn(filta_num, Chanel, filta_size_h, filta_size_w)\n",
    "        return self.W\n",
    "        \n",
    "    def B(self,filta_num):\n",
    "        np.random.seed(0)\n",
    "        self.sigma = (1 / np.sqrt(filta_num))\n",
    "        self.B = self.sigma * np.random.randn(filta_num,1)\n",
    "        return self.B"
   ]
  },
  {
   "cell_type": "code",
   "execution_count": 10,
   "metadata": {},
   "outputs": [],
   "source": [
    "class He:\n",
    "    \n",
    "    def __init__(self, sigma = 0.01):\n",
    "        self.sigma = sigma\n",
    "    \n",
    "    def W(self, filta_num, Chanel, filta_size_h, filta_size_w):\n",
    "        sigma = np.sqrt(2 / 1)\n",
    "        np.random.seed(0)\n",
    "        self.W = sigma * np.random.randn(filta_num, Chanel, filta_size_h, filta_size_w)\n",
    "        return self.W\n",
    "        \n",
    "    def B(self,filta_num):\n",
    "        sigma = np.sqrt(2 / 1)\n",
    "        np.random.seed(0)\n",
    "        self.B = sigma * np.random.randn(filta_num,1)\n",
    "        return self.B"
   ]
  },
  {
   "cell_type": "code",
   "execution_count": 11,
   "metadata": {},
   "outputs": [
    {
     "data": {
      "text/plain": [
       "(60000, 28, 28)"
      ]
     },
     "execution_count": 11,
     "metadata": {},
     "output_type": "execute_result"
    }
   ],
   "source": [
    "X_train.shape"
   ]
  },
  {
   "cell_type": "code",
   "execution_count": 12,
   "metadata": {},
   "outputs": [],
   "source": [
    "class SGD:\n",
    "    \"\"\"\n",
    "    確率的勾配降下法\n",
    "    Parameters\n",
    "    ----------\n",
    "    lr : 学習率\n",
    "    \"\"\"\n",
    "    def __init__(self, lr=0.001):\n",
    "        self.lr = lr\n",
    "        \n",
    "    def update(self,layer):  #, W,B,dW,dB\n",
    "        \"\"\"\n",
    "        ある層の重みやバイアスの更新\n",
    "        Parameters\n",
    "        ----------\n",
    "        layer : 更新前の層のインスタンス\n",
    "        \"\"\"\n",
    "        layer.W -= (self.lr * layer.dW)\n",
    "        layer.B -= (self.lr * layer.dB)\n",
    "        return layer.W, layer.B"
   ]
  },
  {
   "cell_type": "markdown",
   "metadata": {},
   "source": [
    " # 【問題2】2次元畳み込み後の出力サイズ\n",
    "畳み込みを行うと特徴マップのサイズが変化します。どのように変化するかは以下の数式から求められます。この計算を行う関数を作成してください。"
   ]
  },
  {
   "cell_type": "code",
   "execution_count": 13,
   "metadata": {},
   "outputs": [],
   "source": [
    "def height_out(X_height,pad_n,Filta_height,stride):\n",
    "    out_h = (X_height + 2*pad_n - Filta_height)//stride + 1\n",
    "    return out_h"
   ]
  },
  {
   "cell_type": "code",
   "execution_count": 14,
   "metadata": {},
   "outputs": [],
   "source": [
    "def width_out(X_width,pad_n,Filta_width,stride):\n",
    "    out_w = (X_width + 2*pad_n - Filta_width)//stride + 1\n",
    "    return out_w"
   ]
  },
  {
   "cell_type": "code",
   "execution_count": 15,
   "metadata": {},
   "outputs": [
    {
     "data": {
      "text/plain": [
       "26"
      ]
     },
     "execution_count": 15,
     "metadata": {},
     "output_type": "execute_result"
    }
   ],
   "source": [
    "height_out(mini_X_train.shape[2],0,3,1)"
   ]
  },
  {
   "cell_type": "code",
   "execution_count": 16,
   "metadata": {},
   "outputs": [
    {
     "data": {
      "text/plain": [
       "26"
      ]
     },
     "execution_count": 16,
     "metadata": {},
     "output_type": "execute_result"
    }
   ],
   "source": [
    "width_out(mini_X_train.shape[3],0,3,1)"
   ]
  },
  {
   "cell_type": "code",
   "execution_count": 17,
   "metadata": {},
   "outputs": [
    {
     "data": {
      "text/plain": [
       "1"
      ]
     },
     "execution_count": 17,
     "metadata": {},
     "output_type": "execute_result"
    }
   ],
   "source": [
    "mini_X_train.shape[1]"
   ]
  },
  {
   "cell_type": "code",
   "execution_count": 18,
   "metadata": {},
   "outputs": [],
   "source": [
    "def im2col(input_data, filter_h, filter_w, stride=1, pad=0):\n",
    "    N, C, H, W = input_data.shape\n",
    "    out_h = height_out(X_height=H,pad_n=pad, Filta_height=filter_h, stride=stride)\n",
    "    out_w = width_out(X_width=W,pad_n=pad, Filta_width=filter_w, stride=stride)\n",
    "#     (H + 2*pad - filter_h)//stride + 1\n",
    "#     (W + 2*pad - filter_w)//stride + 1\n",
    "\n",
    "    img = np.pad(input_data, [(0,0), (0,0), (pad, pad), (pad, pad)], 'constant')\n",
    "    col = np.zeros((N, C, filter_h, filter_w, out_h, out_w))\n",
    "\n",
    "    for y in range(filter_h):\n",
    "        y_max = y + stride*out_h\n",
    "        for x in range(filter_w):\n",
    "            x_max = x + stride*out_w\n",
    "            col[:, :, y, x, :, :] = img[:, :, y:y_max:stride, x:x_max:stride]\n",
    "\n",
    "    col = col.transpose(0, 4, 5, 1, 2, 3).reshape(N*out_h*out_w, -1)\n",
    "    return col"
   ]
  },
  {
   "cell_type": "code",
   "execution_count": 19,
   "metadata": {},
   "outputs": [],
   "source": [
    "def col2im(col, X, filter_h, filter_w, stride=1, pad=0):\n",
    "    \"\"\"\n",
    "    Parameters\n",
    "    ----------\n",
    "    col :\n",
    "    input_shape : 入力データの形状（例：(10, 1, 28, 28)）\n",
    "    filter_h :\n",
    "    filter_w\n",
    "    stride\n",
    "    pad\n",
    "    Returns\n",
    "    -------\n",
    "    \"\"\"\n",
    "    N, C, H, W = X.shape\n",
    "    out_h = height_out(X_height=H,pad_n=pad, Filta_height=filter_h, stride=stride)\n",
    "    out_w = width_out(X_width=W,pad_n=pad, Filta_width=filter_w, stride=stride)\n",
    "    col = col.reshape(N, out_h, out_w, C, filter_h, filter_w).transpose(0, 3, 4, 5, 1, 2)\n",
    "\n",
    "    img = np.zeros((N, C, H + 2*pad + stride - 1, W + 2*pad + stride - 1))\n",
    "    for y in range(filter_h):\n",
    "        y_max = y + stride*out_h\n",
    "        for x in range(filter_w):\n",
    "            x_max = x + stride*out_w\n",
    "            img[:, :, y:y_max:stride, x:x_max:stride] += col[:, :, y, x, :, :]\n",
    "\n",
    "    return img[:, :, pad:H + pad, pad:W + pad]"
   ]
  },
  {
   "cell_type": "code",
   "execution_count": 20,
   "metadata": {},
   "outputs": [],
   "source": [
    "mini_X_train\n",
    "C = im2col(mini_X_train, 3, 3, stride=1, pad=0)"
   ]
  },
  {
   "cell_type": "code",
   "execution_count": 21,
   "metadata": {},
   "outputs": [
    {
     "data": {
      "text/plain": [
       "(20, 1, 28, 28)"
      ]
     },
     "execution_count": 21,
     "metadata": {},
     "output_type": "execute_result"
    }
   ],
   "source": [
    "mini_X_train.shape"
   ]
  },
  {
   "cell_type": "code",
   "execution_count": 22,
   "metadata": {},
   "outputs": [
    {
     "data": {
      "text/plain": [
       "(20, 1, 28, 28)"
      ]
     },
     "execution_count": 22,
     "metadata": {},
     "output_type": "execute_result"
    }
   ],
   "source": [
    "col2im(C, mini_X_train, 3, 3, stride=1, pad=0).shape"
   ]
  },
  {
   "cell_type": "code",
   "execution_count": 23,
   "metadata": {},
   "outputs": [
    {
     "data": {
      "text/plain": [
       "array([[[[ 0.,  1.,  2.],\n",
       "         [ 4.,  5.,  6.],\n",
       "         [ 8.,  9., 10.]],\n",
       "\n",
       "        [[ 1.,  2.,  3.],\n",
       "         [ 5.,  6.,  7.],\n",
       "         [ 9., 10., 11.]]],\n",
       "\n",
       "\n",
       "       [[[ 4.,  5.,  6.],\n",
       "         [ 8.,  9., 10.],\n",
       "         [12., 13., 14.]],\n",
       "\n",
       "        [[ 5.,  6.,  7.],\n",
       "         [ 9., 10., 11.],\n",
       "         [13., 14., 15.]]]])"
      ]
     },
     "execution_count": 23,
     "metadata": {},
     "output_type": "execute_result"
    }
   ],
   "source": [
    "X = np.arange(16).reshape([4,4])\n",
    "# print(X)\n",
    "F_W = 3\n",
    "F_H = 3\n",
    "\n",
    "x_hot = np.zeros([2,2,3,3])\n",
    "\n",
    "for i in range(x_hot.shape[0]):\n",
    "    for j in range(x_hot.shape[1]):\n",
    "        x_hot[i,j,:,:] = X[i:i+F_W, j:j+F_H]\n",
    "#             print(X[i:i+F_W, j:j+F_H])\n",
    "#             print(\"=======\")\n",
    "x_hot"
   ]
  },
  {
   "cell_type": "code",
   "execution_count": 24,
   "metadata": {},
   "outputs": [
    {
     "data": {
      "text/plain": [
       "29"
      ]
     },
     "execution_count": 24,
     "metadata": {},
     "output_type": "execute_result"
    }
   ],
   "source": [
    "width_out(X_width=28,pad_n=1, Filta_width=2, stride=1)"
   ]
  },
  {
   "cell_type": "code",
   "execution_count": 25,
   "metadata": {
    "code_folding": []
   },
   "outputs": [],
   "source": [
    "class SimpleConv2d:\n",
    "    def __init__(self, \n",
    "                 filta_num=1, \n",
    "                 filta_size_h=2, \n",
    "                 filta_size_w=2,\n",
    "                 stride=1,\n",
    "                 pad = 1,\n",
    "                 initializer=XavierInitializer(), \n",
    "                 optimizer=SGD(lr=0.001)):\n",
    "        \n",
    "\n",
    "        self.filta_num = filta_num\n",
    "        self.filta_size_h = filta_size_h\n",
    "        self.filta_size_w = filta_size_w\n",
    "        self.pad = pad\n",
    "        self.stride = stride\n",
    "        self.kernel  = None\n",
    "        self.initializer = initializer\n",
    "        self.optimizer = optimizer\n",
    "        self.W = None\n",
    "        self.B = None\n",
    "        \n",
    "#         X_height,pad_n=0,Filta_height,stride\n",
    "        \n",
    "        \n",
    "    def im2col(self, input_data):\n",
    "        N, C, H, W = input_data.shape\n",
    "\n",
    "\n",
    "        out_h = height_out(X_height=H,pad_n=self.pad, Filta_height= self.filta_size_h, stride=self.stride)\n",
    "        out_w = width_out(X_width=W,pad_n=self.pad, Filta_width=self.filta_size_w, stride=self.stride)\n",
    "        img = np.pad(input_data, [(0,0), (0,0), (self.pad, self.pad), (self.pad, self.pad)], 'constant')\n",
    "        col = np.zeros((N, C, self.filta_size_h, self.filta_size_w, out_h, out_w))\n",
    "\n",
    "        for y in range(self.filta_size_h):\n",
    "            y_max = y + self.stride*out_h\n",
    "            for x in range(self.filta_size_w):\n",
    "                x_max = x + self.stride*out_w\n",
    "                col[:, :, y, x, :, :] = img[:, :, y:y_max:self.stride, x:x_max:self.stride]\n",
    "\n",
    "        col = col.transpose(0, 4, 5, 1, 2, 3).reshape(N*out_h*out_w, -1)\n",
    "        return col\n",
    "    \n",
    "    \n",
    "    \n",
    "    def col2im(self, col, X):\n",
    "        N, C, H, W = X.shape\n",
    "        out_h = height_out(X_height=H,pad_n=self.pad, Filta_height=self.filta_size_h, stride=self.stride)\n",
    "        out_w = width_out(X_width=W,pad_n=self.pad, Filta_width=self.filta_size_w, stride=self.stride)\n",
    "        col = col.reshape(N, out_h, out_w, C, self.filta_size_h, self.filta_size_w).transpose(0, 3, 4, 5, 1, 2)\n",
    "\n",
    "        img = np.zeros((N, C, H + 2*self.pad + self.stride - 1, W + 2*self.pad + self.stride - 1))\n",
    "        for y in range(self.filta_size_h):\n",
    "            y_max = y + self.stride*out_h\n",
    "            for x in range(self.filta_size_w):\n",
    "                x_max = x + self.stride*out_w\n",
    "                img[:, :, y:y_max:self.stride, x:x_max:self.stride] += col[:, :, y, x, :, :]\n",
    "        return img[:, :, self.pad:H + self.pad, self.pad:W + self.pad]\n",
    "    \n",
    "        \n",
    "        \n",
    "            \n",
    "    def forward(self,X):\n",
    "        if self.W is None:\n",
    "            self.W = self.initializer.W(self.filta_num, X.shape[1], self.filta_size_h , self.filta_size_w)\n",
    "        if self.B is None:\n",
    "            self.B = self.initializer.B(self.filta_num)\n",
    "        FN, C, FH, FW = self.W.shape\n",
    "        N, C, H, W = X.shape\n",
    "        out_h = height_out(X_height=H,pad_n=self.pad, Filta_height=self.filta_size_h, stride=self.stride)\n",
    "        out_w = width_out(X_width=W,pad_n=self.pad, Filta_width=self.filta_size_w, stride=self.stride)\n",
    "            \n",
    "        self.col = self.im2col(X)\n",
    "        self.col_W = self.W.reshape(FN, -1).T\n",
    "        out = np.dot(self.col, self.col_W) + self.B.T\n",
    "        out = out.reshape(N, out_h, out_w, -1).transpose(0,3,1,2)\n",
    "        self.X = X\n",
    "\n",
    "        return out\n",
    "    \n",
    "    \n",
    "    def backward(self,dout):\n",
    "        FN, C, FH, FW = self.W.shape\n",
    "        dout = dout.transpose(0,2,3,1).reshape(-1, FN)\n",
    "\n",
    "        self.dB = np.sum(dout, axis=0).reshape(self.filta_num,1)\n",
    "        self.dW = np.dot(self.col.T, dout)\n",
    "        self.dW = self.dW.transpose(1, 0).reshape(FN, C, FH, FW)\n",
    "\n",
    "        dcol = np.dot(dout, self.col_W.T)\n",
    "#         print(dcol.shape,\"dcol\")\n",
    "        self.dx = self.col2im(dcol,self.X)\n",
    "        \n",
    "        return self.dx\n",
    "        self = self.optimizer.update(self)"
   ]
  },
  {
   "cell_type": "code",
   "execution_count": 26,
   "metadata": {},
   "outputs": [
    {
     "name": "stdout",
     "output_type": "stream",
     "text": [
      "(20, 3, 28, 28) fd\n"
     ]
    },
    {
     "data": {
      "text/plain": [
       "(20, 1, 28, 28)"
      ]
     },
     "execution_count": 26,
     "metadata": {},
     "output_type": "execute_result"
    }
   ],
   "source": [
    "C2d = SimpleConv2d(filta_num=3, filta_size_h=3,  filta_size_w=3, stride=1, pad=1, initializer=SimpleInitializer())\n",
    "fd = C2d.forward(mini_X_train)\n",
    "print(fd.shape,\"fd\")\n",
    "C2d.backward(fd).shape"
   ]
  },
  {
   "cell_type": "markdown",
   "metadata": {},
   "source": [
    " # 【問題3】最大プーリング層の作成\n",
    "最大プーリング層のクラスMaxPool2Dを作成してください。プーリング層は数式で表さない方が分かりやすい部分もありますが、数式で表すとフォワードプロパゲーションは以下のようになります。"
   ]
  },
  {
   "cell_type": "code",
   "execution_count": 27,
   "metadata": {},
   "outputs": [],
   "source": [
    "class Pooling_max:\n",
    "    def __init__(self, pool_h, pool_w, stride=1, pad=0):\n",
    "        self.pool_h = pool_h\n",
    "        self.pool_w = pool_w\n",
    "        self.stride = stride\n",
    "        self.pad = pad\n",
    "        \n",
    "        self.x = None\n",
    "        self.arg_max = None\n",
    "\n",
    "    \n",
    "        \n",
    "    def im2col(self, input_data):\n",
    "        N, C, H, W = input_data.shape\n",
    "        out_h = height_out(X_height=H,pad_n=self.pad, Filta_height= self.pool_h, stride=self.stride)\n",
    "        out_w = width_out(X_width=W,pad_n=self.pad, Filta_width=self.pool_w, stride=self.stride)\n",
    "\n",
    "\n",
    "        img = np.pad(input_data, [(0,0), (0,0), (self.pad, self.pad), (self.pad, self.pad)], 'constant')\n",
    "        col = np.zeros((N, C, self.pool_h, self.pool_w, out_h, out_w))\n",
    "\n",
    "        for y in range(self.pool_h):\n",
    "            y_max = y + self.stride*out_h\n",
    "            for x in range(self.pool_w):\n",
    "                x_max = x + self.stride*out_w\n",
    "                col[:, :, y, x, :, :] = img[:, :, y:y_max:self.stride, x:x_max:self.stride]\n",
    "\n",
    "        col = col.transpose(0, 4, 5, 1, 2, 3).reshape(N*out_h*out_w, -1)\n",
    "        return col\n",
    "    \n",
    "    \n",
    "    \n",
    "    def col2im(self, col, X):\n",
    "        N, C, H, W = X.shape\n",
    "        out_h = height_out(X_height=H,pad_n=self.pad, Filta_height=self.pool_h, stride=self.stride)\n",
    "        out_w = width_out(X_width=W,pad_n=self.pad, Filta_width=self.pool_w, stride=self.stride)\n",
    "        col = col.reshape(N, out_h, out_w, C, self.pool_h, self.pool_w).transpose(0, 3, 4, 5, 1, 2)\n",
    "\n",
    "        img = np.zeros((N, C, H + 2*self.pad + self.stride - 1, W + 2*self.pad + self.stride - 1))\n",
    "        for y in range(self.pool_h):\n",
    "            y_max = y + self.stride*out_h\n",
    "            for x in range(self.pool_w):\n",
    "                x_max = x + self.stride*out_w\n",
    "                img[:, :, y:y_max:self.stride, x:x_max:self.stride] += col[:, :, y, x, :, :]\n",
    "        return img[:, :, self.pad:H + self.pad, self.pad:W + self.pad]\n",
    "       \n",
    "        \n",
    "        \n",
    "    def forward(self, x):\n",
    "        N, C, H, W = x.shape\n",
    "        out_h = height_out(X_height=H,pad_n=self.pad, Filta_height=self.pool_h, stride=self.stride)\n",
    "        out_w = width_out(X_width=W,pad_n=self.pad, Filta_width=self.pool_w, stride=self.stride)\n",
    "\n",
    "        col = self.im2col(x)     #, self.pool_h, self.pool_w, self.stride, self.pad\n",
    "        col = col.reshape(-1, self.pool_h*self.pool_w)\n",
    "\n",
    "        arg_max = np.argmax(col, axis=1)\n",
    "        out = np.max(col, axis=1)\n",
    "        out = out.reshape(N, out_h, out_w, C).transpose(0, 3, 1, 2)\n",
    "\n",
    "        self.x = x\n",
    "        self.arg_max = arg_max\n",
    "\n",
    "        return out\n",
    "\n",
    "    def backward(self, dout):\n",
    "        dout = dout.transpose(0, 2, 3, 1)\n",
    "        \n",
    "        pool_size = self.pool_h * self.pool_w\n",
    "        dmax = np.zeros((dout.size, pool_size))\n",
    "        dmax[np.arange(self.arg_max.size), self.arg_max.flatten()] = dout.flatten()\n",
    "        dmax = dmax.reshape(dout.shape + (pool_size,)) \n",
    "        \n",
    "        dcol = dmax.reshape(dmax.shape[0] * dmax.shape[1] * dmax.shape[2], -1)\n",
    "        dx = self.col2im(dcol, self.x)\n",
    "   \n",
    "        return dx\n",
    "        self = self.optimizer.update(self)"
   ]
  },
  {
   "cell_type": "code",
   "execution_count": 28,
   "metadata": {},
   "outputs": [
    {
     "name": "stdout",
     "output_type": "stream",
     "text": [
      "(20, 1, 15, 15) pl\n"
     ]
    },
    {
     "data": {
      "text/plain": [
       "(20, 1, 28, 28)"
      ]
     },
     "execution_count": 28,
     "metadata": {},
     "output_type": "execute_result"
    }
   ],
   "source": [
    "pool = Pooling_max( pool_h=2, pool_w=2, stride=2, pad=1)\n",
    "pl = pool.forward(mini_X_train)\n",
    "print(pl.shape,\"pl\")\n",
    "pool.backward(pl).shape"
   ]
  },
  {
   "cell_type": "markdown",
   "metadata": {},
   "source": [
    " # 【問題4】（アドバンス課題）平均プーリングの作成\n",
    "平均プーリング層のクラスAveragePool2Dを作成してください。\n",
    "\n",
    "範囲内の最大値ではなく、平均値を出力とするプーリング層です。\n",
    "\n",
    "画像認識関係では最大プーリング層が一般的で、平均プーリングはあまり使われません"
   ]
  },
  {
   "cell_type": "code",
   "execution_count": 29,
   "metadata": {},
   "outputs": [],
   "source": [
    "class Pooling_mean:\n",
    "    def __init__(self, pool_h, pool_w, stride=1, pad=0):\n",
    "        self.pool_h = pool_h\n",
    "        self.pool_w = pool_w\n",
    "        self.stride = stride\n",
    "        self.pad = pad\n",
    "        \n",
    "        self.x = None\n",
    "        self.arg_max = None\n",
    "\n",
    "    \n",
    "        \n",
    "    def im2col(self, input_data):\n",
    "        N, C, H, W = input_data.shape\n",
    "        out_h = height_out(X_height=H,pad_n=self.pad, Filta_height= self.pool_h, stride=self.stride)\n",
    "        out_w = width_out(X_width=W,pad_n=self.pad, Filta_width=self.pool_w, stride=self.stride)\n",
    "\n",
    "\n",
    "        img = np.pad(input_data, [(0,0), (0,0), (self.pad, self.pad), (self.pad, self.pad)], 'constant')\n",
    "        col = np.zeros((N, C, self.pool_h, self.pool_w, out_h, out_w))\n",
    "\n",
    "        for y in range(self.pool_h):\n",
    "            y_max = y + self.stride*out_h\n",
    "            for x in range(self.pool_w):\n",
    "                x_max = x + self.stride*out_w\n",
    "                col[:, :, y, x, :, :] = img[:, :, y:y_max:self.stride, x:x_max:self.stride]\n",
    "\n",
    "        col = col.transpose(0, 4, 5, 1, 2, 3).reshape(N*out_h*out_w, -1)\n",
    "        return col\n",
    "    \n",
    "    \n",
    "    \n",
    "    def col2im(self, col, X):\n",
    "        N, C, H, W = X.shape\n",
    "        out_h = height_out(X_height=H,pad_n=self.pad, Filta_height=self.pool_h, stride=self.stride)\n",
    "        out_w = width_out(X_width=W,pad_n=self.pad, Filta_width=self.pool_w, stride=self.stride)\n",
    "        col = col.reshape(N, out_h, out_w, C, self.pool_h, self.pool_w).transpose(0, 3, 4, 5, 1, 2)\n",
    "\n",
    "        img = np.zeros((N, C, H + 2*self.pad + self.stride - 1, W + 2*self.pad + self.stride - 1))\n",
    "        for y in range(self.pool_h):\n",
    "            y_max = y + self.stride*out_h\n",
    "            for x in range(self.pool_w):\n",
    "                x_max = x + self.stride*out_w\n",
    "                img[:, :, y:y_max:self.stride, x:x_max:self.stride] += col[:, :, y, x, :, :]\n",
    "        return img[:, :, self.pad:H + self.pad, self.pad:W + self.pad]\n",
    "       \n",
    "        \n",
    "        \n",
    "    def forward(self, x):\n",
    "        N, C, H, W = x.shape\n",
    "        out_h = height_out(X_height=H,pad_n=self.pad, Filta_height=self.pool_h, stride=self.stride)\n",
    "        out_w = width_out(X_width=W,pad_n=self.pad, Filta_width=self.pool_w, stride=self.stride)\n",
    "\n",
    "        col = self.im2col(x)     #, self.pool_h, self.pool_w, self.stride, self.pad\n",
    "        col = col.reshape(-1, self.pool_h*self.pool_w)\n",
    "\n",
    "        arg_max = np.argmax(col, axis=1)\n",
    "        out = np.max(col, axis=1)\n",
    "        out = out.reshape(N, out_h, out_w, C).transpose(0, 3, 1, 2)\n",
    "\n",
    "        self.x = x\n",
    "        self.arg_max = arg_max\n",
    "\n",
    "        return out\n",
    "\n",
    "    def backward(self, dout):\n",
    "        dout = dout.transpose(0, 2, 3, 1)\n",
    "        \n",
    "        pool_size = self.pool_h * self.pool_w\n",
    "        dmax = np.zeros((dout.size, pool_size))\n",
    "        dmax[np.arange(self.arg_max.size), self.arg_max.flatten()] = dout.flatten()\n",
    "        dmax = dmax.reshape(dout.shape + (pool_size,)) \n",
    "        \n",
    "        dcol = dmax.reshape(dmax.shape[0] * dmax.shape[1] * dmax.shape[2], -1)\n",
    "        dx = self.col2im(dcol, self.x)\n",
    "   \n",
    "        return dx"
   ]
  },
  {
   "cell_type": "code",
   "execution_count": 30,
   "metadata": {},
   "outputs": [
    {
     "name": "stdout",
     "output_type": "stream",
     "text": [
      "(20, 1, 15, 15) pl\n"
     ]
    },
    {
     "data": {
      "text/plain": [
       "(20, 1, 28, 28)"
      ]
     },
     "execution_count": 30,
     "metadata": {},
     "output_type": "execute_result"
    }
   ],
   "source": [
    "pool = Pooling_mean( pool_h=2, pool_w=2, stride=2, pad=1)\n",
    "pl = pool.forward(mini_X_train)\n",
    "print(pl.shape,\"pl\")\n",
    "pool.backward(pl).shape"
   ]
  },
  {
   "cell_type": "markdown",
   "metadata": {},
   "source": [
    " # 【問題5】平滑化\n",
    "平滑化するためのFlattenクラスを作成してください。\n",
    "\n",
    "フォワードのときはチャンネル、高さ、幅の3次元を1次元にreshapeします。その値は記録しておき、バックワードのときに再びreshapeによって形を戻します。\n",
    "\n",
    "この平滑化のクラスを挟むことで出力前の全結合層に適した配列を作ることができます。"
   ]
  },
  {
   "cell_type": "code",
   "execution_count": 31,
   "metadata": {},
   "outputs": [],
   "source": [
    "class Flatten():\n",
    "    def __init__(self,):\n",
    "        self.X = None\n",
    "        self.X_shape = None\n",
    "        \n",
    "    \n",
    "    def forward(self, X):\n",
    "        self.X_shape = X.shape\n",
    "        N,C, H,W = X.shape\n",
    "        Fl_X = X.reshape(N,-1)\n",
    "        return Fl_X\n",
    "        \n",
    "        \n",
    "    def backward(self, X):\n",
    "        bk_FL_X = X.reshape(self.X_shape)\n",
    "        return bk_FL_X"
   ]
  },
  {
   "cell_type": "code",
   "execution_count": 32,
   "metadata": {},
   "outputs": [
    {
     "data": {
      "text/plain": [
       "array([0., 0., 0., ..., 0., 0., 0.])"
      ]
     },
     "execution_count": 32,
     "metadata": {},
     "output_type": "execute_result"
    }
   ],
   "source": [
    "mini_X_train.shape\n",
    "mini_X_train.reshape(-1,)"
   ]
  },
  {
   "cell_type": "code",
   "execution_count": 33,
   "metadata": {},
   "outputs": [
    {
     "data": {
      "text/plain": [
       "array([[0., 0., 0., ..., 0., 0., 0.],\n",
       "       [0., 0., 0., ..., 0., 0., 0.],\n",
       "       [0., 0., 0., ..., 0., 0., 0.],\n",
       "       ...,\n",
       "       [0., 0., 0., ..., 0., 0., 0.],\n",
       "       [0., 0., 0., ..., 0., 0., 0.],\n",
       "       [0., 0., 0., ..., 0., 0., 0.]])"
      ]
     },
     "execution_count": 33,
     "metadata": {},
     "output_type": "execute_result"
    }
   ],
   "source": [
    "Fl = Flatten()\n",
    "Fl.forward(mini_X_train)"
   ]
  },
  {
   "cell_type": "markdown",
   "metadata": {},
   "source": [
    " # 【問題6】学習と推定\n",
    "作成したConv2dを使用してMNISTを学習・推定し、Accuracyを計算してください。\n",
    "\n",
    "精度は低くともまずは動くことを目指してください。"
   ]
  },
  {
   "cell_type": "code",
   "execution_count": 34,
   "metadata": {},
   "outputs": [],
   "source": [
    "class FC:\n",
    "    \"\"\"\n",
    "    ノード数n_nodes1からn_nodes2への全結合層\n",
    "    Parameters\n",
    "    ----------\n",
    "    n_nodes1 : int\n",
    "      前の層のノード数\n",
    "    n_nodes2 : int\n",
    "      後の層のノード数\n",
    "    initializer : 初期化方法のインスタンス\n",
    "    optimizer : 最適化手法のインスタンス\n",
    "    \"\"\"\n",
    "    def __init__(self, n_nodes1, n_nodes2, initializer, optimizer):\n",
    "        self.optimizer = optimizer\n",
    "        self.n_nodes1 = n_nodes1\n",
    "        self.n_nodes2 = n_nodes2\n",
    "        self.initializer = initializer\n",
    "\n",
    "        self.W = self.initializer.W(self.n_nodes1, self.n_nodes2)\n",
    "        self.B = self.initializer.B(self.n_nodes2)\n",
    "        \n",
    "        self.h_w = None\n",
    "        self.h_b = None\n",
    "        \n",
    "        # 初期化\n",
    "        # initializerのメソッドを使い、self.Wとself.Bを初期化する\n",
    "    \n",
    "    \n",
    "    \n",
    "    def forward(self, X,):\n",
    "        \"\"\"\n",
    "        フォワード\n",
    "        Parameters\n",
    "        ----------\n",
    "        X : 次の形のndarray, shape (batch_size, n_nodes1)\n",
    "            入力\n",
    "        Returns\n",
    "        ----------\n",
    "        A : 次の形のndarray, shape (batch_size, n_nodes2)\n",
    "            出力\n",
    "        \"\"\"   \n",
    "        self.Z = X \n",
    "        self.A = self.Z @ self.W + self.B\n",
    "\n",
    "        return self.A\n",
    "        \n",
    "\n",
    "    \n",
    "    \n",
    "    \n",
    "    def backward(self, dA):\n",
    "        \"\"\"\n",
    "        バックワード\n",
    "        Parameters\n",
    "        ----------\n",
    "        dA : 次の形のndarray, shape (batch_size, n_nodes2)\n",
    "            後ろから流れてきた勾配\n",
    "        Returns\n",
    "        ----------\n",
    "        dZ : 次の形のndarray, shape (batch_size, n_nodes1)\n",
    "            前に流す勾配\n",
    "        \"\"\"\n",
    "        # 更新\n",
    "        self.dB = np.sum(dA, axis=0)\n",
    "        self.dW = self.Z.T @ dA\n",
    "        dZ = dA @ self.W.T\n",
    "        \n",
    "        self = self.optimizer.update(self)\n",
    "        return dZ"
   ]
  },
  {
   "cell_type": "code",
   "execution_count": 35,
   "metadata": {},
   "outputs": [],
   "source": [
    "class soft_max:\n",
    "    \n",
    "    def __init__(self):\n",
    "        self.soft_max = 0\n",
    "    \n",
    "    def forward(self,data):\n",
    "        \n",
    "        if data.ndim == 2:\n",
    "            data = data.T\n",
    "            data = data - np.max(data, axis=0)\n",
    "            self.soft_max = np.exp(data) / np.sum(np.exp(data), axis=0)\n",
    "            return self.soft_max.T\n",
    "        data = data - np.max(data)   # オーバーフロー対策\n",
    "        self.soft_max = np.exp(data) / np.sum(np.exp(data))\n",
    "        return self.soft_max\n",
    "\n",
    "    def backward(self, target):\n",
    "        self.dA = self.soft_max.T - target\n",
    "        return self.dA"
   ]
  },
  {
   "cell_type": "code",
   "execution_count": 36,
   "metadata": {},
   "outputs": [],
   "source": [
    "class sigmoid:\n",
    "    \n",
    "    \n",
    "    def forward(self,data):\n",
    "        C = np.max(data)\n",
    "        self.sig = 1 / (1 + np.exp(-data/C))\n",
    "        return self.sig\n",
    "    \n",
    "    \n",
    "    def backward(self,dZ):\n",
    "        self.sig_d = dZ * (1 - self.sig) * self.sig\n",
    "        return self.sig_d"
   ]
  },
  {
   "cell_type": "code",
   "execution_count": 37,
   "metadata": {},
   "outputs": [],
   "source": [
    "class tanh:\n",
    "    \n",
    "    \n",
    "    def forward(self,data):\n",
    "        C = np.max(data)\n",
    "        self.t = np.tanh(data/C)\n",
    "        return self.t\n",
    "    \n",
    "    \n",
    "    def backward(self,A,dZ):\n",
    "        C = np.max(A)\n",
    "        B = A/C\n",
    "        self.dA2 = dZ*(1-np.tanh(B))\n",
    "        return self.dA2"
   ]
  },
  {
   "cell_type": "code",
   "execution_count": 38,
   "metadata": {},
   "outputs": [],
   "source": [
    "class ReLU():\n",
    "    def __init__(self):\n",
    "        self.mask = None\n",
    "        \n",
    "    def forward(self, x):\n",
    "        self.mask = (x <= 0)\n",
    "        self.A = x.copy()\n",
    "        self.A[self.mask] = 0\n",
    "        return self.A\n",
    "        \n",
    "    def backward(self, dA):\n",
    "        dA[self.mask] = 0\n",
    "        dA = dA\n",
    "        return dA"
   ]
  },
  {
   "cell_type": "code",
   "execution_count": 39,
   "metadata": {},
   "outputs": [],
   "source": [
    "class SimpleInitializer_A:\n",
    "\n",
    "    \n",
    "    def __init__(self, sigma=0.01):\n",
    "        self.sigma = sigma\n",
    "        \n",
    "        \n",
    "    def W(self, n_nodes1, n_nodes2):\n",
    "        np.random.seed(5)\n",
    "        self.W = self.sigma * np.random.randn(n_nodes1, n_nodes2)\n",
    "        return self.W\n",
    "    \n",
    "    \n",
    "    def B(self, n_nodes2):\n",
    "        np.random.seed(5)\n",
    "        self.B = self.sigma * np.random.randn(n_nodes2)\n",
    "        return self.B"
   ]
  },
  {
   "cell_type": "code",
   "execution_count": 40,
   "metadata": {},
   "outputs": [],
   "source": [
    "class He_A:\n",
    "    \n",
    "    def __init__(self, sigma = 0.01):\n",
    "        self.sigma = sigma\n",
    "    \n",
    "    def W(self,  n_node1, n_node2):\n",
    "        sigma = np.sqrt(2 / n_node1)\n",
    "        np.random.seed(0)\n",
    "        self.W = sigma * np.random.randn(n_node1, n_node2)\n",
    "        return self.W\n",
    "        \n",
    "    def B(self,n_node2):\n",
    "        sigma = np.sqrt(2 / n_node2)\n",
    "        np.random.seed(0)\n",
    "        self.B = sigma * np.random.randn(n_node2)\n",
    "        return self.B"
   ]
  },
  {
   "cell_type": "code",
   "execution_count": 41,
   "metadata": {},
   "outputs": [],
   "source": [
    "class XavierInitializer_A:\n",
    "    \n",
    "    def __init__(self, sigma = 0.01):\n",
    "        self.sigma = sigma\n",
    "        \n",
    "    \n",
    "    def W(self, n_node1, n_node2):\n",
    "        self.sigma = (1 / np.sqrt(n_node1))\n",
    "        np.random.seed(0)\n",
    "        self.W = self.sigma * np.random.randn(n_node1, n_node2)\n",
    "        return self.W\n",
    "        \n",
    "    def B(self,n_node2):\n",
    "        np.random.seed(0)\n",
    "        self.B = self.sigma * np.random.randn(n_node2)\n",
    "        return self.B"
   ]
  },
  {
   "cell_type": "code",
   "execution_count": 42,
   "metadata": {},
   "outputs": [
    {
     "name": "stdout",
     "output_type": "stream",
     "text": [
      "(20, 3, 28, 28) fd\n"
     ]
    },
    {
     "data": {
      "text/plain": [
       "(20, 1, 28, 28)"
      ]
     },
     "execution_count": 42,
     "metadata": {},
     "output_type": "execute_result"
    }
   ],
   "source": [
    "C2d = SimpleConv2d(filta_num=3, filta_size_h=3,  filta_size_w=3, stride=1, pad=1, initializer=SimpleInitializer())\n",
    "fd = C2d.forward(mini_X_train)\n",
    "print(fd.shape,\"fd\")\n",
    "C2d.backward(fd).shape"
   ]
  },
  {
   "cell_type": "code",
   "execution_count": 43,
   "metadata": {},
   "outputs": [
    {
     "name": "stdout",
     "output_type": "stream",
     "text": [
      "(20, 1, 15, 15) pl\n"
     ]
    },
    {
     "data": {
      "text/plain": [
       "(20, 1, 28, 28)"
      ]
     },
     "execution_count": 43,
     "metadata": {},
     "output_type": "execute_result"
    }
   ],
   "source": [
    "pool = Pooling_max( pool_h=2, pool_w=2, stride=2, pad=1)\n",
    "pl = pool.forward(mini_X_train)\n",
    "print(pl.shape,\"pl\")\n",
    "pool.backward(pl).shape"
   ]
  },
  {
   "cell_type": "code",
   "execution_count": 44,
   "metadata": {},
   "outputs": [],
   "source": [
    "def loss_fnk(target,pred):\n",
    "    Loss = - np.sum(target * np.log(pred)) / target.shape[0]\n",
    "    return Loss"
   ]
  },
  {
   "cell_type": "code",
   "execution_count": 45,
   "metadata": {},
   "outputs": [
    {
     "data": {
      "text/plain": [
       "(20, 675)"
      ]
     },
     "execution_count": 45,
     "metadata": {},
     "output_type": "execute_result"
    }
   ],
   "source": [
    "C2d = SimpleConv2d(filta_num=3, filta_size_h=3,  filta_size_w=3, stride=1, pad=1, initializer=SimpleInitializer())\n",
    "pool = Pooling_max( pool_h=2, pool_w=2, stride=2, pad=1)\n",
    "Fl = Flatten()\n",
    "fd = C2d.forward(mini_X_train)\n",
    "Po = pool.forward(fd)\n",
    "fl = Fl.forward(Po)\n",
    "fl.shape"
   ]
  },
  {
   "cell_type": "code",
   "execution_count": 46,
   "metadata": {
    "code_folding": []
   },
   "outputs": [],
   "source": [
    "class ScratchSimpleDNN():\n",
    "    \"\"\"\n",
    "    シンプルな三層ニューラルネットワーク分類器\n",
    "\n",
    "    Parameters\n",
    "    ----------\n",
    "\n",
    "    Attributes\n",
    "    ----------\n",
    "    \"\"\"\n",
    "\n",
    "    def __init__(self, \n",
    "                 batch_size=20, \n",
    "                 epoch=20, \n",
    "                 Conv = SimpleConv2d(filta_num=3, filta_size_h=2,  filta_size_w=2, stride=1, pad=1, initializer=SimpleInitializer()),\n",
    "                 Pool =  Pooling_max( pool_h=2, pool_w=2, stride=2, pad=1),\n",
    "                 Flatten = Flatten(),\n",
    "                 FC1 = FC(675,600,initializer=He_A(),optimizer=SGD(lr=0.01)),\n",
    "                 FC2=FC(600,600,initializer=He_A(),optimizer=SGD(lr=0.01)),\n",
    "                 FC3=FC(600,10,initializer=He_A(),optimizer=SGD(lr=0.01)),\n",
    "                 activation_con = ReLU(),\n",
    "                 activation1 = ReLU(),\n",
    "                 activation2 = ReLU(),\n",
    "                 activation_end = soft_max(),\n",
    "                 verbose = True):\n",
    "        \n",
    "        \n",
    "        self.verbose = verbose\n",
    "        self.batch_size = batch_size\n",
    "        self.Loss = 0\n",
    "        self.epoch = epoch\n",
    "        self.Conv = Conv\n",
    "        self.Pool = Pool\n",
    "        self.Flatten = Flatten\n",
    "        self.FC1 = FC1\n",
    "        self.FC2 = FC2\n",
    "        self.FC3 = FC3\n",
    "        self.activation_con = activation_con\n",
    "        self.activation1 = activation1\n",
    "        self.activation2 = activation2\n",
    "        self.activation3 = activation_end\n",
    "        \n",
    "        \n",
    "        \n",
    "    def fit(self, data, target, test, target2):\n",
    "        self.loss_list = []\n",
    "        if data.ndim == 3:\n",
    "            data = data.reshape(data.shape[0], 1, data.shape[1], data.shape[2])\n",
    "        \n",
    "        if test.ndim == 3:\n",
    "            test = test.reshape(test.shape[0], 1, test.shape[1], test.shape[2])\n",
    "            \n",
    "        for i in range(self.epoch):\n",
    "            print(i,\"epoch\")\n",
    "            get_mini_batch = GetMiniBatch(data, target, batch_size=self.batch_size)\n",
    "            for mini_X_train, mini_y_train in get_mini_batch:\n",
    "                self.Co = self.Conv.forward(mini_X_train)\n",
    "                self.Co_ac = self.activation_con.forward(self.Co)\n",
    "                self.pool_max = self.Pool.forward(self.Co_ac)\n",
    "                self.fl = self.Flatten.forward(self.pool_max )\n",
    "                \n",
    "                self.A1 = self.FC1.forward(self.fl)\n",
    "                self.Z1 = self.activation1.forward(self.A1)\n",
    "\n",
    "                self.A2 = self.FC2.forward(self.Z1)\n",
    "                self.Z2 = self.activation2.forward(self.A2)\n",
    "\n",
    "                self.A3 = self.FC3.forward(self.Z2)\n",
    "                self.Z3 = self.activation3.forward(self.A3)\n",
    "    \n",
    "                self.A3_b = self.activation3.backward(mini_y_train)\n",
    "                self.Z3_b = self.FC3.backward(self.A3_b)\n",
    "                \n",
    "                self.Z2_b = self.activation2.backward(self.Z3_b)\n",
    "                self.A2_b = self.FC2.backward(self.Z2_b)\n",
    "                \n",
    "                self.Z1_b = self.activation1.backward(self.A2_b)\n",
    "                self.A1_b = self.FC1.backward(self.Z1_b)\n",
    "                \n",
    "                self.fl_b = self.Flatten.backward(self.A1_b )\n",
    "                self.pool_max_b = self.Pool.backward(self.fl_b)\n",
    "                self.Co_ac_b = self.activation_con.backward(self.pool_max_b)\n",
    "                self.Co_b = self.Conv.backward(self.Co_ac_b)\n",
    "                \n",
    "                \n",
    "            \n",
    "            \n",
    "            Co = self.Conv.forward(test)\n",
    "            Co_ac = self.activation_con.forward(Co)\n",
    "            pool_max = self.Pool.forward(Co_ac)\n",
    "            fl = self.Flatten.forward(pool_max )\n",
    "            A1 = self.FC1.forward(fl)\n",
    "            Z1 = self.activation1.forward(A1)\n",
    "            A2 = self.FC2.forward(Z1)\n",
    "            Z2 = self.activation2.forward(A2)\n",
    "            A3 = self.FC3.forward(Z2)\n",
    "            Z3 = self.activation3.forward(A3)\n",
    "            print(\"Z3_max\",np.argmax(Z3,axis=1))\n",
    "            loss= loss_fnk(target2, Z3)\n",
    "            self.loss_list.append(loss)\n",
    "            \n",
    "            \n",
    "    def predict(self, data):\n",
    "        if data.ndim == 3:\n",
    "            data = data.reshape(data.shape[0], 1, data.shape[1], data.shape[2])\n",
    "        \n",
    "        Co = self.Conv.forward(data)\n",
    "        Co_ac = self.activation_con.forward(Co)\n",
    "        pool_max = self.Pool.forward(Co_ac)\n",
    "        fl = self.Flatten.forward(pool_max )\n",
    "        A1 = self.FC1.forward(fl)\n",
    "        Z1 = self.activation1.forward(A1)\n",
    "        A2 = self.FC2.forward(Z1)\n",
    "        Z2 = self.activation2.forward(A2)\n",
    "        A3 = self.FC3.forward(Z2)\n",
    "        Z3 = self.activation3.forward(A3)\n",
    "        y_pred = np.argmax(Z3,axis=1)\n",
    "        return y_pred"
   ]
  },
  {
   "cell_type": "code",
   "execution_count": 47,
   "metadata": {},
   "outputs": [
    {
     "name": "stdout",
     "output_type": "stream",
     "text": [
      "0 epoch\n",
      "Z3_max [7 2 1 ... 4 5 6]\n",
      "1 epoch\n",
      "Z3_max [7 2 1 ... 4 5 6]\n",
      "2 epoch\n",
      "Z3_max [7 2 1 ... 4 5 6]\n",
      "3 epoch\n",
      "Z3_max [7 2 1 ... 4 5 6]\n",
      "4 epoch\n",
      "Z3_max [7 2 1 ... 4 5 6]\n",
      "5 epoch\n",
      "Z3_max [7 2 1 ... 4 5 6]\n",
      "6 epoch\n",
      "Z3_max [7 2 1 ... 4 5 6]\n",
      "7 epoch\n",
      "Z3_max [7 2 1 ... 4 5 6]\n",
      "8 epoch\n",
      "Z3_max [7 2 1 ... 4 5 6]\n",
      "9 epoch\n",
      "Z3_max [7 2 1 ... 4 5 6]\n",
      "10 epoch\n",
      "Z3_max [7 2 1 ... 4 5 6]\n",
      "11 epoch\n",
      "Z3_max [7 2 1 ... 4 5 6]\n",
      "12 epoch\n",
      "Z3_max [7 2 1 ... 4 5 6]\n",
      "13 epoch\n",
      "Z3_max [7 2 1 ... 4 5 6]\n",
      "14 epoch\n",
      "Z3_max [7 2 1 ... 4 5 6]\n"
     ]
    }
   ],
   "source": [
    "DNN = ScratchSimpleDNN(epoch=15)\n",
    "DNN.fit(X_train, y_train_one_hot, X_test, y_test_one_hot)"
   ]
  },
  {
   "cell_type": "code",
   "execution_count": 48,
   "metadata": {
    "scrolled": true
   },
   "outputs": [
    {
     "data": {
      "text/plain": [
       "[<matplotlib.lines.Line2D at 0x7ffcf95a13d0>]"
      ]
     },
     "execution_count": 48,
     "metadata": {},
     "output_type": "execute_result"
    },
    {
     "data": {
      "image/png": "[encoded data removed]",
      "text/plain": [
       "<Figure size 432x288 with 1 Axes>"
      ]
     },
     "metadata": {
      "needs_background": "light"
     },
     "output_type": "display_data"
    }
   ],
   "source": [
    "import matplotlib.pyplot as plt\n",
    "%matplotlib inline\n",
    "plt.plot(range(len(DNN.loss_list)), DNN.loss_list)"
   ]
  },
  {
   "cell_type": "code",
   "execution_count": 49,
   "metadata": {},
   "outputs": [
    {
     "data": {
      "text/plain": [
       "array([7, 2, 1, ..., 4, 5, 6])"
      ]
     },
     "execution_count": 49,
     "metadata": {},
     "output_type": "execute_result"
    }
   ],
   "source": [
    "y_prad = DNN.predict(X_test)\n",
    "# a = np.argmax(a,axis=1)\n",
    "y_true = np.argmax(y_test_one_hot,axis=1)\n",
    "y_true"
   ]
  },
  {
   "cell_type": "code",
   "execution_count": 50,
   "metadata": {},
   "outputs": [
    {
     "data": {
      "text/plain": [
       "0.9639"
      ]
     },
     "execution_count": 50,
     "metadata": {},
     "output_type": "execute_result"
    }
   ],
   "source": [
    "from sklearn.metrics import accuracy_score\n",
    "accuracy_score(y_true,y_prad)"
   ]
  },
  {
   "cell_type": "code",
   "execution_count": null,
   "metadata": {},
   "outputs": [],
   "source": []
  }
 ],
 "metadata": {
  "kernelspec": {
   "display_name": "Python 3",
   "language": "python",
   "name": "python3"
  },
  "language_info": {
   "codemirror_mode": {
    "name": "ipython",
    "version": 3
   },
   "file_extension": ".py",
   "mimetype": "text/x-python",
   "name": "python",
   "nbconvert_exporter": "python",
   "pygments_lexer": "ipython3",
   "version": "3.7.4"
  },
  "toc": {
   "base_numbering": 1,
   "nav_menu": {},
   "number_sections": true,
   "sideBar": true,
   "skip_h1_title": false,
   "title_cell": "Table of Contents",
   "title_sidebar": "Contents",
   "toc_cell": false,
   "toc_position": {},
   "toc_section_display": true,
   "toc_window_display": true
  },
  "varInspector": {
   "cols": {
    "lenName": 16,
    "lenType": 16,
    "lenVar": 40
   },
   "kernels_config": {
    "python": {
     "delete_cmd_postfix": "",
     "delete_cmd_prefix": "del ",
     "library": "var_list.py",
     "varRefreshCmd": "print(var_dic_list())"
    },
    "r": {
     "delete_cmd_postfix": ") ",
     "delete_cmd_prefix": "rm(",
     "library": "var_list.r",
     "varRefreshCmd": "cat(var_dic_list()) "
    }
   },
   "oldHeight": 506,
   "position": {
    "height": "620px",
    "left": "597px",
    "right": "20px",
    "top": "11.9965px",
    "width": "368.976px"
   },
   "types_to_exclude": [
    "module",
    "function",
    "builtin_function_or_method",
    "instance",
    "_Feature"
   ],
   "varInspector_section_display": "block",
   "window_display": true
  }
 },
 "nbformat": 4,
 "nbformat_minor": 2
}
