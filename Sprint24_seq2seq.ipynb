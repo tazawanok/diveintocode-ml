{
 "cells": [
  {
   "cell_type": "markdown",
   "metadata": {
    "colab_type": "text",
    "id": "WAC4hXCbelE3"
   },
   "source": [
    " # 【問題1】機械翻訳の実行とコードリーディング\n",
    "Keras公式のサンプルコードで、短い英語からフランス語への変換を行うものが公開されています。これを動かしてください。\n",
    "\n",
    "keras/lstm_seq2seq.py at master · keras-team/keras\n",
    "\n",
    "その上でこのサンプルコードの各部分がどういった役割かを読み取り、まとめてください。以下のようにどこからどこの行が何をしているかを記述してください。"
   ]
  },
  {
   "cell_type": "code",
   "execution_count": 0,
   "metadata": {
    "colab": {
     "base_uri": "https://localhost:8080/",
     "height": 122
    },
    "colab_type": "code",
    "executionInfo": {
     "elapsed": 16260,
     "status": "ok",
     "timestamp": 1579602212423,
     "user": {
      "displayName": "Naoki Tazawa",
      "photoUrl": "",
      "userId": "00658669236716617489"
     },
     "user_tz": -540
    },
    "id": "z7wL1rGeegPM",
    "outputId": "ff79ba6d-c673-4cb6-9f1e-9ca1825b0b62"
   },
   "outputs": [
    {
     "name": "stdout",
     "output_type": "stream",
     "text": [
      "Go to this URL in a browser: https://accounts.google.com/o/oauth2/auth?client_id=947318989803-6bn6qk8qdgf4n4g3pfee6491hc0brc4i.apps.googleusercontent.com&redirect_uri=urn%3aietf%3awg%3aoauth%3a2.0%3aoob&response_type=code&scope=email%20https%3a%2f%2fwww.googleapis.com%2fauth%2fdocs.test%20https%3a%2f%2fwww.googleapis.com%2fauth%2fdrive%20https%3a%2f%2fwww.googleapis.com%2fauth%2fdrive.photos.readonly%20https%3a%2f%2fwww.googleapis.com%2fauth%2fpeopleapi.readonly\n",
      "\n",
      "Enter your authorization code:\n",
      "··········\n",
      "Mounted at /content/drive/\n"
     ]
    }
   ],
   "source": [
    "from google.colab import drive\n",
    "drive.mount('/content/drive/')"
   ]
  },
  {
   "cell_type": "code",
   "execution_count": 0,
   "metadata": {
    "colab": {
     "base_uri": "https://localhost:8080/",
     "height": 224
    },
    "colab_type": "code",
    "executionInfo": {
     "elapsed": 3170,
     "status": "ok",
     "timestamp": 1579602230096,
     "user": {
      "displayName": "Naoki Tazawa",
      "photoUrl": "",
      "userId": "00658669236716617489"
     },
     "user_tz": -540
    },
    "id": "dXH6Lj_vfQ-H",
    "outputId": "28c79aee-6e84-45c5-fe90-cac80e871310"
   },
   "outputs": [
    {
     "name": "stdout",
     "output_type": "stream",
     "text": [
      "--2020-01-21 10:23:47--  http://www.manythings.org/anki/fra-eng.zip\n",
      "Resolving www.manythings.org (www.manythings.org)... 104.24.108.196, 104.24.109.196, 2606:4700:3033::6818:6dc4, ...\n",
      "Connecting to www.manythings.org (www.manythings.org)|104.24.108.196|:80... connected.\n",
      "HTTP request sent, awaiting response... 200 OK\n",
      "Length: 5939832 (5.7M) [application/zip]\n",
      "Saving to: ‘fra-eng.zip’\n",
      "\n",
      "fra-eng.zip         100%[===================>]   5.66M  7.22MB/s    in 0.8s    \n",
      "\n",
      "2020-01-21 10:23:49 (7.22 MB/s) - ‘fra-eng.zip’ saved [5939832/5939832]\n",
      "\n"
     ]
    }
   ],
   "source": [
    "!wget http://www.manythings.org/anki/fra-eng.zip"
   ]
  },
  {
   "cell_type": "code",
   "execution_count": 0,
   "metadata": {
    "colab": {
     "base_uri": "https://localhost:8080/",
     "height": 68
    },
    "colab_type": "code",
    "executionInfo": {
     "elapsed": 2520,
     "status": "ok",
     "timestamp": 1579602262306,
     "user": {
      "displayName": "Naoki Tazawa",
      "photoUrl": "",
      "userId": "00658669236716617489"
     },
     "user_tz": -540
    },
    "id": "GsQ21KiroYDv",
    "outputId": "34c8228c-279a-4331-b3eb-72e6d9af9f5f"
   },
   "outputs": [
    {
     "name": "stdout",
     "output_type": "stream",
     "text": [
      "Archive:  fra-eng.zip\n",
      "  inflating: _about.txt              \n",
      "  inflating: fra.txt                 \n"
     ]
    }
   ],
   "source": [
    "#zipファイルを解凍\n",
    "!unzip fra-eng.zip\n"
   ]
  },
  {
   "cell_type": "code",
   "execution_count": 0,
   "metadata": {
    "colab": {
     "base_uri": "https://localhost:8080/",
     "height": 198
    },
    "colab_type": "code",
    "executionInfo": {
     "elapsed": 2058,
     "status": "error",
     "timestamp": 1579602308205,
     "user": {
      "displayName": "Naoki Tazawa",
      "photoUrl": "",
      "userId": "00658669236716617489"
     },
     "user_tz": -540
    },
    "id": "lXRqMGtkvw7R",
    "outputId": "545e8d79-08f4-493e-bd61-f81260c8a214"
   },
   "outputs": [
    {
     "ename": "NameError",
     "evalue": "ignored",
     "output_type": "error",
     "traceback": [
      "\u001b[0;31m---------------------------------------------------------------------------\u001b[0m",
      "\u001b[0;31mNameError\u001b[0m                                 Traceback (most recent call last)",
      "\u001b[0;32m<ipython-input-6-f3f1f1a48cf8>\u001b[0m in \u001b[0;36m<module>\u001b[0;34m()\u001b[0m\n\u001b[1;32m      1\u001b[0m \u001b[0;32mimport\u001b[0m \u001b[0mtensorflow\u001b[0m \u001b[0;32mas\u001b[0m \u001b[0mtf\u001b[0m\u001b[0;34m\u001b[0m\u001b[0;34m\u001b[0m\u001b[0m\n\u001b[1;32m      2\u001b[0m \u001b[0msess\u001b[0m \u001b[0;34m=\u001b[0m \u001b[0mtf\u001b[0m\u001b[0;34m.\u001b[0m\u001b[0mSession\u001b[0m\u001b[0;34m(\u001b[0m\u001b[0;34m)\u001b[0m\u001b[0;34m\u001b[0m\u001b[0;34m\u001b[0m\u001b[0m\n\u001b[0;32m----> 3\u001b[0;31m \u001b[0msess\u001b[0m\u001b[0;34m.\u001b[0m\u001b[0mrun\u001b[0m\u001b[0;34m(\u001b[0m\u001b[0mdecoder_outputs\u001b[0m\u001b[0;34m)\u001b[0m\u001b[0;34m\u001b[0m\u001b[0;34m\u001b[0m\u001b[0m\n\u001b[0m",
      "\u001b[0;31mNameError\u001b[0m: name 'decoder_outputs' is not defined"
     ]
    }
   ],
   "source": [
    "import tensorflow as tf \n",
    "sess = tf.Session() \n",
    "sess.run(decoder_outputs) "
   ]
  },
  {
   "cell_type": "code",
   "execution_count": 0,
   "metadata": {
    "colab": {
     "base_uri": "https://localhost:8080/",
     "height": 34
    },
    "colab_type": "code",
    "executionInfo": {
     "elapsed": 545,
     "status": "ok",
     "timestamp": 1579602511804,
     "user": {
      "displayName": "Naoki Tazawa",
      "photoUrl": "",
      "userId": "00658669236716617489"
     },
     "user_tz": -540
    },
    "id": "vprgjL6ypAVS",
    "outputId": "f6bab4e1-7c3f-4de8-d7e8-069fdf033378"
   },
   "outputs": [
    {
     "data": {
      "text/plain": [
       "'/content'"
      ]
     },
     "execution_count": 11,
     "metadata": {
      "tags": []
     },
     "output_type": "execute_result"
    }
   ],
   "source": [
    "pwd"
   ]
  },
  {
   "cell_type": "code",
   "execution_count": 0,
   "metadata": {
    "colab": {
     "base_uri": "https://localhost:8080/",
     "height": 1000
    },
    "colab_type": "code",
    "executionInfo": {
     "elapsed": 1235283,
     "status": "ok",
     "timestamp": 1579603779249,
     "user": {
      "displayName": "Naoki Tazawa",
      "photoUrl": "",
      "userId": "00658669236716617489"
     },
     "user_tz": -540
    },
    "id": "GWU0CstxeWHf",
    "outputId": "6d116afa-c2c9-4d93-f5e0-7e35be71bf23"
   },
   "outputs": [
    {
     "name": "stdout",
     "output_type": "stream",
     "text": [
      "Number of samples: 10000\n",
      "Number of unique input tokens: 70\n",
      "Number of unique output tokens: 93\n",
      "Max sequence length for inputs: 16\n",
      "Max sequence length for outputs: 59\n",
      "WARNING:tensorflow:From /usr/local/lib/python3.6/dist-packages/keras/backend/tensorflow_backend.py:66: The name tf.get_default_graph is deprecated. Please use tf.compat.v1.get_default_graph instead.\n",
      "\n",
      "WARNING:tensorflow:From /usr/local/lib/python3.6/dist-packages/keras/backend/tensorflow_backend.py:541: The name tf.placeholder is deprecated. Please use tf.compat.v1.placeholder instead.\n",
      "\n",
      "WARNING:tensorflow:From /usr/local/lib/python3.6/dist-packages/keras/backend/tensorflow_backend.py:4432: The name tf.random_uniform is deprecated. Please use tf.random.uniform instead.\n",
      "\n",
      "WARNING:tensorflow:From /usr/local/lib/python3.6/dist-packages/keras/optimizers.py:793: The name tf.train.Optimizer is deprecated. Please use tf.compat.v1.train.Optimizer instead.\n",
      "\n",
      "WARNING:tensorflow:From /usr/local/lib/python3.6/dist-packages/keras/backend/tensorflow_backend.py:3576: The name tf.log is deprecated. Please use tf.math.log instead.\n",
      "\n",
      "WARNING:tensorflow:From /usr/local/lib/python3.6/dist-packages/tensorflow_core/python/ops/math_grad.py:1424: where (from tensorflow.python.ops.array_ops) is deprecated and will be removed in a future version.\n",
      "Instructions for updating:\n",
      "Use tf.where in 2.0, which has the same broadcast rule as np.where\n",
      "WARNING:tensorflow:From /usr/local/lib/python3.6/dist-packages/keras/backend/tensorflow_backend.py:1033: The name tf.assign_add is deprecated. Please use tf.compat.v1.assign_add instead.\n",
      "\n",
      "WARNING:tensorflow:From /usr/local/lib/python3.6/dist-packages/keras/backend/tensorflow_backend.py:1020: The name tf.assign is deprecated. Please use tf.compat.v1.assign instead.\n",
      "\n",
      "Train on 8000 samples, validate on 2000 samples\n",
      "Epoch 1/100\n",
      "WARNING:tensorflow:From /usr/local/lib/python3.6/dist-packages/keras/backend/tensorflow_backend.py:190: The name tf.get_default_session is deprecated. Please use tf.compat.v1.get_default_session instead.\n",
      "\n",
      "WARNING:tensorflow:From /usr/local/lib/python3.6/dist-packages/keras/backend/tensorflow_backend.py:197: The name tf.ConfigProto is deprecated. Please use tf.compat.v1.ConfigProto instead.\n",
      "\n",
      "WARNING:tensorflow:From /usr/local/lib/python3.6/dist-packages/keras/backend/tensorflow_backend.py:207: The name tf.global_variables is deprecated. Please use tf.compat.v1.global_variables instead.\n",
      "\n",
      "WARNING:tensorflow:From /usr/local/lib/python3.6/dist-packages/keras/backend/tensorflow_backend.py:216: The name tf.is_variable_initialized is deprecated. Please use tf.compat.v1.is_variable_initialized instead.\n",
      "\n",
      "WARNING:tensorflow:From /usr/local/lib/python3.6/dist-packages/keras/backend/tensorflow_backend.py:223: The name tf.variables_initializer is deprecated. Please use tf.compat.v1.variables_initializer instead.\n",
      "\n",
      "8000/8000 [==============================] - 21s 3ms/step - loss: 1.2062 - acc: 0.7228 - val_loss: 1.0839 - val_acc: 0.6981\n",
      "Epoch 2/100\n",
      "8000/8000 [==============================] - 12s 2ms/step - loss: 0.8730 - acc: 0.7627 - val_loss: 0.9076 - val_acc: 0.7464\n",
      "Epoch 3/100\n",
      "8000/8000 [==============================] - 12s 2ms/step - loss: 0.6983 - acc: 0.8054 - val_loss: 0.7328 - val_acc: 0.7876\n",
      "Epoch 4/100\n",
      "8000/8000 [==============================] - 12s 2ms/step - loss: 0.5978 - acc: 0.8264 - val_loss: 0.6600 - val_acc: 0.8057\n",
      "Epoch 5/100\n",
      "8000/8000 [==============================] - 12s 2ms/step - loss: 0.5477 - acc: 0.8392 - val_loss: 0.6196 - val_acc: 0.8161\n",
      "Epoch 6/100\n",
      "8000/8000 [==============================] - 12s 2ms/step - loss: 0.5096 - acc: 0.8497 - val_loss: 0.5766 - val_acc: 0.8308\n",
      "Epoch 7/100\n",
      "8000/8000 [==============================] - 12s 2ms/step - loss: 0.4803 - acc: 0.8575 - val_loss: 0.5535 - val_acc: 0.8365\n",
      "Epoch 8/100\n",
      "8000/8000 [==============================] - 12s 2ms/step - loss: 0.4556 - acc: 0.8645 - val_loss: 0.5324 - val_acc: 0.8421\n",
      "Epoch 9/100\n",
      "8000/8000 [==============================] - 12s 2ms/step - loss: 0.4338 - acc: 0.8706 - val_loss: 0.5226 - val_acc: 0.8445\n",
      "Epoch 10/100\n",
      "8000/8000 [==============================] - 12s 2ms/step - loss: 0.4143 - acc: 0.8762 - val_loss: 0.5022 - val_acc: 0.8517\n",
      "Epoch 11/100\n",
      "8000/8000 [==============================] - 12s 2ms/step - loss: 0.3971 - acc: 0.8810 - val_loss: 0.4920 - val_acc: 0.8534\n",
      "Epoch 12/100\n",
      "8000/8000 [==============================] - 12s 2ms/step - loss: 0.3807 - acc: 0.8855 - val_loss: 0.4808 - val_acc: 0.8576\n",
      "Epoch 13/100\n",
      "8000/8000 [==============================] - 13s 2ms/step - loss: 0.3661 - acc: 0.8902 - val_loss: 0.4721 - val_acc: 0.8610\n",
      "Epoch 14/100\n",
      "8000/8000 [==============================] - 12s 2ms/step - loss: 0.3523 - acc: 0.8938 - val_loss: 0.4669 - val_acc: 0.8612\n",
      "Epoch 15/100\n",
      "8000/8000 [==============================] - 12s 2ms/step - loss: 0.3394 - acc: 0.8977 - val_loss: 0.4642 - val_acc: 0.8623\n",
      "Epoch 16/100\n",
      "8000/8000 [==============================] - 12s 2ms/step - loss: 0.3270 - acc: 0.9014 - val_loss: 0.4549 - val_acc: 0.8657\n",
      "Epoch 17/100\n",
      "8000/8000 [==============================] - 12s 2ms/step - loss: 0.3160 - acc: 0.9049 - val_loss: 0.4534 - val_acc: 0.8666\n",
      "Epoch 18/100\n",
      "8000/8000 [==============================] - 12s 2ms/step - loss: 0.3052 - acc: 0.9080 - val_loss: 0.4475 - val_acc: 0.8684\n",
      "Epoch 19/100\n",
      "8000/8000 [==============================] - 12s 2ms/step - loss: 0.2951 - acc: 0.9110 - val_loss: 0.4446 - val_acc: 0.8693\n",
      "Epoch 20/100\n",
      "8000/8000 [==============================] - 12s 2ms/step - loss: 0.2848 - acc: 0.9137 - val_loss: 0.4463 - val_acc: 0.8694\n",
      "Epoch 21/100\n",
      "8000/8000 [==============================] - 12s 2ms/step - loss: 0.2758 - acc: 0.9166 - val_loss: 0.4439 - val_acc: 0.8711\n",
      "Epoch 22/100\n",
      "8000/8000 [==============================] - 12s 2ms/step - loss: 0.2670 - acc: 0.9191 - val_loss: 0.4425 - val_acc: 0.8720\n",
      "Epoch 23/100\n",
      "8000/8000 [==============================] - 12s 2ms/step - loss: 0.2581 - acc: 0.9216 - val_loss: 0.4485 - val_acc: 0.8705\n",
      "Epoch 24/100\n",
      "8000/8000 [==============================] - 12s 2ms/step - loss: 0.2502 - acc: 0.9238 - val_loss: 0.4464 - val_acc: 0.8721\n",
      "Epoch 25/100\n",
      "8000/8000 [==============================] - 12s 2ms/step - loss: 0.2427 - acc: 0.9263 - val_loss: 0.4428 - val_acc: 0.8737\n",
      "Epoch 26/100\n",
      "8000/8000 [==============================] - 12s 2ms/step - loss: 0.2354 - acc: 0.9284 - val_loss: 0.4460 - val_acc: 0.8740\n",
      "Epoch 27/100\n",
      "8000/8000 [==============================] - 12s 2ms/step - loss: 0.2279 - acc: 0.9306 - val_loss: 0.4495 - val_acc: 0.8740\n",
      "Epoch 28/100\n",
      "8000/8000 [==============================] - 12s 2ms/step - loss: 0.2210 - acc: 0.9327 - val_loss: 0.4513 - val_acc: 0.8742\n",
      "Epoch 29/100\n",
      "8000/8000 [==============================] - 12s 2ms/step - loss: 0.2144 - acc: 0.9347 - val_loss: 0.4579 - val_acc: 0.8729\n",
      "Epoch 30/100\n",
      "8000/8000 [==============================] - 12s 2ms/step - loss: 0.2080 - acc: 0.9366 - val_loss: 0.4590 - val_acc: 0.8742\n",
      "Epoch 31/100\n",
      "8000/8000 [==============================] - 12s 2ms/step - loss: 0.2019 - acc: 0.9387 - val_loss: 0.4605 - val_acc: 0.8742\n",
      "Epoch 32/100\n",
      "8000/8000 [==============================] - 12s 2ms/step - loss: 0.1961 - acc: 0.9402 - val_loss: 0.4607 - val_acc: 0.8746\n",
      "Epoch 33/100\n",
      "8000/8000 [==============================] - 12s 2ms/step - loss: 0.1906 - acc: 0.9418 - val_loss: 0.4639 - val_acc: 0.8751\n",
      "Epoch 34/100\n",
      "8000/8000 [==============================] - 12s 2ms/step - loss: 0.1852 - acc: 0.9436 - val_loss: 0.4731 - val_acc: 0.8734\n",
      "Epoch 35/100\n",
      "8000/8000 [==============================] - 12s 2ms/step - loss: 0.1804 - acc: 0.9450 - val_loss: 0.4760 - val_acc: 0.8731\n",
      "Epoch 36/100\n",
      "8000/8000 [==============================] - 12s 2ms/step - loss: 0.1752 - acc: 0.9463 - val_loss: 0.4850 - val_acc: 0.8726\n",
      "Epoch 37/100\n",
      "8000/8000 [==============================] - 12s 2ms/step - loss: 0.1707 - acc: 0.9476 - val_loss: 0.4786 - val_acc: 0.8749\n",
      "Epoch 38/100\n",
      "8000/8000 [==============================] - 12s 2ms/step - loss: 0.1660 - acc: 0.9491 - val_loss: 0.4856 - val_acc: 0.8743\n",
      "Epoch 39/100\n",
      "8000/8000 [==============================] - 12s 2ms/step - loss: 0.1618 - acc: 0.9503 - val_loss: 0.4909 - val_acc: 0.8744\n",
      "Epoch 40/100\n",
      "8000/8000 [==============================] - 12s 2ms/step - loss: 0.1576 - acc: 0.9516 - val_loss: 0.4899 - val_acc: 0.8748\n",
      "Epoch 41/100\n",
      "8000/8000 [==============================] - 12s 2ms/step - loss: 0.1533 - acc: 0.9528 - val_loss: 0.4965 - val_acc: 0.8742\n",
      "Epoch 42/100\n",
      "8000/8000 [==============================] - 12s 2ms/step - loss: 0.1494 - acc: 0.9541 - val_loss: 0.5007 - val_acc: 0.8739\n",
      "Epoch 43/100\n",
      "8000/8000 [==============================] - 12s 2ms/step - loss: 0.1460 - acc: 0.9552 - val_loss: 0.5074 - val_acc: 0.8739\n",
      "Epoch 44/100\n",
      "8000/8000 [==============================] - 12s 2ms/step - loss: 0.1417 - acc: 0.9564 - val_loss: 0.5096 - val_acc: 0.8744\n",
      "Epoch 45/100\n",
      "8000/8000 [==============================] - 12s 2ms/step - loss: 0.1386 - acc: 0.9571 - val_loss: 0.5156 - val_acc: 0.8738\n",
      "Epoch 46/100\n",
      "8000/8000 [==============================] - 12s 2ms/step - loss: 0.1353 - acc: 0.9579 - val_loss: 0.5233 - val_acc: 0.8738\n",
      "Epoch 47/100\n",
      "8000/8000 [==============================] - 12s 2ms/step - loss: 0.1318 - acc: 0.9592 - val_loss: 0.5271 - val_acc: 0.8728\n",
      "Epoch 48/100\n",
      "8000/8000 [==============================] - 12s 2ms/step - loss: 0.1286 - acc: 0.9602 - val_loss: 0.5270 - val_acc: 0.8739\n",
      "Epoch 49/100\n",
      "8000/8000 [==============================] - 12s 2ms/step - loss: 0.1260 - acc: 0.9608 - val_loss: 0.5311 - val_acc: 0.8741\n",
      "Epoch 50/100\n",
      "8000/8000 [==============================] - 12s 2ms/step - loss: 0.1228 - acc: 0.9619 - val_loss: 0.5317 - val_acc: 0.8738\n",
      "Epoch 51/100\n",
      "8000/8000 [==============================] - 12s 2ms/step - loss: 0.1202 - acc: 0.9627 - val_loss: 0.5390 - val_acc: 0.8733\n",
      "Epoch 52/100\n",
      "8000/8000 [==============================] - 12s 2ms/step - loss: 0.1173 - acc: 0.9635 - val_loss: 0.5470 - val_acc: 0.8739\n",
      "Epoch 53/100\n",
      "8000/8000 [==============================] - 12s 2ms/step - loss: 0.1146 - acc: 0.9643 - val_loss: 0.5504 - val_acc: 0.8739\n",
      "Epoch 54/100\n",
      "8000/8000 [==============================] - 12s 2ms/step - loss: 0.1119 - acc: 0.9651 - val_loss: 0.5561 - val_acc: 0.8734\n",
      "Epoch 55/100\n",
      "8000/8000 [==============================] - 12s 2ms/step - loss: 0.1096 - acc: 0.9656 - val_loss: 0.5557 - val_acc: 0.8740\n",
      "Epoch 56/100\n",
      "8000/8000 [==============================] - 12s 2ms/step - loss: 0.1071 - acc: 0.9665 - val_loss: 0.5597 - val_acc: 0.8739\n",
      "Epoch 57/100\n",
      "8000/8000 [==============================] - 12s 2ms/step - loss: 0.1046 - acc: 0.9672 - val_loss: 0.5685 - val_acc: 0.8732\n",
      "Epoch 58/100\n",
      "8000/8000 [==============================] - 12s 2ms/step - loss: 0.1022 - acc: 0.9679 - val_loss: 0.5680 - val_acc: 0.8741\n",
      "Epoch 59/100\n",
      "8000/8000 [==============================] - 12s 2ms/step - loss: 0.1003 - acc: 0.9683 - val_loss: 0.5758 - val_acc: 0.8730\n",
      "Epoch 60/100\n",
      "8000/8000 [==============================] - 12s 2ms/step - loss: 0.0977 - acc: 0.9692 - val_loss: 0.5856 - val_acc: 0.8727\n",
      "Epoch 61/100\n",
      "8000/8000 [==============================] - 12s 2ms/step - loss: 0.0959 - acc: 0.9695 - val_loss: 0.5923 - val_acc: 0.8724\n",
      "Epoch 62/100\n",
      "8000/8000 [==============================] - 12s 2ms/step - loss: 0.0938 - acc: 0.9702 - val_loss: 0.5858 - val_acc: 0.8736\n",
      "Epoch 63/100\n",
      "8000/8000 [==============================] - 12s 2ms/step - loss: 0.0917 - acc: 0.9709 - val_loss: 0.5893 - val_acc: 0.8741\n",
      "Epoch 64/100\n",
      "8000/8000 [==============================] - 13s 2ms/step - loss: 0.0900 - acc: 0.9713 - val_loss: 0.5881 - val_acc: 0.8738\n",
      "Epoch 65/100\n",
      "8000/8000 [==============================] - 12s 2ms/step - loss: 0.0878 - acc: 0.9720 - val_loss: 0.5999 - val_acc: 0.8729\n",
      "Epoch 66/100\n",
      "8000/8000 [==============================] - 12s 2ms/step - loss: 0.0862 - acc: 0.9725 - val_loss: 0.6090 - val_acc: 0.8732\n",
      "Epoch 67/100\n",
      "8000/8000 [==============================] - 12s 1ms/step - loss: 0.0844 - acc: 0.9727 - val_loss: 0.6089 - val_acc: 0.8735\n",
      "Epoch 68/100\n",
      "8000/8000 [==============================] - 12s 1ms/step - loss: 0.0825 - acc: 0.9734 - val_loss: 0.6138 - val_acc: 0.8728\n",
      "Epoch 69/100\n",
      "8000/8000 [==============================] - 12s 1ms/step - loss: 0.0809 - acc: 0.9739 - val_loss: 0.6178 - val_acc: 0.8727\n",
      "Epoch 70/100\n",
      "8000/8000 [==============================] - 12s 2ms/step - loss: 0.0792 - acc: 0.9746 - val_loss: 0.6181 - val_acc: 0.8738\n",
      "Epoch 71/100\n",
      "8000/8000 [==============================] - 12s 1ms/step - loss: 0.0778 - acc: 0.9749 - val_loss: 0.6219 - val_acc: 0.8732\n",
      "Epoch 72/100\n",
      "8000/8000 [==============================] - 12s 1ms/step - loss: 0.0761 - acc: 0.9754 - val_loss: 0.6322 - val_acc: 0.8725\n",
      "Epoch 73/100\n",
      "8000/8000 [==============================] - 12s 1ms/step - loss: 0.0746 - acc: 0.9756 - val_loss: 0.6296 - val_acc: 0.8723\n",
      "Epoch 74/100\n",
      "8000/8000 [==============================] - 12s 1ms/step - loss: 0.0731 - acc: 0.9763 - val_loss: 0.6381 - val_acc: 0.8720\n",
      "Epoch 75/100\n",
      "8000/8000 [==============================] - 12s 2ms/step - loss: 0.0716 - acc: 0.9767 - val_loss: 0.6432 - val_acc: 0.8731\n",
      "Epoch 76/100\n",
      "8000/8000 [==============================] - 12s 1ms/step - loss: 0.0704 - acc: 0.9771 - val_loss: 0.6502 - val_acc: 0.8712\n",
      "Epoch 77/100\n",
      "8000/8000 [==============================] - 12s 2ms/step - loss: 0.0693 - acc: 0.9772 - val_loss: 0.6509 - val_acc: 0.8725\n",
      "Epoch 78/100\n",
      "8000/8000 [==============================] - 12s 2ms/step - loss: 0.0681 - acc: 0.9776 - val_loss: 0.6549 - val_acc: 0.8720\n",
      "Epoch 79/100\n",
      "8000/8000 [==============================] - 12s 2ms/step - loss: 0.0662 - acc: 0.9783 - val_loss: 0.6634 - val_acc: 0.8721\n",
      "Epoch 80/100\n",
      "8000/8000 [==============================] - 12s 2ms/step - loss: 0.0650 - acc: 0.9787 - val_loss: 0.6615 - val_acc: 0.8722\n",
      "Epoch 81/100\n",
      "8000/8000 [==============================] - 12s 2ms/step - loss: 0.0642 - acc: 0.9790 - val_loss: 0.6634 - val_acc: 0.8716\n",
      "Epoch 82/100\n",
      "8000/8000 [==============================] - 12s 2ms/step - loss: 0.0626 - acc: 0.9794 - val_loss: 0.6700 - val_acc: 0.8716\n",
      "Epoch 83/100\n",
      "8000/8000 [==============================] - 12s 2ms/step - loss: 0.0619 - acc: 0.9794 - val_loss: 0.6713 - val_acc: 0.8712\n",
      "Epoch 84/100\n",
      "8000/8000 [==============================] - 12s 2ms/step - loss: 0.0605 - acc: 0.9800 - val_loss: 0.6739 - val_acc: 0.8725\n",
      "Epoch 85/100\n",
      "8000/8000 [==============================] - 12s 2ms/step - loss: 0.0596 - acc: 0.9804 - val_loss: 0.6850 - val_acc: 0.8714\n",
      "Epoch 86/100\n",
      "8000/8000 [==============================] - 12s 2ms/step - loss: 0.0587 - acc: 0.9804 - val_loss: 0.6845 - val_acc: 0.8721\n",
      "Epoch 87/100\n",
      "8000/8000 [==============================] - 12s 2ms/step - loss: 0.0574 - acc: 0.9806 - val_loss: 0.6846 - val_acc: 0.8716\n",
      "Epoch 88/100\n",
      "8000/8000 [==============================] - 12s 1ms/step - loss: 0.0570 - acc: 0.9808 - val_loss: 0.6885 - val_acc: 0.8721\n",
      "Epoch 89/100\n",
      "8000/8000 [==============================] - 12s 2ms/step - loss: 0.0556 - acc: 0.9812 - val_loss: 0.6926 - val_acc: 0.8716\n",
      "Epoch 90/100\n",
      "8000/8000 [==============================] - 12s 2ms/step - loss: 0.0547 - acc: 0.9815 - val_loss: 0.6975 - val_acc: 0.8716\n",
      "Epoch 91/100\n",
      "8000/8000 [==============================] - 12s 2ms/step - loss: 0.0536 - acc: 0.9820 - val_loss: 0.7019 - val_acc: 0.8709\n",
      "Epoch 92/100\n",
      "8000/8000 [==============================] - 12s 2ms/step - loss: 0.0529 - acc: 0.9820 - val_loss: 0.7071 - val_acc: 0.8710\n",
      "Epoch 93/100\n",
      "8000/8000 [==============================] - 12s 2ms/step - loss: 0.0519 - acc: 0.9824 - val_loss: 0.7098 - val_acc: 0.8702\n",
      "Epoch 94/100\n",
      "8000/8000 [==============================] - 12s 2ms/step - loss: 0.0513 - acc: 0.9826 - val_loss: 0.7102 - val_acc: 0.8704\n",
      "Epoch 95/100\n",
      "8000/8000 [==============================] - 12s 2ms/step - loss: 0.0506 - acc: 0.9829 - val_loss: 0.7158 - val_acc: 0.8699\n",
      "Epoch 96/100\n",
      "8000/8000 [==============================] - 12s 2ms/step - loss: 0.0499 - acc: 0.9829 - val_loss: 0.7126 - val_acc: 0.8720\n",
      "Epoch 97/100\n",
      "8000/8000 [==============================] - 12s 1ms/step - loss: 0.0491 - acc: 0.9833 - val_loss: 0.7173 - val_acc: 0.8712\n",
      "Epoch 98/100\n",
      "8000/8000 [==============================] - 12s 2ms/step - loss: 0.0483 - acc: 0.9835 - val_loss: 0.7134 - val_acc: 0.8713\n",
      "Epoch 99/100\n",
      "8000/8000 [==============================] - 12s 2ms/step - loss: 0.0477 - acc: 0.9837 - val_loss: 0.7216 - val_acc: 0.8711\n",
      "Epoch 100/100\n",
      "8000/8000 [==============================] - 12s 2ms/step - loss: 0.0474 - acc: 0.9837 - val_loss: 0.7282 - val_acc: 0.8702\n",
      "-\n",
      "Input sentence: Go.\n",
      "Decoded sentence: Va !\n",
      "\n",
      "-\n",
      "Input sentence: Hi.\n",
      "Decoded sentence: Salut.\n",
      "\n",
      "-\n",
      "Input sentence: Hi.\n",
      "Decoded sentence: Salut.\n",
      "\n",
      "-\n",
      "Input sentence: Run!\n",
      "Decoded sentence: Cours !\n",
      "\n",
      "-\n",
      "Input sentence: Run!\n",
      "Decoded sentence: Cours !\n",
      "\n",
      "-\n",
      "Input sentence: Who?\n",
      "Decoded sentence: Qui ?\n",
      "\n",
      "-\n",
      "Input sentence: Wow!\n",
      "Decoded sentence: Ça alors !\n",
      "\n",
      "-\n",
      "Input sentence: Fire!\n",
      "Decoded sentence: Au feu !\n",
      "\n",
      "-\n",
      "Input sentence: Help!\n",
      "Decoded sentence: À l'aide !\n",
      "\n",
      "-\n",
      "Input sentence: Jump.\n",
      "Decoded sentence: Saute.\n",
      "\n",
      "-\n",
      "Input sentence: Stop!\n",
      "Decoded sentence: Stop !\n",
      "\n",
      "-\n",
      "Input sentence: Stop!\n",
      "Decoded sentence: Stop !\n",
      "\n",
      "-\n",
      "Input sentence: Stop!\n",
      "Decoded sentence: Stop !\n",
      "\n",
      "-\n",
      "Input sentence: Wait!\n",
      "Decoded sentence: Attends !\n",
      "\n",
      "-\n",
      "Input sentence: Wait!\n",
      "Decoded sentence: Attends !\n",
      "\n",
      "-\n",
      "Input sentence: Go on.\n",
      "Decoded sentence: Continuez.\n",
      "\n",
      "-\n",
      "Input sentence: Go on.\n",
      "Decoded sentence: Continuez.\n",
      "\n",
      "-\n",
      "Input sentence: Go on.\n",
      "Decoded sentence: Continuez.\n",
      "\n",
      "-\n",
      "Input sentence: Hello!\n",
      "Decoded sentence: Salut !\n",
      "\n",
      "-\n",
      "Input sentence: Hello!\n",
      "Decoded sentence: Salut !\n",
      "\n",
      "-\n",
      "Input sentence: I see.\n",
      "Decoded sentence: Je comprends.\n",
      "\n",
      "-\n",
      "Input sentence: I try.\n",
      "Decoded sentence: J'essaye.\n",
      "\n",
      "-\n",
      "Input sentence: I won!\n",
      "Decoded sentence: Je l'ai emporté !\n",
      "\n",
      "-\n",
      "Input sentence: I won!\n",
      "Decoded sentence: Je l'ai emporté !\n",
      "\n",
      "-\n",
      "Input sentence: I won.\n",
      "Decoded sentence: Je vous ai laissées y aller.\n",
      "\n",
      "-\n",
      "Input sentence: Oh no!\n",
      "Decoded sentence: Oh non !\n",
      "\n",
      "-\n",
      "Input sentence: Attack!\n",
      "Decoded sentence: Attaquez !\n",
      "\n",
      "-\n",
      "Input sentence: Attack!\n",
      "Decoded sentence: Attaquez !\n",
      "\n",
      "-\n",
      "Input sentence: Cheers!\n",
      "Decoded sentence: Merci !\n",
      "\n",
      "-\n",
      "Input sentence: Cheers!\n",
      "Decoded sentence: Merci !\n",
      "\n",
      "-\n",
      "Input sentence: Cheers!\n",
      "Decoded sentence: Merci !\n",
      "\n",
      "-\n",
      "Input sentence: Cheers!\n",
      "Decoded sentence: Merci !\n",
      "\n",
      "-\n",
      "Input sentence: Get up.\n",
      "Decoded sentence: Lève-toi.\n",
      "\n",
      "-\n",
      "Input sentence: Go now.\n",
      "Decoded sentence: Vas-y maintenant.\n",
      "\n",
      "-\n",
      "Input sentence: Go now.\n",
      "Decoded sentence: Vas-y maintenant.\n",
      "\n",
      "-\n",
      "Input sentence: Go now.\n",
      "Decoded sentence: Vas-y maintenant.\n",
      "\n",
      "-\n",
      "Input sentence: Got it!\n",
      "Decoded sentence: Compris !\n",
      "\n",
      "-\n",
      "Input sentence: Got it!\n",
      "Decoded sentence: Compris !\n",
      "\n",
      "-\n",
      "Input sentence: Got it?\n",
      "Decoded sentence: Compris ?\n",
      "\n",
      "-\n",
      "Input sentence: Got it?\n",
      "Decoded sentence: Compris ?\n",
      "\n",
      "-\n",
      "Input sentence: Got it?\n",
      "Decoded sentence: Compris ?\n",
      "\n",
      "-\n",
      "Input sentence: Hop in.\n",
      "Decoded sentence: Montez.\n",
      "\n",
      "-\n",
      "Input sentence: Hop in.\n",
      "Decoded sentence: Montez.\n",
      "\n",
      "-\n",
      "Input sentence: Hug me.\n",
      "Decoded sentence: Serre-moi dans tes bras !\n",
      "\n",
      "-\n",
      "Input sentence: Hug me.\n",
      "Decoded sentence: Serre-moi dans tes bras !\n",
      "\n",
      "-\n",
      "Input sentence: I fell.\n",
      "Decoded sentence: Je suis tombée.\n",
      "\n",
      "-\n",
      "Input sentence: I fell.\n",
      "Decoded sentence: Je suis tombée.\n",
      "\n",
      "-\n",
      "Input sentence: I know.\n",
      "Decoded sentence: Je sais.\n",
      "\n",
      "-\n",
      "Input sentence: I left.\n",
      "Decoded sentence: Je suis parti.\n",
      "\n",
      "-\n",
      "Input sentence: I left.\n",
      "Decoded sentence: Je suis parti.\n",
      "\n",
      "-\n",
      "Input sentence: I lied.\n",
      "Decoded sentence: J'aime ça.\n",
      "\n",
      "-\n",
      "Input sentence: I lost.\n",
      "Decoded sentence: J'ai perdu.\n",
      "\n",
      "-\n",
      "Input sentence: I paid.\n",
      "Decoded sentence: J'ai fait malade.\n",
      "\n",
      "-\n",
      "Input sentence: I'm 19.\n",
      "Decoded sentence: J'ai 19 ans.\n",
      "\n",
      "-\n",
      "Input sentence: I'm OK.\n",
      "Decoded sentence: Je vais bien.\n",
      "\n",
      "-\n",
      "Input sentence: I'm OK.\n",
      "Decoded sentence: Je vais bien.\n",
      "\n",
      "-\n",
      "Input sentence: Listen.\n",
      "Decoded sentence: Écoutez !\n",
      "\n",
      "-\n",
      "Input sentence: No way!\n",
      "Decoded sentence: C'est hors de question !\n",
      "\n",
      "-\n",
      "Input sentence: No way!\n",
      "Decoded sentence: C'est hors de question !\n",
      "\n",
      "-\n",
      "Input sentence: No way!\n",
      "Decoded sentence: C'est hors de question !\n",
      "\n",
      "-\n",
      "Input sentence: No way!\n",
      "Decoded sentence: C'est hors de question !\n",
      "\n",
      "-\n",
      "Input sentence: No way!\n",
      "Decoded sentence: C'est hors de question !\n",
      "\n",
      "-\n",
      "Input sentence: No way!\n",
      "Decoded sentence: C'est hors de question !\n",
      "\n",
      "-\n",
      "Input sentence: No way!\n",
      "Decoded sentence: C'est hors de question !\n",
      "\n",
      "-\n",
      "Input sentence: No way!\n",
      "Decoded sentence: C'est hors de question !\n",
      "\n",
      "-\n",
      "Input sentence: No way!\n",
      "Decoded sentence: C'est hors de question !\n",
      "\n",
      "-\n",
      "Input sentence: Really?\n",
      "Decoded sentence: Vraiment ?\n",
      "\n",
      "-\n",
      "Input sentence: Really?\n",
      "Decoded sentence: Vraiment ?\n",
      "\n",
      "-\n",
      "Input sentence: Really?\n",
      "Decoded sentence: Vraiment ?\n",
      "\n",
      "-\n",
      "Input sentence: Thanks.\n",
      "Decoded sentence: Merci !\n",
      "\n",
      "-\n",
      "Input sentence: We try.\n",
      "Decoded sentence: On mest ton fait s mal.\n",
      "\n",
      "-\n",
      "Input sentence: We won.\n",
      "Decoded sentence: Nous avons gagné.\n",
      "\n",
      "-\n",
      "Input sentence: We won.\n",
      "Decoded sentence: Nous avons gagné.\n",
      "\n",
      "-\n",
      "Input sentence: We won.\n",
      "Decoded sentence: Nous avons gagné.\n",
      "\n",
      "-\n",
      "Input sentence: We won.\n",
      "Decoded sentence: Nous avons gagné.\n",
      "\n",
      "-\n",
      "Input sentence: Ask Tom.\n",
      "Decoded sentence: Demande à Tom.\n",
      "\n",
      "-\n",
      "Input sentence: Awesome!\n",
      "Decoded sentence: Fantastique !\n",
      "\n",
      "-\n",
      "Input sentence: Be calm.\n",
      "Decoded sentence: Soyez calmes !\n",
      "\n",
      "-\n",
      "Input sentence: Be calm.\n",
      "Decoded sentence: Soyez calmes !\n",
      "\n",
      "-\n",
      "Input sentence: Be calm.\n",
      "Decoded sentence: Soyez calmes !\n",
      "\n",
      "-\n",
      "Input sentence: Be cool.\n",
      "Decoded sentence: Sois détendu !\n",
      "\n",
      "-\n",
      "Input sentence: Be fair.\n",
      "Decoded sentence: Soyez équitables !\n",
      "\n",
      "-\n",
      "Input sentence: Be fair.\n",
      "Decoded sentence: Soyez équitables !\n",
      "\n",
      "-\n",
      "Input sentence: Be fair.\n",
      "Decoded sentence: Soyez équitables !\n",
      "\n",
      "-\n",
      "Input sentence: Be fair.\n",
      "Decoded sentence: Soyez équitables !\n",
      "\n",
      "-\n",
      "Input sentence: Be fair.\n",
      "Decoded sentence: Soyez équitables !\n",
      "\n",
      "-\n",
      "Input sentence: Be fair.\n",
      "Decoded sentence: Soyez équitables !\n",
      "\n",
      "-\n",
      "Input sentence: Be kind.\n",
      "Decoded sentence: Sois gentil !\n",
      "\n",
      "-\n",
      "Input sentence: Be nice.\n",
      "Decoded sentence: Soyez gentilles !\n",
      "\n",
      "-\n",
      "Input sentence: Be nice.\n",
      "Decoded sentence: Soyez gentilles !\n",
      "\n",
      "-\n",
      "Input sentence: Be nice.\n",
      "Decoded sentence: Soyez gentilles !\n",
      "\n",
      "-\n",
      "Input sentence: Be nice.\n",
      "Decoded sentence: Soyez gentilles !\n",
      "\n",
      "-\n",
      "Input sentence: Be nice.\n",
      "Decoded sentence: Soyez gentilles !\n",
      "\n",
      "-\n",
      "Input sentence: Be nice.\n",
      "Decoded sentence: Soyez gentilles !\n",
      "\n",
      "-\n",
      "Input sentence: Beat it.\n",
      "Decoded sentence: Dégage !\n",
      "\n",
      "-\n",
      "Input sentence: Call me.\n",
      "Decoded sentence: Appelle-moi !\n",
      "\n",
      "-\n",
      "Input sentence: Call me.\n",
      "Decoded sentence: Appelle-moi !\n",
      "\n",
      "-\n",
      "Input sentence: Call us.\n",
      "Decoded sentence: Appelez-nous !\n",
      "\n",
      "-\n",
      "Input sentence: Call us.\n",
      "Decoded sentence: Appelez-nous !\n",
      "\n",
      "-\n",
      "Input sentence: Come in.\n",
      "Decoded sentence: Entrez !\n",
      "\n"
     ]
    }
   ],
   "source": [
    "'''\n",
    "#Sequence to sequence example in Keras (character-level).\n",
    "This script demonstrates how to implement a basic character-level\n",
    "sequence-to-sequence model. We apply it to translating\n",
    "short English sentences into short French sentences,\n",
    "character-by-character. Note that it is fairly unusual to\n",
    "do character-level machine translation, as word-level\n",
    "models are more common in this domain.\n",
    "**Summary of the algorithm**\n",
    "- We start with input sequences from a domain (e.g. English sentences)\n",
    "    and corresponding target sequences from another domain\n",
    "    (e.g. French sentences).\n",
    "- An encoder LSTM turns input sequences to 2 state vectors\n",
    "    (we keep the last LSTM state and discard the outputs).\n",
    "- A decoder LSTM is trained to turn the target sequences into\n",
    "    the same sequence but offset by one timestep in the future,\n",
    "    a training process called \"teacher forcing\" in this context.\n",
    "    It uses as initial state the state vectors from the encoder.\n",
    "    Effectively, the decoder learns to generate `targets[t+1...]`\n",
    "    given `targets[...t]`, conditioned on the input sequence.\n",
    "- In inference mode, when we want to decode unknown input sequences, we:\n",
    "    - Encode the input sequence into state vectors\n",
    "    - Start with a target sequence of size 1\n",
    "        (just the start-of-sequence character)\n",
    "    - Feed the state vectors and 1-char target sequence\n",
    "        to the decoder to produce predictions for the next character\n",
    "    - Sample the next character using these predictions\n",
    "        (we simply use argmax).\n",
    "    - Append the sampled character to the target sequence\n",
    "    - Repeat until we generate the end-of-sequence character or we\n",
    "        hit the character limit.\n",
    "**Data download**\n",
    "[English to French sentence pairs.\n",
    "](http://www.manythings.org/anki/fra-eng.zip)\n",
    "[Lots of neat sentence pairs datasets.\n",
    "](http://www.manythings.org/anki/)\n",
    "**References**\n",
    "- [Sequence to Sequence Learning with Neural Networks\n",
    "   ](https://arxiv.org/abs/1409.3215)\n",
    "- [Learning Phrase Representations using\n",
    "    RNN Encoder-Decoder for Statistical Machine Translation\n",
    "    ](https://arxiv.org/abs/1406.1078)\n",
    "'''\n",
    "from __future__ import print_function\n",
    "\n",
    "from keras.models import Model\n",
    "from keras.layers import Input, LSTM, Dense\n",
    "import numpy as np\n",
    "\n",
    "batch_size = 64  # Batch size for training.\n",
    "epochs = 100  # Number of epochs to train for.\n",
    "latent_dim = 256  # Latent dimensionality of the encoding space.\n",
    "num_samples = 10000  # Number of samples to train on.\n",
    "# Path to the data txt file on disk.\n",
    "data_path = '/content/fra.txt'\n",
    "\n",
    "# Vectorize the data.\n",
    "input_texts = []\n",
    "target_texts = []\n",
    "input_characters = set()\n",
    "target_characters = set()\n",
    "with open(data_path, 'r', encoding='utf-8') as f:\n",
    "    lines = f.read().split('\\n')\n",
    "for line in lines[: min(num_samples, len(lines) - 1)]:\n",
    "    input_text, target_text, _ = line.split('\\t')\n",
    "    # We use \"tab\" as the \"start sequence\" character\n",
    "    # for the targets, and \"\\n\" as \"end sequence\" character.\n",
    "    target_text = '\\t' + target_text + '\\n'\n",
    "    input_texts.append(input_text)\n",
    "    target_texts.append(target_text)\n",
    "    for char in input_text:\n",
    "        if char not in input_characters:\n",
    "            input_characters.add(char)\n",
    "    for char in target_text:\n",
    "        if char not in target_characters:\n",
    "            target_characters.add(char)\n",
    "\n",
    "input_characters = sorted(list(input_characters))\n",
    "target_characters = sorted(list(target_characters))\n",
    "num_encoder_tokens = len(input_characters)\n",
    "num_decoder_tokens = len(target_characters)\n",
    "max_encoder_seq_length = max([len(txt) for txt in input_texts])\n",
    "max_decoder_seq_length = max([len(txt) for txt in target_texts])\n",
    "\n",
    "print('Number of samples:', len(input_texts))\n",
    "print('Number of unique input tokens:', num_encoder_tokens)\n",
    "print('Number of unique output tokens:', num_decoder_tokens)\n",
    "print('Max sequence length for inputs:', max_encoder_seq_length)\n",
    "print('Max sequence length for outputs:', max_decoder_seq_length)\n",
    "\n",
    "input_token_index = dict(\n",
    "    [(char, i) for i, char in enumerate(input_characters)])\n",
    "target_token_index = dict(\n",
    "    [(char, i) for i, char in enumerate(target_characters)])\n",
    "\n",
    "encoder_input_data = np.zeros(\n",
    "    (len(input_texts), max_encoder_seq_length, num_encoder_tokens),\n",
    "    dtype='float32')\n",
    "decoder_input_data = np.zeros(\n",
    "    (len(input_texts), max_decoder_seq_length, num_decoder_tokens),\n",
    "    dtype='float32')\n",
    "decoder_target_data = np.zeros(\n",
    "    (len(input_texts), max_decoder_seq_length, num_decoder_tokens),\n",
    "    dtype='float32')\n",
    "\n",
    "for i, (input_text, target_text) in enumerate(zip(input_texts, target_texts)):\n",
    "    for t, char in enumerate(input_text):\n",
    "        encoder_input_data[i, t, input_token_index[char]] = 1.\n",
    "    encoder_input_data[i, t + 1:, input_token_index[' ']] = 1.\n",
    "    for t, char in enumerate(target_text):\n",
    "        # decoder_target_data is ahead of decoder_input_data by one timestep\n",
    "        decoder_input_data[i, t, target_token_index[char]] = 1.\n",
    "        if t > 0:\n",
    "            # decoder_target_data will be ahead by one timestep\n",
    "            # and will not include the start character.\n",
    "            decoder_target_data[i, t - 1, target_token_index[char]] = 1.\n",
    "    decoder_input_data[i, t + 1:, target_token_index[' ']] = 1.\n",
    "    decoder_target_data[i, t:, target_token_index[' ']] = 1.\n",
    "# Define an input sequence and process it.\n",
    "encoder_inputs = Input(shape=(None, num_encoder_tokens))\n",
    "encoder = LSTM(latent_dim, return_state=True)\n",
    "encoder_outputs, state_h, state_c = encoder(encoder_inputs)\n",
    "# We discard `encoder_outputs` and only keep the states.\n",
    "encoder_states = [state_h, state_c]\n",
    "\n",
    "# Set up the decoder, using `encoder_states` as initial state.\n",
    "decoder_inputs = Input(shape=(None, num_decoder_tokens))\n",
    "# We set up our decoder to return full output sequences,\n",
    "# and to return internal states as well. We don't use the\n",
    "# return states in the training model, but we will use them in inference.\n",
    "decoder_lstm = LSTM(latent_dim, return_sequences=True, return_state=True)\n",
    "decoder_outputs, _, _ = decoder_lstm(decoder_inputs,\n",
    "                                     initial_state=encoder_states)\n",
    "decoder_dense = Dense(num_decoder_tokens, activation='softmax')\n",
    "decoder_outputs = decoder_dense(decoder_outputs)\n",
    "\n",
    "# Define the model that will turn\n",
    "# `encoder_input_data` & `decoder_input_data` into `decoder_target_data`\n",
    "model = Model([encoder_inputs, decoder_inputs], decoder_outputs)\n",
    "\n",
    "# Run training\n",
    "model.compile(optimizer='rmsprop', loss='categorical_crossentropy',\n",
    "              metrics=['accuracy'])\n",
    "model.fit([encoder_input_data, decoder_input_data], decoder_target_data,\n",
    "          batch_size=batch_size,\n",
    "          epochs=epochs,\n",
    "          validation_split=0.2)\n",
    "# Save model\n",
    "model.save('s2s.h5')\n",
    "\n",
    "# Next: inference mode (sampling).\n",
    "# Here's the drill:\n",
    "# 1) encode input and retrieve initial decoder state\n",
    "# 2) run one step of decoder with this initial state\n",
    "# and a \"start of sequence\" token as target.\n",
    "# Output will be the next target token\n",
    "# 3) Repeat with the current target token and current states\n",
    "\n",
    "# Define sampling models\n",
    "encoder_model = Model(encoder_inputs, encoder_states)\n",
    "\n",
    "decoder_state_input_h = Input(shape=(latent_dim,))\n",
    "decoder_state_input_c = Input(shape=(latent_dim,))\n",
    "decoder_states_inputs = [decoder_state_input_h, decoder_state_input_c]\n",
    "decoder_outputs, state_h, state_c = decoder_lstm(\n",
    "    decoder_inputs, initial_state=decoder_states_inputs)\n",
    "decoder_states = [state_h, state_c]\n",
    "decoder_outputs = decoder_dense(decoder_outputs)\n",
    "decoder_model = Model(\n",
    "    [decoder_inputs] + decoder_states_inputs,\n",
    "    [decoder_outputs] + decoder_states)\n",
    "\n",
    "# Reverse-lookup token index to decode sequences back to\n",
    "# something readable.\n",
    "reverse_input_char_index = dict(\n",
    "    (i, char) for char, i in input_token_index.items())\n",
    "reverse_target_char_index = dict(\n",
    "    (i, char) for char, i in target_token_index.items())\n",
    "\n",
    "\n",
    "def decode_sequence(input_seq):\n",
    "    # Encode the input as state vectors.\n",
    "    states_value = encoder_model.predict(input_seq)\n",
    "\n",
    "    # Generate empty target sequence of length 1.\n",
    "    target_seq = np.zeros((1, 1, num_decoder_tokens))\n",
    "    # Populate the first character of target sequence with the start character.\n",
    "    target_seq[0, 0, target_token_index['\\t']] = 1.\n",
    "\n",
    "    # Sampling loop for a batch of sequences\n",
    "    # (to simplify, here we assume a batch of size 1).\n",
    "    stop_condition = False\n",
    "    decoded_sentence = ''\n",
    "    while not stop_condition:\n",
    "        output_tokens, h, c = decoder_model.predict(\n",
    "            [target_seq] + states_value)\n",
    "\n",
    "        # Sample a token\n",
    "        sampled_token_index = np.argmax(output_tokens[0, -1, :])\n",
    "        sampled_char = reverse_target_char_index[sampled_token_index]\n",
    "        decoded_sentence += sampled_char\n",
    "\n",
    "        # Exit condition: either hit max length\n",
    "        # or find stop character.\n",
    "        if (sampled_char == '\\n' or\n",
    "           len(decoded_sentence) > max_decoder_seq_length):\n",
    "            stop_condition = True\n",
    "\n",
    "        # Update the target sequence (of length 1).\n",
    "        target_seq = np.zeros((1, 1, num_decoder_tokens))\n",
    "        target_seq[0, 0, sampled_token_index] = 1.\n",
    "\n",
    "        # Update states\n",
    "        states_value = [h, c]\n",
    "\n",
    "    return decoded_sentence\n",
    "\n",
    "\n",
    "for seq_index in range(100):\n",
    "    # Take one sequence (part of the training set)\n",
    "    # for trying out decoding.\n",
    "    input_seq = encoder_input_data[seq_index: seq_index + 1]\n",
    "    decoded_sentence = decode_sequence(input_seq)\n",
    "    print('-')\n",
    "    print('Input sentence:', input_texts[seq_index])\n",
    "    print('Decoded sentence:', decoded_sentence)"
   ]
  },
  {
   "cell_type": "markdown",
   "metadata": {
    "colab_type": "text",
    "id": "_Zp-9b5dpJSe"
   },
   "source": [
    " # 【問題2】イメージキャプショニングの学習済みモデルの実行\n",
    "上記実装において 5. Test the model の項目を実行してください。また、自身で用意した画像に対しても文章を生成してください。これらに対してどういった文章が出力されたかを記録して提出してください。\n",
    "\n",
    "データセットからの学習は行わず、学習済みの重みをダウンロードして利用します。\n",
    "\n",
    "注意点として、デフォルトで設定されている重みのファイル名と、ダウンロードできる重みのファイル名は異なっています。ここは書き換える必要があります。"
   ]
  },
  {
   "cell_type": "code",
   "execution_count": 0,
   "metadata": {
    "colab": {
     "base_uri": "https://localhost:8080/",
     "height": 122
    },
    "colab_type": "code",
    "executionInfo": {
     "elapsed": 23030,
     "status": "ok",
     "timestamp": 1578479734761,
     "user": {
      "displayName": "Naoki Tazawa",
      "photoUrl": "",
      "userId": "00658669236716617489"
     },
     "user_tz": -540
    },
    "id": "V2_Amh4aQ-II",
    "outputId": "47a3223c-794d-4c02-9695-79014315a017"
   },
   "outputs": [
    {
     "name": "stdout",
     "output_type": "stream",
     "text": [
      "Go to this URL in a browser: https://accounts.google.com/o/oauth2/auth?client_id=947318989803-6bn6qk8qdgf4n4g3pfee6491hc0brc4i.apps.googleusercontent.com&redirect_uri=urn%3aietf%3awg%3aoauth%3a2.0%3aoob&response_type=code&scope=email%20https%3a%2f%2fwww.googleapis.com%2fauth%2fdocs.test%20https%3a%2f%2fwww.googleapis.com%2fauth%2fdrive%20https%3a%2f%2fwww.googleapis.com%2fauth%2fdrive.photos.readonly%20https%3a%2f%2fwww.googleapis.com%2fauth%2fpeopleapi.readonly\n",
      "\n",
      "Enter your authorization code:\n",
      "··········\n",
      "Mounted at /content/drive/\n"
     ]
    }
   ],
   "source": [
    "from google.colab import drive\n",
    "drive.mount('/content/drive/')"
   ]
  },
  {
   "cell_type": "code",
   "execution_count": 0,
   "metadata": {
    "colab": {
     "base_uri": "https://localhost:8080/",
     "height": 102
    },
    "colab_type": "code",
    "executionInfo": {
     "elapsed": 8525,
     "status": "ok",
     "timestamp": 1578479744272,
     "user": {
      "displayName": "Naoki Tazawa",
      "photoUrl": "",
      "userId": "00658669236716617489"
     },
     "user_tz": -540
    },
    "id": "mSLcEF-5f_jj",
    "outputId": "fe8b4a6f-c808-4ba2-c34a-8687d8c57b24"
   },
   "outputs": [
    {
     "name": "stdout",
     "output_type": "stream",
     "text": [
      "Cloning into 'coco'...\n",
      "remote: Enumerating objects: 965, done.\u001b[K\n",
      "remote: Total 965 (delta 0), reused 0 (delta 0), pack-reused 965\u001b[K\n",
      "Receiving objects: 100% (965/965), 11.69 MiB | 4.83 MiB/s, done.\n",
      "Resolving deltas: 100% (574/574), done.\n"
     ]
    }
   ],
   "source": [
    "!git clone https://github.com/pdollar/coco.git"
   ]
  },
  {
   "cell_type": "code",
   "execution_count": 0,
   "metadata": {
    "colab": {
     "base_uri": "https://localhost:8080/",
     "height": 34
    },
    "colab_type": "code",
    "executionInfo": {
     "elapsed": 1691,
     "status": "ok",
     "timestamp": 1578479748174,
     "user": {
      "displayName": "Naoki Tazawa",
      "photoUrl": "",
      "userId": "00658669236716617489"
     },
     "user_tz": -540
    },
    "id": "RjAugdkOD_5B",
    "outputId": "86872a75-6b46-44ed-e342-4acce6c2c021"
   },
   "outputs": [
    {
     "name": "stdout",
     "output_type": "stream",
     "text": [
      "/content/coco/PythonAPI\n"
     ]
    }
   ],
   "source": [
    "cd coco/PythonAPI/"
   ]
  },
  {
   "cell_type": "code",
   "execution_count": 0,
   "metadata": {
    "colab": {
     "base_uri": "https://localhost:8080/",
     "height": 1000
    },
    "colab_type": "code",
    "executionInfo": {
     "elapsed": 9890,
     "status": "ok",
     "timestamp": 1578479758824,
     "user": {
      "displayName": "Naoki Tazawa",
      "photoUrl": "",
      "userId": "00658669236716617489"
     },
     "user_tz": -540
    },
    "id": "IyFMKHAGEKKW",
    "outputId": "e81b831d-1ed0-465e-a0e9-639bd1fd7ad1"
   },
   "outputs": [
    {
     "name": "stdout",
     "output_type": "stream",
     "text": [
      "python setup.py build_ext --inplace\n",
      "running build_ext\n",
      "cythoning pycocotools/_mask.pyx to pycocotools/_mask.c\n",
      "/usr/local/lib/python3.6/dist-packages/Cython/Compiler/Main.py:369: FutureWarning: Cython directive 'language_level' not set, using 2 for now (Py2). This will change in a later release! File: /content/coco/PythonAPI/pycocotools/_mask.pyx\n",
      "  tree = Parsing.p_module(s, pxd, full_module_name)\n",
      "building 'pycocotools._mask' extension\n",
      "creating build\n",
      "creating build/common\n",
      "creating build/temp.linux-x86_64-3.6\n",
      "creating build/temp.linux-x86_64-3.6/pycocotools\n",
      "x86_64-linux-gnu-gcc -pthread -DNDEBUG -g -fwrapv -O2 -Wall -g -fstack-protector-strong -Wformat -Werror=format-security -Wdate-time -D_FORTIFY_SOURCE=2 -fPIC -I/usr/local/lib/python3.6/dist-packages/numpy/core/include -I../common -I/usr/include/python3.6m -c ../common/maskApi.c -o build/temp.linux-x86_64-3.6/../common/maskApi.o -Wno-cpp -Wno-unused-function -std=c99\n",
      "\u001b[01m\u001b[K../common/maskApi.c:\u001b[m\u001b[K In function ‘\u001b[01m\u001b[KrleDecode\u001b[m\u001b[K’:\n",
      "\u001b[01m\u001b[K../common/maskApi.c:46:7:\u001b[m\u001b[K \u001b[01;35m\u001b[Kwarning: \u001b[m\u001b[Kthis ‘\u001b[01m\u001b[Kfor\u001b[m\u001b[K’ clause does not guard... [\u001b[01;35m\u001b[K-Wmisleading-indentation\u001b[m\u001b[K]\n",
      "       \u001b[01;35m\u001b[Kfor\u001b[m\u001b[K( k=0; k<R[i].cnts[j]; k++ ) *(M++)=v; v=!v; }}\n",
      "       \u001b[01;35m\u001b[K^~~\u001b[m\u001b[K\n",
      "\u001b[01m\u001b[K../common/maskApi.c:46:49:\u001b[m\u001b[K \u001b[01;36m\u001b[Knote: \u001b[m\u001b[K...this statement, but the latter is misleadingly indented as if it were guarded by the ‘\u001b[01m\u001b[Kfor\u001b[m\u001b[K’\n",
      "       for( k=0; k<R[i].cnts[j]; k++ ) *(M++)=v; \u001b[01;36m\u001b[Kv\u001b[m\u001b[K=!v; }}\n",
      "                                                 \u001b[01;36m\u001b[K^\u001b[m\u001b[K\n",
      "\u001b[01m\u001b[K../common/maskApi.c:\u001b[m\u001b[K In function ‘\u001b[01m\u001b[KrleFrPoly\u001b[m\u001b[K’:\n",
      "\u001b[01m\u001b[K../common/maskApi.c:166:3:\u001b[m\u001b[K \u001b[01;35m\u001b[Kwarning: \u001b[m\u001b[Kthis ‘\u001b[01m\u001b[Kfor\u001b[m\u001b[K’ clause does not guard... [\u001b[01;35m\u001b[K-Wmisleading-indentation\u001b[m\u001b[K]\n",
      "   \u001b[01;35m\u001b[Kfor\u001b[m\u001b[K(j=0; j<k; j++) x[j]=(int)(scale*xy[j*2+0]+.5); x[k]=x[0];\n",
      "   \u001b[01;35m\u001b[K^~~\u001b[m\u001b[K\n",
      "\u001b[01m\u001b[K../common/maskApi.c:166:54:\u001b[m\u001b[K \u001b[01;36m\u001b[Knote: \u001b[m\u001b[K...this statement, but the latter is misleadingly indented as if it were guarded by the ‘\u001b[01m\u001b[Kfor\u001b[m\u001b[K’\n",
      "   for(j=0; j<k; j++) x[j]=(int)(scale*xy[j*2+0]+.5); \u001b[01;36m\u001b[Kx\u001b[m\u001b[K[k]=x[0];\n",
      "                                                      \u001b[01;36m\u001b[K^\u001b[m\u001b[K\n",
      "\u001b[01m\u001b[K../common/maskApi.c:167:3:\u001b[m\u001b[K \u001b[01;35m\u001b[Kwarning: \u001b[m\u001b[Kthis ‘\u001b[01m\u001b[Kfor\u001b[m\u001b[K’ clause does not guard... [\u001b[01;35m\u001b[K-Wmisleading-indentation\u001b[m\u001b[K]\n",
      "   \u001b[01;35m\u001b[Kfor\u001b[m\u001b[K(j=0; j<k; j++) y[j]=(int)(scale*xy[j*2+1]+.5); y[k]=y[0];\n",
      "   \u001b[01;35m\u001b[K^~~\u001b[m\u001b[K\n",
      "\u001b[01m\u001b[K../common/maskApi.c:167:54:\u001b[m\u001b[K \u001b[01;36m\u001b[Knote: \u001b[m\u001b[K...this statement, but the latter is misleadingly indented as if it were guarded by the ‘\u001b[01m\u001b[Kfor\u001b[m\u001b[K’\n",
      "   for(j=0; j<k; j++) y[j]=(int)(scale*xy[j*2+1]+.5); \u001b[01;36m\u001b[Ky\u001b[m\u001b[K[k]=y[0];\n",
      "                                                      \u001b[01;36m\u001b[K^\u001b[m\u001b[K\n",
      "\u001b[01m\u001b[K../common/maskApi.c:\u001b[m\u001b[K In function ‘\u001b[01m\u001b[KrleToString\u001b[m\u001b[K’:\n",
      "\u001b[01m\u001b[K../common/maskApi.c:212:7:\u001b[m\u001b[K \u001b[01;35m\u001b[Kwarning: \u001b[m\u001b[Kthis ‘\u001b[01m\u001b[Kif\u001b[m\u001b[K’ clause does not guard... [\u001b[01;35m\u001b[K-Wmisleading-indentation\u001b[m\u001b[K]\n",
      "       \u001b[01;35m\u001b[Kif\u001b[m\u001b[K(more) c |= 0x20; c+=48; s[p++]=c;\n",
      "       \u001b[01;35m\u001b[K^~\u001b[m\u001b[K\n",
      "\u001b[01m\u001b[K../common/maskApi.c:212:27:\u001b[m\u001b[K \u001b[01;36m\u001b[Knote: \u001b[m\u001b[K...this statement, but the latter is misleadingly indented as if it were guarded by the ‘\u001b[01m\u001b[Kif\u001b[m\u001b[K’\n",
      "       if(more) c |= 0x20; \u001b[01;36m\u001b[Kc\u001b[m\u001b[K+=48; s[p++]=c;\n",
      "                           \u001b[01;36m\u001b[K^\u001b[m\u001b[K\n",
      "\u001b[01m\u001b[K../common/maskApi.c:\u001b[m\u001b[K In function ‘\u001b[01m\u001b[KrleFrString\u001b[m\u001b[K’:\n",
      "\u001b[01m\u001b[K../common/maskApi.c:220:3:\u001b[m\u001b[K \u001b[01;35m\u001b[Kwarning: \u001b[m\u001b[Kthis ‘\u001b[01m\u001b[Kwhile\u001b[m\u001b[K’ clause does not guard... [\u001b[01;35m\u001b[K-Wmisleading-indentation\u001b[m\u001b[K]\n",
      "   \u001b[01;35m\u001b[Kwhile\u001b[m\u001b[K( s[m] ) m++; cnts=malloc(sizeof(uint)*m); m=0;\n",
      "   \u001b[01;35m\u001b[K^~~~~\u001b[m\u001b[K\n",
      "\u001b[01m\u001b[K../common/maskApi.c:220:22:\u001b[m\u001b[K \u001b[01;36m\u001b[Knote: \u001b[m\u001b[K...this statement, but the latter is misleadingly indented as if it were guarded by the ‘\u001b[01m\u001b[Kwhile\u001b[m\u001b[K’\n",
      "   while( s[m] ) m++; \u001b[01;36m\u001b[Kcnts\u001b[m\u001b[K=malloc(sizeof(uint)*m); m=0;\n",
      "                      \u001b[01;36m\u001b[K^~~~\u001b[m\u001b[K\n",
      "\u001b[01m\u001b[K../common/maskApi.c:228:5:\u001b[m\u001b[K \u001b[01;35m\u001b[Kwarning: \u001b[m\u001b[Kthis ‘\u001b[01m\u001b[Kif\u001b[m\u001b[K’ clause does not guard... [\u001b[01;35m\u001b[K-Wmisleading-indentation\u001b[m\u001b[K]\n",
      "     \u001b[01;35m\u001b[Kif\u001b[m\u001b[K(m>2) x+=(long) cnts[m-2]; cnts[m++]=(uint) x;\n",
      "     \u001b[01;35m\u001b[K^~\u001b[m\u001b[K\n",
      "\u001b[01m\u001b[K../common/maskApi.c:228:34:\u001b[m\u001b[K \u001b[01;36m\u001b[Knote: \u001b[m\u001b[K...this statement, but the latter is misleadingly indented as if it were guarded by the ‘\u001b[01m\u001b[Kif\u001b[m\u001b[K’\n",
      "     if(m>2) x+=(long) cnts[m-2]; \u001b[01;36m\u001b[Kcnts\u001b[m\u001b[K[m++]=(uint) x;\n",
      "                                  \u001b[01;36m\u001b[K^~~~\u001b[m\u001b[K\n",
      "\u001b[01m\u001b[K../common/maskApi.c:\u001b[m\u001b[K In function ‘\u001b[01m\u001b[KrleToBbox\u001b[m\u001b[K’:\n",
      "\u001b[01m\u001b[K../common/maskApi.c:141:31:\u001b[m\u001b[K \u001b[01;35m\u001b[Kwarning: \u001b[m\u001b[K‘\u001b[01m\u001b[Kxp\u001b[m\u001b[K’ may be used uninitialized in this function [\u001b[01;35m\u001b[K-Wmaybe-uninitialized\u001b[m\u001b[K]\n",
      "       if(j%2==0) xp=x; else if\u001b[01;35m\u001b[K(\u001b[m\u001b[Kxp<x) { ys=0; ye=h-1; }\n",
      "                               \u001b[01;35m\u001b[K^\u001b[m\u001b[K\n",
      "x86_64-linux-gnu-gcc -pthread -DNDEBUG -g -fwrapv -O2 -Wall -g -fstack-protector-strong -Wformat -Werror=format-security -Wdate-time -D_FORTIFY_SOURCE=2 -fPIC -I/usr/local/lib/python3.6/dist-packages/numpy/core/include -I../common -I/usr/include/python3.6m -c pycocotools/_mask.c -o build/temp.linux-x86_64-3.6/pycocotools/_mask.o -Wno-cpp -Wno-unused-function -std=c99\n",
      "creating build/lib.linux-x86_64-3.6\n",
      "creating build/lib.linux-x86_64-3.6/pycocotools\n",
      "x86_64-linux-gnu-gcc -pthread -shared -Wl,-O1 -Wl,-Bsymbolic-functions -Wl,-Bsymbolic-functions -Wl,-z,relro -Wl,-Bsymbolic-functions -Wl,-z,relro -g -fstack-protector-strong -Wformat -Werror=format-security -Wdate-time -D_FORTIFY_SOURCE=2 build/temp.linux-x86_64-3.6/../common/maskApi.o build/temp.linux-x86_64-3.6/pycocotools/_mask.o -o build/lib.linux-x86_64-3.6/pycocotools/_mask.cpython-36m-x86_64-linux-gnu.so\n",
      "copying build/lib.linux-x86_64-3.6/pycocotools/_mask.cpython-36m-x86_64-linux-gnu.so -> pycocotools\n",
      "rm -rf build\n"
     ]
    }
   ],
   "source": [
    "!make"
   ]
  },
  {
   "cell_type": "code",
   "execution_count": 0,
   "metadata": {
    "colab": {
     "base_uri": "https://localhost:8080/",
     "height": 1000
    },
    "colab_type": "code",
    "executionInfo": {
     "elapsed": 11245,
     "status": "ok",
     "timestamp": 1578479766106,
     "user": {
      "displayName": "Naoki Tazawa",
      "photoUrl": "",
      "userId": "00658669236716617489"
     },
     "user_tz": -540
    },
    "id": "Sj0OsTsIENO7",
    "outputId": "d68a90d2-f57f-48cf-ad3c-f83a9e064b38"
   },
   "outputs": [
    {
     "name": "stdout",
     "output_type": "stream",
     "text": [
      "running build\n",
      "running build_py\n",
      "creating build\n",
      "creating build/lib.linux-x86_64-3.6\n",
      "creating build/lib.linux-x86_64-3.6/pycocotools\n",
      "copying pycocotools/mask.py -> build/lib.linux-x86_64-3.6/pycocotools\n",
      "copying pycocotools/__init__.py -> build/lib.linux-x86_64-3.6/pycocotools\n",
      "copying pycocotools/coco.py -> build/lib.linux-x86_64-3.6/pycocotools\n",
      "copying pycocotools/cocoeval.py -> build/lib.linux-x86_64-3.6/pycocotools\n",
      "running build_ext\n",
      "skipping 'pycocotools/_mask.c' Cython extension (up-to-date)\n",
      "building 'pycocotools._mask' extension\n",
      "creating build/common\n",
      "creating build/temp.linux-x86_64-3.6\n",
      "creating build/temp.linux-x86_64-3.6/pycocotools\n",
      "x86_64-linux-gnu-gcc -pthread -DNDEBUG -g -fwrapv -O2 -Wall -g -fstack-protector-strong -Wformat -Werror=format-security -Wdate-time -D_FORTIFY_SOURCE=2 -fPIC -I/usr/local/lib/python3.6/dist-packages/numpy/core/include -I../common -I/usr/include/python3.6m -c ../common/maskApi.c -o build/temp.linux-x86_64-3.6/../common/maskApi.o -Wno-cpp -Wno-unused-function -std=c99\n",
      "\u001b[01m\u001b[K../common/maskApi.c:\u001b[m\u001b[K In function ‘\u001b[01m\u001b[KrleDecode\u001b[m\u001b[K’:\n",
      "\u001b[01m\u001b[K../common/maskApi.c:46:7:\u001b[m\u001b[K \u001b[01;35m\u001b[Kwarning: \u001b[m\u001b[Kthis ‘\u001b[01m\u001b[Kfor\u001b[m\u001b[K’ clause does not guard... [\u001b[01;35m\u001b[K-Wmisleading-indentation\u001b[m\u001b[K]\n",
      "       \u001b[01;35m\u001b[Kfor\u001b[m\u001b[K( k=0; k<R[i].cnts[j]; k++ ) *(M++)=v; v=!v; }}\n",
      "       \u001b[01;35m\u001b[K^~~\u001b[m\u001b[K\n",
      "\u001b[01m\u001b[K../common/maskApi.c:46:49:\u001b[m\u001b[K \u001b[01;36m\u001b[Knote: \u001b[m\u001b[K...this statement, but the latter is misleadingly indented as if it were guarded by the ‘\u001b[01m\u001b[Kfor\u001b[m\u001b[K’\n",
      "       for( k=0; k<R[i].cnts[j]; k++ ) *(M++)=v; \u001b[01;36m\u001b[Kv\u001b[m\u001b[K=!v; }}\n",
      "                                                 \u001b[01;36m\u001b[K^\u001b[m\u001b[K\n",
      "\u001b[01m\u001b[K../common/maskApi.c:\u001b[m\u001b[K In function ‘\u001b[01m\u001b[KrleFrPoly\u001b[m\u001b[K’:\n",
      "\u001b[01m\u001b[K../common/maskApi.c:166:3:\u001b[m\u001b[K \u001b[01;35m\u001b[Kwarning: \u001b[m\u001b[Kthis ‘\u001b[01m\u001b[Kfor\u001b[m\u001b[K’ clause does not guard... [\u001b[01;35m\u001b[K-Wmisleading-indentation\u001b[m\u001b[K]\n",
      "   \u001b[01;35m\u001b[Kfor\u001b[m\u001b[K(j=0; j<k; j++) x[j]=(int)(scale*xy[j*2+0]+.5); x[k]=x[0];\n",
      "   \u001b[01;35m\u001b[K^~~\u001b[m\u001b[K\n",
      "\u001b[01m\u001b[K../common/maskApi.c:166:54:\u001b[m\u001b[K \u001b[01;36m\u001b[Knote: \u001b[m\u001b[K...this statement, but the latter is misleadingly indented as if it were guarded by the ‘\u001b[01m\u001b[Kfor\u001b[m\u001b[K’\n",
      "   for(j=0; j<k; j++) x[j]=(int)(scale*xy[j*2+0]+.5); \u001b[01;36m\u001b[Kx\u001b[m\u001b[K[k]=x[0];\n",
      "                                                      \u001b[01;36m\u001b[K^\u001b[m\u001b[K\n",
      "\u001b[01m\u001b[K../common/maskApi.c:167:3:\u001b[m\u001b[K \u001b[01;35m\u001b[Kwarning: \u001b[m\u001b[Kthis ‘\u001b[01m\u001b[Kfor\u001b[m\u001b[K’ clause does not guard... [\u001b[01;35m\u001b[K-Wmisleading-indentation\u001b[m\u001b[K]\n",
      "   \u001b[01;35m\u001b[Kfor\u001b[m\u001b[K(j=0; j<k; j++) y[j]=(int)(scale*xy[j*2+1]+.5); y[k]=y[0];\n",
      "   \u001b[01;35m\u001b[K^~~\u001b[m\u001b[K\n",
      "\u001b[01m\u001b[K../common/maskApi.c:167:54:\u001b[m\u001b[K \u001b[01;36m\u001b[Knote: \u001b[m\u001b[K...this statement, but the latter is misleadingly indented as if it were guarded by the ‘\u001b[01m\u001b[Kfor\u001b[m\u001b[K’\n",
      "   for(j=0; j<k; j++) y[j]=(int)(scale*xy[j*2+1]+.5); \u001b[01;36m\u001b[Ky\u001b[m\u001b[K[k]=y[0];\n",
      "                                                      \u001b[01;36m\u001b[K^\u001b[m\u001b[K\n",
      "\u001b[01m\u001b[K../common/maskApi.c:\u001b[m\u001b[K In function ‘\u001b[01m\u001b[KrleToString\u001b[m\u001b[K’:\n",
      "\u001b[01m\u001b[K../common/maskApi.c:212:7:\u001b[m\u001b[K \u001b[01;35m\u001b[Kwarning: \u001b[m\u001b[Kthis ‘\u001b[01m\u001b[Kif\u001b[m\u001b[K’ clause does not guard... [\u001b[01;35m\u001b[K-Wmisleading-indentation\u001b[m\u001b[K]\n",
      "       \u001b[01;35m\u001b[Kif\u001b[m\u001b[K(more) c |= 0x20; c+=48; s[p++]=c;\n",
      "       \u001b[01;35m\u001b[K^~\u001b[m\u001b[K\n",
      "\u001b[01m\u001b[K../common/maskApi.c:212:27:\u001b[m\u001b[K \u001b[01;36m\u001b[Knote: \u001b[m\u001b[K...this statement, but the latter is misleadingly indented as if it were guarded by the ‘\u001b[01m\u001b[Kif\u001b[m\u001b[K’\n",
      "       if(more) c |= 0x20; \u001b[01;36m\u001b[Kc\u001b[m\u001b[K+=48; s[p++]=c;\n",
      "                           \u001b[01;36m\u001b[K^\u001b[m\u001b[K\n",
      "\u001b[01m\u001b[K../common/maskApi.c:\u001b[m\u001b[K In function ‘\u001b[01m\u001b[KrleFrString\u001b[m\u001b[K’:\n",
      "\u001b[01m\u001b[K../common/maskApi.c:220:3:\u001b[m\u001b[K \u001b[01;35m\u001b[Kwarning: \u001b[m\u001b[Kthis ‘\u001b[01m\u001b[Kwhile\u001b[m\u001b[K’ clause does not guard... [\u001b[01;35m\u001b[K-Wmisleading-indentation\u001b[m\u001b[K]\n",
      "   \u001b[01;35m\u001b[Kwhile\u001b[m\u001b[K( s[m] ) m++; cnts=malloc(sizeof(uint)*m); m=0;\n",
      "   \u001b[01;35m\u001b[K^~~~~\u001b[m\u001b[K\n",
      "\u001b[01m\u001b[K../common/maskApi.c:220:22:\u001b[m\u001b[K \u001b[01;36m\u001b[Knote: \u001b[m\u001b[K...this statement, but the latter is misleadingly indented as if it were guarded by the ‘\u001b[01m\u001b[Kwhile\u001b[m\u001b[K’\n",
      "   while( s[m] ) m++; \u001b[01;36m\u001b[Kcnts\u001b[m\u001b[K=malloc(sizeof(uint)*m); m=0;\n",
      "                      \u001b[01;36m\u001b[K^~~~\u001b[m\u001b[K\n",
      "\u001b[01m\u001b[K../common/maskApi.c:228:5:\u001b[m\u001b[K \u001b[01;35m\u001b[Kwarning: \u001b[m\u001b[Kthis ‘\u001b[01m\u001b[Kif\u001b[m\u001b[K’ clause does not guard... [\u001b[01;35m\u001b[K-Wmisleading-indentation\u001b[m\u001b[K]\n",
      "     \u001b[01;35m\u001b[Kif\u001b[m\u001b[K(m>2) x+=(long) cnts[m-2]; cnts[m++]=(uint) x;\n",
      "     \u001b[01;35m\u001b[K^~\u001b[m\u001b[K\n",
      "\u001b[01m\u001b[K../common/maskApi.c:228:34:\u001b[m\u001b[K \u001b[01;36m\u001b[Knote: \u001b[m\u001b[K...this statement, but the latter is misleadingly indented as if it were guarded by the ‘\u001b[01m\u001b[Kif\u001b[m\u001b[K’\n",
      "     if(m>2) x+=(long) cnts[m-2]; \u001b[01;36m\u001b[Kcnts\u001b[m\u001b[K[m++]=(uint) x;\n",
      "                                  \u001b[01;36m\u001b[K^~~~\u001b[m\u001b[K\n",
      "\u001b[01m\u001b[K../common/maskApi.c:\u001b[m\u001b[K In function ‘\u001b[01m\u001b[KrleToBbox\u001b[m\u001b[K’:\n",
      "\u001b[01m\u001b[K../common/maskApi.c:141:31:\u001b[m\u001b[K \u001b[01;35m\u001b[Kwarning: \u001b[m\u001b[K‘\u001b[01m\u001b[Kxp\u001b[m\u001b[K’ may be used uninitialized in this function [\u001b[01;35m\u001b[K-Wmaybe-uninitialized\u001b[m\u001b[K]\n",
      "       if(j%2==0) xp=x; else if\u001b[01;35m\u001b[K(\u001b[m\u001b[Kxp<x) { ys=0; ye=h-1; }\n",
      "                               \u001b[01;35m\u001b[K^\u001b[m\u001b[K\n",
      "x86_64-linux-gnu-gcc -pthread -DNDEBUG -g -fwrapv -O2 -Wall -g -fstack-protector-strong -Wformat -Werror=format-security -Wdate-time -D_FORTIFY_SOURCE=2 -fPIC -I/usr/local/lib/python3.6/dist-packages/numpy/core/include -I../common -I/usr/include/python3.6m -c pycocotools/_mask.c -o build/temp.linux-x86_64-3.6/pycocotools/_mask.o -Wno-cpp -Wno-unused-function -std=c99\n",
      "x86_64-linux-gnu-gcc -pthread -shared -Wl,-O1 -Wl,-Bsymbolic-functions -Wl,-Bsymbolic-functions -Wl,-z,relro -Wl,-Bsymbolic-functions -Wl,-z,relro -g -fstack-protector-strong -Wformat -Werror=format-security -Wdate-time -D_FORTIFY_SOURCE=2 build/temp.linux-x86_64-3.6/../common/maskApi.o build/temp.linux-x86_64-3.6/pycocotools/_mask.o -o build/lib.linux-x86_64-3.6/pycocotools/_mask.cpython-36m-x86_64-linux-gnu.so\n"
     ]
    }
   ],
   "source": [
    "!python setup.py build"
   ]
  },
  {
   "cell_type": "code",
   "execution_count": 0,
   "metadata": {
    "colab": {
     "base_uri": "https://localhost:8080/",
     "height": 1000
    },
    "colab_type": "code",
    "executionInfo": {
     "elapsed": 8478,
     "status": "ok",
     "timestamp": 1578479770496,
     "user": {
      "displayName": "Naoki Tazawa",
      "photoUrl": "",
      "userId": "00658669236716617489"
     },
     "user_tz": -540
    },
    "id": "f-jz_Ia6Eba8",
    "outputId": "909738a0-3510-498b-e3c7-67675bbf90fe"
   },
   "outputs": [
    {
     "name": "stdout",
     "output_type": "stream",
     "text": [
      "running install\n",
      "running bdist_egg\n",
      "running egg_info\n",
      "creating pycocotools.egg-info\n",
      "writing pycocotools.egg-info/PKG-INFO\n",
      "writing dependency_links to pycocotools.egg-info/dependency_links.txt\n",
      "writing requirements to pycocotools.egg-info/requires.txt\n",
      "writing top-level names to pycocotools.egg-info/top_level.txt\n",
      "writing manifest file 'pycocotools.egg-info/SOURCES.txt'\n",
      "writing manifest file 'pycocotools.egg-info/SOURCES.txt'\n",
      "installing library code to build/bdist.linux-x86_64/egg\n",
      "running install_lib\n",
      "running build_py\n",
      "running build_ext\n",
      "skipping 'pycocotools/_mask.c' Cython extension (up-to-date)\n",
      "creating build/bdist.linux-x86_64\n",
      "creating build/bdist.linux-x86_64/egg\n",
      "creating build/bdist.linux-x86_64/egg/pycocotools\n",
      "copying build/lib.linux-x86_64-3.6/pycocotools/mask.py -> build/bdist.linux-x86_64/egg/pycocotools\n",
      "copying build/lib.linux-x86_64-3.6/pycocotools/_mask.cpython-36m-x86_64-linux-gnu.so -> build/bdist.linux-x86_64/egg/pycocotools\n",
      "copying build/lib.linux-x86_64-3.6/pycocotools/__init__.py -> build/bdist.linux-x86_64/egg/pycocotools\n",
      "copying build/lib.linux-x86_64-3.6/pycocotools/coco.py -> build/bdist.linux-x86_64/egg/pycocotools\n",
      "copying build/lib.linux-x86_64-3.6/pycocotools/cocoeval.py -> build/bdist.linux-x86_64/egg/pycocotools\n",
      "byte-compiling build/bdist.linux-x86_64/egg/pycocotools/mask.py to mask.cpython-36.pyc\n",
      "byte-compiling build/bdist.linux-x86_64/egg/pycocotools/__init__.py to __init__.cpython-36.pyc\n",
      "byte-compiling build/bdist.linux-x86_64/egg/pycocotools/coco.py to coco.cpython-36.pyc\n",
      "byte-compiling build/bdist.linux-x86_64/egg/pycocotools/cocoeval.py to cocoeval.cpython-36.pyc\n",
      "creating stub loader for pycocotools/_mask.cpython-36m-x86_64-linux-gnu.so\n",
      "byte-compiling build/bdist.linux-x86_64/egg/pycocotools/_mask.py to _mask.cpython-36.pyc\n",
      "creating build/bdist.linux-x86_64/egg/EGG-INFO\n",
      "copying pycocotools.egg-info/PKG-INFO -> build/bdist.linux-x86_64/egg/EGG-INFO\n",
      "copying pycocotools.egg-info/SOURCES.txt -> build/bdist.linux-x86_64/egg/EGG-INFO\n",
      "copying pycocotools.egg-info/dependency_links.txt -> build/bdist.linux-x86_64/egg/EGG-INFO\n",
      "copying pycocotools.egg-info/requires.txt -> build/bdist.linux-x86_64/egg/EGG-INFO\n",
      "copying pycocotools.egg-info/top_level.txt -> build/bdist.linux-x86_64/egg/EGG-INFO\n",
      "writing build/bdist.linux-x86_64/egg/EGG-INFO/native_libs.txt\n",
      "zip_safe flag not set; analyzing archive contents...\n",
      "pycocotools.__pycache__._mask.cpython-36: module references __file__\n",
      "creating dist\n",
      "creating 'dist/pycocotools-2.0-py3.6-linux-x86_64.egg' and adding 'build/bdist.linux-x86_64/egg' to it\n",
      "removing 'build/bdist.linux-x86_64/egg' (and everything under it)\n",
      "Processing pycocotools-2.0-py3.6-linux-x86_64.egg\n",
      "creating /usr/local/lib/python3.6/dist-packages/pycocotools-2.0-py3.6-linux-x86_64.egg\n",
      "Extracting pycocotools-2.0-py3.6-linux-x86_64.egg to /usr/local/lib/python3.6/dist-packages\n",
      "Adding pycocotools 2.0 to easy-install.pth file\n",
      "\n",
      "Installed /usr/local/lib/python3.6/dist-packages/pycocotools-2.0-py3.6-linux-x86_64.egg\n",
      "Processing dependencies for pycocotools==2.0\n",
      "Searching for matplotlib==3.1.2\n",
      "Best match: matplotlib 3.1.2\n",
      "Adding matplotlib 3.1.2 to easy-install.pth file\n",
      "\n",
      "Using /usr/local/lib/python3.6/dist-packages\n",
      "Searching for Cython==0.29.14\n",
      "Best match: Cython 0.29.14\n",
      "Adding Cython 0.29.14 to easy-install.pth file\n",
      "Installing cygdb script to /usr/local/bin\n",
      "Installing cython script to /usr/local/bin\n",
      "Installing cythonize script to /usr/local/bin\n",
      "\n",
      "Using /usr/local/lib/python3.6/dist-packages\n",
      "Searching for setuptools==42.0.2\n",
      "Best match: setuptools 42.0.2\n",
      "Adding setuptools 42.0.2 to easy-install.pth file\n",
      "Installing easy_install script to /usr/local/bin\n",
      "Installing easy_install-3.8 script to /usr/local/bin\n",
      "\n",
      "Using /usr/local/lib/python3.6/dist-packages\n",
      "Searching for kiwisolver==1.1.0\n",
      "Best match: kiwisolver 1.1.0\n",
      "Adding kiwisolver 1.1.0 to easy-install.pth file\n",
      "\n",
      "Using /usr/local/lib/python3.6/dist-packages\n",
      "Searching for numpy==1.17.4\n",
      "Best match: numpy 1.17.4\n",
      "Adding numpy 1.17.4 to easy-install.pth file\n",
      "Installing f2py script to /usr/local/bin\n",
      "Installing f2py3 script to /usr/local/bin\n",
      "Installing f2py3.6 script to /usr/local/bin\n",
      "\n",
      "Using /usr/local/lib/python3.6/dist-packages\n",
      "Searching for cycler==0.10.0\n",
      "Best match: cycler 0.10.0\n",
      "Adding cycler 0.10.0 to easy-install.pth file\n",
      "\n",
      "Using /usr/local/lib/python3.6/dist-packages\n",
      "Searching for python-dateutil==2.6.1\n",
      "Best match: python-dateutil 2.6.1\n",
      "Adding python-dateutil 2.6.1 to easy-install.pth file\n",
      "\n",
      "Using /usr/local/lib/python3.6/dist-packages\n",
      "Searching for pyparsing==2.4.5\n",
      "Best match: pyparsing 2.4.5\n",
      "Adding pyparsing 2.4.5 to easy-install.pth file\n",
      "\n",
      "Using /usr/local/lib/python3.6/dist-packages\n",
      "Searching for six==1.12.0\n",
      "Best match: six 1.12.0\n",
      "Adding six 1.12.0 to easy-install.pth file\n",
      "\n",
      "Using /usr/local/lib/python3.6/dist-packages\n",
      "Finished processing dependencies for pycocotools==2.0\n"
     ]
    }
   ],
   "source": [
    "!python setup.py install"
   ]
  },
  {
   "cell_type": "code",
   "execution_count": 0,
   "metadata": {
    "colab": {},
    "colab_type": "code",
    "id": "Aw9_J1EQEfiA"
   },
   "outputs": [],
   "source": [
    "!cd ../../"
   ]
  },
  {
   "cell_type": "code",
   "execution_count": 0,
   "metadata": {
    "colab": {
     "base_uri": "https://localhost:8080/",
     "height": 102
    },
    "colab_type": "code",
    "executionInfo": {
     "elapsed": 10254,
     "status": "ok",
     "timestamp": 1578479791488,
     "user": {
      "displayName": "Naoki Tazawa",
      "photoUrl": "",
      "userId": "00658669236716617489"
     },
     "user_tz": -540
    },
    "id": "UMcM_YowEhsm",
    "outputId": "52f0ab99-db8d-430a-c62e-2d4b048712ba"
   },
   "outputs": [
    {
     "name": "stdout",
     "output_type": "stream",
     "text": [
      "Cloning into 'pytorch-tutorial'...\n",
      "remote: Enumerating objects: 816, done.\u001b[K\n",
      "remote: Total 816 (delta 0), reused 0 (delta 0), pack-reused 816\u001b[K\n",
      "Receiving objects: 100% (816/816), 12.78 MiB | 3.77 MiB/s, done.\n",
      "Resolving deltas: 100% (432/432), done.\n"
     ]
    }
   ],
   "source": [
    "!git clone https://github.com/yunjey/pytorch-tutorial.git"
   ]
  },
  {
   "cell_type": "code",
   "execution_count": 0,
   "metadata": {
    "colab": {
     "base_uri": "https://localhost:8080/",
     "height": 34
    },
    "colab_type": "code",
    "executionInfo": {
     "elapsed": 1247,
     "status": "ok",
     "timestamp": 1578479793591,
     "user": {
      "displayName": "Naoki Tazawa",
      "photoUrl": "",
      "userId": "00658669236716617489"
     },
     "user_tz": -540
    },
    "id": "Ij6wVJQNEpxN",
    "outputId": "3c9e1bad-f78d-4440-a7b7-00a58c6168d8"
   },
   "outputs": [
    {
     "name": "stdout",
     "output_type": "stream",
     "text": [
      "/content/coco/PythonAPI/pytorch-tutorial/tutorials/03-advanced/image_captioning\n"
     ]
    }
   ],
   "source": [
    "cd pytorch-tutorial/tutorials/03-advanced/image_captioning/"
   ]
  },
  {
   "cell_type": "code",
   "execution_count": 0,
   "metadata": {
    "colab": {},
    "colab_type": "code",
    "id": "KUh-9PkZRqRf"
   },
   "outputs": [],
   "source": [
    "# !pip install -r requirements.txt"
   ]
  },
  {
   "cell_type": "code",
   "execution_count": 0,
   "metadata": {
    "colab": {
     "base_uri": "https://localhost:8080/",
     "height": 34
    },
    "colab_type": "code",
    "executionInfo": {
     "elapsed": 1665,
     "status": "ok",
     "timestamp": 1578479800887,
     "user": {
      "displayName": "Naoki Tazawa",
      "photoUrl": "",
      "userId": "00658669236716617489"
     },
     "user_tz": -540
    },
    "id": "dHU285IJEx6n",
    "outputId": "62c64d2b-23cf-407a-e47b-26bc82bf95ed"
   },
   "outputs": [
    {
     "data": {
      "text/plain": [
       "'/content/coco/PythonAPI/pytorch-tutorial/tutorials/03-advanced/image_captioning'"
      ]
     },
     "execution_count": 10,
     "metadata": {
      "tags": []
     },
     "output_type": "execute_result"
    }
   ],
   "source": [
    "pwd"
   ]
  },
  {
   "cell_type": "code",
   "execution_count": 0,
   "metadata": {
    "colab": {
     "base_uri": "https://localhost:8080/",
     "height": 445
    },
    "colab_type": "code",
    "executionInfo": {
     "elapsed": 7071,
     "status": "ok",
     "timestamp": 1578479809305,
     "user": {
      "displayName": "Naoki Tazawa",
      "photoUrl": "",
      "userId": "00658669236716617489"
     },
     "user_tz": -540
    },
    "id": "bGEUAZMoHCdJ",
    "outputId": "e2406a5d-0cd0-44ec-f316-1ae03e36d561"
   },
   "outputs": [
    {
     "name": "stdout",
     "output_type": "stream",
     "text": [
      "--2020-01-08 10:36:44--  https://www.dropbox.com/s/26adb7y9m98uisa/vocap.zip\n",
      "Resolving www.dropbox.com (www.dropbox.com)... 162.125.8.1, 2620:100:6032:1::a27d:5201\n",
      "Connecting to www.dropbox.com (www.dropbox.com)|162.125.8.1|:443... connected.\n",
      "HTTP request sent, awaiting response... 301 Moved Permanently\n",
      "Location: /s/raw/26adb7y9m98uisa/vocap.zip [following]\n",
      "--2020-01-08 10:36:45--  https://www.dropbox.com/s/raw/26adb7y9m98uisa/vocap.zip\n",
      "Reusing existing connection to www.dropbox.com:443.\n",
      "HTTP request sent, awaiting response... 302 Found\n",
      "Location: https://uc8d228f048850f4b88f931427fd.dl.dropboxusercontent.com/cd/0/inline/Avx2A6g_HNHF8r0HLLYlcqAMrfdJzTHO3YQgESlSCu7g967gtkLknPlzbZ6cTvFb42tNmHVKprAbd5LL4cnvPJdO_bs7vUvNZs3kQbjY4TrSU3hVSWXv_0kC5f2sMujIxzA/file# [following]\n",
      "--2020-01-08 10:36:45--  https://uc8d228f048850f4b88f931427fd.dl.dropboxusercontent.com/cd/0/inline/Avx2A6g_HNHF8r0HLLYlcqAMrfdJzTHO3YQgESlSCu7g967gtkLknPlzbZ6cTvFb42tNmHVKprAbd5LL4cnvPJdO_bs7vUvNZs3kQbjY4TrSU3hVSWXv_0kC5f2sMujIxzA/file\n",
      "Resolving uc8d228f048850f4b88f931427fd.dl.dropboxusercontent.com (uc8d228f048850f4b88f931427fd.dl.dropboxusercontent.com)... 162.125.81.6, 2620:100:6032:6::a27d:5206\n",
      "Connecting to uc8d228f048850f4b88f931427fd.dl.dropboxusercontent.com (uc8d228f048850f4b88f931427fd.dl.dropboxusercontent.com)|162.125.81.6|:443... connected.\n",
      "HTTP request sent, awaiting response... 302 FOUND\n",
      "Location: /cd/0/inline2/AvwD-d7P0aCw5WUcz-oe54WcDyATk5emAAHi7yofwHQjhf5nQrI2QM4FnCCQH9HUQ_rSA9JlBRn5jRexMhlj3s9VzfQ_8SMGVtILNL_lx0NwlOw177pO8Vawd6Ank9p_W8gIUN1sFiAKgr1PLYpX9ZbCWhdIbZdfkgYEeOynyujDTxfb93eOpZwlWoKFnTasZ6ch4fCuxOPzXSrmein3HK1fYO_E6RqAFLpAL6okJQnmuAEtv6bc2MQMEXEaNGcC93gkh3sav77gPMwxzP3tdTaxf00153VJ2Uw2Cu2ZrsPzHSTrthPozu4UlRXHyAq3wHWSQm1uK67XHdIdmE279uBV7rT6TmYkhV8m03wurPT5Jw/file [following]\n",
      "--2020-01-08 10:36:46--  https://uc8d228f048850f4b88f931427fd.dl.dropboxusercontent.com/cd/0/inline2/AvwD-d7P0aCw5WUcz-oe54WcDyATk5emAAHi7yofwHQjhf5nQrI2QM4FnCCQH9HUQ_rSA9JlBRn5jRexMhlj3s9VzfQ_8SMGVtILNL_lx0NwlOw177pO8Vawd6Ank9p_W8gIUN1sFiAKgr1PLYpX9ZbCWhdIbZdfkgYEeOynyujDTxfb93eOpZwlWoKFnTasZ6ch4fCuxOPzXSrmein3HK1fYO_E6RqAFLpAL6okJQnmuAEtv6bc2MQMEXEaNGcC93gkh3sav77gPMwxzP3tdTaxf00153VJ2Uw2Cu2ZrsPzHSTrthPozu4UlRXHyAq3wHWSQm1uK67XHdIdmE279uBV7rT6TmYkhV8m03wurPT5Jw/file\n",
      "Reusing existing connection to uc8d228f048850f4b88f931427fd.dl.dropboxusercontent.com:443.\n",
      "HTTP request sent, awaiting response... 200 OK\n",
      "Length: 140904 (138K) [application/zip]\n",
      "Saving to: ‘vocap.zip’\n",
      "\n",
      "vocap.zip           100%[===================>] 137.60K  --.-KB/s    in 0.05s   \n",
      "\n",
      "2020-01-08 10:36:46 (2.76 MB/s) - ‘vocap.zip’ saved [140904/140904]\n",
      "\n"
     ]
    }
   ],
   "source": [
    "!wget https://www.dropbox.com/s/26adb7y9m98uisa/vocap.zip"
   ]
  },
  {
   "cell_type": "code",
   "execution_count": 0,
   "metadata": {
    "colab": {},
    "colab_type": "code",
    "id": "2Z8BHDJWSpJz"
   },
   "outputs": [],
   "source": [
    "!mkdir models"
   ]
  },
  {
   "cell_type": "code",
   "execution_count": 0,
   "metadata": {
    "colab": {
     "base_uri": "https://localhost:8080/",
     "height": 34
    },
    "colab_type": "code",
    "executionInfo": {
     "elapsed": 953,
     "status": "ok",
     "timestamp": 1578479815862,
     "user": {
      "displayName": "Naoki Tazawa",
      "photoUrl": "",
      "userId": "00658669236716617489"
     },
     "user_tz": -540
    },
    "id": "4epnrzRTS8sT",
    "outputId": "e35dd355-0057-4a64-fcaf-2558d31f5cbf"
   },
   "outputs": [
    {
     "data": {
      "text/plain": [
       "'/content/coco/PythonAPI/pytorch-tutorial/tutorials/03-advanced/image_captioning'"
      ]
     },
     "execution_count": 13,
     "metadata": {
      "tags": []
     },
     "output_type": "execute_result"
    }
   ],
   "source": [
    "pwd"
   ]
  },
  {
   "cell_type": "code",
   "execution_count": 0,
   "metadata": {
    "colab": {
     "base_uri": "https://localhost:8080/",
     "height": 51
    },
    "colab_type": "code",
    "executionInfo": {
     "elapsed": 5556,
     "status": "ok",
     "timestamp": 1578479825179,
     "user": {
      "displayName": "Naoki Tazawa",
      "photoUrl": "",
      "userId": "00658669236716617489"
     },
     "user_tz": -540
    },
    "id": "lyHjZ2cZH1F-",
    "outputId": "1422185a-9382-40cf-e64d-472211cad2bf"
   },
   "outputs": [
    {
     "name": "stdout",
     "output_type": "stream",
     "text": [
      "Archive:  vocap.zip\n",
      "  inflating: data/vocab.pkl          \n"
     ]
    }
   ],
   "source": [
    "!unzip vocap.zip -d data"
   ]
  },
  {
   "cell_type": "code",
   "execution_count": 0,
   "metadata": {
    "colab": {
     "base_uri": "https://localhost:8080/",
     "height": 34
    },
    "colab_type": "code",
    "executionInfo": {
     "elapsed": 1631,
     "status": "ok",
     "timestamp": 1578479826374,
     "user": {
      "displayName": "Naoki Tazawa",
      "photoUrl": "",
      "userId": "00658669236716617489"
     },
     "user_tz": -540
    },
    "id": "yAhV9aYghAHK",
    "outputId": "7e79452d-1351-430d-91a3-880a4a66f47d"
   },
   "outputs": [
    {
     "data": {
      "text/plain": [
       "'/content/coco/PythonAPI/pytorch-tutorial/tutorials/03-advanced/image_captioning'"
      ]
     },
     "execution_count": 15,
     "metadata": {
      "tags": []
     },
     "output_type": "execute_result"
    }
   ],
   "source": [
    "pwd"
   ]
  },
  {
   "cell_type": "code",
   "execution_count": 0,
   "metadata": {
    "colab": {
     "base_uri": "https://localhost:8080/",
     "height": 445
    },
    "colab_type": "code",
    "executionInfo": {
     "elapsed": 65408,
     "status": "ok",
     "timestamp": 1578479893333,
     "user": {
      "displayName": "Naoki Tazawa",
      "photoUrl": "",
      "userId": "00658669236716617489"
     },
     "user_tz": -540
    },
    "id": "_erZVCXJLW-j",
    "outputId": "8aa34048-a83c-4610-9c10-2bc15c07e519"
   },
   "outputs": [
    {
     "name": "stdout",
     "output_type": "stream",
     "text": [
      "--2020-01-08 10:37:08--  https://www.dropbox.com/s/ne0ixz5d58ccbbz/pretrained_model.zip?dl=0\n",
      "Resolving www.dropbox.com (www.dropbox.com)... 162.125.8.1, 2620:100:6032:1::a27d:5201\n",
      "Connecting to www.dropbox.com (www.dropbox.com)|162.125.8.1|:443... connected.\n",
      "HTTP request sent, awaiting response... 301 Moved Permanently\n",
      "Location: /s/raw/ne0ixz5d58ccbbz/pretrained_model.zip [following]\n",
      "--2020-01-08 10:37:09--  https://www.dropbox.com/s/raw/ne0ixz5d58ccbbz/pretrained_model.zip\n",
      "Reusing existing connection to www.dropbox.com:443.\n",
      "HTTP request sent, awaiting response... 302 Found\n",
      "Location: https://ucf6da3d8dc2c293579e2d4cda72.dl.dropboxusercontent.com/cd/0/inline/AvzOxPOMcakFqXnGF2Nkln_Wu7xcHbrssstbHHChUT9hY7WljBJwrMVfzxxzeIw0TOC0HdiIpJn1ki0Ti4dqAx8PW8ZejhTbLbyxteiFT_Taj69jilVhUhpzI9BL2cJ85_M/file# [following]\n",
      "--2020-01-08 10:37:10--  https://ucf6da3d8dc2c293579e2d4cda72.dl.dropboxusercontent.com/cd/0/inline/AvzOxPOMcakFqXnGF2Nkln_Wu7xcHbrssstbHHChUT9hY7WljBJwrMVfzxxzeIw0TOC0HdiIpJn1ki0Ti4dqAx8PW8ZejhTbLbyxteiFT_Taj69jilVhUhpzI9BL2cJ85_M/file\n",
      "Resolving ucf6da3d8dc2c293579e2d4cda72.dl.dropboxusercontent.com (ucf6da3d8dc2c293579e2d4cda72.dl.dropboxusercontent.com)... 162.125.81.6, 2620:100:6032:6::a27d:5206\n",
      "Connecting to ucf6da3d8dc2c293579e2d4cda72.dl.dropboxusercontent.com (ucf6da3d8dc2c293579e2d4cda72.dl.dropboxusercontent.com)|162.125.81.6|:443... connected.\n",
      "HTTP request sent, awaiting response... 302 FOUND\n",
      "Location: /cd/0/inline2/Avxtuaj8GrD7RjVE3i5B80IO3FchcycCHC-dFJbizE3mXzzD_mrQdX9CwBJbcr0zZ63k3j8xTGK7W5vH-c8lujubDxCxcYwyEuENQAyIuQTyqPUTCKncv-Fu3EsqAOOsIL6oMY92WR1MXwX7Vq2n3w56CXiK1dbhFfjRa-YOLJySy0gd5gCO51qIUuQrXynd_kFjGOUyrS_kdtvcIqQ8eHzuHLXb-XDZPzR95muIkcMIDlriAJjlIPbuxJZ1UFVcS6aI26dsV5uQ42mBle9VHPjyczD07EZAFZzPel_f6x_yU-brRq0hE3xRQSnimM5feO8lqnFYBQmU9AmgG1yJQQyJ5W3OqiDad_PtvEV6e6_a9A/file [following]\n",
      "--2020-01-08 10:37:11--  https://ucf6da3d8dc2c293579e2d4cda72.dl.dropboxusercontent.com/cd/0/inline2/Avxtuaj8GrD7RjVE3i5B80IO3FchcycCHC-dFJbizE3mXzzD_mrQdX9CwBJbcr0zZ63k3j8xTGK7W5vH-c8lujubDxCxcYwyEuENQAyIuQTyqPUTCKncv-Fu3EsqAOOsIL6oMY92WR1MXwX7Vq2n3w56CXiK1dbhFfjRa-YOLJySy0gd5gCO51qIUuQrXynd_kFjGOUyrS_kdtvcIqQ8eHzuHLXb-XDZPzR95muIkcMIDlriAJjlIPbuxJZ1UFVcS6aI26dsV5uQ42mBle9VHPjyczD07EZAFZzPel_f6x_yU-brRq0hE3xRQSnimM5feO8lqnFYBQmU9AmgG1yJQQyJ5W3OqiDad_PtvEV6e6_a9A/file\n",
      "Reusing existing connection to ucf6da3d8dc2c293579e2d4cda72.dl.dropboxusercontent.com:443.\n",
      "HTTP request sent, awaiting response... 200 OK\n",
      "Length: 253295231 (242M) [application/zip]\n",
      "Saving to: ‘pretrained_model.zip?dl=0’\n",
      "\n",
      "pretrained_model.zi 100%[===================>] 241.56M  7.71MB/s    in 59s     \n",
      "\n",
      "2020-01-08 10:38:11 (4.07 MB/s) - ‘pretrained_model.zip?dl=0’ saved [253295231/253295231]\n",
      "\n"
     ]
    }
   ],
   "source": [
    "!wget https://www.dropbox.com/s/ne0ixz5d58ccbbz/pretrained_model.zip?dl=0"
   ]
  },
  {
   "cell_type": "code",
   "execution_count": 0,
   "metadata": {
    "colab": {
     "base_uri": "https://localhost:8080/",
     "height": 34
    },
    "colab_type": "code",
    "executionInfo": {
     "elapsed": 1620,
     "status": "ok",
     "timestamp": 1578480054246,
     "user": {
      "displayName": "Naoki Tazawa",
      "photoUrl": "",
      "userId": "00658669236716617489"
     },
     "user_tz": -540
    },
    "id": "CbDlsTLshqol",
    "outputId": "f8837bcf-b0dd-4ba8-9014-93f343c29a42"
   },
   "outputs": [
    {
     "data": {
      "text/plain": [
       "'/content/coco/PythonAPI/pytorch-tutorial/tutorials/03-advanced/image_captioning'"
      ]
     },
     "execution_count": 17,
     "metadata": {
      "tags": []
     },
     "output_type": "execute_result"
    }
   ],
   "source": [
    "pwd"
   ]
  },
  {
   "cell_type": "code",
   "execution_count": 0,
   "metadata": {
    "colab": {
     "base_uri": "https://localhost:8080/",
     "height": 34
    },
    "colab_type": "code",
    "executionInfo": {
     "elapsed": 6140,
     "status": "ok",
     "timestamp": 1578480065838,
     "user": {
      "displayName": "Naoki Tazawa",
      "photoUrl": "",
      "userId": "00658669236716617489"
     },
     "user_tz": -540
    },
    "id": "EFpUhzE_Th6f",
    "outputId": "68cfbf06-83b1-4454-aaf5-7daf75f0eb56"
   },
   "outputs": [
    {
     "name": "stdout",
     "output_type": "stream",
     "text": [
      "mkdir: cannot create directory ‘data’: File exists\n"
     ]
    }
   ],
   "source": [
    "# !mkdir data"
   ]
  },
  {
   "cell_type": "code",
   "execution_count": 0,
   "metadata": {
    "colab": {
     "base_uri": "https://localhost:8080/",
     "height": 85
    },
    "colab_type": "code",
    "executionInfo": {
     "elapsed": 5144,
     "status": "ok",
     "timestamp": 1578476710563,
     "user": {
      "displayName": "Naoki Tazawa",
      "photoUrl": "",
      "userId": "00658669236716617489"
     },
     "user_tz": -540
    },
    "id": "PdjYOoVih7YP",
    "outputId": "bcfafbb9-509c-45eb-c623-b0e406147ab4"
   },
   "outputs": [
    {
     "name": "stdout",
     "output_type": "stream",
     "text": [
      " build_vocab.py   index.html  'pretrained_model.zip?dl=0'   sample.py\n",
      " \u001b[0m\u001b[01;34mdata\u001b[0m/            model.py     README.md                    train.py\n",
      " data_loader.py   \u001b[01;34mmodels\u001b[0m/      requirements.txt             vocap.zip\n",
      " \u001b[01;32mdownload.sh\u001b[0m*     \u001b[01;34mpng\u001b[0m/         resize.py\n"
     ]
    }
   ],
   "source": [
    "ls"
   ]
  },
  {
   "cell_type": "code",
   "execution_count": 0,
   "metadata": {
    "colab": {
     "base_uri": "https://localhost:8080/",
     "height": 34
    },
    "colab_type": "code",
    "executionInfo": {
     "elapsed": 753,
     "status": "ok",
     "timestamp": 1578473532150,
     "user": {
      "displayName": "Naoki Tazawa",
      "photoUrl": "",
      "userId": "00658669236716617489"
     },
     "user_tz": -540
    },
    "id": "vCowbw_uT3QU",
    "outputId": "cc559471-6148-4dd0-9c48-3e15c527b98f"
   },
   "outputs": [
    {
     "name": "stdout",
     "output_type": "stream",
     "text": [
      "/content/coco/PythonAPI/pytorch-tutorial/tutorials/03-advanced/image_captioning\n"
     ]
    }
   ],
   "source": [
    "# cd /content/coco/PythonAPI/pytorch-tutorial/tutorials/03-advanced/image_captioning"
   ]
  },
  {
   "cell_type": "code",
   "execution_count": 0,
   "metadata": {
    "colab": {
     "base_uri": "https://localhost:8080/",
     "height": 68
    },
    "colab_type": "code",
    "executionInfo": {
     "elapsed": 7439,
     "status": "ok",
     "timestamp": 1578480112306,
     "user": {
      "displayName": "Naoki Tazawa",
      "photoUrl": "",
      "userId": "00658669236716617489"
     },
     "user_tz": -540
    },
    "id": "9fiSddz2MDkP",
    "outputId": "005ed983-c061-4a74-eee1-c0509f128648"
   },
   "outputs": [
    {
     "name": "stdout",
     "output_type": "stream",
     "text": [
      "Archive:  pretrained_model.zip?dl=0\n",
      "  inflating: models/encoder-5-3000.pkl  \n",
      "  inflating: models/decoder-5-3000.pkl  \n"
     ]
    }
   ],
   "source": [
    "!unzip pretrained_model.zip?dl=0 -d models"
   ]
  },
  {
   "cell_type": "code",
   "execution_count": 0,
   "metadata": {
    "colab": {},
    "colab_type": "code",
    "id": "1I1NUtBfmnLz"
   },
   "outputs": [],
   "source": [
    "# !mv data/decoder-5-3000.pkl models/"
   ]
  },
  {
   "cell_type": "code",
   "execution_count": 0,
   "metadata": {
    "colab": {},
    "colab_type": "code",
    "id": "ErilEc0Tm0mK"
   },
   "outputs": [],
   "source": [
    "# !mv data/encoder-5-3000.pkl models/"
   ]
  },
  {
   "cell_type": "code",
   "execution_count": 0,
   "metadata": {
    "colab": {},
    "colab_type": "code",
    "id": "1ZRLUshnnEYV"
   },
   "outputs": [],
   "source": [
    "# !mv models/vocab.pkl data/"
   ]
  },
  {
   "cell_type": "code",
   "execution_count": 0,
   "metadata": {
    "colab": {
     "base_uri": "https://localhost:8080/",
     "height": 34
    },
    "colab_type": "code",
    "executionInfo": {
     "elapsed": 1595,
     "status": "ok",
     "timestamp": 1578480718929,
     "user": {
      "displayName": "Naoki Tazawa",
      "photoUrl": "",
      "userId": "00658669236716617489"
     },
     "user_tz": -540
    },
    "id": "6YXQ-xuYM7E0",
    "outputId": "c4d168b8-dd69-47c8-b8b5-483a48c17621"
   },
   "outputs": [
    {
     "data": {
      "text/plain": [
       "'/content/coco/PythonAPI/pytorch-tutorial/tutorials/03-advanced/image_captioning'"
      ]
     },
     "execution_count": 26,
     "metadata": {
      "tags": []
     },
     "output_type": "execute_result"
    }
   ],
   "source": [
    "pwd"
   ]
  },
  {
   "cell_type": "code",
   "execution_count": 0,
   "metadata": {
    "colab": {
     "base_uri": "https://localhost:8080/",
     "height": 68
    },
    "colab_type": "code",
    "executionInfo": {
     "elapsed": 5871,
     "status": "ok",
     "timestamp": 1578480906949,
     "user": {
      "displayName": "Naoki Tazawa",
      "photoUrl": "",
      "userId": "00658669236716617489"
     },
     "user_tz": -540
    },
    "id": "mBbG7lMtykBE",
    "outputId": "9b7beeed-8f05-438c-b9e8-e7ae9bcab990"
   },
   "outputs": [
    {
     "name": "stdout",
     "output_type": "stream",
     "text": [
      "grep: ./data: Is a directory\n",
      "grep: ./models: Is a directory\n",
      "grep: ./png: Is a directory\n"
     ]
    }
   ],
   "source": [
    "!grep -l 'encoder-2-1000.ckpt' ./* | xargs sed -i.bak -e 's/encoder-2-1000.ckpt/encoder-5-3000.pkl/g'"
   ]
  },
  {
   "cell_type": "code",
   "execution_count": 0,
   "metadata": {
    "colab": {
     "base_uri": "https://localhost:8080/",
     "height": 68
    },
    "colab_type": "code",
    "executionInfo": {
     "elapsed": 5552,
     "status": "ok",
     "timestamp": 1578480956939,
     "user": {
      "displayName": "Naoki Tazawa",
      "photoUrl": "",
      "userId": "00658669236716617489"
     },
     "user_tz": -540
    },
    "id": "4-P1R_2vy0dW",
    "outputId": "53730c4e-5d70-4049-dde0-9b3b442ad86b"
   },
   "outputs": [
    {
     "name": "stdout",
     "output_type": "stream",
     "text": [
      "grep: ./data: Is a directory\n",
      "grep: ./models: Is a directory\n",
      "grep: ./png: Is a directory\n"
     ]
    }
   ],
   "source": [
    "!grep -l 'decoder-2-1000.ckpt' ./* | xargs sed -i.bak -e 's/decoder-2-1000.ckpt/decoder-5-3000.pkl/g'"
   ]
  },
  {
   "cell_type": "markdown",
   "metadata": {
    "colab_type": "text",
    "id": "H1n8l_ZLxHKK"
   },
   "source": []
  },
  {
   "cell_type": "code",
   "execution_count": 0,
   "metadata": {
    "colab": {
     "base_uri": "https://localhost:8080/",
     "height": 34
    },
    "colab_type": "code",
    "executionInfo": {
     "elapsed": 12835,
     "status": "ok",
     "timestamp": 1578481935452,
     "user": {
      "displayName": "Naoki Tazawa",
      "photoUrl": "",
      "userId": "00658669236716617489"
     },
     "user_tz": -540
    },
    "id": "TLQAoHnIMQhu",
    "outputId": "0ed19b25-6e96-41c9-91a0-dba2dffe1728"
   },
   "outputs": [
    {
     "name": "stdout",
     "output_type": "stream",
     "text": [
      "<start> a group of giraffes standing next to each other . <end>\n"
     ]
    }
   ],
   "source": [
    "!python sample.py --image='png/example.png'"
   ]
  },
  {
   "cell_type": "code",
   "execution_count": 0,
   "metadata": {
    "colab": {
     "base_uri": "https://localhost:8080/",
     "height": 34
    },
    "colab_type": "code",
    "executionInfo": {
     "elapsed": 3968,
     "status": "ok",
     "timestamp": 1578481946476,
     "user": {
      "displayName": "Naoki Tazawa",
      "photoUrl": "",
      "userId": "00658669236716617489"
     },
     "user_tz": -540
    },
    "id": "u9_schK3oOZw",
    "outputId": "ea802efb-9ffd-4365-e3b2-7e79e1a4efeb"
   },
   "outputs": [
    {
     "name": "stdout",
     "output_type": "stream",
     "text": [
      "mkdir: cannot create directory ‘img’: File exists\n"
     ]
    }
   ],
   "source": [
    "!mkdir img"
   ]
  },
  {
   "cell_type": "code",
   "execution_count": 0,
   "metadata": {
    "colab": {
     "base_uri": "https://localhost:8080/",
     "height": 286
    },
    "colab_type": "code",
    "executionInfo": {
     "elapsed": 9269,
     "status": "ok",
     "timestamp": 1578481998402,
     "user": {
      "displayName": "Naoki Tazawa",
      "photoUrl": "",
      "userId": "00658669236716617489"
     },
     "user_tz": -540
    },
    "id": "1DHWcuGumdns",
    "outputId": "2bc9da91-03b0-4224-d7ca-1ed66f16388c"
   },
   "outputs": [
    {
     "data": {
      "image/png": "[encoded data removed]",
      "text/plain": [
       "<Figure size 432x288 with 1 Axes>"
      ]
     },
     "metadata": {
      "tags": []
     },
     "output_type": "display_data"
    },
    {
     "name": "stdout",
     "output_type": "stream",
     "text": [
      "<start> a cat is sitting on a couch with a cat . <end>\n"
     ]
    }
   ],
   "source": [
    "import torch\n",
    "import matplotlib.pyplot as plt\n",
    "import numpy as np \n",
    "import argparse\n",
    "import pickle \n",
    "import os\n",
    "from torchvision import transforms \n",
    "from build_vocab import Vocabulary\n",
    "from model import EncoderCNN, DecoderRNN\n",
    "from PIL import Image\n",
    " \n",
    " \n",
    "# Device configuration\n",
    "device = torch.device('cuda' if torch.cuda.is_available() else 'cpu')\n",
    " \n",
    "def load_image(image_path, transform=None):\n",
    "    image = Image.open(image_path)\n",
    "    image = image.resize([224, 224], Image.LANCZOS)\n",
    "    \n",
    "    if transform is not None:\n",
    "        image = transform(image).unsqueeze(0)\n",
    "    \n",
    "    return image\n",
    " \n",
    "def main():\n",
    "    # Image preprocessing\n",
    "    transform = transforms.Compose([\n",
    "        transforms.ToTensor(), \n",
    "        transforms.Normalize((0.485, 0.456, 0.406), \n",
    "                             (0.229, 0.224, 0.225))])\n",
    "    \n",
    "    # Load vocabulary wrapper\n",
    "    with open(vocab_path, 'rb') as f:\n",
    "        vocab = pickle.load(f)\n",
    " \n",
    "    # Build models\n",
    "    encoder = EncoderCNN(embed_size).eval()  # eval mode (batchnorm uses moving mean/variance)\n",
    "    decoder = DecoderRNN(embed_size, hidden_size, len(vocab), num_layers)\n",
    "    encoder = encoder.to(device)\n",
    "    decoder = decoder.to(device)\n",
    " \n",
    "    # Load the trained model parameters\n",
    "    encoder.load_state_dict(torch.load(encoder_path))\n",
    "    decoder.load_state_dict(torch.load(decoder_path))\n",
    " \n",
    "    # Prepare an image\n",
    "    image = load_image(image_path, transform)\n",
    "    image_tensor = image.to(device)\n",
    "    \n",
    "    # Generate an caption from the image\n",
    "    feature = encoder(image_tensor)\n",
    "    sampled_ids = decoder.sample(feature)\n",
    "    sampled_ids = sampled_ids[0].cpu().numpy()          # (1, max_seq_length) -> (max_seq_length)\n",
    "    \n",
    "    # Convert word_ids to words\n",
    "    sampled_caption = []\n",
    "    for word_id in sampled_ids:\n",
    "        word = vocab.idx2word[word_id]\n",
    "        sampled_caption.append(word)\n",
    "        if word == '<end>':\n",
    "            break\n",
    "    sentence = ' '.join(sampled_caption)\n",
    "    \n",
    "    # Print out the image and the generated caption\n",
    "    image = Image.open(image_path)\n",
    "    plt.imshow(np.asarray(image))\n",
    "    plt.show()\n",
    "    print (sentence)\n",
    "    \n",
    "if __name__ == '__main__':\n",
    "    encoder_path ='models/encoder-5-3000.pkl'\n",
    "    decoder_path ='models/decoder-5-3000.pkl'\n",
    "    vocab_path ='data/vocab.pkl'\n",
    "    \n",
    "    # Model parameters (should be same as paramters in train.py)\n",
    "    embed_size=256\n",
    "    hidden_size=512\n",
    "    num_layers=1\n",
    "    \n",
    "    import glob\n",
    "    files = sorted(glob.glob('img/*.jpg'))\n",
    "    for i, image_path in enumerate (files):   \n",
    "        main()"
   ]
  },
  {
   "cell_type": "code",
   "execution_count": 0,
   "metadata": {
    "colab": {},
    "colab_type": "code",
    "id": "7eHGGQk2o5gj"
   },
   "outputs": [],
   "source": [
    "!mv /content/surfin.jpeg /content/coco/PythonAPI/pytorch-tutorial/tutorials/03-advanced/image_captioning/img"
   ]
  },
  {
   "cell_type": "code",
   "execution_count": 0,
   "metadata": {
    "colab": {
     "base_uri": "https://localhost:8080/",
     "height": 34
    },
    "colab_type": "code",
    "executionInfo": {
     "elapsed": 1613,
     "status": "ok",
     "timestamp": 1578481981777,
     "user": {
      "displayName": "Naoki Tazawa",
      "photoUrl": "",
      "userId": "00658669236716617489"
     },
     "user_tz": -540
    },
    "id": "vnkKGs8Ao20Z",
    "outputId": "057cd7ee-a606-4d2f-cf3e-f492c61d8984"
   },
   "outputs": [
    {
     "data": {
      "text/plain": [
       "<function __main__.main>"
      ]
     },
     "execution_count": 37,
     "metadata": {
      "tags": []
     },
     "output_type": "execute_result"
    }
   ],
   "source": [
    "main"
   ]
  },
  {
   "cell_type": "code",
   "execution_count": 0,
   "metadata": {
    "colab": {
     "base_uri": "https://localhost:8080/",
     "height": 102
    },
    "colab_type": "code",
    "executionInfo": {
     "elapsed": 7917,
     "status": "ok",
     "timestamp": 1578478708258,
     "user": {
      "displayName": "Naoki Tazawa",
      "photoUrl": "",
      "userId": "00658669236716617489"
     },
     "user_tz": -540
    },
    "id": "dWKZeNG4pdzt",
    "outputId": "8102c792-4cf6-4230-c593-d375a94aa7a9"
   },
   "outputs": [
    {
     "name": "stdout",
     "output_type": "stream",
     "text": [
      " build_vocab.py   index.html                   \u001b[0m\u001b[01;34m__pycache__\u001b[0m/       train.py\n",
      " \u001b[01;34mdata\u001b[0m/            model.py                     README.md          vocap.zip\n",
      " data_loader.py   \u001b[01;34mmodels\u001b[0m/                      requirements.txt\n",
      " \u001b[01;32mdownload.sh\u001b[0m*     \u001b[01;34mpng\u001b[0m/                         resize.py\n",
      " \u001b[01;34mimg\u001b[0m/            'pretrained_model.zip?dl=0'   sample.py\n"
     ]
    }
   ],
   "source": [
    "ls"
   ]
  },
  {
   "cell_type": "markdown",
   "metadata": {
    "colab_type": "text",
    "id": "iJlbVPTSp7lq"
   },
   "source": [
    " # 【問題3】Kerasで動かしたい場合はどうするかを調査\n",
    "PyTorchによる実装を動かしましたが、何らかの理由からKerasで動かしたい状況が考えられます。どういった手順を踏むことになるか調査し、できるだけ詳しく説明してください。\n",
    "\n",
    "特に今回はPyTorchのための学習済みの重みをKerasで使えるようにしたいので、その点については必ず触れてください。"
   ]
  },
  {
   "cell_type": "markdown",
   "metadata": {
    "colab_type": "text",
    "id": "9wyEMDzIWqnI"
   },
   "source": [
    " ## MMdnnを利用する\n",
    "MMdnnとは，Microsoft Researchにより開発が進められているオープンソースの深層学習モデルの変換と可視化を行うツール．Caffe、Keras、Tensorflow、CNTK、MXNet、PyTorch、CoreMLなどのフレームワークが相互運用可能になる．\n",
    "\n",
    " ## 使い方（簡単に）\n",
    " - pip install mmdnnでインストールできる\n",
    " - mmdownload -f keras -n inception_v3 -o ./で学習済みの重みもダウンロードできる\n",
    " - mmconvert -sf keras -iw imagenet_inception_v3.h5 -df onnx -om imagenet_inception_v3.onnxで、「imagenet_inception_v3.h5」というkerasモデルファイルに対して、「imagenet_inception_v3.onnx」というファイルが生成される。それにより、モデルをONNXモデルに変換できる。\n",
    " <br>\n",
    "参考記事 : https://qiita.com/koppe/items/7f85f5411539390c4499"
   ]
  },
  {
   "cell_type": "code",
   "execution_count": 0,
   "metadata": {
    "colab": {},
    "colab_type": "code",
    "id": "vzNfsn6UXEBX"
   },
   "outputs": [],
   "source": []
  }
 ],
 "metadata": {
  "accelerator": "GPU",
  "colab": {
   "collapsed_sections": [],
   "name": "Sprint24.ipynb ",
   "provenance": [
    {
     "file_id": "1ixsRQfy_AS-j0T-1_pBEkZQCMdQDj72h",
     "timestamp": 1579602049462
    }
   ]
  },
  "kernelspec": {
   "display_name": "Python 3",
   "language": "python",
   "name": "python3"
  },
  "language_info": {
   "codemirror_mode": {
    "name": "ipython",
    "version": 3
   },
   "file_extension": ".py",
   "mimetype": "text/x-python",
   "name": "python",
   "nbconvert_exporter": "python",
   "pygments_lexer": "ipython3",
   "version": "3.7.4"
  },
  "toc": {
   "base_numbering": 1,
   "nav_menu": {},
   "number_sections": true,
   "sideBar": true,
   "skip_h1_title": false,
   "title_cell": "Table of Contents",
   "title_sidebar": "Contents",
   "toc_cell": false,
   "toc_position": {},
   "toc_section_display": true,
   "toc_window_display": false
  },
  "varInspector": {
   "cols": {
    "lenName": 16,
    "lenType": 16,
    "lenVar": 40
   },
   "kernels_config": {
    "python": {
     "delete_cmd_postfix": "",
     "delete_cmd_prefix": "del ",
     "library": "var_list.py",
     "varRefreshCmd": "print(var_dic_list())"
    },
    "r": {
     "delete_cmd_postfix": ") ",
     "delete_cmd_prefix": "rm(",
     "library": "var_list.r",
     "varRefreshCmd": "cat(var_dic_list()) "
    }
   },
   "types_to_exclude": [
    "module",
    "function",
    "builtin_function_or_method",
    "instance",
    "_Feature"
   ],
   "window_display": true
  }
 },
 "nbformat": 4,
 "nbformat_minor": 1
}
