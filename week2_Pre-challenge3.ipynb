{
 "cells": [
  {
   "cell_type": "markdown",
   "metadata": {},
   "source": [
    " ## 【問題1】行列積を手計算する\n",
    "AとBの行列積を手計算で解いてください。\n",
    "\n",
    "計算過程もマークダウンテキストを用いて説明してください。"
   ]
  },
  {
   "cell_type": "code",
   "execution_count": 1,
   "metadata": {},
   "outputs": [],
   "source": [
    "import numpy as np\n",
    "a_ndarray = np.array(\n",
    "    [[-1, 2, 3],\n",
    "     [4, -5, 6],\n",
    "     [7, 8, -9]])\n",
    "b_ndarray = np.array(\n",
    "    [[0, 2, 1], \n",
    "     [0, 2, -8], \n",
    "     [2, 9, -1]])"
   ]
  },
  {
   "cell_type": "markdown",
   "metadata": {},
   "source": [
    "a_ndarray = [[A00, A01, A02],  [A10, A11, A12], [A20, A21, A22] \n",
    "<br>\n",
    "b_ndarray = [[B00, B01, B02],  [B10, B11, B12], [B20, B21, B22] \n",
    "<br>\n",
    "a_ndarray × b_ndarray = [[C00, C01, C02],  [C10, C11, C12], [C20, C21, C22] \n",
    "<br>\n",
    "[[-1, 2, 3],[4, -5, 6],[7, 8, -9]] × [[0, 2, 1],  [0, 2, -8], [2, 9, -1]] = [[C00, C01, C02],  [C10, C11, C12], [C20, C21, C22] \n",
    "<br>\n",
    "<br>\n",
    "C00 = A00×B00+A01×B10+A02×B20 = (-1)×0+2×0+3×2 = 6\n",
    "<br>\n",
    "C01 = A00×B01+A01×B11+A02×B21 = (-1)×2+2×2+3×9 = 29\n",
    "<br>\n",
    "C02 = A00×B02+A01×B12+A02×C22 = (-1)×1+2×(-8)+3×(-1) = -20 \n",
    "<br>\n",
    "C10 = A10×B00+A11×B10+A12×B20  = 4×0+(-5)×0+6×2 = 12\n",
    "<br>\n",
    "C11 = A10×B01+A11×B11+A12×B21 = 4×2+(-5)×2+6×9 = 52\n",
    "<br>\n",
    "C12 = A10×B02+A11×B12+A12×C22 = 4×1+(-5)×(-8)+6×(-1) = 38\n",
    "<br>\n",
    "C20 = A20×B00+A21×B10+A22×B20 = 7×0+8×0+(-9)×2 = -18\n",
    "<br>\n",
    "C21 = A20×B01+A21×B11+A22×B21 = 7×2+8×2+(-9)×9 = -51\n",
    "<br>\n",
    "C22 = A20×B02+A21×B12+A22×C22 = 7×1+8×(-8)+(-9)×(-1) = -48\n",
    "<br>\n",
    "<br>\n",
    "よって、\n",
    "<br>\n",
    "[[C01, C02, C03],  [C11, C12, C13], [C21, C22, C23] = [[  6  29 -20], [ 12  52  38], [-18 -51 -48]]"
   ]
  },
  {
   "cell_type": "markdown",
   "metadata": {},
   "source": [
    "## 【問題2】NumPyの関数による計算\n",
    "この行列積はNumPyのnp.matmul()やnp.dot()、または@演算子を使うことで簡単に計算できます。\n",
    "\n",
    "これらを使い行列積を計算してください。\n",
    "\n",
    "numpy.matmul — NumPy v1.16 Manual\n",
    "\n",
    "numpy.dot — NumPy v1.16 Manual\n",
    "\n",
    "《3種類の違い》\n",
    "\n",
    "np.matmul()とnp.dot()は3次元以上の配列で挙動が変わります。@演算子はnp.matmul()と同じ働きをします。\n",
    "\n",
    "今回のような2次元配列の行列積ではnp.matmul()や@演算子が公式に推奨されています。以下はnp.dot()の説明からの引用です。"
   ]
  },
  {
   "cell_type": "code",
   "execution_count": 2,
   "metadata": {},
   "outputs": [
    {
     "data": {
      "text/plain": [
       "array([[  6,  29, -20],\n",
       "       [ 12,  52,  38],\n",
       "       [-18, -51, -48]])"
      ]
     },
     "execution_count": 2,
     "metadata": {},
     "output_type": "execute_result"
    }
   ],
   "source": [
    "np.matmul(a_ndarray, b_ndarray)"
   ]
  },
  {
   "cell_type": "code",
   "execution_count": 3,
   "metadata": {},
   "outputs": [
    {
     "data": {
      "text/plain": [
       "array([[  6,  29, -20],\n",
       "       [ 12,  52,  38],\n",
       "       [-18, -51, -48]])"
      ]
     },
     "execution_count": 3,
     "metadata": {},
     "output_type": "execute_result"
    }
   ],
   "source": [
    "a_ndarray.dot(b_ndarray)"
   ]
  },
  {
   "cell_type": "code",
   "execution_count": 4,
   "metadata": {},
   "outputs": [
    {
     "data": {
      "text/plain": [
       "array([[  6,  29, -20],\n",
       "       [ 12,  52,  38],\n",
       "       [-18, -51, -48]])"
      ]
     },
     "execution_count": 4,
     "metadata": {},
     "output_type": "execute_result"
    }
   ],
   "source": [
    "a_ndarray @ b_ndarray"
   ]
  },
  {
   "cell_type": "markdown",
   "metadata": {},
   "source": [
    "## 【問題3】ある要素の計算を実装\n",
    "手計算をする際はまず行列Aの0行目と行列Bの0列目に注目し、以下の計算を行ったかと思います。\n",
    "\n",
    " - 行列Aの(0,0)の要素 \n",
    "a\n",
    "0\n",
    ",\n",
    "0\n",
    " と行列Bの(0,0)の要素 \n",
    "b\n",
    "0\n",
    ",\n",
    "0\n",
    " を掛け合わせる\n",
    " - 行列Aの(0,1)の要素 \n",
    "a\n",
    "0\n",
    ",\n",
    "1\n",
    " と行列Bの(1,0)の要素 \n",
    "b\n",
    "1\n",
    ",\n",
    "0\n",
    " を掛け合わせる\n",
    " - 行列Aの(0,2)の要素 \n",
    "a\n",
    "0\n",
    ",\n",
    "2\n",
    " と行列Bの(2,0)の要素 \n",
    "b\n",
    "2\n",
    ",\n",
    "0\n",
    " を掛け合わせる\n",
    "それらの値を全て足し合わせる\n",
    "数式で表すと\n",
    "\n",
    "2\n",
    "∑\n",
    "k\n",
    "=\n",
    "0\n",
    " \n",
    "a\n",
    "0\n",
    ",\n",
    "k\n",
    "b\n",
    "k\n",
    ",\n",
    "0\n",
    "です。\n",
    "\n",
    "この計算をnp.matmul()やnp.dot()、または@演算子を使わずに行うコードを書いてください。"
   ]
  },
  {
   "cell_type": "code",
   "execution_count": 5,
   "metadata": {},
   "outputs": [
    {
     "name": "stdout",
     "output_type": "stream",
     "text": [
      "[[  6  29 -20]\n",
      " [ 12  52  38]\n",
      " [-18 -51 -48]]\n"
     ]
    }
   ],
   "source": [
    "ndarray_00 = a_ndarray[0,0] * b_ndarray[0,0] + a_ndarray[0,1] * b_ndarray[1,0] + a_ndarray[0,2] * b_ndarray[2,0] \n",
    "ndarray_01 = a_ndarray[0,0] * b_ndarray[0,1] + a_ndarray[0,1] * b_ndarray[1,1] + a_ndarray[0,2] * b_ndarray[2,1] \n",
    "ndarray_02= a_ndarray[0,0] * b_ndarray[0,2] + a_ndarray[0,1] * b_ndarray[1,2] + a_ndarray[0,2] * b_ndarray[2,2]   \n",
    "ndarray_10 = a_ndarray[1,0] * b_ndarray[0,0] + a_ndarray[1,1] * b_ndarray[1,0] + a_ndarray[1,2] * b_ndarray[2,0]   \n",
    "ndarray_11 = a_ndarray[1,0] * b_ndarray[0,1] + a_ndarray[1,1] * b_ndarray[1,1] + a_ndarray[1,2] * b_ndarray[2,1]  \n",
    "ndarray_12= a_ndarray[1,0] * b_ndarray[0,2] + a_ndarray[1,1] * b_ndarray[1,2] + a_ndarray[1,2] * b_ndarray[2,2]  \n",
    "ndarray_20 = a_ndarray[2,0] * b_ndarray[0,0] + a_ndarray[2,1] * b_ndarray[1,0] + a_ndarray[2,2] * b_ndarray[2,0]   \n",
    "ndarray_21 = a_ndarray[2,0] * b_ndarray[0,1] + a_ndarray[2,1] * b_ndarray[1,1] + a_ndarray[2,2] * b_ndarray[2,1]   \n",
    "ndarray_22= a_ndarray[2,0] * b_ndarray[0,2] + a_ndarray[2,1] * b_ndarray[1,2] + a_ndarray[2,2] * b_ndarray[2,2]   \n",
    "\n",
    "answer_list =[ndarray_00, ndarray_01, ndarray_02, ndarray_10, ndarray_11, ndarray_12, ndarray_20, ndarray_21, ndarray_22]\n",
    "answer_array = np.array(answer_list).reshape(a_ndarray.shape[0], b_ndarray.shape[1])\n",
    "print(answer_array)\n"
   ]
  },
  {
   "cell_type": "markdown",
   "metadata": {},
   "source": [
    " ## 【問題4】行列積を行う関数の作成\n",
    "問題3のコードを拡張し、行列積のスクラッチ実装を完成させてください。行列AとBを引数に受け取り、行列積を返す関数としてください。\n",
    "\n",
    "行列積を計算する場合は、問題3の計算を異なる行や列に対して繰り返していくことになります。\n",
    "\n",
    "計算結果である \n",
    "3\n",
    "×\n",
    "3\n",
    " の行列Cの各要素 \n",
    "c\n",
    "i\n",
    ",\n",
    "j\n",
    " は数式で表すと次のようになります。\n",
    "\n",
    "c\n",
    "i\n",
    ",\n",
    "j\n",
    "=\n",
    "2\n",
    "∑\n",
    "k\n",
    "=\n",
    "0\n",
    " \n",
    "a\n",
    "i\n",
    ",\n",
    "k\n",
    "b\n",
    "k\n",
    ",\n",
    "j\n",
    "for文を使い、ndarrayのインデックスを動かしていくことで、合計9つの要素が計算できます。インデックス \n",
    "i\n",
    " や \n",
    "j\n",
    " を1増やすと、次の行や列に移ることができます。"
   ]
  },
  {
   "cell_type": "code",
   "execution_count": 6,
   "metadata": {},
   "outputs": [],
   "source": [
    "def seki(x,y):\n",
    "    ans = []\n",
    "    for i in range(x.shape[0]):\n",
    "        for j in range(y.shape[1]):\n",
    "            for k in range(x.shape[1]):\n",
    "                ans.append(x[i,k] * y[k,j])\n",
    "    answer_list = [sum(ans[i:i+x.shape[1]]) for i in range(0,len(ans),x.shape[1])]\n",
    "    answer_array = np.array(answer_list).reshape(x.shape[0], y.shape[1])\n",
    "    print(answer_array)"
   ]
  },
  {
   "cell_type": "code",
   "execution_count": 7,
   "metadata": {},
   "outputs": [
    {
     "name": "stdout",
     "output_type": "stream",
     "text": [
      "[[  6  29 -20]\n",
      " [ 12  52  38]\n",
      " [-18 -51 -48]]\n"
     ]
    }
   ],
   "source": [
    "seki(a_ndarray, b_ndarray)"
   ]
  },
  {
   "cell_type": "code",
   "execution_count": 8,
   "metadata": {},
   "outputs": [
    {
     "data": {
      "text/plain": [
       "array([[  6,  29, -20],\n",
       "       [ 12,  52,  38],\n",
       "       [-18, -51, -48]])"
      ]
     },
     "execution_count": 8,
     "metadata": {},
     "output_type": "execute_result"
    }
   ],
   "source": [
    "a_ndarray @ b_ndarray"
   ]
  },
  {
   "cell_type": "code",
   "execution_count": 9,
   "metadata": {},
   "outputs": [],
   "source": [
    "a_ndarray = np.array([[-1, 2, 3], [4, -5, 6]])\n",
    "b_ndarray = np.array([[0, 2, 1], [0, 2, -8], [2, 9, -1]])"
   ]
  },
  {
   "cell_type": "code",
   "execution_count": 10,
   "metadata": {},
   "outputs": [
    {
     "name": "stdout",
     "output_type": "stream",
     "text": [
      "[[  6  29 -20]\n",
      " [ 12  52  38]]\n"
     ]
    }
   ],
   "source": [
    "seki(a_ndarray, b_ndarray)"
   ]
  },
  {
   "cell_type": "code",
   "execution_count": 11,
   "metadata": {},
   "outputs": [
    {
     "data": {
      "text/plain": [
       "array([[  6,  29, -20],\n",
       "       [ 12,  52,  38]])"
      ]
     },
     "execution_count": 11,
     "metadata": {},
     "output_type": "execute_result"
    }
   ],
   "source": [
    "a_ndarray @ b_ndarray"
   ]
  },
  {
   "cell_type": "code",
   "execution_count": 12,
   "metadata": {},
   "outputs": [],
   "source": [
    "a_ndarray = np.array([[-1, 2, 3], [4, -5, 6], [7, 8, -9]])\n",
    "b_ndarray = np.array([[0, 2],\n",
    "                                      [0, 2], \n",
    "                                      [2, 9]])"
   ]
  },
  {
   "cell_type": "code",
   "execution_count": 24,
   "metadata": {},
   "outputs": [
    {
     "name": "stdout",
     "output_type": "stream",
     "text": [
      "[[  6  29]\n",
      " [ 12  52]\n",
      " [-18 -51]]\n"
     ]
    }
   ],
   "source": [
    "seki(a_ndarray, b_ndarray)"
   ]
  },
  {
   "cell_type": "code",
   "execution_count": 14,
   "metadata": {},
   "outputs": [
    {
     "data": {
      "text/plain": [
       "array([[  6,  29],\n",
       "       [ 12,  52],\n",
       "       [-18, -51]])"
      ]
     },
     "execution_count": 14,
     "metadata": {},
     "output_type": "execute_result"
    }
   ],
   "source": [
    "a_ndarray @ b_ndarray"
   ]
  },
  {
   "cell_type": "markdown",
   "metadata": {},
   "source": [
    "## 【問題5】計算が定義されない入力を判定する\n",
    "問題4で作成した関数は、実装方法によってはこのDとEの配列を入力しても動いてしまう可能性があります。この場合、不適切な計算が行われることになります。また、途中でエラーになる場合でも、なぜエラーになったかが直接的には分かりづらいメッセージが表示されます。\n",
    "\n",
    "if文などによってこれを防ぎ、入力される形に問題があることをprint()を使い表示するコードを書き加えてください。"
   ]
  },
  {
   "cell_type": "code",
   "execution_count": 15,
   "metadata": {},
   "outputs": [],
   "source": [
    "def seki_2(x,y):\n",
    "    if x.shape[0] != y.shape[1]:\n",
    "        print(\"※ 第一引数の列数と第二引数の行数が異なるため、行列の積は定義できません\")\n",
    "    else:\n",
    "        ans = []\n",
    "        for i in range(x.shape[0]):\n",
    "            for j in range(y.shape[1]):\n",
    "                for k in range(x.shape[1]):\n",
    "                    ans.append(x[i,k] * y[k,j])\n",
    "        answer_list = [sum(ans[i:i+x.shape[1]]) for i in range(0,len(ans),x.shape[1])]\n",
    "        answer_array = np.array(answer_list).reshape(x.shape[0], y.shape[1])\n",
    "        print(answer_array)"
   ]
  },
  {
   "cell_type": "code",
   "execution_count": 16,
   "metadata": {},
   "outputs": [],
   "source": [
    "d_ndarray = np.array([[-1, 2, 3], [4, -5, 6]])\n",
    "e_ndarray = np.array([[-9, 8, 7], [6, -5, 4]])"
   ]
  },
  {
   "cell_type": "code",
   "execution_count": 18,
   "metadata": {},
   "outputs": [
    {
     "name": "stdout",
     "output_type": "stream",
     "text": [
      "※ 第一引数の列数と第二引数の行数が異なるため、行列の積は定義できません\n"
     ]
    }
   ],
   "source": [
    "seki_2(d_ndarray,e_ndarray)"
   ]
  },
  {
   "cell_type": "markdown",
   "metadata": {},
   "source": [
    "## 【問題6】転置\n",
    "片方の行列を転置することで、行列積が計算できるようになります。\n",
    "\n",
    "np.transpose()や.Tアトリビュートを用いて転置し、行列積を計算してください。"
   ]
  },
  {
   "cell_type": "code",
   "execution_count": 19,
   "metadata": {},
   "outputs": [
    {
     "name": "stdout",
     "output_type": "stream",
     "text": [
      "[[ 33 -28   9]\n",
      " [-48  41  -6]\n",
      " [  9  -6  45]]\n"
     ]
    }
   ],
   "source": [
    "seki_2(d_ndarray.T,e_ndarray)"
   ]
  },
  {
   "cell_type": "code",
   "execution_count": 21,
   "metadata": {},
   "outputs": [
    {
     "name": "stdout",
     "output_type": "stream",
     "text": [
      "[[ 33 -28   9]\n",
      " [-48  41  -6]\n",
      " [  9  -6  45]]\n"
     ]
    }
   ],
   "source": [
    "seki_2(np.transpose(d_ndarray),e_ndarray)"
   ]
  },
  {
   "cell_type": "code",
   "execution_count": 22,
   "metadata": {},
   "outputs": [
    {
     "data": {
      "text/plain": [
       "array([[ 33, -28,   9],\n",
       "       [-48,  41,  -6],\n",
       "       [  9,  -6,  45]])"
      ]
     },
     "execution_count": 22,
     "metadata": {},
     "output_type": "execute_result"
    }
   ],
   "source": [
    "d_ndarray.T @ e_ndarray"
   ]
  },
  {
   "cell_type": "code",
   "execution_count": 23,
   "metadata": {},
   "outputs": [
    {
     "data": {
      "text/plain": [
       "array([[ 33, -28,   9],\n",
       "       [-48,  41,  -6],\n",
       "       [  9,  -6,  45]])"
      ]
     },
     "execution_count": 23,
     "metadata": {},
     "output_type": "execute_result"
    }
   ],
   "source": [
    "np.transpose(d_ndarray) @ e_ndarray"
   ]
  }
 ],
 "metadata": {
  "kernelspec": {
   "display_name": "Python 3",
   "language": "python",
   "name": "python3"
  },
  "language_info": {
   "codemirror_mode": {
    "name": "ipython",
    "version": 3
   },
   "file_extension": ".py",
   "mimetype": "text/x-python",
   "name": "python",
   "nbconvert_exporter": "python",
   "pygments_lexer": "ipython3",
   "version": "3.7.3"
  }
 },
 "nbformat": 4,
 "nbformat_minor": 2
}
