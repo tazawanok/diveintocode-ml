{
 "cells": [
  {
   "cell_type": "code",
   "execution_count": 484,
   "metadata": {},
   "outputs": [],
   "source": [
    "import numpy as np\n",
    "import pandas as pd"
   ]
  },
  {
   "cell_type": "code",
   "execution_count": 485,
   "metadata": {},
   "outputs": [],
   "source": [
    "from sklearn.datasets import load_iris\n",
    "iris = load_iris()"
   ]
  },
  {
   "cell_type": "code",
   "execution_count": 581,
   "metadata": {},
   "outputs": [],
   "source": [
    "X = iris.data[50:,:]\n",
    "y = iris.target[50:]"
   ]
  },
  {
   "cell_type": "code",
   "execution_count": 582,
   "metadata": {},
   "outputs": [],
   "source": [
    "X = X[:,[0,2]]"
   ]
  },
  {
   "cell_type": "code",
   "execution_count": 583,
   "metadata": {},
   "outputs": [],
   "source": [
    "y[y==2] = -1"
   ]
  },
  {
   "cell_type": "code",
   "execution_count": 489,
   "metadata": {},
   "outputs": [
    {
     "data": {
      "text/plain": [
       "array([1, 1, 1, 1, 1, 1, 1, 1, 1, 1])"
      ]
     },
     "execution_count": 489,
     "metadata": {},
     "output_type": "execute_result"
    }
   ],
   "source": [
    "y[:10]"
   ]
  },
  {
   "cell_type": "code",
   "execution_count": 490,
   "metadata": {},
   "outputs": [],
   "source": [
    "from sklearn.model_selection import train_test_split\n",
    "(X_train, X_test,\n",
    " y_train, y_test) = train_test_split(\n",
    "    X, y, test_size=0.3, random_state=0,\n",
    ")"
   ]
  },
  {
   "cell_type": "code",
   "execution_count": 586,
   "metadata": {},
   "outputs": [],
   "source": [
    "class ScratchSVMClassifier():\n",
    "    \"\"\"\n",
    "    ロジスティック回帰のスクラッチ実装\n",
    "\n",
    "    Parameters\n",
    "    ----------\n",
    "    num_iter : int\n",
    "      イテレーション数\n",
    "    lr : float\n",
    "      学習率\n",
    "    no_bias : bool\n",
    "      バイアス項を入れない場合はTrue\n",
    "    verbose : bool\n",
    "      学習過程を出力する場合はTrue\n",
    "\n",
    "    Attributes\n",
    "    ----------\n",
    "    self.coef_ : 次の形のndarray, shape (n_features,)\n",
    "      パラメータ\n",
    "    self.loss : 次の形のndarray, shape (self.iter,)\n",
    "      学習用データに対する損失の記録\n",
    "    self.val_loss : 次の形のndarray, shape (self.iter,)\n",
    "      検証用データに対する損失の記録\n",
    "\n",
    "    \"\"\"\n",
    "\n",
    "    def __init__(self, num_iter, lr, bias, Threshold): ##, verbose  verbose\n",
    "        # ハイパーパラメータを属性として記録\n",
    "        self.iter = num_iter\n",
    "        self.lr = lr\n",
    "        self.bias = bias\n",
    "        self.Threshold = Threshold\n",
    "        \n",
    "#         self.verbose = verbose\n",
    "        # 損失を記録する配列を用意\n",
    "#         self.loss = np.zeros(self.iter)\n",
    "#         self.val_loss = np.zeros(self.iter)\n",
    "\n",
    "        \n",
    "#     def _kernel_fnk(self,X1, X2):\n",
    "#         return X1 @ X2.T\n",
    "    \n",
    "    \n",
    "    def _SVC_hypothesis(self, X, y):\n",
    "        y = y.reshape(-1,1)\n",
    "#         y_d = np.dot(y, y.T)\n",
    "        y_d = np.dot(y, y.T)\n",
    "        X_d = np.dot(X, X.T)\n",
    "        X_y_d = X_d * y_d.T\n",
    "#         X_y_lam_d = np.dot(X_y_d, self.lambda_)\n",
    "        X_y_lam_d = np.dot(X_y_d, self.lambda_)\n",
    "        self.lambda_ += self.lr * (1 - X_y_lam_d.sum())\n",
    "        return self.lambda_\n",
    "    \n",
    "\n",
    "    def fit(self, X, y, X_val=None, y_val=None):\n",
    "        np.random.seed(0)\n",
    "        self.lambda_ = np.random.rand(X.shape[0], 1) * 0.03\n",
    "        \n",
    "        for i in range(self.iter):\n",
    "            self._SVC_hypothesis(X, y)\n",
    "        \n",
    "        self.index_l = []\n",
    "        for j, i in enumerate(self.lambda_):\n",
    "            if i > self.Threshold:\n",
    "                self.index_l .append(j)\n",
    "        self.lambda_sv = self.lambda_[self.index_l]\n",
    "        self.X_sv = X[self.index_l]\n",
    "        self.y_sv = y[self.index_l]\n",
    "        \n",
    "    def predict(self, X):\n",
    "#         self.X_k = np.dot(X, self.X_sv.T)\n",
    "#         self.X_k_y = np.dot(self.X_k, self.y_sv)\n",
    "#         self.y_pred = np.dot(self.lambda_sv, self.X_k_y.T)\n",
    "        \n",
    "#         print(self.X_sv.shape,\"X_sv\")\n",
    "#         print(self.y_sv.shape,\"y_sv\")     \n",
    "#         print(self.lambda_sv,\"lambda_sv\")\n",
    "#         self.X_k_sv = np.dot(X, self.X_sv.T)\n",
    "#         print(self.X_k_sv.shape,\"X_k_sv\")     \n",
    "# #         self.lam_y = (self.lambda_sv * self.y_sv.T)\n",
    "# #         self.y_pred = (self.lam_y @ self.X_k_sv).sum(axis=1)\n",
    "#         self.X_k_sv = np.dot(self.X_sv, X.T)\n",
    "    \n",
    "#         self.lam_y = np.dot(self.lambda_sv, self.y_sv.T)\n",
    "#         print(np.dot(X, self.X_sv.T).shape,\"dot\")  #\n",
    "#         print((self.lambda_sv * self.y_sv).shape,\"lambda_y\")  #(21, 21)\n",
    "        self.y_sv = self.y_sv.reshape(-1,1)\n",
    "        self.y_pred = np.dot(np.dot(X, self.X_sv.T), (self.y_sv * self.lambda_sv))\n",
    "        print(self.lambda_sv.shape,\"lambda_sv\")\n",
    "        print(self.y_sv.shape, \"y_sv\")\n",
    "        print(self.y_pred.shape, \"y_pred\")\n",
    "#         self.y_pred =  np.dot(self.X_sv, X.T)\n",
    "#         print(self.lam_y.shape,\"lam_y\")\n",
    "#         print(self.X_k_sv.shape,\"X_k_sv\")\n",
    "#         self.y_pred = np.sum(self.lam_y @ self.X_k_sv.T, axis=0)\n",
    "#         print(self.y_pred.shape)\n",
    "\n",
    "        return self.y_pred\n",
    "\n",
    "#121, 162, 326"
   ]
  },
  {
   "cell_type": "code",
   "execution_count": 594,
   "metadata": {},
   "outputs": [],
   "source": [
    "SV = ScratchSVMClassifier(num_iter=10000, lr = 0.00000001, bias=True, Threshold=0.025)"
   ]
  },
  {
   "cell_type": "code",
   "execution_count": 595,
   "metadata": {},
   "outputs": [],
   "source": [
    "SV.fit(X,y)\n",
    "# SV.fit(X_train, y_train)"
   ]
  },
  {
   "cell_type": "code",
   "execution_count": 596,
   "metadata": {},
   "outputs": [
    {
     "data": {
      "text/plain": [
       "array([[0.01864983],\n",
       "       [0.02364111],\n",
       "       [0.02026833],\n",
       "       [0.01853192],\n",
       "       [0.01489507],\n",
       "       [0.02156225],\n",
       "       [0.01531304],\n",
       "       [0.02893862],\n",
       "       [0.03109531],\n",
       "       [0.01368867],\n",
       "       [0.02593718],\n",
       "       [0.01805227],\n",
       "       [0.01922676],\n",
       "       [0.02995333],\n",
       "       [0.00431651],\n",
       "       [0.00479931],\n",
       "       [0.00279198],\n",
       "       [0.02716402],\n",
       "       [0.02553013],\n",
       "       [0.02828579],\n",
       "       [0.03154398],\n",
       "       [0.02616018],\n",
       "       [0.01602981],\n",
       "       [0.0256013 ],\n",
       "       [0.00573366],\n",
       "       [0.02138306],\n",
       "       [0.00648603],\n",
       "       [0.03052549],\n",
       "       [0.01784088],\n",
       "       [0.01462528],\n",
       "       [0.0101221 ],\n",
       "       [0.02541244],\n",
       "       [0.01586994],\n",
       "       [0.01923845],\n",
       "       [0.00274912],\n",
       "       [0.02071449],\n",
       "       [0.0205483 ],\n",
       "       [0.02069345],\n",
       "       [0.03049787],\n",
       "       [0.02264004],\n",
       "       [0.01297066],\n",
       "       [0.01529639],\n",
       "       [0.02311436],\n",
       "       [0.00399219],\n",
       "       [0.02218843],\n",
       "       [0.02230456],\n",
       "       [0.0084969 ],\n",
       "       [0.00605322],\n",
       "       [0.01164828],\n",
       "       [0.01309675],\n",
       "       [0.01929133],\n",
       "       [0.01534347],\n",
       "       [0.03183664],\n",
       "       [0.00524677],\n",
       "       [0.00845173],\n",
       "       [0.00702471],\n",
       "       [0.02177868],\n",
       "       [0.00978417],\n",
       "       [0.01617475],\n",
       "       [0.00951819],\n",
       "       [0.00695451],\n",
       "       [0.00549668],\n",
       "       [0.02187531],\n",
       "       [0.00633092],\n",
       "       [0.0080829 ],\n",
       "       [0.01324718],\n",
       "       [0.02681522],\n",
       "       [0.00509847],\n",
       "       [0.02732377],\n",
       "       [0.00506838],\n",
       "       [0.03147921],\n",
       "       [0.01624496],\n",
       "       [0.03148826],\n",
       "       [0.02033079],\n",
       "       [0.02436333],\n",
       "       [0.00336106],\n",
       "       [0.01066964],\n",
       "       [0.00579132],\n",
       "       [0.01106963],\n",
       "       [0.00574726],\n",
       "       [0.01172492],\n",
       "       [0.01461332],\n",
       "       [0.00410985],\n",
       "       [0.02295959],\n",
       "       [0.01918347],\n",
       "       [0.01014711],\n",
       "       [0.01788287],\n",
       "       [0.00500364],\n",
       "       [0.01946382],\n",
       "       [0.03006431],\n",
       "       [0.0117425 ],\n",
       "       [0.02220774],\n",
       "       [0.00613936],\n",
       "       [0.02367524],\n",
       "       [0.01086761],\n",
       "       [0.00768117],\n",
       "       [0.01978081],\n",
       "       [0.00278865],\n",
       "       [0.02705363],\n",
       "       [0.00232629]])"
      ]
     },
     "execution_count": 596,
     "metadata": {},
     "output_type": "execute_result"
    }
   ],
   "source": [
    "SV.lambda_"
   ]
  },
  {
   "cell_type": "code",
   "execution_count": 597,
   "metadata": {},
   "outputs": [
    {
     "data": {
      "text/plain": [
       "(20, 1)"
      ]
     },
     "execution_count": 597,
     "metadata": {},
     "output_type": "execute_result"
    }
   ],
   "source": [
    "SV.lambda_sv.shape"
   ]
  },
  {
   "cell_type": "code",
   "execution_count": 598,
   "metadata": {},
   "outputs": [
    {
     "data": {
      "text/plain": [
       "[7, 8, 10, 13, 17, 18, 19, 20, 21, 23, 27, 31, 38, 52, 66, 68, 70, 72, 89, 98]"
      ]
     },
     "execution_count": 598,
     "metadata": {},
     "output_type": "execute_result"
    }
   ],
   "source": [
    "SV.index_l"
   ]
  },
  {
   "cell_type": "code",
   "execution_count": 599,
   "metadata": {},
   "outputs": [
    {
     "name": "stdout",
     "output_type": "stream",
     "text": [
      "(20, 1) lambda_sv\n",
      "(20, 1) y_sv\n",
      "(100, 1) y_pred\n"
     ]
    }
   ],
   "source": [
    "y_pred = SV.predict(X)"
   ]
  },
  {
   "cell_type": "code",
   "execution_count": 600,
   "metadata": {},
   "outputs": [
    {
     "data": {
      "text/plain": [
       "array([[6.4958037 ],\n",
       "       [6.0063789 ],\n",
       "       [6.49171084],\n",
       "       [5.20583203],\n",
       "       [6.11008625],\n",
       "       [5.51286123],\n",
       "       [6.00228603],\n",
       "       [4.55038308],\n",
       "       [6.18058878],\n",
       "       [4.96111963],\n",
       "       [4.68729526],\n",
       "       [5.55425179],\n",
       "       [5.55834465],\n",
       "       [5.86128098],\n",
       "       [5.14351524],\n",
       "       [6.18468164],\n",
       "       [5.4423587 ],\n",
       "       [5.45054443],\n",
       "       [5.86537385],\n",
       "       [5.24312973],\n",
       "       [5.75348076],\n",
       "       [5.62884718],\n",
       "       [6.06869569],\n",
       "       [5.86128098],\n",
       "       [5.93996924],\n",
       "       [6.11417912],\n",
       "       [6.38800349],\n",
       "       [6.38391062],\n",
       "       [5.7243688 ],\n",
       "       [5.18081293],\n",
       "       [5.13942237],\n",
       "       [5.10621754],\n",
       "       [5.38413477],\n",
       "       [5.92359778],\n",
       "       [5.30135365],\n",
       "       [5.7243688 ],\n",
       "       [6.28429613],\n",
       "       [5.90267154],\n",
       "       [5.30953938],\n",
       "       [5.20583203],\n",
       "       [5.33865135],\n",
       "       [5.82807615],\n",
       "       [5.4173396 ],\n",
       "       [4.6208856 ],\n",
       "       [5.34274421],\n",
       "       [5.41324674],\n",
       "       [5.41324674],\n",
       "       [5.79896419],\n",
       "       [4.59177364],\n",
       "       [5.38004191],\n",
       "       [6.43394882],\n",
       "       [5.78259273],\n",
       "       [6.96476418],\n",
       "       [6.3011295 ],\n",
       "       [6.50854421],\n",
       "       [7.54971061],\n",
       "       [4.94884103],\n",
       "       [7.23858855],\n",
       "       [6.64954926],\n",
       "       [7.10167637],\n",
       "       [6.2761104 ],\n",
       "       [6.27201753],\n",
       "       [6.62043729],\n",
       "       [5.67888537],\n",
       "       [5.78259273],\n",
       "       [6.27201753],\n",
       "       [6.40892972],\n",
       "       [7.65341797],\n",
       "       [7.71982763],\n",
       "       [5.89039295],\n",
       "       [6.75734948],\n",
       "       [5.57517802],\n",
       "       [7.65341797],\n",
       "       [6.06869569],\n",
       "       [6.61634443],\n",
       "       [7.06847154],\n",
       "       [5.96498834],\n",
       "       [5.92769064],\n",
       "       [6.37163202],\n",
       "       [7.00206188],\n",
       "       [7.24268142],\n",
       "       [7.69480853],\n",
       "       [6.37163202],\n",
       "       [6.13510535],\n",
       "       [6.16012445],\n",
       "       [7.45418899],\n",
       "       [6.3011295 ],\n",
       "       [6.33842719],\n",
       "       [5.82398329],\n",
       "       [6.65773499],\n",
       "       [6.5831396 ],\n",
       "       [6.5581205 ],\n",
       "       [5.78259273],\n",
       "       [6.75325661],\n",
       "       [6.61634443],\n",
       "       [6.45032028],\n",
       "       [6.10190052],\n",
       "       [6.30931523],\n",
       "       [6.16421732],\n",
       "       [5.85309525]])"
      ]
     },
     "execution_count": 600,
     "metadata": {},
     "output_type": "execute_result"
    }
   ],
   "source": [
    "y_pred"
   ]
  },
  {
   "cell_type": "code",
   "execution_count": 601,
   "metadata": {},
   "outputs": [
    {
     "data": {
      "text/plain": [
       "(0,)"
      ]
     },
     "execution_count": 601,
     "metadata": {},
     "output_type": "execute_result"
    }
   ],
   "source": [
    "y_pred[y_pred <= 0].shape"
   ]
  },
  {
   "cell_type": "code",
   "execution_count": 602,
   "metadata": {},
   "outputs": [
    {
     "data": {
      "text/plain": [
       "array([ 1, -1,  1, -1, -1, -1,  1, -1, -1, -1, -1, -1, -1,  1,  1,  1,  1,\n",
       "        1,  1,  1,  1, -1,  1, -1,  1,  1,  1, -1, -1, -1])"
      ]
     },
     "execution_count": 602,
     "metadata": {},
     "output_type": "execute_result"
    }
   ],
   "source": [
    "y_test"
   ]
  },
  {
   "cell_type": "code",
   "execution_count": 576,
   "metadata": {},
   "outputs": [
    {
     "name": "stdout",
     "output_type": "stream",
     "text": [
      "[[0.5488135 ]\n",
      " [0.71518937]\n",
      " [0.60276338]\n",
      " [0.54488318]\n",
      " [0.4236548 ]\n",
      " [0.64589411]\n",
      " [0.43758721]\n",
      " [0.891773  ]\n",
      " [0.96366276]\n",
      " [0.38344152]]\n"
     ]
    }
   ],
   "source": [
    "np.random.seed(0)\n",
    "lambda_ = np.random.rand(X.shape[0], 1)\n",
    "print(lambda_[:10])\n",
    "lr = 0.0000001\n",
    "y = y.reshape(-1,1)\n",
    "y_d = np.dot(y, y.T)\n",
    "X_d = np.dot(X, X.T)\n",
    "X_y_d = X_d * y_d\n",
    "X_y_lam_d = np.dot(X_y_d, lambda_)\n",
    "lambda_ += lr * (1 - X_y_lam_d.sum())"
   ]
  },
  {
   "cell_type": "code",
   "execution_count": 577,
   "metadata": {},
   "outputs": [
    {
     "data": {
      "text/plain": [
       "(100, 1)"
      ]
     },
     "execution_count": 577,
     "metadata": {},
     "output_type": "execute_result"
    }
   ],
   "source": [
    "lambda_.shape"
   ]
  },
  {
   "cell_type": "code",
   "execution_count": 578,
   "metadata": {},
   "outputs": [
    {
     "data": {
      "text/plain": [
       "array([[ 180.83887644],\n",
       "       [ 165.62436824],\n",
       "       [ 178.63205416],\n",
       "       [ 142.52066672],\n",
       "       [ 168.25409935],\n",
       "       [ 148.20303775],\n",
       "       [ 163.41754596],\n",
       "       [ 126.60131047],\n",
       "       [ 170.74286084],\n",
       "       [ 134.91341261],\n",
       "       [ 129.37201119],\n",
       "       [ 152.75765192],\n",
       "       [ 154.96447421],\n",
       "       [ 158.44002296],\n",
       "       [ 144.44554978],\n",
       "       [ 172.94968312],\n",
       "       [ 145.71427625],\n",
       "       [ 150.12792082],\n",
       "       [ 160.64684524],\n",
       "       [ 144.86845861],\n",
       "       [ 153.60346957],\n",
       "       [ 157.4532357 ],\n",
       "       [ 163.69948517],\n",
       "       [ 158.44002296],\n",
       "       [ 165.34242902],\n",
       "       [ 170.46092163],\n",
       "       [ 176.00232306],\n",
       "       [ 173.79550077],\n",
       "       [ 155.66932225],\n",
       "       [ 146.79334167],\n",
       "       [ 142.2387275 ],\n",
       "       [ 142.09775789],\n",
       "       [ 149.8459816 ],\n",
       "       [ 156.5151399 ],\n",
       "       [ 140.73675326],\n",
       "       [ 155.66932225],\n",
       "       [ 173.37259195],\n",
       "       [ 162.99463713],\n",
       "       [ 145.15039782],\n",
       "       [ 142.52066672],\n",
       "       [ 143.08454515],\n",
       "       [ 158.29905335],\n",
       "       [ 149.98695121],\n",
       "       [ 129.09007197],\n",
       "       [ 145.29136743],\n",
       "       [ 147.78012893],\n",
       "       [ 147.78012893],\n",
       "       [ 160.36490603],\n",
       "       [ 131.15592464],\n",
       "       [ 147.63915932],\n",
       "       [-165.25015086],\n",
       "       [-151.5376169 ],\n",
       "       [-185.01927324],\n",
       "       [-164.68627243],\n",
       "       [-169.94573464],\n",
       "       [-198.44986799],\n",
       "       [-128.29294577],\n",
       "       [-190.56067467],\n",
       "       [-174.92325764],\n",
       "       [-187.78997395],\n",
       "       [-168.95894739],\n",
       "       [-166.7521251 ],\n",
       "       [-176.98911031],\n",
       "       [-148.90788579],\n",
       "       [-151.5376169 ],\n",
       "       [-166.7521251 ],\n",
       "       [-169.52282582],\n",
       "       [-201.07959909],\n",
       "       [-201.36153831],\n",
       "       [-156.37417029],\n",
       "       [-179.75981103],\n",
       "       [-146.27815469],\n",
       "       [-201.07959909],\n",
       "       [-163.69948517],\n",
       "       [-174.78228803],\n",
       "       [-187.64900435],\n",
       "       [-161.06975407],\n",
       "       [-158.72196218],\n",
       "       [-167.17503393],\n",
       "       [-187.36706513],\n",
       "       [-192.76749695],\n",
       "       [-205.63421326],\n",
       "       [-167.17503393],\n",
       "       [-163.98142439],\n",
       "       [-159.70874943],\n",
       "       [-200.23378144],\n",
       "       [-164.68627243],\n",
       "       [-167.03406432],\n",
       "       [-156.09223107],\n",
       "       [-179.3369022 ],\n",
       "       [-174.64131842],\n",
       "       [-178.91399338],\n",
       "       [-151.5376169 ],\n",
       "       [-177.55298875],\n",
       "       [-174.78228803],\n",
       "       [-174.07743999],\n",
       "       [-163.84045478],\n",
       "       [-169.09991699],\n",
       "       [-161.91557172],\n",
       "       [-154.0263784 ]])"
      ]
     },
     "execution_count": 578,
     "metadata": {},
     "output_type": "execute_result"
    }
   ],
   "source": [
    "X_y_lam_d"
   ]
  },
  {
   "cell_type": "code",
   "execution_count": 604,
   "metadata": {},
   "outputs": [],
   "source": [
    "import matplotlib.pyplot as plt\n",
    "from matplotlib.colors import ListedColormap\n",
    "import matplotlib.patches as mpatches\n",
    "\n",
    "def decision_region(X, y, model, step=0.01, title='decision region', xlabel='xlabel', ylabel='ylabel', target_names=['setosa','versicolor']):\n",
    "    \"\"\"\n",
    "    2値分類を2次元の特徴量で学習したモデルの決定領域を描く。\n",
    "    背景の色が学習したモデルによる推定値から描画される。\n",
    "    散布図の点は訓練データまたは検証データである。\n",
    "\n",
    "    Parameters\n",
    "    ----------------\n",
    "    X : ndarray, shape(n_samples, 2)\n",
    "        特徴量\n",
    "    y : ndarray, shape(n_samples,)\n",
    "        ラベル\n",
    "    model : object\n",
    "        学習したモデルのインスンタスを入れる\n",
    "    step : float, (default : 0.1)\n",
    "        推定値を計算する間隔を設定する\n",
    "    title : str\n",
    "        グラフのタイトルの文章を与える\n",
    "    xlabel, ylabel : str\n",
    "        軸ラベルの文章を与える\n",
    "    target_names= : list of str\n",
    "        凡例の一覧を与える\n",
    "    \"\"\"\n",
    "    # setting\n",
    "    scatter_color = ['red', 'blue']\n",
    "    contourf_color = ['pink', 'skyblue']\n",
    "    n_class = 2\n",
    "    marker = [\"o\", \"^\"]\n",
    "\n",
    "    # pred\n",
    "    mesh_f0, mesh_f1  = np.meshgrid(np.arange(np.min(X[:,0])-0.5, np.max(X[:,0])+0.5, step), np.arange(np.min(X[:,1])-0.5, np.max(X[:,1])+0.5, step))\n",
    "    mesh = np.c_[np.ravel(mesh_f0),np.ravel(mesh_f1)]\n",
    "    y_pred = model.predict(mesh).reshape(mesh_f0.shape)\n",
    "    print(y_pred)\n",
    "    # plot\n",
    "    plt.title(title)\n",
    "    plt.xlabel(xlabel)\n",
    "    plt.ylabel(ylabel)\n",
    "    plt.contourf(mesh_f0, mesh_f1, y_pred, n_class-1, cmap=ListedColormap(contourf_color))\n",
    "    plt.contour(mesh_f0, mesh_f1, y_pred, n_class-1, colors='y', linewidths=3, alpha=0.5)\n",
    "    for i, target in enumerate(set(y)):\n",
    "        plt.scatter(X[y==target][:, 0], X[y==target][:, 1], s=80, color=scatter_color[i], label=target_names[i], marker=marker[i])\n",
    "    patches = [mpatches.Patch(color=scatter_color[i], label=target_names[i]) for i in range(n_class)]\n",
    "    plt.legend(handles=patches)\n",
    "    plt.legend()\n",
    "    plt.show()"
   ]
  },
  {
   "cell_type": "code",
   "execution_count": 605,
   "metadata": {},
   "outputs": [
    {
     "name": "stdout",
     "output_type": "stream",
     "text": [
      "(20, 1) lambda_sv\n",
      "(20, 1) y_sv\n",
      "(196000, 1) y_pred\n",
      "[[3.93223182 3.93928207 3.94633232 ... 6.73118204 6.73823229 6.74528255]\n",
      " [3.9355523  3.94260255 3.94965281 ... 6.73450252 6.74155278 6.74860303]\n",
      " [3.93887278 3.94592304 3.95297329 ... 6.73782301 6.74487326 6.75192351]\n",
      " ...\n",
      " [5.54930702 5.55635727 5.56340752 ... 8.34825724 8.35530749 8.36235774]\n",
      " [5.5526275  5.55967775 5.566728   ... 8.35157772 8.35862797 8.36567823]\n",
      " [5.55594798 5.56299823 5.57004849 ... 8.3548982  8.36194846 8.36899871]]\n"
     ]
    },
    {
     "data": {
      "image/png": "[encoded data removed]",
      "text/plain": [
       "<Figure size 432x288 with 1 Axes>"
      ]
     },
     "metadata": {
      "needs_background": "light"
     },
     "output_type": "display_data"
    }
   ],
   "source": [
    "decision_region(X, y, SV, \n",
    "                 step=0.01, title='ScratchLogisticRegression', \n",
    "                 xlabel='xlabel', ylabel='ylabel', \n",
    "                 target_names=[\"Virginica\" ,'versicolor'])"
   ]
  },
  {
   "cell_type": "code",
   "execution_count": 25,
   "metadata": {},
   "outputs": [],
   "source": [
    "y_l = np.where(y==1,True,False)"
   ]
  },
  {
   "cell_type": "code",
   "execution_count": 26,
   "metadata": {},
   "outputs": [
    {
     "data": {
      "text/plain": [
       "array([[ True],\n",
       "       [ True],\n",
       "       [ True],\n",
       "       [ True],\n",
       "       [ True],\n",
       "       [ True],\n",
       "       [ True],\n",
       "       [ True],\n",
       "       [ True],\n",
       "       [ True],\n",
       "       [ True],\n",
       "       [ True],\n",
       "       [ True],\n",
       "       [ True],\n",
       "       [ True],\n",
       "       [ True],\n",
       "       [ True],\n",
       "       [ True],\n",
       "       [ True],\n",
       "       [ True],\n",
       "       [ True],\n",
       "       [ True],\n",
       "       [ True],\n",
       "       [ True],\n",
       "       [ True],\n",
       "       [ True],\n",
       "       [ True],\n",
       "       [ True],\n",
       "       [ True],\n",
       "       [ True],\n",
       "       [ True],\n",
       "       [ True],\n",
       "       [ True],\n",
       "       [ True],\n",
       "       [ True],\n",
       "       [ True],\n",
       "       [ True],\n",
       "       [ True],\n",
       "       [ True],\n",
       "       [ True],\n",
       "       [ True],\n",
       "       [ True],\n",
       "       [ True],\n",
       "       [ True],\n",
       "       [ True],\n",
       "       [ True],\n",
       "       [ True],\n",
       "       [ True],\n",
       "       [ True],\n",
       "       [ True],\n",
       "       [False],\n",
       "       [False],\n",
       "       [False],\n",
       "       [False],\n",
       "       [False],\n",
       "       [False],\n",
       "       [False],\n",
       "       [False],\n",
       "       [False],\n",
       "       [False],\n",
       "       [False],\n",
       "       [False],\n",
       "       [False],\n",
       "       [False],\n",
       "       [False],\n",
       "       [False],\n",
       "       [False],\n",
       "       [False],\n",
       "       [False],\n",
       "       [False],\n",
       "       [False],\n",
       "       [False],\n",
       "       [False],\n",
       "       [False],\n",
       "       [False],\n",
       "       [False],\n",
       "       [False],\n",
       "       [False],\n",
       "       [False],\n",
       "       [False],\n",
       "       [False],\n",
       "       [False],\n",
       "       [False],\n",
       "       [False],\n",
       "       [False],\n",
       "       [False],\n",
       "       [False],\n",
       "       [False],\n",
       "       [False],\n",
       "       [False],\n",
       "       [False],\n",
       "       [False],\n",
       "       [False],\n",
       "       [False],\n",
       "       [False],\n",
       "       [False],\n",
       "       [False],\n",
       "       [False],\n",
       "       [False],\n",
       "       [False]])"
      ]
     },
     "execution_count": 26,
     "metadata": {},
     "output_type": "execute_result"
    }
   ],
   "source": [
    "y_l"
   ]
  },
  {
   "cell_type": "code",
   "execution_count": 572,
   "metadata": {},
   "outputs": [
    {
     "data": {
      "text/plain": [
       "array([1, 1, 1, 1, 1, 1, 1, 1, 1, 1, 1, 1, 1, 1, 1, 1, 1, 1, 1, 1, 1, 1,\n",
       "       1, 1, 1, 1, 1, 1, 1, 1, 1, 1, 1, 1, 1, 1, 1, 1, 1, 1, 1, 1, 1, 1,\n",
       "       1, 1, 1, 1, 1, 1])"
      ]
     },
     "execution_count": 572,
     "metadata": {},
     "output_type": "execute_result"
    }
   ],
   "source": [
    "y[y_l]"
   ]
  },
  {
   "cell_type": "code",
   "execution_count": 573,
   "metadata": {},
   "outputs": [
    {
     "data": {
      "text/plain": [
       "[0,\n",
       " 1,\n",
       " 2,\n",
       " 3,\n",
       " 4,\n",
       " 5,\n",
       " 6,\n",
       " 7,\n",
       " 8,\n",
       " 9,\n",
       " 10,\n",
       " 11,\n",
       " 12,\n",
       " 13,\n",
       " 14,\n",
       " 15,\n",
       " 16,\n",
       " 17,\n",
       " 18,\n",
       " 19,\n",
       " 20,\n",
       " 21,\n",
       " 22,\n",
       " 23,\n",
       " 24,\n",
       " 25,\n",
       " 26,\n",
       " 27,\n",
       " 28,\n",
       " 29,\n",
       " 30,\n",
       " 31,\n",
       " 32,\n",
       " 33,\n",
       " 34,\n",
       " 35,\n",
       " 36,\n",
       " 37,\n",
       " 38,\n",
       " 39,\n",
       " 40,\n",
       " 41,\n",
       " 42,\n",
       " 43,\n",
       " 44,\n",
       " 45,\n",
       " 46,\n",
       " 47,\n",
       " 48,\n",
       " 49]"
      ]
     },
     "execution_count": 573,
     "metadata": {},
     "output_type": "execute_result"
    }
   ],
   "source": [
    "index_l = []\n",
    "for j, i in enumerate(y):\n",
    "    if i == 1:\n",
    "        index_l.append(j)\n",
    "index_l\n",
    "#     print(j,i)"
   ]
  },
  {
   "cell_type": "code",
   "execution_count": null,
   "metadata": {},
   "outputs": [],
   "source": []
  },
  {
   "cell_type": "code",
   "execution_count": 292,
   "metadata": {},
   "outputs": [
    {
     "ename": "TypeError",
     "evalue": "'tuple' object is not callable",
     "output_type": "error",
     "traceback": [
      "\u001b[0;31m---------------------------------------------------------------------------\u001b[0m",
      "\u001b[0;31mTypeError\u001b[0m                                 Traceback (most recent call last)",
      "\u001b[0;32m<ipython-input-292-9e99af39356e>\u001b[0m in \u001b[0;36m<module>\u001b[0;34m\u001b[0m\n\u001b[0;32m----> 1\u001b[0;31m \u001b[0mX\u001b[0m\u001b[0;34m[\u001b[0m\u001b[0mindex_l\u001b[0m\u001b[0;34m]\u001b[0m\u001b[0;34m.\u001b[0m\u001b[0mshape\u001b[0m\u001b[0;34m(\u001b[0m\u001b[0;34m)\u001b[0m\u001b[0;34m\u001b[0m\u001b[0;34m\u001b[0m\u001b[0m\n\u001b[0m",
      "\u001b[0;31mTypeError\u001b[0m: 'tuple' object is not callable"
     ]
    }
   ],
   "source": [
    "X[index_l].shape()"
   ]
  },
  {
   "cell_type": "code",
   "execution_count": null,
   "metadata": {},
   "outputs": [],
   "source": []
  }
 ],
 "metadata": {
  "kernelspec": {
   "display_name": "Python 3",
   "language": "python",
   "name": "python3"
  },
  "language_info": {
   "codemirror_mode": {
    "name": "ipython",
    "version": 3
   },
   "file_extension": ".py",
   "mimetype": "text/x-python",
   "name": "python",
   "nbconvert_exporter": "python",
   "pygments_lexer": "ipython3",
   "version": "3.7.2"
  }
 },
 "nbformat": 4,
 "nbformat_minor": 2
}
